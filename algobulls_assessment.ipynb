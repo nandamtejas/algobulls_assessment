{
 "cells": [
  {
   "cell_type": "markdown",
   "id": "9faf9282",
   "metadata": {},
   "source": [
    "# AlgoBulls Python Developer Coding Assignment (Internshala)\n",
    "\n",
    "### Design a simple Algorithmic Trading Strategy\n",
    "\n",
    "###### By NANDAM TEJAS"
   ]
  },
  {
   "cell_type": "code",
   "execution_count": 548,
   "id": "c920d6c4",
   "metadata": {},
   "outputs": [
    {
     "name": "stdout",
     "output_type": "stream",
     "text": [
      "Requirement already satisfied: pandas in c:\\users\\91701\\appdata\\local\\programs\\python\\python39\\lib\\site-packages (1.5.2)\n",
      "Requirement already satisfied: numpy>=1.20.3 in c:\\users\\91701\\appdata\\local\\programs\\python\\python39\\lib\\site-packages (from pandas) (1.24.0)\n",
      "Requirement already satisfied: pytz>=2020.1 in c:\\users\\91701\\appdata\\local\\programs\\python\\python39\\lib\\site-packages (from pandas) (2022.7)\n",
      "Requirement already satisfied: python-dateutil>=2.8.1 in c:\\users\\91701\\appdata\\local\\programs\\python\\python39\\lib\\site-packages (from pandas) (2.8.2)\n",
      "Requirement already satisfied: six>=1.5 in c:\\users\\91701\\appdata\\local\\programs\\python\\python39\\lib\\site-packages (from python-dateutil>=2.8.1->pandas) (1.16.0)\n",
      "Requirement already satisfied: numpy in c:\\users\\91701\\appdata\\local\\programs\\python\\python39\\lib\\site-packages (1.24.0)\n",
      "Requirement already satisfied: alpha_vantage in c:\\users\\91701\\appdata\\local\\programs\\python\\python39\\lib\\site-packages (2.3.1)\n",
      "Requirement already satisfied: requests in c:\\users\\91701\\appdata\\local\\programs\\python\\python39\\lib\\site-packages (from alpha_vantage) (2.28.1)\n",
      "Requirement already satisfied: aiohttp in c:\\users\\91701\\appdata\\local\\programs\\python\\python39\\lib\\site-packages (from alpha_vantage) (3.8.3)\n",
      "Requirement already satisfied: aiosignal>=1.1.2 in c:\\users\\91701\\appdata\\local\\programs\\python\\python39\\lib\\site-packages (from aiohttp->alpha_vantage) (1.3.1)\n",
      "Requirement already satisfied: frozenlist>=1.1.1 in c:\\users\\91701\\appdata\\local\\programs\\python\\python39\\lib\\site-packages (from aiohttp->alpha_vantage) (1.3.3)\n",
      "Requirement already satisfied: async-timeout<5.0,>=4.0.0a3 in c:\\users\\91701\\appdata\\local\\programs\\python\\python39\\lib\\site-packages (from aiohttp->alpha_vantage) (4.0.2)\n",
      "Requirement already satisfied: attrs>=17.3.0 in c:\\users\\91701\\appdata\\local\\programs\\python\\python39\\lib\\site-packages (from aiohttp->alpha_vantage) (22.1.0)\n",
      "Requirement already satisfied: charset-normalizer<3.0,>=2.0 in c:\\users\\91701\\appdata\\local\\programs\\python\\python39\\lib\\site-packages (from aiohttp->alpha_vantage) (2.1.1)\n",
      "Requirement already satisfied: multidict<7.0,>=4.5 in c:\\users\\91701\\appdata\\local\\programs\\python\\python39\\lib\\site-packages (from aiohttp->alpha_vantage) (6.0.3)\n",
      "Requirement already satisfied: yarl<2.0,>=1.0 in c:\\users\\91701\\appdata\\local\\programs\\python\\python39\\lib\\site-packages (from aiohttp->alpha_vantage) (1.8.2)\n",
      "Requirement already satisfied: urllib3<1.27,>=1.21.1 in c:\\users\\91701\\appdata\\local\\programs\\python\\python39\\lib\\site-packages (from requests->alpha_vantage) (1.26.13)\n",
      "Requirement already satisfied: idna<4,>=2.5 in c:\\users\\91701\\appdata\\local\\programs\\python\\python39\\lib\\site-packages (from requests->alpha_vantage) (3.4)\n",
      "Requirement already satisfied: certifi>=2017.4.17 in c:\\users\\91701\\appdata\\local\\programs\\python\\python39\\lib\\site-packages (from requests->alpha_vantage) (2022.12.7)\n",
      "Requirement already satisfied: matplotlib in c:\\users\\91701\\appdata\\local\\programs\\python\\python39\\lib\\site-packages (3.6.2)\n",
      "Requirement already satisfied: packaging>=20.0 in c:\\users\\91701\\appdata\\local\\programs\\python\\python39\\lib\\site-packages (from matplotlib) (22.0)\n",
      "Requirement already satisfied: kiwisolver>=1.0.1 in c:\\users\\91701\\appdata\\local\\programs\\python\\python39\\lib\\site-packages (from matplotlib) (1.4.4)\n",
      "Requirement already satisfied: cycler>=0.10 in c:\\users\\91701\\appdata\\local\\programs\\python\\python39\\lib\\site-packages (from matplotlib) (0.11.0)\n",
      "Requirement already satisfied: pillow>=6.2.0 in c:\\users\\91701\\appdata\\local\\programs\\python\\python39\\lib\\site-packages (from matplotlib) (9.3.0)\n",
      "Requirement already satisfied: pyparsing>=2.2.1 in c:\\users\\91701\\appdata\\local\\programs\\python\\python39\\lib\\site-packages (from matplotlib) (3.0.9)\n",
      "Requirement already satisfied: numpy>=1.19 in c:\\users\\91701\\appdata\\local\\programs\\python\\python39\\lib\\site-packages (from matplotlib) (1.24.0)\n",
      "Requirement already satisfied: fonttools>=4.22.0 in c:\\users\\91701\\appdata\\local\\programs\\python\\python39\\lib\\site-packages (from matplotlib) (4.38.0)\n",
      "Requirement already satisfied: python-dateutil>=2.7 in c:\\users\\91701\\appdata\\local\\programs\\python\\python39\\lib\\site-packages (from matplotlib) (2.8.2)\n",
      "Requirement already satisfied: contourpy>=1.0.1 in c:\\users\\91701\\appdata\\local\\programs\\python\\python39\\lib\\site-packages (from matplotlib) (1.0.6)\n",
      "Requirement already satisfied: six>=1.5 in c:\\users\\91701\\appdata\\local\\programs\\python\\python39\\lib\\site-packages (from python-dateutil>=2.7->matplotlib) (1.16.0)\n",
      "Requirement already satisfied: plotly in c:\\users\\91701\\appdata\\local\\programs\\python\\python39\\lib\\site-packages (5.11.0)\n",
      "Requirement already satisfied: tenacity>=6.2.0 in c:\\users\\91701\\appdata\\local\\programs\\python\\python39\\lib\\site-packages (from plotly) (8.1.0)\n",
      "Requirement already satisfied: python-dotenv in c:\\users\\91701\\appdata\\local\\programs\\python\\python39\\lib\\site-packages (0.21.0)\n"
     ]
    }
   ],
   "source": [
    "!pip install pandas\n",
    "!pip install numpy\n",
    "!pip install alpha_vantage\n",
    "!pip install matplotlib\n",
    "!pip install plotly\n",
    "!pip install python-dotenv\n",
    "\n",
    "!pip freeze > requirements.txt"
   ]
  },
  {
   "cell_type": "code",
   "execution_count": 550,
   "id": "6f28cefa",
   "metadata": {},
   "outputs": [],
   "source": [
    "#import all modules\n",
    "import os\n",
    "from datetime import datetime\n",
    "import pandas as pd\n",
    "import numpy as np\n",
    "from alpha_vantage.timeseries import TimeSeries\n",
    "import plotly.graph_objects as go\n",
    "\n",
    "from dotenv import load_dotenv\n",
    "load_dotenv()\n",
    "\n",
    "API_KEY = os.environ.get(\"API_KEY\")"
   ]
  },
  {
   "cell_type": "markdown",
   "id": "2d0d1659",
   "metadata": {},
   "source": [
    "### To define a class `ScriptData` which fetches US Stocks using `alpha_vantage` package\n",
    "##### And the class contains:\n",
    "- `fetch_intraday_data` `(method arguments: script)`: Which fetches intraday data for given scripts.\n",
    "- `convert_intraday_data` `(method arguments: script)`: Which converts the fetched data to pandas Dataframe  "
   ]
  },
  {
   "cell_type": "code",
   "execution_count": 351,
   "id": "bde97635",
   "metadata": {},
   "outputs": [],
   "source": [
    "# ScriptData\n",
    "class ScriptData:\n",
    "    \n",
    "    def __init__(self): \n",
    "        self.api_key = API_KEY\n",
    "        self.scripts = {}\n",
    "        \n",
    "    def __getitem__(self, script):\n",
    "        return self.scripts.get(script.upper(), None)\n",
    "    \n",
    "    def __setitem__(self, script, output):\n",
    "        self.scripts[script.upper()] = output\n",
    "        \n",
    "    def __contains__(self, script):\n",
    "        return script.upper() in self.scripts\n",
    "    \n",
    "    def fetch_intraday_data(self, script):\n",
    "        script = script.upper()\n",
    "        \n",
    "        if script not in self:\n",
    "            # Create the TimeSeries and get the intraday data in dictionary\n",
    "            ts = TimeSeries(key=self.api_key)\n",
    "            data, meta_data = ts.get_intraday(script)\n",
    "\n",
    "            # Now store the data in scripts\n",
    "            self.__setitem__(script, data)\n",
    "    \n",
    "    def convert_intraday_data(self, script):\n",
    "        script = script.upper()\n",
    "        \n",
    "        # Get the data from the `fetch_intraday_data` method\n",
    "        data = self.__getitem__(script)\n",
    "        \n",
    "        # If the data is not in dataframe, convert it\n",
    "        if not isinstance(data, pd.DataFrame):\n",
    "            # Convert data to pandas Dataframe in `df` \n",
    "            df = pd.DataFrame.from_dict({i: data[i]\n",
    "                                        for i in data.keys()\n",
    "                                        for j in data[i].keys()},\n",
    "                                       orient=\"index\")\n",
    "            # reset column names\n",
    "            df.columns = list(map(\n",
    "                lambda x: x.split()[-1],\n",
    "                df.columns\n",
    "            ))\n",
    "            df.reset_index(names=['timestamp'], inplace=True)\n",
    "        \n",
    "            self.__setitem__(script, df)"
   ]
  },
  {
   "cell_type": "code",
   "execution_count": 352,
   "id": "253e8ee4",
   "metadata": {},
   "outputs": [],
   "source": [
    "script_data = ScriptData()"
   ]
  },
  {
   "cell_type": "code",
   "execution_count": 353,
   "id": "41108cf5",
   "metadata": {},
   "outputs": [
    {
     "data": {
      "text/html": [
       "<div>\n",
       "<style scoped>\n",
       "    .dataframe tbody tr th:only-of-type {\n",
       "        vertical-align: middle;\n",
       "    }\n",
       "\n",
       "    .dataframe tbody tr th {\n",
       "        vertical-align: top;\n",
       "    }\n",
       "\n",
       "    .dataframe thead th {\n",
       "        text-align: right;\n",
       "    }\n",
       "</style>\n",
       "<table border=\"1\" class=\"dataframe\">\n",
       "  <thead>\n",
       "    <tr style=\"text-align: right;\">\n",
       "      <th></th>\n",
       "      <th>timestamp</th>\n",
       "      <th>open</th>\n",
       "      <th>high</th>\n",
       "      <th>low</th>\n",
       "      <th>close</th>\n",
       "      <th>volume</th>\n",
       "    </tr>\n",
       "  </thead>\n",
       "  <tbody>\n",
       "    <tr>\n",
       "      <th>0</th>\n",
       "      <td>2022-12-20 20:00:00</td>\n",
       "      <td>89.5000</td>\n",
       "      <td>89.7200</td>\n",
       "      <td>89.5000</td>\n",
       "      <td>89.6000</td>\n",
       "      <td>10553</td>\n",
       "    </tr>\n",
       "    <tr>\n",
       "      <th>1</th>\n",
       "      <td>2022-12-20 19:45:00</td>\n",
       "      <td>89.3700</td>\n",
       "      <td>89.4700</td>\n",
       "      <td>89.3200</td>\n",
       "      <td>89.4700</td>\n",
       "      <td>2583</td>\n",
       "    </tr>\n",
       "    <tr>\n",
       "      <th>2</th>\n",
       "      <td>2022-12-20 19:30:00</td>\n",
       "      <td>89.5100</td>\n",
       "      <td>89.5100</td>\n",
       "      <td>89.4100</td>\n",
       "      <td>89.4100</td>\n",
       "      <td>3153</td>\n",
       "    </tr>\n",
       "    <tr>\n",
       "      <th>3</th>\n",
       "      <td>2022-12-20 19:15:00</td>\n",
       "      <td>89.4800</td>\n",
       "      <td>89.5900</td>\n",
       "      <td>89.4800</td>\n",
       "      <td>89.5600</td>\n",
       "      <td>4137</td>\n",
       "    </tr>\n",
       "    <tr>\n",
       "      <th>4</th>\n",
       "      <td>2022-12-20 19:00:00</td>\n",
       "      <td>89.3800</td>\n",
       "      <td>89.5300</td>\n",
       "      <td>89.3800</td>\n",
       "      <td>89.5300</td>\n",
       "      <td>11038</td>\n",
       "    </tr>\n",
       "    <tr>\n",
       "      <th>...</th>\n",
       "      <td>...</td>\n",
       "      <td>...</td>\n",
       "      <td>...</td>\n",
       "      <td>...</td>\n",
       "      <td>...</td>\n",
       "      <td>...</td>\n",
       "    </tr>\n",
       "    <tr>\n",
       "      <th>95</th>\n",
       "      <td>2022-12-19 12:15:00</td>\n",
       "      <td>89.2300</td>\n",
       "      <td>89.3400</td>\n",
       "      <td>89.1350</td>\n",
       "      <td>89.3000</td>\n",
       "      <td>478607</td>\n",
       "    </tr>\n",
       "    <tr>\n",
       "      <th>96</th>\n",
       "      <td>2022-12-19 12:00:00</td>\n",
       "      <td>89.1800</td>\n",
       "      <td>89.3700</td>\n",
       "      <td>89.1750</td>\n",
       "      <td>89.2207</td>\n",
       "      <td>571174</td>\n",
       "    </tr>\n",
       "    <tr>\n",
       "      <th>97</th>\n",
       "      <td>2022-12-19 11:45:00</td>\n",
       "      <td>89.5700</td>\n",
       "      <td>89.5700</td>\n",
       "      <td>89.0200</td>\n",
       "      <td>89.1800</td>\n",
       "      <td>1052856</td>\n",
       "    </tr>\n",
       "    <tr>\n",
       "      <th>98</th>\n",
       "      <td>2022-12-19 11:30:00</td>\n",
       "      <td>89.8800</td>\n",
       "      <td>89.9600</td>\n",
       "      <td>89.4850</td>\n",
       "      <td>89.5600</td>\n",
       "      <td>643820</td>\n",
       "    </tr>\n",
       "    <tr>\n",
       "      <th>99</th>\n",
       "      <td>2022-12-19 11:15:00</td>\n",
       "      <td>89.8900</td>\n",
       "      <td>89.9700</td>\n",
       "      <td>89.6600</td>\n",
       "      <td>89.8700</td>\n",
       "      <td>750708</td>\n",
       "    </tr>\n",
       "  </tbody>\n",
       "</table>\n",
       "<p>100 rows × 6 columns</p>\n",
       "</div>"
      ],
      "text/plain": [
       "              timestamp     open     high      low    close   volume\n",
       "0   2022-12-20 20:00:00  89.5000  89.7200  89.5000  89.6000    10553\n",
       "1   2022-12-20 19:45:00  89.3700  89.4700  89.3200  89.4700     2583\n",
       "2   2022-12-20 19:30:00  89.5100  89.5100  89.4100  89.4100     3153\n",
       "3   2022-12-20 19:15:00  89.4800  89.5900  89.4800  89.5600     4137\n",
       "4   2022-12-20 19:00:00  89.3800  89.5300  89.3800  89.5300    11038\n",
       "..                  ...      ...      ...      ...      ...      ...\n",
       "95  2022-12-19 12:15:00  89.2300  89.3400  89.1350  89.3000   478607\n",
       "96  2022-12-19 12:00:00  89.1800  89.3700  89.1750  89.2207   571174\n",
       "97  2022-12-19 11:45:00  89.5700  89.5700  89.0200  89.1800  1052856\n",
       "98  2022-12-19 11:30:00  89.8800  89.9600  89.4850  89.5600   643820\n",
       "99  2022-12-19 11:15:00  89.8900  89.9700  89.6600  89.8700   750708\n",
       "\n",
       "[100 rows x 6 columns]"
      ]
     },
     "execution_count": 353,
     "metadata": {},
     "output_type": "execute_result"
    }
   ],
   "source": [
    "script_data.fetch_intraday_data('GOOGL')\n",
    "script_data.convert_intraday_data(\"GOOGL\")\n",
    "script_data['GOOGL']"
   ]
  },
  {
   "cell_type": "code",
   "execution_count": 354,
   "id": "6700d5d5",
   "metadata": {},
   "outputs": [
    {
     "data": {
      "text/html": [
       "<div>\n",
       "<style scoped>\n",
       "    .dataframe tbody tr th:only-of-type {\n",
       "        vertical-align: middle;\n",
       "    }\n",
       "\n",
       "    .dataframe tbody tr th {\n",
       "        vertical-align: top;\n",
       "    }\n",
       "\n",
       "    .dataframe thead th {\n",
       "        text-align: right;\n",
       "    }\n",
       "</style>\n",
       "<table border=\"1\" class=\"dataframe\">\n",
       "  <thead>\n",
       "    <tr style=\"text-align: right;\">\n",
       "      <th></th>\n",
       "      <th>timestamp</th>\n",
       "      <th>open</th>\n",
       "      <th>high</th>\n",
       "      <th>low</th>\n",
       "      <th>close</th>\n",
       "      <th>volume</th>\n",
       "    </tr>\n",
       "  </thead>\n",
       "  <tbody>\n",
       "    <tr>\n",
       "      <th>0</th>\n",
       "      <td>2022-12-20 20:00:00</td>\n",
       "      <td>132.8800</td>\n",
       "      <td>133.0600</td>\n",
       "      <td>132.8400</td>\n",
       "      <td>133.0000</td>\n",
       "      <td>18373</td>\n",
       "    </tr>\n",
       "    <tr>\n",
       "      <th>1</th>\n",
       "      <td>2022-12-20 19:45:00</td>\n",
       "      <td>132.9400</td>\n",
       "      <td>132.9700</td>\n",
       "      <td>132.8600</td>\n",
       "      <td>132.8600</td>\n",
       "      <td>8220</td>\n",
       "    </tr>\n",
       "    <tr>\n",
       "      <th>2</th>\n",
       "      <td>2022-12-20 19:30:00</td>\n",
       "      <td>132.9900</td>\n",
       "      <td>132.9900</td>\n",
       "      <td>132.8601</td>\n",
       "      <td>132.9500</td>\n",
       "      <td>17901</td>\n",
       "    </tr>\n",
       "    <tr>\n",
       "      <th>3</th>\n",
       "      <td>2022-12-20 19:15:00</td>\n",
       "      <td>133.0200</td>\n",
       "      <td>133.0200</td>\n",
       "      <td>132.9200</td>\n",
       "      <td>132.9300</td>\n",
       "      <td>5799</td>\n",
       "    </tr>\n",
       "    <tr>\n",
       "      <th>4</th>\n",
       "      <td>2022-12-20 19:00:00</td>\n",
       "      <td>133.0500</td>\n",
       "      <td>133.1000</td>\n",
       "      <td>132.9000</td>\n",
       "      <td>133.0000</td>\n",
       "      <td>32508</td>\n",
       "    </tr>\n",
       "    <tr>\n",
       "      <th>...</th>\n",
       "      <td>...</td>\n",
       "      <td>...</td>\n",
       "      <td>...</td>\n",
       "      <td>...</td>\n",
       "      <td>...</td>\n",
       "      <td>...</td>\n",
       "    </tr>\n",
       "    <tr>\n",
       "      <th>95</th>\n",
       "      <td>2022-12-19 12:15:00</td>\n",
       "      <td>132.3550</td>\n",
       "      <td>132.9800</td>\n",
       "      <td>132.3400</td>\n",
       "      <td>132.8400</td>\n",
       "      <td>2042342</td>\n",
       "    </tr>\n",
       "    <tr>\n",
       "      <th>96</th>\n",
       "      <td>2022-12-19 12:00:00</td>\n",
       "      <td>132.1650</td>\n",
       "      <td>132.6100</td>\n",
       "      <td>132.1600</td>\n",
       "      <td>132.3550</td>\n",
       "      <td>2166891</td>\n",
       "    </tr>\n",
       "    <tr>\n",
       "      <th>97</th>\n",
       "      <td>2022-12-19 11:45:00</td>\n",
       "      <td>132.0200</td>\n",
       "      <td>132.2300</td>\n",
       "      <td>131.7400</td>\n",
       "      <td>132.1600</td>\n",
       "      <td>2279557</td>\n",
       "    </tr>\n",
       "    <tr>\n",
       "      <th>98</th>\n",
       "      <td>2022-12-19 11:30:00</td>\n",
       "      <td>131.7331</td>\n",
       "      <td>132.1400</td>\n",
       "      <td>131.7331</td>\n",
       "      <td>132.0250</td>\n",
       "      <td>2068828</td>\n",
       "    </tr>\n",
       "    <tr>\n",
       "      <th>99</th>\n",
       "      <td>2022-12-19 11:15:00</td>\n",
       "      <td>131.8800</td>\n",
       "      <td>131.9100</td>\n",
       "      <td>131.4549</td>\n",
       "      <td>131.7450</td>\n",
       "      <td>3423807</td>\n",
       "    </tr>\n",
       "  </tbody>\n",
       "</table>\n",
       "<p>100 rows × 6 columns</p>\n",
       "</div>"
      ],
      "text/plain": [
       "              timestamp      open      high       low     close   volume\n",
       "0   2022-12-20 20:00:00  132.8800  133.0600  132.8400  133.0000    18373\n",
       "1   2022-12-20 19:45:00  132.9400  132.9700  132.8600  132.8600     8220\n",
       "2   2022-12-20 19:30:00  132.9900  132.9900  132.8601  132.9500    17901\n",
       "3   2022-12-20 19:15:00  133.0200  133.0200  132.9200  132.9300     5799\n",
       "4   2022-12-20 19:00:00  133.0500  133.1000  132.9000  133.0000    32508\n",
       "..                  ...       ...       ...       ...       ...      ...\n",
       "95  2022-12-19 12:15:00  132.3550  132.9800  132.3400  132.8400  2042342\n",
       "96  2022-12-19 12:00:00  132.1650  132.6100  132.1600  132.3550  2166891\n",
       "97  2022-12-19 11:45:00  132.0200  132.2300  131.7400  132.1600  2279557\n",
       "98  2022-12-19 11:30:00  131.7331  132.1400  131.7331  132.0250  2068828\n",
       "99  2022-12-19 11:15:00  131.8800  131.9100  131.4549  131.7450  3423807\n",
       "\n",
       "[100 rows x 6 columns]"
      ]
     },
     "execution_count": 354,
     "metadata": {},
     "output_type": "execute_result"
    }
   ],
   "source": [
    "script_data.fetch_intraday_data('AAPL')\n",
    "script_data.convert_intraday_data(\"AAPL\")\n",
    "script_data['AAPL']"
   ]
  },
  {
   "cell_type": "code",
   "execution_count": 355,
   "id": "998f8e94",
   "metadata": {},
   "outputs": [
    {
     "data": {
      "text/plain": [
       "True"
      ]
     },
     "execution_count": 355,
     "metadata": {},
     "output_type": "execute_result"
    }
   ],
   "source": [
    "'GOOGL' in script_data"
   ]
  },
  {
   "cell_type": "code",
   "execution_count": 356,
   "id": "f028555d",
   "metadata": {},
   "outputs": [
    {
     "data": {
      "text/plain": [
       "True"
      ]
     },
     "execution_count": 356,
     "metadata": {},
     "output_type": "execute_result"
    }
   ],
   "source": [
    "'AAPL' in script_data"
   ]
  },
  {
   "cell_type": "code",
   "execution_count": 357,
   "id": "947d95b3",
   "metadata": {},
   "outputs": [
    {
     "data": {
      "text/plain": [
       "False"
      ]
     },
     "execution_count": 357,
     "metadata": {},
     "output_type": "execute_result"
    }
   ],
   "source": [
    "'NVDA' in script_data"
   ]
  },
  {
   "cell_type": "markdown",
   "id": "41061cc9",
   "metadata": {},
   "source": [
    "### To define function called `indicator1` which takes `df` and `timestamp` as inputs and returns another dataframe with two columns\n",
    "- `timestamp`: Same as ‘timestamp’ column in ‘df’\n",
    "- `indicator`: Moving Average of the ‘close’ column in ‘df’. The number of\n",
    "    elements to be taken for a moving average is defined by ‘timeperiod’. For\n",
    "    example, if ‘timeperiod’ is 5, then each row in this column will be an average\n",
    "    of total 5 previous values (including current value) of the ‘close’ column.\n"
   ]
  },
  {
   "cell_type": "code",
   "execution_count": 398,
   "id": "0c08c15c",
   "metadata": {},
   "outputs": [],
   "source": [
    "def indicator1(df, timestamp=5):\n",
    "    \"\"\"\n",
    "    - `inputs`: `df` and `timestamp` with default value `5`\n",
    "    - `returns`: Dataframe of two columns\n",
    "            - `timestamp`: Same as ‘timestamp’ column in ‘df’\n",
    "            - `indicator`: Moving Average of the ‘close’ column in ‘df’. The number of\n",
    "                elements to be taken for a moving average is defined by ‘timeperiod’. For\n",
    "                example, if ‘timeperiod’ is 5, then each row in this column will be an average\n",
    "                of total 5 previous values (including current value) of the ‘close’ column.\n",
    "    \"\"\"\n",
    "    df = df.copy(deep=False)\n",
    "    # create the new column in the given Dataframe\n",
    "    for i in range(0, df.shape[0]-timestamp+1):\n",
    "        df.loc[df.index[i+timestamp-1], 'indicator'] = round(\n",
    "            ((df['close'][i:i+timestamp].astype(np.float64).sum()) / timestamp), 3)\n",
    "\n",
    "    #return the dataframe with `timestamp` and `indicator` columns\n",
    "    return df[['timestamp', 'indicator']]"
   ]
  },
  {
   "cell_type": "code",
   "execution_count": 399,
   "id": "bc23b572",
   "metadata": {},
   "outputs": [
    {
     "data": {
      "text/html": [
       "<div>\n",
       "<style scoped>\n",
       "    .dataframe tbody tr th:only-of-type {\n",
       "        vertical-align: middle;\n",
       "    }\n",
       "\n",
       "    .dataframe tbody tr th {\n",
       "        vertical-align: top;\n",
       "    }\n",
       "\n",
       "    .dataframe thead th {\n",
       "        text-align: right;\n",
       "    }\n",
       "</style>\n",
       "<table border=\"1\" class=\"dataframe\">\n",
       "  <thead>\n",
       "    <tr style=\"text-align: right;\">\n",
       "      <th></th>\n",
       "      <th>timestamp</th>\n",
       "      <th>indicator</th>\n",
       "    </tr>\n",
       "  </thead>\n",
       "  <tbody>\n",
       "    <tr>\n",
       "      <th>0</th>\n",
       "      <td>2022-12-20 20:00:00</td>\n",
       "      <td>NaN</td>\n",
       "    </tr>\n",
       "    <tr>\n",
       "      <th>1</th>\n",
       "      <td>2022-12-20 19:45:00</td>\n",
       "      <td>NaN</td>\n",
       "    </tr>\n",
       "    <tr>\n",
       "      <th>2</th>\n",
       "      <td>2022-12-20 19:30:00</td>\n",
       "      <td>NaN</td>\n",
       "    </tr>\n",
       "    <tr>\n",
       "      <th>3</th>\n",
       "      <td>2022-12-20 19:15:00</td>\n",
       "      <td>NaN</td>\n",
       "    </tr>\n",
       "    <tr>\n",
       "      <th>4</th>\n",
       "      <td>2022-12-20 19:00:00</td>\n",
       "      <td>89.514</td>\n",
       "    </tr>\n",
       "    <tr>\n",
       "      <th>...</th>\n",
       "      <td>...</td>\n",
       "      <td>...</td>\n",
       "    </tr>\n",
       "    <tr>\n",
       "      <th>95</th>\n",
       "      <td>2022-12-19 12:15:00</td>\n",
       "      <td>89.125</td>\n",
       "    </tr>\n",
       "    <tr>\n",
       "      <th>96</th>\n",
       "      <td>2022-12-19 12:00:00</td>\n",
       "      <td>89.117</td>\n",
       "    </tr>\n",
       "    <tr>\n",
       "      <th>97</th>\n",
       "      <td>2022-12-19 11:45:00</td>\n",
       "      <td>89.145</td>\n",
       "    </tr>\n",
       "    <tr>\n",
       "      <th>98</th>\n",
       "      <td>2022-12-19 11:30:00</td>\n",
       "      <td>89.255</td>\n",
       "    </tr>\n",
       "    <tr>\n",
       "      <th>99</th>\n",
       "      <td>2022-12-19 11:15:00</td>\n",
       "      <td>89.426</td>\n",
       "    </tr>\n",
       "  </tbody>\n",
       "</table>\n",
       "<p>100 rows × 2 columns</p>\n",
       "</div>"
      ],
      "text/plain": [
       "              timestamp  indicator\n",
       "0   2022-12-20 20:00:00        NaN\n",
       "1   2022-12-20 19:45:00        NaN\n",
       "2   2022-12-20 19:30:00        NaN\n",
       "3   2022-12-20 19:15:00        NaN\n",
       "4   2022-12-20 19:00:00     89.514\n",
       "..                  ...        ...\n",
       "95  2022-12-19 12:15:00     89.125\n",
       "96  2022-12-19 12:00:00     89.117\n",
       "97  2022-12-19 11:45:00     89.145\n",
       "98  2022-12-19 11:30:00     89.255\n",
       "99  2022-12-19 11:15:00     89.426\n",
       "\n",
       "[100 rows x 2 columns]"
      ]
     },
     "execution_count": 399,
     "metadata": {},
     "output_type": "execute_result"
    }
   ],
   "source": [
    "indicator1(script_data['GOOGL'], timestamp=5)"
   ]
  },
  {
   "cell_type": "code",
   "execution_count": 400,
   "id": "46eaa483",
   "metadata": {},
   "outputs": [
    {
     "data": {
      "text/html": [
       "<div>\n",
       "<style scoped>\n",
       "    .dataframe tbody tr th:only-of-type {\n",
       "        vertical-align: middle;\n",
       "    }\n",
       "\n",
       "    .dataframe tbody tr th {\n",
       "        vertical-align: top;\n",
       "    }\n",
       "\n",
       "    .dataframe thead th {\n",
       "        text-align: right;\n",
       "    }\n",
       "</style>\n",
       "<table border=\"1\" class=\"dataframe\">\n",
       "  <thead>\n",
       "    <tr style=\"text-align: right;\">\n",
       "      <th></th>\n",
       "      <th>timestamp</th>\n",
       "      <th>indicator</th>\n",
       "    </tr>\n",
       "  </thead>\n",
       "  <tbody>\n",
       "    <tr>\n",
       "      <th>0</th>\n",
       "      <td>2022-12-20 20:00:00</td>\n",
       "      <td>NaN</td>\n",
       "    </tr>\n",
       "    <tr>\n",
       "      <th>1</th>\n",
       "      <td>2022-12-20 19:45:00</td>\n",
       "      <td>NaN</td>\n",
       "    </tr>\n",
       "    <tr>\n",
       "      <th>2</th>\n",
       "      <td>2022-12-20 19:30:00</td>\n",
       "      <td>NaN</td>\n",
       "    </tr>\n",
       "    <tr>\n",
       "      <th>3</th>\n",
       "      <td>2022-12-20 19:15:00</td>\n",
       "      <td>NaN</td>\n",
       "    </tr>\n",
       "    <tr>\n",
       "      <th>4</th>\n",
       "      <td>2022-12-20 19:00:00</td>\n",
       "      <td>132.948</td>\n",
       "    </tr>\n",
       "    <tr>\n",
       "      <th>...</th>\n",
       "      <td>...</td>\n",
       "      <td>...</td>\n",
       "    </tr>\n",
       "    <tr>\n",
       "      <th>95</th>\n",
       "      <td>2022-12-19 12:15:00</td>\n",
       "      <td>132.823</td>\n",
       "    </tr>\n",
       "    <tr>\n",
       "      <th>96</th>\n",
       "      <td>2022-12-19 12:00:00</td>\n",
       "      <td>132.741</td>\n",
       "    </tr>\n",
       "    <tr>\n",
       "      <th>97</th>\n",
       "      <td>2022-12-19 11:45:00</td>\n",
       "      <td>132.602</td>\n",
       "    </tr>\n",
       "    <tr>\n",
       "      <th>98</th>\n",
       "      <td>2022-12-19 11:30:00</td>\n",
       "      <td>132.406</td>\n",
       "    </tr>\n",
       "    <tr>\n",
       "      <th>99</th>\n",
       "      <td>2022-12-19 11:15:00</td>\n",
       "      <td>132.225</td>\n",
       "    </tr>\n",
       "  </tbody>\n",
       "</table>\n",
       "<p>100 rows × 2 columns</p>\n",
       "</div>"
      ],
      "text/plain": [
       "              timestamp  indicator\n",
       "0   2022-12-20 20:00:00        NaN\n",
       "1   2022-12-20 19:45:00        NaN\n",
       "2   2022-12-20 19:30:00        NaN\n",
       "3   2022-12-20 19:15:00        NaN\n",
       "4   2022-12-20 19:00:00    132.948\n",
       "..                  ...        ...\n",
       "95  2022-12-19 12:15:00    132.823\n",
       "96  2022-12-19 12:00:00    132.741\n",
       "97  2022-12-19 11:45:00    132.602\n",
       "98  2022-12-19 11:30:00    132.406\n",
       "99  2022-12-19 11:15:00    132.225\n",
       "\n",
       "[100 rows x 2 columns]"
      ]
     },
     "execution_count": 400,
     "metadata": {},
     "output_type": "execute_result"
    }
   ],
   "source": [
    "indicator1(script_data['AAPL'], timestamp=5)"
   ]
  },
  {
   "cell_type": "markdown",
   "id": "03dea733",
   "metadata": {},
   "source": [
    "### To define class `Strategy` which\n",
    "- Fetch intraday historical day (‘df’) using ScriptData class.\n",
    "We’ll refer to the ‘close’ column of ‘df’ as close_data.\n",
    "- Compute indicator data on ‘close’ of ‘df’ using indicator1 function.\n",
    "We’ll refer to the ‘indicator’ column of this data as indicator_data.\n",
    "- Generate a pandas DataFrame called ‘signals’ with 2 columns:\n",
    "    i. ‘timestamp’: Same as ‘timestamp’ column in ‘df’\n",
    "    ii. ‘signal’: This column can have the following values:\n",
    "        1. BUY (When: If indicator_data cuts close_data upwards)\n",
    "        2. SELL (When: If indicator_data cuts close_data downwards)\n",
    "        3. NO_SIGNAL (When: If indicator_data and close_data don’t cut each other)"
   ]
  },
  {
   "cell_type": "code",
   "execution_count": 497,
   "id": "52555cd1",
   "metadata": {},
   "outputs": [],
   "source": [
    "class Strategy:\n",
    "    \n",
    "    def __init__(self, script):\n",
    "        self.script = script\n",
    "        self.script_data = None\n",
    "    \n",
    "    def get_script_data(self):\n",
    "        \"\"\"\n",
    "        Get the script data from `ScriptData` and store it in self.script_data\n",
    "        \"\"\"\n",
    "        script_data = ScriptData()\n",
    "        script_data.fetch_intraday_data(self.script)\n",
    "        script_data.convert_intraday_data(self.script)\n",
    "        self.script_data = script_data[self.script].copy()\n",
    "        \n",
    "    def get_signals(self):\n",
    "        \"\"\"\n",
    "        Method used to generate the pandas Dataframe called `signals` with 2 columns:\n",
    "            - `timestamp`: Same `timestamp` from `self.script_data`\n",
    "            - `signal`: This column can have following values:\n",
    "                1. `BUY`\n",
    "                2. `SELL`\n",
    "                3. `NO_SIGNAL`\n",
    "        And prints `signals` Dataframe with only those rows where the signal is either `BUY` or `SELL` \n",
    "        \"\"\"\n",
    "        # Close data\n",
    "        close_data = self.script_data[['timestamp', 'close']]\n",
    "        \n",
    "        # Indicator data\n",
    "        indicator_data = indicator1(self.script_data, timestamp=5)\n",
    "        \n",
    "        # Create the new Dataframe of name `signals`\n",
    "        signals = pd.concat([close_data[['timestamp', 'close']], indicator_data[['indicator']]], axis=1)\n",
    "        \n",
    "        # Convert close to float64 type\n",
    "        signals['close'] = signals['close'].astype(np.float64)\n",
    "        \n",
    "        # Create diff column in signals Dataframe\n",
    "        for i in range(0, signals.shape[0]):\n",
    "            signals.loc[signals.index[i], 'diff'] = np.round(signals['indicator'][i] - signals['close'][i])\n",
    "        \n",
    "        # Create `signal` column in signals Dataframe\n",
    "        flag = np.NaN\n",
    "        for i in range(0, signals.shape[0]):\n",
    "            if flag == signals.iloc[i]['diff']:\n",
    "                set_flag = \"NO_SIG\"\n",
    "            else:\n",
    "                if signals.iloc[i]['indicator'] > signals.iloc[i]['close']:\n",
    "                    set_flag = \"BUY\"\n",
    "                elif signals.iloc[i]['indicator'] < signals.iloc[i]['close']:\n",
    "                    set_flag = \"SELL\"\n",
    "                else:\n",
    "                    set_flag = \"NO_SIG\"\n",
    "                flag = signals.iloc[i]['diff']\n",
    "            signals.loc[signals.index[i], 'signal'] = set_flag\n",
    "        \n",
    "        # print the `signals` Dataframe with `signal` column with [BUY, SELL]\n",
    "        return signals[(signals['signal'] == 'BUY') | (signals['signal'] == 'SELL')][['timestamp', 'signal']]\n",
    "            "
   ]
  },
  {
   "cell_type": "code",
   "execution_count": 498,
   "id": "f87d316b",
   "metadata": {},
   "outputs": [],
   "source": [
    "strategy = Strategy(\"NVDA\")"
   ]
  },
  {
   "cell_type": "code",
   "execution_count": 501,
   "id": "3b1b82e3",
   "metadata": {},
   "outputs": [],
   "source": [
    "strategy.get_script_data()"
   ]
  },
  {
   "cell_type": "code",
   "execution_count": 502,
   "id": "20d071f9",
   "metadata": {},
   "outputs": [
    {
     "data": {
      "text/html": [
       "<div>\n",
       "<style scoped>\n",
       "    .dataframe tbody tr th:only-of-type {\n",
       "        vertical-align: middle;\n",
       "    }\n",
       "\n",
       "    .dataframe tbody tr th {\n",
       "        vertical-align: top;\n",
       "    }\n",
       "\n",
       "    .dataframe thead th {\n",
       "        text-align: right;\n",
       "    }\n",
       "</style>\n",
       "<table border=\"1\" class=\"dataframe\">\n",
       "  <thead>\n",
       "    <tr style=\"text-align: right;\">\n",
       "      <th></th>\n",
       "      <th>timestamp</th>\n",
       "      <th>signal</th>\n",
       "    </tr>\n",
       "  </thead>\n",
       "  <tbody>\n",
       "    <tr>\n",
       "      <th>4</th>\n",
       "      <td>2022-12-20 19:00:00</td>\n",
       "      <td>SELL</td>\n",
       "    </tr>\n",
       "    <tr>\n",
       "      <th>23</th>\n",
       "      <td>2022-12-20 14:15:00</td>\n",
       "      <td>SELL</td>\n",
       "    </tr>\n",
       "    <tr>\n",
       "      <th>24</th>\n",
       "      <td>2022-12-20 14:00:00</td>\n",
       "      <td>BUY</td>\n",
       "    </tr>\n",
       "    <tr>\n",
       "      <th>26</th>\n",
       "      <td>2022-12-20 13:30:00</td>\n",
       "      <td>BUY</td>\n",
       "    </tr>\n",
       "    <tr>\n",
       "      <th>28</th>\n",
       "      <td>2022-12-20 13:00:00</td>\n",
       "      <td>SELL</td>\n",
       "    </tr>\n",
       "    <tr>\n",
       "      <th>31</th>\n",
       "      <td>2022-12-20 12:15:00</td>\n",
       "      <td>SELL</td>\n",
       "    </tr>\n",
       "    <tr>\n",
       "      <th>32</th>\n",
       "      <td>2022-12-20 12:00:00</td>\n",
       "      <td>SELL</td>\n",
       "    </tr>\n",
       "    <tr>\n",
       "      <th>34</th>\n",
       "      <td>2022-12-20 11:30:00</td>\n",
       "      <td>BUY</td>\n",
       "    </tr>\n",
       "    <tr>\n",
       "      <th>35</th>\n",
       "      <td>2022-12-20 11:15:00</td>\n",
       "      <td>BUY</td>\n",
       "    </tr>\n",
       "    <tr>\n",
       "      <th>36</th>\n",
       "      <td>2022-12-20 11:00:00</td>\n",
       "      <td>SELL</td>\n",
       "    </tr>\n",
       "    <tr>\n",
       "      <th>38</th>\n",
       "      <td>2022-12-20 10:30:00</td>\n",
       "      <td>SELL</td>\n",
       "    </tr>\n",
       "    <tr>\n",
       "      <th>40</th>\n",
       "      <td>2022-12-20 10:00:00</td>\n",
       "      <td>SELL</td>\n",
       "    </tr>\n",
       "    <tr>\n",
       "      <th>41</th>\n",
       "      <td>2022-12-20 09:45:00</td>\n",
       "      <td>BUY</td>\n",
       "    </tr>\n",
       "    <tr>\n",
       "      <th>42</th>\n",
       "      <td>2022-12-20 09:30:00</td>\n",
       "      <td>BUY</td>\n",
       "    </tr>\n",
       "    <tr>\n",
       "      <th>43</th>\n",
       "      <td>2022-12-20 09:15:00</td>\n",
       "      <td>BUY</td>\n",
       "    </tr>\n",
       "    <tr>\n",
       "      <th>45</th>\n",
       "      <td>2022-12-20 08:45:00</td>\n",
       "      <td>SELL</td>\n",
       "    </tr>\n",
       "    <tr>\n",
       "      <th>46</th>\n",
       "      <td>2022-12-20 08:30:00</td>\n",
       "      <td>SELL</td>\n",
       "    </tr>\n",
       "    <tr>\n",
       "      <th>50</th>\n",
       "      <td>2022-12-20 07:30:00</td>\n",
       "      <td>SELL</td>\n",
       "    </tr>\n",
       "    <tr>\n",
       "      <th>51</th>\n",
       "      <td>2022-12-20 07:15:00</td>\n",
       "      <td>SELL</td>\n",
       "    </tr>\n",
       "    <tr>\n",
       "      <th>63</th>\n",
       "      <td>2022-12-19 20:00:00</td>\n",
       "      <td>SELL</td>\n",
       "    </tr>\n",
       "    <tr>\n",
       "      <th>64</th>\n",
       "      <td>2022-12-19 19:45:00</td>\n",
       "      <td>SELL</td>\n",
       "    </tr>\n",
       "    <tr>\n",
       "      <th>80</th>\n",
       "      <td>2022-12-19 15:45:00</td>\n",
       "      <td>BUY</td>\n",
       "    </tr>\n",
       "    <tr>\n",
       "      <th>81</th>\n",
       "      <td>2022-12-19 15:30:00</td>\n",
       "      <td>BUY</td>\n",
       "    </tr>\n",
       "    <tr>\n",
       "      <th>84</th>\n",
       "      <td>2022-12-19 14:45:00</td>\n",
       "      <td>SELL</td>\n",
       "    </tr>\n",
       "    <tr>\n",
       "      <th>85</th>\n",
       "      <td>2022-12-19 14:30:00</td>\n",
       "      <td>BUY</td>\n",
       "    </tr>\n",
       "    <tr>\n",
       "      <th>89</th>\n",
       "      <td>2022-12-19 13:30:00</td>\n",
       "      <td>SELL</td>\n",
       "    </tr>\n",
       "    <tr>\n",
       "      <th>92</th>\n",
       "      <td>2022-12-19 12:45:00</td>\n",
       "      <td>SELL</td>\n",
       "    </tr>\n",
       "    <tr>\n",
       "      <th>93</th>\n",
       "      <td>2022-12-19 12:30:00</td>\n",
       "      <td>BUY</td>\n",
       "    </tr>\n",
       "    <tr>\n",
       "      <th>94</th>\n",
       "      <td>2022-12-19 12:15:00</td>\n",
       "      <td>BUY</td>\n",
       "    </tr>\n",
       "    <tr>\n",
       "      <th>95</th>\n",
       "      <td>2022-12-19 12:00:00</td>\n",
       "      <td>BUY</td>\n",
       "    </tr>\n",
       "    <tr>\n",
       "      <th>97</th>\n",
       "      <td>2022-12-19 11:30:00</td>\n",
       "      <td>SELL</td>\n",
       "    </tr>\n",
       "    <tr>\n",
       "      <th>99</th>\n",
       "      <td>2022-12-19 11:00:00</td>\n",
       "      <td>SELL</td>\n",
       "    </tr>\n",
       "  </tbody>\n",
       "</table>\n",
       "</div>"
      ],
      "text/plain": [
       "              timestamp signal\n",
       "4   2022-12-20 19:00:00   SELL\n",
       "23  2022-12-20 14:15:00   SELL\n",
       "24  2022-12-20 14:00:00    BUY\n",
       "26  2022-12-20 13:30:00    BUY\n",
       "28  2022-12-20 13:00:00   SELL\n",
       "31  2022-12-20 12:15:00   SELL\n",
       "32  2022-12-20 12:00:00   SELL\n",
       "34  2022-12-20 11:30:00    BUY\n",
       "35  2022-12-20 11:15:00    BUY\n",
       "36  2022-12-20 11:00:00   SELL\n",
       "38  2022-12-20 10:30:00   SELL\n",
       "40  2022-12-20 10:00:00   SELL\n",
       "41  2022-12-20 09:45:00    BUY\n",
       "42  2022-12-20 09:30:00    BUY\n",
       "43  2022-12-20 09:15:00    BUY\n",
       "45  2022-12-20 08:45:00   SELL\n",
       "46  2022-12-20 08:30:00   SELL\n",
       "50  2022-12-20 07:30:00   SELL\n",
       "51  2022-12-20 07:15:00   SELL\n",
       "63  2022-12-19 20:00:00   SELL\n",
       "64  2022-12-19 19:45:00   SELL\n",
       "80  2022-12-19 15:45:00    BUY\n",
       "81  2022-12-19 15:30:00    BUY\n",
       "84  2022-12-19 14:45:00   SELL\n",
       "85  2022-12-19 14:30:00    BUY\n",
       "89  2022-12-19 13:30:00   SELL\n",
       "92  2022-12-19 12:45:00   SELL\n",
       "93  2022-12-19 12:30:00    BUY\n",
       "94  2022-12-19 12:15:00    BUY\n",
       "95  2022-12-19 12:00:00    BUY\n",
       "97  2022-12-19 11:30:00   SELL\n",
       "99  2022-12-19 11:00:00   SELL"
      ]
     },
     "execution_count": 502,
     "metadata": {},
     "output_type": "execute_result"
    }
   ],
   "source": [
    "strategy.get_signals()"
   ]
  },
  {
   "cell_type": "markdown",
   "id": "9211a5ae",
   "metadata": {},
   "source": [
    "### [OPTIONAL] Plot a candlestick chart of `df` and `indicator`\n"
   ]
  },
  {
   "cell_type": "code",
   "execution_count": 535,
   "id": "245ee079",
   "metadata": {},
   "outputs": [],
   "source": [
    "def show_graph(script):\n",
    "    df = script_data[script.upper()]\n",
    "    ind = indicator1(df, timestamp=5)\n",
    "\n",
    "    fig = go.Figure(data=[go.Candlestick(x=df['timestamp'],\n",
    "                    open=df['open'], high=df['high'],\n",
    "                    low=df['low'], close=df['close'], \n",
    "                    name=\"Historical Data\"), \n",
    "\n",
    "                    go.Scatter(x=ind['timestamp'], y=ind['indicator'],\n",
    "                    line = dict(color = \"gray\"), name=\"SMA\")\n",
    "                ]\n",
    "            )\n",
    "\n",
    "    fig.update_layout(xaxis_rangeslider_visible=False)\n",
    "\n",
    "    fig.show()"
   ]
  },
  {
   "cell_type": "code",
   "execution_count": 539,
   "id": "e69e0b42",
   "metadata": {},
   "outputs": [
    {
     "data": {
      "application/vnd.plotly.v1+json": {
       "config": {
        "plotlyServerURL": "https://plot.ly"
       },
       "data": [
        {
         "close": [
          "89.6000",
          "89.4700",
          "89.4100",
          "89.5600",
          "89.5300",
          "89.5400",
          "89.3900",
          "89.3200",
          "89.2100",
          "89.2100",
          "89.2100",
          "89.2200",
          "89.0900",
          "89.0800",
          "89.0400",
          "89.1200",
          "89.0400",
          "88.9850",
          "88.7600",
          "88.6700",
          "88.7850",
          "88.7879",
          "89.0000",
          "89.1207",
          "88.7700",
          "88.9150",
          "88.6818",
          "88.5200",
          "88.7801",
          "88.4550",
          "88.5520",
          "88.5400",
          "88.4200",
          "88.1500",
          "87.9500",
          "88.2800",
          "88.6300",
          "88.7400",
          "88.6000",
          "88.2650",
          "88.4300",
          "87.7600",
          "88.1100",
          "87.8279",
          "88.0400",
          "88.1500",
          "87.8100",
          "87.9100",
          "87.7700",
          "87.9600",
          "88.2500",
          "88.1700",
          "88.1400",
          "88.3500",
          "88.2800",
          "88.2000",
          "88.0400",
          "87.9300",
          "88.1500",
          "88.0000",
          "88.0500",
          "88.2200",
          "88.2100",
          "88.0900",
          "88.7899",
          "88.6500",
          "88.7100",
          "88.6799",
          "88.7500",
          "88.7100",
          "88.6000",
          "88.4800",
          "88.4300",
          "88.4112",
          "88.3300",
          "88.3900",
          "88.4000",
          "88.3300",
          "88.3700",
          "88.4400",
          "88.4500",
          "88.2800",
          "88.5150",
          "88.5500",
          "88.7400",
          "88.7050",
          "88.5600",
          "88.7000",
          "88.9129",
          "89.0000",
          "89.1300",
          "89.2583",
          "89.0400",
          "89.0100",
          "89.0150",
          "89.3000",
          "89.2207",
          "89.1800",
          "89.5600",
          "89.8700"
         ],
         "high": [
          "89.7200",
          "89.4700",
          "89.5100",
          "89.5900",
          "89.5300",
          "89.5400",
          "89.3900",
          "89.3300",
          "89.2100",
          "89.2100",
          "89.2300",
          "89.2300",
          "89.0900",
          "89.1000",
          "89.1200",
          "89.1200",
          "89.1200",
          "89.0369",
          "88.8200",
          "88.8000",
          "88.8600",
          "89.0400",
          "89.1350",
          "89.1750",
          "89.0100",
          "89.0400",
          "88.7800",
          "88.8700",
          "88.7850",
          "88.5850",
          "88.7200",
          "88.7500",
          "88.4300",
          "88.1890",
          "88.3150",
          "88.8799",
          "88.9200",
          "88.9400",
          "88.7700",
          "88.6900",
          "88.4950",
          "88.4800",
          "88.2300",
          "88.0886",
          "88.2300",
          "88.2700",
          "88.0100",
          "88.2500",
          "88.0000",
          "88.2000",
          "88.2800",
          "88.3000",
          "88.1400",
          "88.3600",
          "88.3100",
          "88.2000",
          "88.0400",
          "88.2000",
          "88.1500",
          "88.0800",
          "88.0700",
          "88.2600",
          "88.2400",
          "88.2400",
          "88.7899",
          "88.6500",
          "88.7100",
          "88.7500",
          "88.8100",
          "88.7300",
          "88.7500",
          "88.4800",
          "88.4300",
          "88.4112",
          "88.4400",
          "88.4199",
          "88.4300",
          "88.4400",
          "88.4200",
          "88.5000",
          "88.5700",
          "88.6200",
          "88.6842",
          "88.7400",
          "88.8100",
          "88.7500",
          "88.7400",
          "88.9400",
          "89.0600",
          "89.1500",
          "89.3400",
          "89.2600",
          "89.3000",
          "89.1350",
          "89.3050",
          "89.3400",
          "89.3700",
          "89.5700",
          "89.9600",
          "89.9700"
         ],
         "low": [
          "89.5000",
          "89.3200",
          "89.4100",
          "89.4800",
          "89.3800",
          "89.2500",
          "89.2300",
          "89.1800",
          "89.2100",
          "89.1500",
          "89.1401",
          "89.0400",
          "89.0700",
          "89.0400",
          "89.0400",
          "88.9800",
          "88.8450",
          "88.7000",
          "88.5300",
          "88.5250",
          "88.6600",
          "88.7400",
          "88.8900",
          "88.7200",
          "88.7200",
          "88.6800",
          "88.5200",
          "88.4700",
          "88.4200",
          "88.2800",
          "88.4500",
          "88.3900",
          "88.0350",
          "87.9200",
          "87.8300",
          "88.2800",
          "88.5700",
          "88.5900",
          "88.0450",
          "88.1500",
          "87.4401",
          "87.7500",
          "87.8900",
          "87.7700",
          "88.0200",
          "87.8500",
          "87.8100",
          "87.1000",
          "87.7700",
          "87.9600",
          "88.1800",
          "88.1300",
          "88.1200",
          "88.2600",
          "88.2400",
          "88.0900",
          "87.9400",
          "87.9300",
          "88.0100",
          "88.0000",
          "87.9100",
          "88.2200",
          "87.9100",
          "87.9100",
          "88.6700",
          "88.6000",
          "88.6500",
          "88.6000",
          "88.6900",
          "88.6500",
          "88.4600",
          "88.3100",
          "88.4234",
          "88.3200",
          "88.2100",
          "88.2900",
          "88.2700",
          "88.3000",
          "88.3700",
          "88.3413",
          "88.2600",
          "88.2100",
          "88.5100",
          "88.5250",
          "88.5200",
          "88.5500",
          "88.5400",
          "88.6300",
          "88.9000",
          "88.9650",
          "89.1000",
          "88.9350",
          "88.9801",
          "88.9250",
          "88.9900",
          "89.1350",
          "89.1750",
          "89.0200",
          "89.4850",
          "89.6600"
         ],
         "name": "Historical Data",
         "open": [
          "89.5000",
          "89.3700",
          "89.5100",
          "89.4800",
          "89.3800",
          "89.3700",
          "89.3200",
          "89.1800",
          "89.2100",
          "89.1600",
          "89.2000",
          "89.0500",
          "89.0700",
          "89.0515",
          "89.1200",
          "89.0200",
          "88.9800",
          "88.7700",
          "88.6700",
          "88.7900",
          "88.7800",
          "89.0000",
          "89.1200",
          "88.7750",
          "88.9200",
          "88.6900",
          "88.5200",
          "88.7900",
          "88.4600",
          "88.5571",
          "88.5400",
          "88.4400",
          "88.2000",
          "87.9500",
          "88.2900",
          "88.6300",
          "88.7300",
          "88.6000",
          "88.2500",
          "88.4300",
          "87.7600",
          "88.1100",
          "87.8900",
          "88.0200",
          "88.1500",
          "87.8500",
          "87.9800",
          "88.1900",
          "88.0000",
          "88.2000",
          "88.1800",
          "88.2400",
          "88.1200",
          "88.3600",
          "88.2400",
          "88.0900",
          "87.9400",
          "88.0600",
          "88.0100",
          "88.0800",
          "88.0700",
          "88.2500",
          "88.0500",
          "88.1500",
          "88.6700",
          "88.6000",
          "88.6500",
          "88.7500",
          "88.7200",
          "88.7300",
          "88.5000",
          "88.4300",
          "88.4234",
          "88.3200",
          "88.3000",
          "88.4199",
          "88.3300",
          "88.3056",
          "88.3835",
          "88.4600",
          "88.2700",
          "88.5200",
          "88.5600",
          "88.7400",
          "88.7100",
          "88.5500",
          "88.6950",
          "88.9100",
          "88.9900",
          "89.1200",
          "89.2581",
          "89.0500",
          "89.0100",
          "89.0100",
          "89.2950",
          "89.2300",
          "89.1800",
          "89.5700",
          "89.8800",
          "89.8900"
         ],
         "type": "candlestick",
         "x": [
          "2022-12-20 20:00:00",
          "2022-12-20 19:45:00",
          "2022-12-20 19:30:00",
          "2022-12-20 19:15:00",
          "2022-12-20 19:00:00",
          "2022-12-20 18:45:00",
          "2022-12-20 18:30:00",
          "2022-12-20 18:15:00",
          "2022-12-20 18:00:00",
          "2022-12-20 17:45:00",
          "2022-12-20 17:30:00",
          "2022-12-20 17:15:00",
          "2022-12-20 17:00:00",
          "2022-12-20 16:45:00",
          "2022-12-20 16:30:00",
          "2022-12-20 16:15:00",
          "2022-12-20 16:00:00",
          "2022-12-20 15:45:00",
          "2022-12-20 15:30:00",
          "2022-12-20 15:15:00",
          "2022-12-20 15:00:00",
          "2022-12-20 14:45:00",
          "2022-12-20 14:30:00",
          "2022-12-20 14:15:00",
          "2022-12-20 14:00:00",
          "2022-12-20 13:45:00",
          "2022-12-20 13:30:00",
          "2022-12-20 13:15:00",
          "2022-12-20 13:00:00",
          "2022-12-20 12:45:00",
          "2022-12-20 12:30:00",
          "2022-12-20 12:15:00",
          "2022-12-20 12:00:00",
          "2022-12-20 11:45:00",
          "2022-12-20 11:30:00",
          "2022-12-20 11:15:00",
          "2022-12-20 11:00:00",
          "2022-12-20 10:45:00",
          "2022-12-20 10:30:00",
          "2022-12-20 10:15:00",
          "2022-12-20 10:00:00",
          "2022-12-20 09:45:00",
          "2022-12-20 09:30:00",
          "2022-12-20 09:15:00",
          "2022-12-20 09:00:00",
          "2022-12-20 08:45:00",
          "2022-12-20 08:30:00",
          "2022-12-20 08:15:00",
          "2022-12-20 08:00:00",
          "2022-12-20 07:45:00",
          "2022-12-20 07:30:00",
          "2022-12-20 07:15:00",
          "2022-12-20 07:00:00",
          "2022-12-20 06:45:00",
          "2022-12-20 06:30:00",
          "2022-12-20 06:15:00",
          "2022-12-20 06:00:00",
          "2022-12-20 05:45:00",
          "2022-12-20 05:30:00",
          "2022-12-20 05:15:00",
          "2022-12-20 05:00:00",
          "2022-12-20 04:45:00",
          "2022-12-20 04:30:00",
          "2022-12-20 04:15:00",
          "2022-12-19 20:00:00",
          "2022-12-19 19:45:00",
          "2022-12-19 19:30:00",
          "2022-12-19 19:15:00",
          "2022-12-19 19:00:00",
          "2022-12-19 18:45:00",
          "2022-12-19 18:30:00",
          "2022-12-19 18:15:00",
          "2022-12-19 18:00:00",
          "2022-12-19 17:45:00",
          "2022-12-19 17:30:00",
          "2022-12-19 17:15:00",
          "2022-12-19 17:00:00",
          "2022-12-19 16:45:00",
          "2022-12-19 16:30:00",
          "2022-12-19 16:15:00",
          "2022-12-19 16:00:00",
          "2022-12-19 15:45:00",
          "2022-12-19 15:30:00",
          "2022-12-19 15:15:00",
          "2022-12-19 15:00:00",
          "2022-12-19 14:45:00",
          "2022-12-19 14:30:00",
          "2022-12-19 14:15:00",
          "2022-12-19 14:00:00",
          "2022-12-19 13:45:00",
          "2022-12-19 13:30:00",
          "2022-12-19 13:15:00",
          "2022-12-19 13:00:00",
          "2022-12-19 12:45:00",
          "2022-12-19 12:30:00",
          "2022-12-19 12:15:00",
          "2022-12-19 12:00:00",
          "2022-12-19 11:45:00",
          "2022-12-19 11:30:00",
          "2022-12-19 11:15:00"
         ]
        },
        {
         "line": {
          "color": "gray"
         },
         "name": "SMA",
         "type": "scatter",
         "x": [
          "2022-12-20 20:00:00",
          "2022-12-20 19:45:00",
          "2022-12-20 19:30:00",
          "2022-12-20 19:15:00",
          "2022-12-20 19:00:00",
          "2022-12-20 18:45:00",
          "2022-12-20 18:30:00",
          "2022-12-20 18:15:00",
          "2022-12-20 18:00:00",
          "2022-12-20 17:45:00",
          "2022-12-20 17:30:00",
          "2022-12-20 17:15:00",
          "2022-12-20 17:00:00",
          "2022-12-20 16:45:00",
          "2022-12-20 16:30:00",
          "2022-12-20 16:15:00",
          "2022-12-20 16:00:00",
          "2022-12-20 15:45:00",
          "2022-12-20 15:30:00",
          "2022-12-20 15:15:00",
          "2022-12-20 15:00:00",
          "2022-12-20 14:45:00",
          "2022-12-20 14:30:00",
          "2022-12-20 14:15:00",
          "2022-12-20 14:00:00",
          "2022-12-20 13:45:00",
          "2022-12-20 13:30:00",
          "2022-12-20 13:15:00",
          "2022-12-20 13:00:00",
          "2022-12-20 12:45:00",
          "2022-12-20 12:30:00",
          "2022-12-20 12:15:00",
          "2022-12-20 12:00:00",
          "2022-12-20 11:45:00",
          "2022-12-20 11:30:00",
          "2022-12-20 11:15:00",
          "2022-12-20 11:00:00",
          "2022-12-20 10:45:00",
          "2022-12-20 10:30:00",
          "2022-12-20 10:15:00",
          "2022-12-20 10:00:00",
          "2022-12-20 09:45:00",
          "2022-12-20 09:30:00",
          "2022-12-20 09:15:00",
          "2022-12-20 09:00:00",
          "2022-12-20 08:45:00",
          "2022-12-20 08:30:00",
          "2022-12-20 08:15:00",
          "2022-12-20 08:00:00",
          "2022-12-20 07:45:00",
          "2022-12-20 07:30:00",
          "2022-12-20 07:15:00",
          "2022-12-20 07:00:00",
          "2022-12-20 06:45:00",
          "2022-12-20 06:30:00",
          "2022-12-20 06:15:00",
          "2022-12-20 06:00:00",
          "2022-12-20 05:45:00",
          "2022-12-20 05:30:00",
          "2022-12-20 05:15:00",
          "2022-12-20 05:00:00",
          "2022-12-20 04:45:00",
          "2022-12-20 04:30:00",
          "2022-12-20 04:15:00",
          "2022-12-19 20:00:00",
          "2022-12-19 19:45:00",
          "2022-12-19 19:30:00",
          "2022-12-19 19:15:00",
          "2022-12-19 19:00:00",
          "2022-12-19 18:45:00",
          "2022-12-19 18:30:00",
          "2022-12-19 18:15:00",
          "2022-12-19 18:00:00",
          "2022-12-19 17:45:00",
          "2022-12-19 17:30:00",
          "2022-12-19 17:15:00",
          "2022-12-19 17:00:00",
          "2022-12-19 16:45:00",
          "2022-12-19 16:30:00",
          "2022-12-19 16:15:00",
          "2022-12-19 16:00:00",
          "2022-12-19 15:45:00",
          "2022-12-19 15:30:00",
          "2022-12-19 15:15:00",
          "2022-12-19 15:00:00",
          "2022-12-19 14:45:00",
          "2022-12-19 14:30:00",
          "2022-12-19 14:15:00",
          "2022-12-19 14:00:00",
          "2022-12-19 13:45:00",
          "2022-12-19 13:30:00",
          "2022-12-19 13:15:00",
          "2022-12-19 13:00:00",
          "2022-12-19 12:45:00",
          "2022-12-19 12:30:00",
          "2022-12-19 12:15:00",
          "2022-12-19 12:00:00",
          "2022-12-19 11:45:00",
          "2022-12-19 11:30:00",
          "2022-12-19 11:15:00"
         ],
         "y": [
          null,
          null,
          null,
          null,
          89.514,
          89.502,
          89.486,
          89.468,
          89.398,
          89.334,
          89.268,
          89.234,
          89.188,
          89.162,
          89.128,
          89.11,
          89.074,
          89.053,
          88.989,
          88.915,
          88.848,
          88.798,
          88.801,
          88.873,
          88.893,
          88.919,
          88.898,
          88.802,
          88.733,
          88.67,
          88.598,
          88.569,
          88.549,
          88.423,
          88.322,
          88.268,
          88.286,
          88.35,
          88.44,
          88.503,
          88.533,
          88.359,
          88.233,
          88.079,
          88.034,
          87.978,
          87.988,
          87.948,
          87.936,
          87.92,
          87.94,
          88.012,
          88.058,
          88.174,
          88.238,
          88.228,
          88.202,
          88.16,
          88.12,
          88.064,
          88.034,
          88.07,
          88.126,
          88.114,
          88.272,
          88.392,
          88.49,
          88.584,
          88.716,
          88.7,
          88.69,
          88.644,
          88.594,
          88.526,
          88.45,
          88.408,
          88.392,
          88.372,
          88.364,
          88.386,
          88.398,
          88.374,
          88.411,
          88.447,
          88.507,
          88.558,
          88.614,
          88.651,
          88.724,
          88.776,
          88.861,
          89,
          89.068,
          89.088,
          89.091,
          89.125,
          89.117,
          89.145,
          89.255,
          89.426
         ]
        }
       ],
       "layout": {
        "template": {
         "data": {
          "bar": [
           {
            "error_x": {
             "color": "#2a3f5f"
            },
            "error_y": {
             "color": "#2a3f5f"
            },
            "marker": {
             "line": {
              "color": "#E5ECF6",
              "width": 0.5
             },
             "pattern": {
              "fillmode": "overlay",
              "size": 10,
              "solidity": 0.2
             }
            },
            "type": "bar"
           }
          ],
          "barpolar": [
           {
            "marker": {
             "line": {
              "color": "#E5ECF6",
              "width": 0.5
             },
             "pattern": {
              "fillmode": "overlay",
              "size": 10,
              "solidity": 0.2
             }
            },
            "type": "barpolar"
           }
          ],
          "carpet": [
           {
            "aaxis": {
             "endlinecolor": "#2a3f5f",
             "gridcolor": "white",
             "linecolor": "white",
             "minorgridcolor": "white",
             "startlinecolor": "#2a3f5f"
            },
            "baxis": {
             "endlinecolor": "#2a3f5f",
             "gridcolor": "white",
             "linecolor": "white",
             "minorgridcolor": "white",
             "startlinecolor": "#2a3f5f"
            },
            "type": "carpet"
           }
          ],
          "choropleth": [
           {
            "colorbar": {
             "outlinewidth": 0,
             "ticks": ""
            },
            "type": "choropleth"
           }
          ],
          "contour": [
           {
            "colorbar": {
             "outlinewidth": 0,
             "ticks": ""
            },
            "colorscale": [
             [
              0,
              "#0d0887"
             ],
             [
              0.1111111111111111,
              "#46039f"
             ],
             [
              0.2222222222222222,
              "#7201a8"
             ],
             [
              0.3333333333333333,
              "#9c179e"
             ],
             [
              0.4444444444444444,
              "#bd3786"
             ],
             [
              0.5555555555555556,
              "#d8576b"
             ],
             [
              0.6666666666666666,
              "#ed7953"
             ],
             [
              0.7777777777777778,
              "#fb9f3a"
             ],
             [
              0.8888888888888888,
              "#fdca26"
             ],
             [
              1,
              "#f0f921"
             ]
            ],
            "type": "contour"
           }
          ],
          "contourcarpet": [
           {
            "colorbar": {
             "outlinewidth": 0,
             "ticks": ""
            },
            "type": "contourcarpet"
           }
          ],
          "heatmap": [
           {
            "colorbar": {
             "outlinewidth": 0,
             "ticks": ""
            },
            "colorscale": [
             [
              0,
              "#0d0887"
             ],
             [
              0.1111111111111111,
              "#46039f"
             ],
             [
              0.2222222222222222,
              "#7201a8"
             ],
             [
              0.3333333333333333,
              "#9c179e"
             ],
             [
              0.4444444444444444,
              "#bd3786"
             ],
             [
              0.5555555555555556,
              "#d8576b"
             ],
             [
              0.6666666666666666,
              "#ed7953"
             ],
             [
              0.7777777777777778,
              "#fb9f3a"
             ],
             [
              0.8888888888888888,
              "#fdca26"
             ],
             [
              1,
              "#f0f921"
             ]
            ],
            "type": "heatmap"
           }
          ],
          "heatmapgl": [
           {
            "colorbar": {
             "outlinewidth": 0,
             "ticks": ""
            },
            "colorscale": [
             [
              0,
              "#0d0887"
             ],
             [
              0.1111111111111111,
              "#46039f"
             ],
             [
              0.2222222222222222,
              "#7201a8"
             ],
             [
              0.3333333333333333,
              "#9c179e"
             ],
             [
              0.4444444444444444,
              "#bd3786"
             ],
             [
              0.5555555555555556,
              "#d8576b"
             ],
             [
              0.6666666666666666,
              "#ed7953"
             ],
             [
              0.7777777777777778,
              "#fb9f3a"
             ],
             [
              0.8888888888888888,
              "#fdca26"
             ],
             [
              1,
              "#f0f921"
             ]
            ],
            "type": "heatmapgl"
           }
          ],
          "histogram": [
           {
            "marker": {
             "pattern": {
              "fillmode": "overlay",
              "size": 10,
              "solidity": 0.2
             }
            },
            "type": "histogram"
           }
          ],
          "histogram2d": [
           {
            "colorbar": {
             "outlinewidth": 0,
             "ticks": ""
            },
            "colorscale": [
             [
              0,
              "#0d0887"
             ],
             [
              0.1111111111111111,
              "#46039f"
             ],
             [
              0.2222222222222222,
              "#7201a8"
             ],
             [
              0.3333333333333333,
              "#9c179e"
             ],
             [
              0.4444444444444444,
              "#bd3786"
             ],
             [
              0.5555555555555556,
              "#d8576b"
             ],
             [
              0.6666666666666666,
              "#ed7953"
             ],
             [
              0.7777777777777778,
              "#fb9f3a"
             ],
             [
              0.8888888888888888,
              "#fdca26"
             ],
             [
              1,
              "#f0f921"
             ]
            ],
            "type": "histogram2d"
           }
          ],
          "histogram2dcontour": [
           {
            "colorbar": {
             "outlinewidth": 0,
             "ticks": ""
            },
            "colorscale": [
             [
              0,
              "#0d0887"
             ],
             [
              0.1111111111111111,
              "#46039f"
             ],
             [
              0.2222222222222222,
              "#7201a8"
             ],
             [
              0.3333333333333333,
              "#9c179e"
             ],
             [
              0.4444444444444444,
              "#bd3786"
             ],
             [
              0.5555555555555556,
              "#d8576b"
             ],
             [
              0.6666666666666666,
              "#ed7953"
             ],
             [
              0.7777777777777778,
              "#fb9f3a"
             ],
             [
              0.8888888888888888,
              "#fdca26"
             ],
             [
              1,
              "#f0f921"
             ]
            ],
            "type": "histogram2dcontour"
           }
          ],
          "mesh3d": [
           {
            "colorbar": {
             "outlinewidth": 0,
             "ticks": ""
            },
            "type": "mesh3d"
           }
          ],
          "parcoords": [
           {
            "line": {
             "colorbar": {
              "outlinewidth": 0,
              "ticks": ""
             }
            },
            "type": "parcoords"
           }
          ],
          "pie": [
           {
            "automargin": true,
            "type": "pie"
           }
          ],
          "scatter": [
           {
            "fillpattern": {
             "fillmode": "overlay",
             "size": 10,
             "solidity": 0.2
            },
            "type": "scatter"
           }
          ],
          "scatter3d": [
           {
            "line": {
             "colorbar": {
              "outlinewidth": 0,
              "ticks": ""
             }
            },
            "marker": {
             "colorbar": {
              "outlinewidth": 0,
              "ticks": ""
             }
            },
            "type": "scatter3d"
           }
          ],
          "scattercarpet": [
           {
            "marker": {
             "colorbar": {
              "outlinewidth": 0,
              "ticks": ""
             }
            },
            "type": "scattercarpet"
           }
          ],
          "scattergeo": [
           {
            "marker": {
             "colorbar": {
              "outlinewidth": 0,
              "ticks": ""
             }
            },
            "type": "scattergeo"
           }
          ],
          "scattergl": [
           {
            "marker": {
             "colorbar": {
              "outlinewidth": 0,
              "ticks": ""
             }
            },
            "type": "scattergl"
           }
          ],
          "scattermapbox": [
           {
            "marker": {
             "colorbar": {
              "outlinewidth": 0,
              "ticks": ""
             }
            },
            "type": "scattermapbox"
           }
          ],
          "scatterpolar": [
           {
            "marker": {
             "colorbar": {
              "outlinewidth": 0,
              "ticks": ""
             }
            },
            "type": "scatterpolar"
           }
          ],
          "scatterpolargl": [
           {
            "marker": {
             "colorbar": {
              "outlinewidth": 0,
              "ticks": ""
             }
            },
            "type": "scatterpolargl"
           }
          ],
          "scatterternary": [
           {
            "marker": {
             "colorbar": {
              "outlinewidth": 0,
              "ticks": ""
             }
            },
            "type": "scatterternary"
           }
          ],
          "surface": [
           {
            "colorbar": {
             "outlinewidth": 0,
             "ticks": ""
            },
            "colorscale": [
             [
              0,
              "#0d0887"
             ],
             [
              0.1111111111111111,
              "#46039f"
             ],
             [
              0.2222222222222222,
              "#7201a8"
             ],
             [
              0.3333333333333333,
              "#9c179e"
             ],
             [
              0.4444444444444444,
              "#bd3786"
             ],
             [
              0.5555555555555556,
              "#d8576b"
             ],
             [
              0.6666666666666666,
              "#ed7953"
             ],
             [
              0.7777777777777778,
              "#fb9f3a"
             ],
             [
              0.8888888888888888,
              "#fdca26"
             ],
             [
              1,
              "#f0f921"
             ]
            ],
            "type": "surface"
           }
          ],
          "table": [
           {
            "cells": {
             "fill": {
              "color": "#EBF0F8"
             },
             "line": {
              "color": "white"
             }
            },
            "header": {
             "fill": {
              "color": "#C8D4E3"
             },
             "line": {
              "color": "white"
             }
            },
            "type": "table"
           }
          ]
         },
         "layout": {
          "annotationdefaults": {
           "arrowcolor": "#2a3f5f",
           "arrowhead": 0,
           "arrowwidth": 1
          },
          "autotypenumbers": "strict",
          "coloraxis": {
           "colorbar": {
            "outlinewidth": 0,
            "ticks": ""
           }
          },
          "colorscale": {
           "diverging": [
            [
             0,
             "#8e0152"
            ],
            [
             0.1,
             "#c51b7d"
            ],
            [
             0.2,
             "#de77ae"
            ],
            [
             0.3,
             "#f1b6da"
            ],
            [
             0.4,
             "#fde0ef"
            ],
            [
             0.5,
             "#f7f7f7"
            ],
            [
             0.6,
             "#e6f5d0"
            ],
            [
             0.7,
             "#b8e186"
            ],
            [
             0.8,
             "#7fbc41"
            ],
            [
             0.9,
             "#4d9221"
            ],
            [
             1,
             "#276419"
            ]
           ],
           "sequential": [
            [
             0,
             "#0d0887"
            ],
            [
             0.1111111111111111,
             "#46039f"
            ],
            [
             0.2222222222222222,
             "#7201a8"
            ],
            [
             0.3333333333333333,
             "#9c179e"
            ],
            [
             0.4444444444444444,
             "#bd3786"
            ],
            [
             0.5555555555555556,
             "#d8576b"
            ],
            [
             0.6666666666666666,
             "#ed7953"
            ],
            [
             0.7777777777777778,
             "#fb9f3a"
            ],
            [
             0.8888888888888888,
             "#fdca26"
            ],
            [
             1,
             "#f0f921"
            ]
           ],
           "sequentialminus": [
            [
             0,
             "#0d0887"
            ],
            [
             0.1111111111111111,
             "#46039f"
            ],
            [
             0.2222222222222222,
             "#7201a8"
            ],
            [
             0.3333333333333333,
             "#9c179e"
            ],
            [
             0.4444444444444444,
             "#bd3786"
            ],
            [
             0.5555555555555556,
             "#d8576b"
            ],
            [
             0.6666666666666666,
             "#ed7953"
            ],
            [
             0.7777777777777778,
             "#fb9f3a"
            ],
            [
             0.8888888888888888,
             "#fdca26"
            ],
            [
             1,
             "#f0f921"
            ]
           ]
          },
          "colorway": [
           "#636efa",
           "#EF553B",
           "#00cc96",
           "#ab63fa",
           "#FFA15A",
           "#19d3f3",
           "#FF6692",
           "#B6E880",
           "#FF97FF",
           "#FECB52"
          ],
          "font": {
           "color": "#2a3f5f"
          },
          "geo": {
           "bgcolor": "white",
           "lakecolor": "white",
           "landcolor": "#E5ECF6",
           "showlakes": true,
           "showland": true,
           "subunitcolor": "white"
          },
          "hoverlabel": {
           "align": "left"
          },
          "hovermode": "closest",
          "mapbox": {
           "style": "light"
          },
          "paper_bgcolor": "white",
          "plot_bgcolor": "#E5ECF6",
          "polar": {
           "angularaxis": {
            "gridcolor": "white",
            "linecolor": "white",
            "ticks": ""
           },
           "bgcolor": "#E5ECF6",
           "radialaxis": {
            "gridcolor": "white",
            "linecolor": "white",
            "ticks": ""
           }
          },
          "scene": {
           "xaxis": {
            "backgroundcolor": "#E5ECF6",
            "gridcolor": "white",
            "gridwidth": 2,
            "linecolor": "white",
            "showbackground": true,
            "ticks": "",
            "zerolinecolor": "white"
           },
           "yaxis": {
            "backgroundcolor": "#E5ECF6",
            "gridcolor": "white",
            "gridwidth": 2,
            "linecolor": "white",
            "showbackground": true,
            "ticks": "",
            "zerolinecolor": "white"
           },
           "zaxis": {
            "backgroundcolor": "#E5ECF6",
            "gridcolor": "white",
            "gridwidth": 2,
            "linecolor": "white",
            "showbackground": true,
            "ticks": "",
            "zerolinecolor": "white"
           }
          },
          "shapedefaults": {
           "line": {
            "color": "#2a3f5f"
           }
          },
          "ternary": {
           "aaxis": {
            "gridcolor": "white",
            "linecolor": "white",
            "ticks": ""
           },
           "baxis": {
            "gridcolor": "white",
            "linecolor": "white",
            "ticks": ""
           },
           "bgcolor": "#E5ECF6",
           "caxis": {
            "gridcolor": "white",
            "linecolor": "white",
            "ticks": ""
           }
          },
          "title": {
           "x": 0.05
          },
          "xaxis": {
           "automargin": true,
           "gridcolor": "white",
           "linecolor": "white",
           "ticks": "",
           "title": {
            "standoff": 15
           },
           "zerolinecolor": "white",
           "zerolinewidth": 2
          },
          "yaxis": {
           "automargin": true,
           "gridcolor": "white",
           "linecolor": "white",
           "ticks": "",
           "title": {
            "standoff": 15
           },
           "zerolinecolor": "white",
           "zerolinewidth": 2
          }
         }
        },
        "xaxis": {
         "rangeslider": {
          "visible": false
         }
        }
       }
      },
      "text/html": [
       "<div>                            <div id=\"ecff899e-fa03-430b-992e-8e8e2154bfab\" class=\"plotly-graph-div\" style=\"height:525px; width:100%;\"></div>            <script type=\"text/javascript\">                require([\"plotly\"], function(Plotly) {                    window.PLOTLYENV=window.PLOTLYENV || {};                                    if (document.getElementById(\"ecff899e-fa03-430b-992e-8e8e2154bfab\")) {                    Plotly.newPlot(                        \"ecff899e-fa03-430b-992e-8e8e2154bfab\",                        [{\"close\":[\"89.6000\",\"89.4700\",\"89.4100\",\"89.5600\",\"89.5300\",\"89.5400\",\"89.3900\",\"89.3200\",\"89.2100\",\"89.2100\",\"89.2100\",\"89.2200\",\"89.0900\",\"89.0800\",\"89.0400\",\"89.1200\",\"89.0400\",\"88.9850\",\"88.7600\",\"88.6700\",\"88.7850\",\"88.7879\",\"89.0000\",\"89.1207\",\"88.7700\",\"88.9150\",\"88.6818\",\"88.5200\",\"88.7801\",\"88.4550\",\"88.5520\",\"88.5400\",\"88.4200\",\"88.1500\",\"87.9500\",\"88.2800\",\"88.6300\",\"88.7400\",\"88.6000\",\"88.2650\",\"88.4300\",\"87.7600\",\"88.1100\",\"87.8279\",\"88.0400\",\"88.1500\",\"87.8100\",\"87.9100\",\"87.7700\",\"87.9600\",\"88.2500\",\"88.1700\",\"88.1400\",\"88.3500\",\"88.2800\",\"88.2000\",\"88.0400\",\"87.9300\",\"88.1500\",\"88.0000\",\"88.0500\",\"88.2200\",\"88.2100\",\"88.0900\",\"88.7899\",\"88.6500\",\"88.7100\",\"88.6799\",\"88.7500\",\"88.7100\",\"88.6000\",\"88.4800\",\"88.4300\",\"88.4112\",\"88.3300\",\"88.3900\",\"88.4000\",\"88.3300\",\"88.3700\",\"88.4400\",\"88.4500\",\"88.2800\",\"88.5150\",\"88.5500\",\"88.7400\",\"88.7050\",\"88.5600\",\"88.7000\",\"88.9129\",\"89.0000\",\"89.1300\",\"89.2583\",\"89.0400\",\"89.0100\",\"89.0150\",\"89.3000\",\"89.2207\",\"89.1800\",\"89.5600\",\"89.8700\"],\"high\":[\"89.7200\",\"89.4700\",\"89.5100\",\"89.5900\",\"89.5300\",\"89.5400\",\"89.3900\",\"89.3300\",\"89.2100\",\"89.2100\",\"89.2300\",\"89.2300\",\"89.0900\",\"89.1000\",\"89.1200\",\"89.1200\",\"89.1200\",\"89.0369\",\"88.8200\",\"88.8000\",\"88.8600\",\"89.0400\",\"89.1350\",\"89.1750\",\"89.0100\",\"89.0400\",\"88.7800\",\"88.8700\",\"88.7850\",\"88.5850\",\"88.7200\",\"88.7500\",\"88.4300\",\"88.1890\",\"88.3150\",\"88.8799\",\"88.9200\",\"88.9400\",\"88.7700\",\"88.6900\",\"88.4950\",\"88.4800\",\"88.2300\",\"88.0886\",\"88.2300\",\"88.2700\",\"88.0100\",\"88.2500\",\"88.0000\",\"88.2000\",\"88.2800\",\"88.3000\",\"88.1400\",\"88.3600\",\"88.3100\",\"88.2000\",\"88.0400\",\"88.2000\",\"88.1500\",\"88.0800\",\"88.0700\",\"88.2600\",\"88.2400\",\"88.2400\",\"88.7899\",\"88.6500\",\"88.7100\",\"88.7500\",\"88.8100\",\"88.7300\",\"88.7500\",\"88.4800\",\"88.4300\",\"88.4112\",\"88.4400\",\"88.4199\",\"88.4300\",\"88.4400\",\"88.4200\",\"88.5000\",\"88.5700\",\"88.6200\",\"88.6842\",\"88.7400\",\"88.8100\",\"88.7500\",\"88.7400\",\"88.9400\",\"89.0600\",\"89.1500\",\"89.3400\",\"89.2600\",\"89.3000\",\"89.1350\",\"89.3050\",\"89.3400\",\"89.3700\",\"89.5700\",\"89.9600\",\"89.9700\"],\"low\":[\"89.5000\",\"89.3200\",\"89.4100\",\"89.4800\",\"89.3800\",\"89.2500\",\"89.2300\",\"89.1800\",\"89.2100\",\"89.1500\",\"89.1401\",\"89.0400\",\"89.0700\",\"89.0400\",\"89.0400\",\"88.9800\",\"88.8450\",\"88.7000\",\"88.5300\",\"88.5250\",\"88.6600\",\"88.7400\",\"88.8900\",\"88.7200\",\"88.7200\",\"88.6800\",\"88.5200\",\"88.4700\",\"88.4200\",\"88.2800\",\"88.4500\",\"88.3900\",\"88.0350\",\"87.9200\",\"87.8300\",\"88.2800\",\"88.5700\",\"88.5900\",\"88.0450\",\"88.1500\",\"87.4401\",\"87.7500\",\"87.8900\",\"87.7700\",\"88.0200\",\"87.8500\",\"87.8100\",\"87.1000\",\"87.7700\",\"87.9600\",\"88.1800\",\"88.1300\",\"88.1200\",\"88.2600\",\"88.2400\",\"88.0900\",\"87.9400\",\"87.9300\",\"88.0100\",\"88.0000\",\"87.9100\",\"88.2200\",\"87.9100\",\"87.9100\",\"88.6700\",\"88.6000\",\"88.6500\",\"88.6000\",\"88.6900\",\"88.6500\",\"88.4600\",\"88.3100\",\"88.4234\",\"88.3200\",\"88.2100\",\"88.2900\",\"88.2700\",\"88.3000\",\"88.3700\",\"88.3413\",\"88.2600\",\"88.2100\",\"88.5100\",\"88.5250\",\"88.5200\",\"88.5500\",\"88.5400\",\"88.6300\",\"88.9000\",\"88.9650\",\"89.1000\",\"88.9350\",\"88.9801\",\"88.9250\",\"88.9900\",\"89.1350\",\"89.1750\",\"89.0200\",\"89.4850\",\"89.6600\"],\"name\":\"Historical Data\",\"open\":[\"89.5000\",\"89.3700\",\"89.5100\",\"89.4800\",\"89.3800\",\"89.3700\",\"89.3200\",\"89.1800\",\"89.2100\",\"89.1600\",\"89.2000\",\"89.0500\",\"89.0700\",\"89.0515\",\"89.1200\",\"89.0200\",\"88.9800\",\"88.7700\",\"88.6700\",\"88.7900\",\"88.7800\",\"89.0000\",\"89.1200\",\"88.7750\",\"88.9200\",\"88.6900\",\"88.5200\",\"88.7900\",\"88.4600\",\"88.5571\",\"88.5400\",\"88.4400\",\"88.2000\",\"87.9500\",\"88.2900\",\"88.6300\",\"88.7300\",\"88.6000\",\"88.2500\",\"88.4300\",\"87.7600\",\"88.1100\",\"87.8900\",\"88.0200\",\"88.1500\",\"87.8500\",\"87.9800\",\"88.1900\",\"88.0000\",\"88.2000\",\"88.1800\",\"88.2400\",\"88.1200\",\"88.3600\",\"88.2400\",\"88.0900\",\"87.9400\",\"88.0600\",\"88.0100\",\"88.0800\",\"88.0700\",\"88.2500\",\"88.0500\",\"88.1500\",\"88.6700\",\"88.6000\",\"88.6500\",\"88.7500\",\"88.7200\",\"88.7300\",\"88.5000\",\"88.4300\",\"88.4234\",\"88.3200\",\"88.3000\",\"88.4199\",\"88.3300\",\"88.3056\",\"88.3835\",\"88.4600\",\"88.2700\",\"88.5200\",\"88.5600\",\"88.7400\",\"88.7100\",\"88.5500\",\"88.6950\",\"88.9100\",\"88.9900\",\"89.1200\",\"89.2581\",\"89.0500\",\"89.0100\",\"89.0100\",\"89.2950\",\"89.2300\",\"89.1800\",\"89.5700\",\"89.8800\",\"89.8900\"],\"x\":[\"2022-12-20 20:00:00\",\"2022-12-20 19:45:00\",\"2022-12-20 19:30:00\",\"2022-12-20 19:15:00\",\"2022-12-20 19:00:00\",\"2022-12-20 18:45:00\",\"2022-12-20 18:30:00\",\"2022-12-20 18:15:00\",\"2022-12-20 18:00:00\",\"2022-12-20 17:45:00\",\"2022-12-20 17:30:00\",\"2022-12-20 17:15:00\",\"2022-12-20 17:00:00\",\"2022-12-20 16:45:00\",\"2022-12-20 16:30:00\",\"2022-12-20 16:15:00\",\"2022-12-20 16:00:00\",\"2022-12-20 15:45:00\",\"2022-12-20 15:30:00\",\"2022-12-20 15:15:00\",\"2022-12-20 15:00:00\",\"2022-12-20 14:45:00\",\"2022-12-20 14:30:00\",\"2022-12-20 14:15:00\",\"2022-12-20 14:00:00\",\"2022-12-20 13:45:00\",\"2022-12-20 13:30:00\",\"2022-12-20 13:15:00\",\"2022-12-20 13:00:00\",\"2022-12-20 12:45:00\",\"2022-12-20 12:30:00\",\"2022-12-20 12:15:00\",\"2022-12-20 12:00:00\",\"2022-12-20 11:45:00\",\"2022-12-20 11:30:00\",\"2022-12-20 11:15:00\",\"2022-12-20 11:00:00\",\"2022-12-20 10:45:00\",\"2022-12-20 10:30:00\",\"2022-12-20 10:15:00\",\"2022-12-20 10:00:00\",\"2022-12-20 09:45:00\",\"2022-12-20 09:30:00\",\"2022-12-20 09:15:00\",\"2022-12-20 09:00:00\",\"2022-12-20 08:45:00\",\"2022-12-20 08:30:00\",\"2022-12-20 08:15:00\",\"2022-12-20 08:00:00\",\"2022-12-20 07:45:00\",\"2022-12-20 07:30:00\",\"2022-12-20 07:15:00\",\"2022-12-20 07:00:00\",\"2022-12-20 06:45:00\",\"2022-12-20 06:30:00\",\"2022-12-20 06:15:00\",\"2022-12-20 06:00:00\",\"2022-12-20 05:45:00\",\"2022-12-20 05:30:00\",\"2022-12-20 05:15:00\",\"2022-12-20 05:00:00\",\"2022-12-20 04:45:00\",\"2022-12-20 04:30:00\",\"2022-12-20 04:15:00\",\"2022-12-19 20:00:00\",\"2022-12-19 19:45:00\",\"2022-12-19 19:30:00\",\"2022-12-19 19:15:00\",\"2022-12-19 19:00:00\",\"2022-12-19 18:45:00\",\"2022-12-19 18:30:00\",\"2022-12-19 18:15:00\",\"2022-12-19 18:00:00\",\"2022-12-19 17:45:00\",\"2022-12-19 17:30:00\",\"2022-12-19 17:15:00\",\"2022-12-19 17:00:00\",\"2022-12-19 16:45:00\",\"2022-12-19 16:30:00\",\"2022-12-19 16:15:00\",\"2022-12-19 16:00:00\",\"2022-12-19 15:45:00\",\"2022-12-19 15:30:00\",\"2022-12-19 15:15:00\",\"2022-12-19 15:00:00\",\"2022-12-19 14:45:00\",\"2022-12-19 14:30:00\",\"2022-12-19 14:15:00\",\"2022-12-19 14:00:00\",\"2022-12-19 13:45:00\",\"2022-12-19 13:30:00\",\"2022-12-19 13:15:00\",\"2022-12-19 13:00:00\",\"2022-12-19 12:45:00\",\"2022-12-19 12:30:00\",\"2022-12-19 12:15:00\",\"2022-12-19 12:00:00\",\"2022-12-19 11:45:00\",\"2022-12-19 11:30:00\",\"2022-12-19 11:15:00\"],\"type\":\"candlestick\"},{\"line\":{\"color\":\"gray\"},\"name\":\"SMA\",\"x\":[\"2022-12-20 20:00:00\",\"2022-12-20 19:45:00\",\"2022-12-20 19:30:00\",\"2022-12-20 19:15:00\",\"2022-12-20 19:00:00\",\"2022-12-20 18:45:00\",\"2022-12-20 18:30:00\",\"2022-12-20 18:15:00\",\"2022-12-20 18:00:00\",\"2022-12-20 17:45:00\",\"2022-12-20 17:30:00\",\"2022-12-20 17:15:00\",\"2022-12-20 17:00:00\",\"2022-12-20 16:45:00\",\"2022-12-20 16:30:00\",\"2022-12-20 16:15:00\",\"2022-12-20 16:00:00\",\"2022-12-20 15:45:00\",\"2022-12-20 15:30:00\",\"2022-12-20 15:15:00\",\"2022-12-20 15:00:00\",\"2022-12-20 14:45:00\",\"2022-12-20 14:30:00\",\"2022-12-20 14:15:00\",\"2022-12-20 14:00:00\",\"2022-12-20 13:45:00\",\"2022-12-20 13:30:00\",\"2022-12-20 13:15:00\",\"2022-12-20 13:00:00\",\"2022-12-20 12:45:00\",\"2022-12-20 12:30:00\",\"2022-12-20 12:15:00\",\"2022-12-20 12:00:00\",\"2022-12-20 11:45:00\",\"2022-12-20 11:30:00\",\"2022-12-20 11:15:00\",\"2022-12-20 11:00:00\",\"2022-12-20 10:45:00\",\"2022-12-20 10:30:00\",\"2022-12-20 10:15:00\",\"2022-12-20 10:00:00\",\"2022-12-20 09:45:00\",\"2022-12-20 09:30:00\",\"2022-12-20 09:15:00\",\"2022-12-20 09:00:00\",\"2022-12-20 08:45:00\",\"2022-12-20 08:30:00\",\"2022-12-20 08:15:00\",\"2022-12-20 08:00:00\",\"2022-12-20 07:45:00\",\"2022-12-20 07:30:00\",\"2022-12-20 07:15:00\",\"2022-12-20 07:00:00\",\"2022-12-20 06:45:00\",\"2022-12-20 06:30:00\",\"2022-12-20 06:15:00\",\"2022-12-20 06:00:00\",\"2022-12-20 05:45:00\",\"2022-12-20 05:30:00\",\"2022-12-20 05:15:00\",\"2022-12-20 05:00:00\",\"2022-12-20 04:45:00\",\"2022-12-20 04:30:00\",\"2022-12-20 04:15:00\",\"2022-12-19 20:00:00\",\"2022-12-19 19:45:00\",\"2022-12-19 19:30:00\",\"2022-12-19 19:15:00\",\"2022-12-19 19:00:00\",\"2022-12-19 18:45:00\",\"2022-12-19 18:30:00\",\"2022-12-19 18:15:00\",\"2022-12-19 18:00:00\",\"2022-12-19 17:45:00\",\"2022-12-19 17:30:00\",\"2022-12-19 17:15:00\",\"2022-12-19 17:00:00\",\"2022-12-19 16:45:00\",\"2022-12-19 16:30:00\",\"2022-12-19 16:15:00\",\"2022-12-19 16:00:00\",\"2022-12-19 15:45:00\",\"2022-12-19 15:30:00\",\"2022-12-19 15:15:00\",\"2022-12-19 15:00:00\",\"2022-12-19 14:45:00\",\"2022-12-19 14:30:00\",\"2022-12-19 14:15:00\",\"2022-12-19 14:00:00\",\"2022-12-19 13:45:00\",\"2022-12-19 13:30:00\",\"2022-12-19 13:15:00\",\"2022-12-19 13:00:00\",\"2022-12-19 12:45:00\",\"2022-12-19 12:30:00\",\"2022-12-19 12:15:00\",\"2022-12-19 12:00:00\",\"2022-12-19 11:45:00\",\"2022-12-19 11:30:00\",\"2022-12-19 11:15:00\"],\"y\":[null,null,null,null,89.514,89.502,89.486,89.468,89.398,89.334,89.268,89.234,89.188,89.162,89.128,89.11,89.074,89.053,88.989,88.915,88.848,88.798,88.801,88.873,88.893,88.919,88.898,88.802,88.733,88.67,88.598,88.569,88.549,88.423,88.322,88.268,88.286,88.35,88.44,88.503,88.533,88.359,88.233,88.079,88.034,87.978,87.988,87.948,87.936,87.92,87.94,88.012,88.058,88.174,88.238,88.228,88.202,88.16,88.12,88.064,88.034,88.07,88.126,88.114,88.272,88.392,88.49,88.584,88.716,88.7,88.69,88.644,88.594,88.526,88.45,88.408,88.392,88.372,88.364,88.386,88.398,88.374,88.411,88.447,88.507,88.558,88.614,88.651,88.724,88.776,88.861,89.0,89.068,89.088,89.091,89.125,89.117,89.145,89.255,89.426],\"type\":\"scatter\"}],                        {\"template\":{\"data\":{\"histogram2dcontour\":[{\"type\":\"histogram2dcontour\",\"colorbar\":{\"outlinewidth\":0,\"ticks\":\"\"},\"colorscale\":[[0.0,\"#0d0887\"],[0.1111111111111111,\"#46039f\"],[0.2222222222222222,\"#7201a8\"],[0.3333333333333333,\"#9c179e\"],[0.4444444444444444,\"#bd3786\"],[0.5555555555555556,\"#d8576b\"],[0.6666666666666666,\"#ed7953\"],[0.7777777777777778,\"#fb9f3a\"],[0.8888888888888888,\"#fdca26\"],[1.0,\"#f0f921\"]]}],\"choropleth\":[{\"type\":\"choropleth\",\"colorbar\":{\"outlinewidth\":0,\"ticks\":\"\"}}],\"histogram2d\":[{\"type\":\"histogram2d\",\"colorbar\":{\"outlinewidth\":0,\"ticks\":\"\"},\"colorscale\":[[0.0,\"#0d0887\"],[0.1111111111111111,\"#46039f\"],[0.2222222222222222,\"#7201a8\"],[0.3333333333333333,\"#9c179e\"],[0.4444444444444444,\"#bd3786\"],[0.5555555555555556,\"#d8576b\"],[0.6666666666666666,\"#ed7953\"],[0.7777777777777778,\"#fb9f3a\"],[0.8888888888888888,\"#fdca26\"],[1.0,\"#f0f921\"]]}],\"heatmap\":[{\"type\":\"heatmap\",\"colorbar\":{\"outlinewidth\":0,\"ticks\":\"\"},\"colorscale\":[[0.0,\"#0d0887\"],[0.1111111111111111,\"#46039f\"],[0.2222222222222222,\"#7201a8\"],[0.3333333333333333,\"#9c179e\"],[0.4444444444444444,\"#bd3786\"],[0.5555555555555556,\"#d8576b\"],[0.6666666666666666,\"#ed7953\"],[0.7777777777777778,\"#fb9f3a\"],[0.8888888888888888,\"#fdca26\"],[1.0,\"#f0f921\"]]}],\"heatmapgl\":[{\"type\":\"heatmapgl\",\"colorbar\":{\"outlinewidth\":0,\"ticks\":\"\"},\"colorscale\":[[0.0,\"#0d0887\"],[0.1111111111111111,\"#46039f\"],[0.2222222222222222,\"#7201a8\"],[0.3333333333333333,\"#9c179e\"],[0.4444444444444444,\"#bd3786\"],[0.5555555555555556,\"#d8576b\"],[0.6666666666666666,\"#ed7953\"],[0.7777777777777778,\"#fb9f3a\"],[0.8888888888888888,\"#fdca26\"],[1.0,\"#f0f921\"]]}],\"contourcarpet\":[{\"type\":\"contourcarpet\",\"colorbar\":{\"outlinewidth\":0,\"ticks\":\"\"}}],\"contour\":[{\"type\":\"contour\",\"colorbar\":{\"outlinewidth\":0,\"ticks\":\"\"},\"colorscale\":[[0.0,\"#0d0887\"],[0.1111111111111111,\"#46039f\"],[0.2222222222222222,\"#7201a8\"],[0.3333333333333333,\"#9c179e\"],[0.4444444444444444,\"#bd3786\"],[0.5555555555555556,\"#d8576b\"],[0.6666666666666666,\"#ed7953\"],[0.7777777777777778,\"#fb9f3a\"],[0.8888888888888888,\"#fdca26\"],[1.0,\"#f0f921\"]]}],\"surface\":[{\"type\":\"surface\",\"colorbar\":{\"outlinewidth\":0,\"ticks\":\"\"},\"colorscale\":[[0.0,\"#0d0887\"],[0.1111111111111111,\"#46039f\"],[0.2222222222222222,\"#7201a8\"],[0.3333333333333333,\"#9c179e\"],[0.4444444444444444,\"#bd3786\"],[0.5555555555555556,\"#d8576b\"],[0.6666666666666666,\"#ed7953\"],[0.7777777777777778,\"#fb9f3a\"],[0.8888888888888888,\"#fdca26\"],[1.0,\"#f0f921\"]]}],\"mesh3d\":[{\"type\":\"mesh3d\",\"colorbar\":{\"outlinewidth\":0,\"ticks\":\"\"}}],\"scatter\":[{\"fillpattern\":{\"fillmode\":\"overlay\",\"size\":10,\"solidity\":0.2},\"type\":\"scatter\"}],\"parcoords\":[{\"type\":\"parcoords\",\"line\":{\"colorbar\":{\"outlinewidth\":0,\"ticks\":\"\"}}}],\"scatterpolargl\":[{\"type\":\"scatterpolargl\",\"marker\":{\"colorbar\":{\"outlinewidth\":0,\"ticks\":\"\"}}}],\"bar\":[{\"error_x\":{\"color\":\"#2a3f5f\"},\"error_y\":{\"color\":\"#2a3f5f\"},\"marker\":{\"line\":{\"color\":\"#E5ECF6\",\"width\":0.5},\"pattern\":{\"fillmode\":\"overlay\",\"size\":10,\"solidity\":0.2}},\"type\":\"bar\"}],\"scattergeo\":[{\"type\":\"scattergeo\",\"marker\":{\"colorbar\":{\"outlinewidth\":0,\"ticks\":\"\"}}}],\"scatterpolar\":[{\"type\":\"scatterpolar\",\"marker\":{\"colorbar\":{\"outlinewidth\":0,\"ticks\":\"\"}}}],\"histogram\":[{\"marker\":{\"pattern\":{\"fillmode\":\"overlay\",\"size\":10,\"solidity\":0.2}},\"type\":\"histogram\"}],\"scattergl\":[{\"type\":\"scattergl\",\"marker\":{\"colorbar\":{\"outlinewidth\":0,\"ticks\":\"\"}}}],\"scatter3d\":[{\"type\":\"scatter3d\",\"line\":{\"colorbar\":{\"outlinewidth\":0,\"ticks\":\"\"}},\"marker\":{\"colorbar\":{\"outlinewidth\":0,\"ticks\":\"\"}}}],\"scattermapbox\":[{\"type\":\"scattermapbox\",\"marker\":{\"colorbar\":{\"outlinewidth\":0,\"ticks\":\"\"}}}],\"scatterternary\":[{\"type\":\"scatterternary\",\"marker\":{\"colorbar\":{\"outlinewidth\":0,\"ticks\":\"\"}}}],\"scattercarpet\":[{\"type\":\"scattercarpet\",\"marker\":{\"colorbar\":{\"outlinewidth\":0,\"ticks\":\"\"}}}],\"carpet\":[{\"aaxis\":{\"endlinecolor\":\"#2a3f5f\",\"gridcolor\":\"white\",\"linecolor\":\"white\",\"minorgridcolor\":\"white\",\"startlinecolor\":\"#2a3f5f\"},\"baxis\":{\"endlinecolor\":\"#2a3f5f\",\"gridcolor\":\"white\",\"linecolor\":\"white\",\"minorgridcolor\":\"white\",\"startlinecolor\":\"#2a3f5f\"},\"type\":\"carpet\"}],\"table\":[{\"cells\":{\"fill\":{\"color\":\"#EBF0F8\"},\"line\":{\"color\":\"white\"}},\"header\":{\"fill\":{\"color\":\"#C8D4E3\"},\"line\":{\"color\":\"white\"}},\"type\":\"table\"}],\"barpolar\":[{\"marker\":{\"line\":{\"color\":\"#E5ECF6\",\"width\":0.5},\"pattern\":{\"fillmode\":\"overlay\",\"size\":10,\"solidity\":0.2}},\"type\":\"barpolar\"}],\"pie\":[{\"automargin\":true,\"type\":\"pie\"}]},\"layout\":{\"autotypenumbers\":\"strict\",\"colorway\":[\"#636efa\",\"#EF553B\",\"#00cc96\",\"#ab63fa\",\"#FFA15A\",\"#19d3f3\",\"#FF6692\",\"#B6E880\",\"#FF97FF\",\"#FECB52\"],\"font\":{\"color\":\"#2a3f5f\"},\"hovermode\":\"closest\",\"hoverlabel\":{\"align\":\"left\"},\"paper_bgcolor\":\"white\",\"plot_bgcolor\":\"#E5ECF6\",\"polar\":{\"bgcolor\":\"#E5ECF6\",\"angularaxis\":{\"gridcolor\":\"white\",\"linecolor\":\"white\",\"ticks\":\"\"},\"radialaxis\":{\"gridcolor\":\"white\",\"linecolor\":\"white\",\"ticks\":\"\"}},\"ternary\":{\"bgcolor\":\"#E5ECF6\",\"aaxis\":{\"gridcolor\":\"white\",\"linecolor\":\"white\",\"ticks\":\"\"},\"baxis\":{\"gridcolor\":\"white\",\"linecolor\":\"white\",\"ticks\":\"\"},\"caxis\":{\"gridcolor\":\"white\",\"linecolor\":\"white\",\"ticks\":\"\"}},\"coloraxis\":{\"colorbar\":{\"outlinewidth\":0,\"ticks\":\"\"}},\"colorscale\":{\"sequential\":[[0.0,\"#0d0887\"],[0.1111111111111111,\"#46039f\"],[0.2222222222222222,\"#7201a8\"],[0.3333333333333333,\"#9c179e\"],[0.4444444444444444,\"#bd3786\"],[0.5555555555555556,\"#d8576b\"],[0.6666666666666666,\"#ed7953\"],[0.7777777777777778,\"#fb9f3a\"],[0.8888888888888888,\"#fdca26\"],[1.0,\"#f0f921\"]],\"sequentialminus\":[[0.0,\"#0d0887\"],[0.1111111111111111,\"#46039f\"],[0.2222222222222222,\"#7201a8\"],[0.3333333333333333,\"#9c179e\"],[0.4444444444444444,\"#bd3786\"],[0.5555555555555556,\"#d8576b\"],[0.6666666666666666,\"#ed7953\"],[0.7777777777777778,\"#fb9f3a\"],[0.8888888888888888,\"#fdca26\"],[1.0,\"#f0f921\"]],\"diverging\":[[0,\"#8e0152\"],[0.1,\"#c51b7d\"],[0.2,\"#de77ae\"],[0.3,\"#f1b6da\"],[0.4,\"#fde0ef\"],[0.5,\"#f7f7f7\"],[0.6,\"#e6f5d0\"],[0.7,\"#b8e186\"],[0.8,\"#7fbc41\"],[0.9,\"#4d9221\"],[1,\"#276419\"]]},\"xaxis\":{\"gridcolor\":\"white\",\"linecolor\":\"white\",\"ticks\":\"\",\"title\":{\"standoff\":15},\"zerolinecolor\":\"white\",\"automargin\":true,\"zerolinewidth\":2},\"yaxis\":{\"gridcolor\":\"white\",\"linecolor\":\"white\",\"ticks\":\"\",\"title\":{\"standoff\":15},\"zerolinecolor\":\"white\",\"automargin\":true,\"zerolinewidth\":2},\"scene\":{\"xaxis\":{\"backgroundcolor\":\"#E5ECF6\",\"gridcolor\":\"white\",\"linecolor\":\"white\",\"showbackground\":true,\"ticks\":\"\",\"zerolinecolor\":\"white\",\"gridwidth\":2},\"yaxis\":{\"backgroundcolor\":\"#E5ECF6\",\"gridcolor\":\"white\",\"linecolor\":\"white\",\"showbackground\":true,\"ticks\":\"\",\"zerolinecolor\":\"white\",\"gridwidth\":2},\"zaxis\":{\"backgroundcolor\":\"#E5ECF6\",\"gridcolor\":\"white\",\"linecolor\":\"white\",\"showbackground\":true,\"ticks\":\"\",\"zerolinecolor\":\"white\",\"gridwidth\":2}},\"shapedefaults\":{\"line\":{\"color\":\"#2a3f5f\"}},\"annotationdefaults\":{\"arrowcolor\":\"#2a3f5f\",\"arrowhead\":0,\"arrowwidth\":1},\"geo\":{\"bgcolor\":\"white\",\"landcolor\":\"#E5ECF6\",\"subunitcolor\":\"white\",\"showland\":true,\"showlakes\":true,\"lakecolor\":\"white\"},\"title\":{\"x\":0.05},\"mapbox\":{\"style\":\"light\"}}},\"xaxis\":{\"rangeslider\":{\"visible\":false}}},                        {\"responsive\": true}                    ).then(function(){\n",
       "                            \n",
       "var gd = document.getElementById('ecff899e-fa03-430b-992e-8e8e2154bfab');\n",
       "var x = new MutationObserver(function (mutations, observer) {{\n",
       "        var display = window.getComputedStyle(gd).display;\n",
       "        if (!display || display === 'none') {{\n",
       "            console.log([gd, 'removed!']);\n",
       "            Plotly.purge(gd);\n",
       "            observer.disconnect();\n",
       "        }}\n",
       "}});\n",
       "\n",
       "// Listen for the removal of the full notebook cells\n",
       "var notebookContainer = gd.closest('#notebook-container');\n",
       "if (notebookContainer) {{\n",
       "    x.observe(notebookContainer, {childList: true});\n",
       "}}\n",
       "\n",
       "// Listen for the clearing of the current output cell\n",
       "var outputEl = gd.closest('.output');\n",
       "if (outputEl) {{\n",
       "    x.observe(outputEl, {childList: true});\n",
       "}}\n",
       "\n",
       "                        })                };                });            </script>        </div>"
      ]
     },
     "metadata": {},
     "output_type": "display_data"
    }
   ],
   "source": [
    "show_graph('GOOGL')"
   ]
  },
  {
   "cell_type": "code",
   "execution_count": 540,
   "id": "df3cf15d",
   "metadata": {},
   "outputs": [
    {
     "data": {
      "application/vnd.plotly.v1+json": {
       "config": {
        "plotlyServerURL": "https://plot.ly"
       },
       "data": [
        {
         "close": [
          "133.0000",
          "132.8600",
          "132.9500",
          "132.9300",
          "133.0000",
          "133.0600",
          "133.1700",
          "132.8400",
          "132.7900",
          "132.7500",
          "132.7500",
          "132.6000",
          "132.5400",
          "132.5100",
          "132.4701",
          "132.3500",
          "132.2900",
          "132.2742",
          "132.1000",
          "131.8100",
          "131.8300",
          "131.7298",
          "131.9300",
          "131.9999",
          "131.9100",
          "132.3400",
          "132.2900",
          "131.9680",
          "132.5150",
          "132.3759",
          "132.3800",
          "132.2100",
          "132.0942",
          "131.3500",
          "131.0118",
          "131.8300",
          "132.2800",
          "132.6500",
          "132.8500",
          "131.7600",
          "131.3200",
          "130.4800",
          "131.3900",
          "131.6400",
          "131.8400",
          "132.0400",
          "131.6525",
          "131.8200",
          "131.6600",
          "131.9600",
          "132.1400",
          "132.2000",
          "132.2800",
          "132.4100",
          "132.3400",
          "132.2500",
          "132.0900",
          "132.0200",
          "132.1700",
          "131.9800",
          "131.9200",
          "132.1700",
          "132.0800",
          "132.0100",
          "132.5500",
          "132.4399",
          "132.3900",
          "132.4300",
          "132.4300",
          "132.3600",
          "132.3300",
          "132.3000",
          "132.1000",
          "132.0600",
          "132.0504",
          "132.0500",
          "132.2700",
          "132.2300",
          "132.3100",
          "132.3700",
          "132.3500",
          "131.5699",
          "131.4600",
          "131.6650",
          "132.1800",
          "132.3200",
          "132.0300",
          "132.3400",
          "132.3394",
          "132.4350",
          "132.6453",
          "132.7650",
          "132.8520",
          "133.0074",
          "132.6488",
          "132.8400",
          "132.3550",
          "132.1600",
          "132.0250",
          "131.7450"
         ],
         "high": [
          "133.0600",
          "132.9700",
          "132.9900",
          "133.0200",
          "133.1000",
          "133.2500",
          "133.2300",
          "132.9400",
          "132.7900",
          "132.7500",
          "132.7800",
          "132.6400",
          "132.5400",
          "132.5700",
          "132.5100",
          "132.4100",
          "132.4400",
          "132.3700",
          "132.1500",
          "131.8900",
          "131.9900",
          "132.0500",
          "132.1300",
          "132.1300",
          "132.3663",
          "132.7600",
          "132.4600",
          "132.6800",
          "132.6257",
          "132.6400",
          "132.7200",
          "132.6400",
          "132.1400",
          "131.4300",
          "131.8900",
          "132.4800",
          "132.8999",
          "133.2500",
          "133.0200",
          "131.8800",
          "131.4600",
          "131.6300",
          "131.6700",
          "131.8600",
          "132.1000",
          "132.1512",
          "131.8700",
          "132.7000",
          "131.9400",
          "132.1400",
          "132.2500",
          "132.4000",
          "132.3900",
          "132.4300",
          "132.4500",
          "132.2900",
          "132.1400",
          "132.1800",
          "132.1900",
          "132.1000",
          "132.2000",
          "132.3000",
          "132.0800",
          "132.4800",
          "132.5900",
          "132.4400",
          "132.4400",
          "132.4700",
          "132.5500",
          "132.4800",
          "132.3700",
          "132.3100",
          "132.1600",
          "132.1546",
          "132.3700",
          "132.2700",
          "132.3000",
          "132.3700",
          "132.3700",
          "132.5200",
          "132.6000",
          "131.7600",
          "131.8900",
          "132.2000",
          "132.6900",
          "132.3857",
          "132.4000",
          "132.4850",
          "132.5006",
          "132.6900",
          "132.8800",
          "132.9200",
          "133.2500",
          "133.1100",
          "133.0000",
          "132.9800",
          "132.6100",
          "132.2300",
          "132.1400",
          "131.9100"
         ],
         "low": [
          "132.8400",
          "132.8600",
          "132.8601",
          "132.9200",
          "132.9000",
          "133.0100",
          "132.8001",
          "132.7700",
          "132.7300",
          "132.7255",
          "132.6100",
          "132.3000",
          "132.4623",
          "132.3000",
          "132.2855",
          "132.2400",
          "132.1000",
          "131.9700",
          "131.5200",
          "131.5600",
          "131.6300",
          "131.6600",
          "131.7600",
          "131.8000",
          "131.9000",
          "132.2200",
          "131.7700",
          "131.8550",
          "132.3200",
          "132.1500",
          "132.1100",
          "132.0101",
          "131.1900",
          "131.0000",
          "130.8450",
          "131.6600",
          "132.2315",
          "132.5800",
          "131.7500",
          "131.1900",
          "129.9100",
          "129.8900",
          "131.2500",
          "131.5100",
          "131.8400",
          "131.5700",
          "131.6300",
          "130.6000",
          "131.6500",
          "131.8500",
          "132.1200",
          "132.1600",
          "132.2000",
          "132.2900",
          "132.3300",
          "132.1200",
          "132.0800",
          "131.9500",
          "132.0400",
          "131.9800",
          "131.7900",
          "132.0100",
          "131.7500",
          "131.9100",
          "132.3900",
          "132.3698",
          "132.3500",
          "132.3900",
          "132.3699",
          "132.2100",
          "132.2800",
          "132.1400",
          "132.0600",
          "132.0100",
          "132.0300",
          "131.9800",
          "132.2000",
          "132.2200",
          "132.2100",
          "132.2100",
          "131.5550",
          "131.3200",
          "131.4501",
          "131.6600",
          "132.0550",
          "132.0315",
          "132.0300",
          "132.0100",
          "132.2700",
          "132.3800",
          "132.5607",
          "132.5100",
          "132.7800",
          "132.6000",
          "132.5300",
          "132.3400",
          "132.1600",
          "131.7400",
          "131.7331",
          "131.4549"
         ],
         "name": "Historical Data",
         "open": [
          "132.8800",
          "132.9400",
          "132.9900",
          "133.0200",
          "133.0500",
          "133.1700",
          "132.8001",
          "132.8000",
          "132.7500",
          "132.7400",
          "132.6300",
          "132.5500",
          "132.5400",
          "132.4700",
          "132.3500",
          "132.3000",
          "132.2700",
          "132.1013",
          "131.8199",
          "131.8350",
          "131.7300",
          "131.9300",
          "131.9950",
          "131.9100",
          "132.3350",
          "132.2850",
          "131.9700",
          "132.5200",
          "132.3800",
          "132.3900",
          "132.2250",
          "132.1000",
          "131.3500",
          "131.0200",
          "131.8300",
          "132.2600",
          "132.6584",
          "132.8580",
          "131.7700",
          "131.3350",
          "130.4900",
          "131.3900",
          "131.6500",
          "131.8400",
          "132.1000",
          "131.6899",
          "131.8000",
          "132.3500",
          "131.9200",
          "132.1400",
          "132.1500",
          "132.2800",
          "132.3900",
          "132.4000",
          "132.3500",
          "132.1400",
          "132.1000",
          "132.1800",
          "132.0400",
          "132.0200",
          "132.2000",
          "132.1200",
          "132.0300",
          "132.2400",
          "132.4000",
          "132.3698",
          "132.4300",
          "132.4700",
          "132.3700",
          "132.3700",
          "132.2800",
          "132.2000",
          "132.0600",
          "132.0400",
          "132.0600",
          "132.2700",
          "132.2400",
          "132.3300",
          "132.3100",
          "132.3800",
          "131.5700",
          "131.4575",
          "131.6600",
          "132.1800",
          "132.3200",
          "132.0350",
          "132.3350",
          "132.3300",
          "132.4350",
          "132.6400",
          "132.7699",
          "132.8550",
          "133.0100",
          "132.6489",
          "132.8400",
          "132.3550",
          "132.1650",
          "132.0200",
          "131.7331",
          "131.8800"
         ],
         "type": "candlestick",
         "x": [
          "2022-12-20 20:00:00",
          "2022-12-20 19:45:00",
          "2022-12-20 19:30:00",
          "2022-12-20 19:15:00",
          "2022-12-20 19:00:00",
          "2022-12-20 18:45:00",
          "2022-12-20 18:30:00",
          "2022-12-20 18:15:00",
          "2022-12-20 18:00:00",
          "2022-12-20 17:45:00",
          "2022-12-20 17:30:00",
          "2022-12-20 17:15:00",
          "2022-12-20 17:00:00",
          "2022-12-20 16:45:00",
          "2022-12-20 16:30:00",
          "2022-12-20 16:15:00",
          "2022-12-20 16:00:00",
          "2022-12-20 15:45:00",
          "2022-12-20 15:30:00",
          "2022-12-20 15:15:00",
          "2022-12-20 15:00:00",
          "2022-12-20 14:45:00",
          "2022-12-20 14:30:00",
          "2022-12-20 14:15:00",
          "2022-12-20 14:00:00",
          "2022-12-20 13:45:00",
          "2022-12-20 13:30:00",
          "2022-12-20 13:15:00",
          "2022-12-20 13:00:00",
          "2022-12-20 12:45:00",
          "2022-12-20 12:30:00",
          "2022-12-20 12:15:00",
          "2022-12-20 12:00:00",
          "2022-12-20 11:45:00",
          "2022-12-20 11:30:00",
          "2022-12-20 11:15:00",
          "2022-12-20 11:00:00",
          "2022-12-20 10:45:00",
          "2022-12-20 10:30:00",
          "2022-12-20 10:15:00",
          "2022-12-20 10:00:00",
          "2022-12-20 09:45:00",
          "2022-12-20 09:30:00",
          "2022-12-20 09:15:00",
          "2022-12-20 09:00:00",
          "2022-12-20 08:45:00",
          "2022-12-20 08:30:00",
          "2022-12-20 08:15:00",
          "2022-12-20 08:00:00",
          "2022-12-20 07:45:00",
          "2022-12-20 07:30:00",
          "2022-12-20 07:15:00",
          "2022-12-20 07:00:00",
          "2022-12-20 06:45:00",
          "2022-12-20 06:30:00",
          "2022-12-20 06:15:00",
          "2022-12-20 06:00:00",
          "2022-12-20 05:45:00",
          "2022-12-20 05:30:00",
          "2022-12-20 05:15:00",
          "2022-12-20 05:00:00",
          "2022-12-20 04:45:00",
          "2022-12-20 04:30:00",
          "2022-12-20 04:15:00",
          "2022-12-19 20:00:00",
          "2022-12-19 19:45:00",
          "2022-12-19 19:30:00",
          "2022-12-19 19:15:00",
          "2022-12-19 19:00:00",
          "2022-12-19 18:45:00",
          "2022-12-19 18:30:00",
          "2022-12-19 18:15:00",
          "2022-12-19 18:00:00",
          "2022-12-19 17:45:00",
          "2022-12-19 17:30:00",
          "2022-12-19 17:15:00",
          "2022-12-19 17:00:00",
          "2022-12-19 16:45:00",
          "2022-12-19 16:30:00",
          "2022-12-19 16:15:00",
          "2022-12-19 16:00:00",
          "2022-12-19 15:45:00",
          "2022-12-19 15:30:00",
          "2022-12-19 15:15:00",
          "2022-12-19 15:00:00",
          "2022-12-19 14:45:00",
          "2022-12-19 14:30:00",
          "2022-12-19 14:15:00",
          "2022-12-19 14:00:00",
          "2022-12-19 13:45:00",
          "2022-12-19 13:30:00",
          "2022-12-19 13:15:00",
          "2022-12-19 13:00:00",
          "2022-12-19 12:45:00",
          "2022-12-19 12:30:00",
          "2022-12-19 12:15:00",
          "2022-12-19 12:00:00",
          "2022-12-19 11:45:00",
          "2022-12-19 11:30:00",
          "2022-12-19 11:15:00"
         ]
        },
        {
         "line": {
          "color": "gray"
         },
         "name": "SMA",
         "type": "scatter",
         "x": [
          "2022-12-20 20:00:00",
          "2022-12-20 19:45:00",
          "2022-12-20 19:30:00",
          "2022-12-20 19:15:00",
          "2022-12-20 19:00:00",
          "2022-12-20 18:45:00",
          "2022-12-20 18:30:00",
          "2022-12-20 18:15:00",
          "2022-12-20 18:00:00",
          "2022-12-20 17:45:00",
          "2022-12-20 17:30:00",
          "2022-12-20 17:15:00",
          "2022-12-20 17:00:00",
          "2022-12-20 16:45:00",
          "2022-12-20 16:30:00",
          "2022-12-20 16:15:00",
          "2022-12-20 16:00:00",
          "2022-12-20 15:45:00",
          "2022-12-20 15:30:00",
          "2022-12-20 15:15:00",
          "2022-12-20 15:00:00",
          "2022-12-20 14:45:00",
          "2022-12-20 14:30:00",
          "2022-12-20 14:15:00",
          "2022-12-20 14:00:00",
          "2022-12-20 13:45:00",
          "2022-12-20 13:30:00",
          "2022-12-20 13:15:00",
          "2022-12-20 13:00:00",
          "2022-12-20 12:45:00",
          "2022-12-20 12:30:00",
          "2022-12-20 12:15:00",
          "2022-12-20 12:00:00",
          "2022-12-20 11:45:00",
          "2022-12-20 11:30:00",
          "2022-12-20 11:15:00",
          "2022-12-20 11:00:00",
          "2022-12-20 10:45:00",
          "2022-12-20 10:30:00",
          "2022-12-20 10:15:00",
          "2022-12-20 10:00:00",
          "2022-12-20 09:45:00",
          "2022-12-20 09:30:00",
          "2022-12-20 09:15:00",
          "2022-12-20 09:00:00",
          "2022-12-20 08:45:00",
          "2022-12-20 08:30:00",
          "2022-12-20 08:15:00",
          "2022-12-20 08:00:00",
          "2022-12-20 07:45:00",
          "2022-12-20 07:30:00",
          "2022-12-20 07:15:00",
          "2022-12-20 07:00:00",
          "2022-12-20 06:45:00",
          "2022-12-20 06:30:00",
          "2022-12-20 06:15:00",
          "2022-12-20 06:00:00",
          "2022-12-20 05:45:00",
          "2022-12-20 05:30:00",
          "2022-12-20 05:15:00",
          "2022-12-20 05:00:00",
          "2022-12-20 04:45:00",
          "2022-12-20 04:30:00",
          "2022-12-20 04:15:00",
          "2022-12-19 20:00:00",
          "2022-12-19 19:45:00",
          "2022-12-19 19:30:00",
          "2022-12-19 19:15:00",
          "2022-12-19 19:00:00",
          "2022-12-19 18:45:00",
          "2022-12-19 18:30:00",
          "2022-12-19 18:15:00",
          "2022-12-19 18:00:00",
          "2022-12-19 17:45:00",
          "2022-12-19 17:30:00",
          "2022-12-19 17:15:00",
          "2022-12-19 17:00:00",
          "2022-12-19 16:45:00",
          "2022-12-19 16:30:00",
          "2022-12-19 16:15:00",
          "2022-12-19 16:00:00",
          "2022-12-19 15:45:00",
          "2022-12-19 15:30:00",
          "2022-12-19 15:15:00",
          "2022-12-19 15:00:00",
          "2022-12-19 14:45:00",
          "2022-12-19 14:30:00",
          "2022-12-19 14:15:00",
          "2022-12-19 14:00:00",
          "2022-12-19 13:45:00",
          "2022-12-19 13:30:00",
          "2022-12-19 13:15:00",
          "2022-12-19 13:00:00",
          "2022-12-19 12:45:00",
          "2022-12-19 12:30:00",
          "2022-12-19 12:15:00",
          "2022-12-19 12:00:00",
          "2022-12-19 11:45:00",
          "2022-12-19 11:30:00",
          "2022-12-19 11:15:00"
         ],
         "y": [
          null,
          null,
          null,
          null,
          132.948,
          132.96,
          133.022,
          133,
          132.972,
          132.922,
          132.86,
          132.746,
          132.686,
          132.63,
          132.574,
          132.494,
          132.432,
          132.379,
          132.297,
          132.165,
          132.061,
          131.949,
          131.88,
          131.86,
          131.88,
          131.982,
          132.094,
          132.102,
          132.205,
          132.298,
          132.306,
          132.29,
          132.315,
          132.082,
          131.809,
          131.699,
          131.713,
          131.824,
          132.124,
          132.274,
          132.172,
          131.812,
          131.56,
          131.318,
          131.334,
          131.478,
          131.712,
          131.799,
          131.802,
          131.826,
          131.846,
          131.956,
          132.048,
          132.198,
          132.274,
          132.296,
          132.274,
          132.222,
          132.174,
          132.102,
          132.036,
          132.052,
          132.064,
          132.032,
          132.146,
          132.25,
          132.294,
          132.364,
          132.448,
          132.41,
          132.388,
          132.37,
          132.304,
          132.23,
          132.168,
          132.112,
          132.106,
          132.132,
          132.182,
          132.246,
          132.306,
          132.166,
          132.012,
          131.883,
          131.845,
          131.839,
          131.931,
          132.107,
          132.242,
          132.293,
          132.358,
          132.505,
          132.607,
          132.741,
          132.784,
          132.823,
          132.741,
          132.602,
          132.406,
          132.225
         ]
        }
       ],
       "layout": {
        "template": {
         "data": {
          "bar": [
           {
            "error_x": {
             "color": "#2a3f5f"
            },
            "error_y": {
             "color": "#2a3f5f"
            },
            "marker": {
             "line": {
              "color": "#E5ECF6",
              "width": 0.5
             },
             "pattern": {
              "fillmode": "overlay",
              "size": 10,
              "solidity": 0.2
             }
            },
            "type": "bar"
           }
          ],
          "barpolar": [
           {
            "marker": {
             "line": {
              "color": "#E5ECF6",
              "width": 0.5
             },
             "pattern": {
              "fillmode": "overlay",
              "size": 10,
              "solidity": 0.2
             }
            },
            "type": "barpolar"
           }
          ],
          "carpet": [
           {
            "aaxis": {
             "endlinecolor": "#2a3f5f",
             "gridcolor": "white",
             "linecolor": "white",
             "minorgridcolor": "white",
             "startlinecolor": "#2a3f5f"
            },
            "baxis": {
             "endlinecolor": "#2a3f5f",
             "gridcolor": "white",
             "linecolor": "white",
             "minorgridcolor": "white",
             "startlinecolor": "#2a3f5f"
            },
            "type": "carpet"
           }
          ],
          "choropleth": [
           {
            "colorbar": {
             "outlinewidth": 0,
             "ticks": ""
            },
            "type": "choropleth"
           }
          ],
          "contour": [
           {
            "colorbar": {
             "outlinewidth": 0,
             "ticks": ""
            },
            "colorscale": [
             [
              0,
              "#0d0887"
             ],
             [
              0.1111111111111111,
              "#46039f"
             ],
             [
              0.2222222222222222,
              "#7201a8"
             ],
             [
              0.3333333333333333,
              "#9c179e"
             ],
             [
              0.4444444444444444,
              "#bd3786"
             ],
             [
              0.5555555555555556,
              "#d8576b"
             ],
             [
              0.6666666666666666,
              "#ed7953"
             ],
             [
              0.7777777777777778,
              "#fb9f3a"
             ],
             [
              0.8888888888888888,
              "#fdca26"
             ],
             [
              1,
              "#f0f921"
             ]
            ],
            "type": "contour"
           }
          ],
          "contourcarpet": [
           {
            "colorbar": {
             "outlinewidth": 0,
             "ticks": ""
            },
            "type": "contourcarpet"
           }
          ],
          "heatmap": [
           {
            "colorbar": {
             "outlinewidth": 0,
             "ticks": ""
            },
            "colorscale": [
             [
              0,
              "#0d0887"
             ],
             [
              0.1111111111111111,
              "#46039f"
             ],
             [
              0.2222222222222222,
              "#7201a8"
             ],
             [
              0.3333333333333333,
              "#9c179e"
             ],
             [
              0.4444444444444444,
              "#bd3786"
             ],
             [
              0.5555555555555556,
              "#d8576b"
             ],
             [
              0.6666666666666666,
              "#ed7953"
             ],
             [
              0.7777777777777778,
              "#fb9f3a"
             ],
             [
              0.8888888888888888,
              "#fdca26"
             ],
             [
              1,
              "#f0f921"
             ]
            ],
            "type": "heatmap"
           }
          ],
          "heatmapgl": [
           {
            "colorbar": {
             "outlinewidth": 0,
             "ticks": ""
            },
            "colorscale": [
             [
              0,
              "#0d0887"
             ],
             [
              0.1111111111111111,
              "#46039f"
             ],
             [
              0.2222222222222222,
              "#7201a8"
             ],
             [
              0.3333333333333333,
              "#9c179e"
             ],
             [
              0.4444444444444444,
              "#bd3786"
             ],
             [
              0.5555555555555556,
              "#d8576b"
             ],
             [
              0.6666666666666666,
              "#ed7953"
             ],
             [
              0.7777777777777778,
              "#fb9f3a"
             ],
             [
              0.8888888888888888,
              "#fdca26"
             ],
             [
              1,
              "#f0f921"
             ]
            ],
            "type": "heatmapgl"
           }
          ],
          "histogram": [
           {
            "marker": {
             "pattern": {
              "fillmode": "overlay",
              "size": 10,
              "solidity": 0.2
             }
            },
            "type": "histogram"
           }
          ],
          "histogram2d": [
           {
            "colorbar": {
             "outlinewidth": 0,
             "ticks": ""
            },
            "colorscale": [
             [
              0,
              "#0d0887"
             ],
             [
              0.1111111111111111,
              "#46039f"
             ],
             [
              0.2222222222222222,
              "#7201a8"
             ],
             [
              0.3333333333333333,
              "#9c179e"
             ],
             [
              0.4444444444444444,
              "#bd3786"
             ],
             [
              0.5555555555555556,
              "#d8576b"
             ],
             [
              0.6666666666666666,
              "#ed7953"
             ],
             [
              0.7777777777777778,
              "#fb9f3a"
             ],
             [
              0.8888888888888888,
              "#fdca26"
             ],
             [
              1,
              "#f0f921"
             ]
            ],
            "type": "histogram2d"
           }
          ],
          "histogram2dcontour": [
           {
            "colorbar": {
             "outlinewidth": 0,
             "ticks": ""
            },
            "colorscale": [
             [
              0,
              "#0d0887"
             ],
             [
              0.1111111111111111,
              "#46039f"
             ],
             [
              0.2222222222222222,
              "#7201a8"
             ],
             [
              0.3333333333333333,
              "#9c179e"
             ],
             [
              0.4444444444444444,
              "#bd3786"
             ],
             [
              0.5555555555555556,
              "#d8576b"
             ],
             [
              0.6666666666666666,
              "#ed7953"
             ],
             [
              0.7777777777777778,
              "#fb9f3a"
             ],
             [
              0.8888888888888888,
              "#fdca26"
             ],
             [
              1,
              "#f0f921"
             ]
            ],
            "type": "histogram2dcontour"
           }
          ],
          "mesh3d": [
           {
            "colorbar": {
             "outlinewidth": 0,
             "ticks": ""
            },
            "type": "mesh3d"
           }
          ],
          "parcoords": [
           {
            "line": {
             "colorbar": {
              "outlinewidth": 0,
              "ticks": ""
             }
            },
            "type": "parcoords"
           }
          ],
          "pie": [
           {
            "automargin": true,
            "type": "pie"
           }
          ],
          "scatter": [
           {
            "fillpattern": {
             "fillmode": "overlay",
             "size": 10,
             "solidity": 0.2
            },
            "type": "scatter"
           }
          ],
          "scatter3d": [
           {
            "line": {
             "colorbar": {
              "outlinewidth": 0,
              "ticks": ""
             }
            },
            "marker": {
             "colorbar": {
              "outlinewidth": 0,
              "ticks": ""
             }
            },
            "type": "scatter3d"
           }
          ],
          "scattercarpet": [
           {
            "marker": {
             "colorbar": {
              "outlinewidth": 0,
              "ticks": ""
             }
            },
            "type": "scattercarpet"
           }
          ],
          "scattergeo": [
           {
            "marker": {
             "colorbar": {
              "outlinewidth": 0,
              "ticks": ""
             }
            },
            "type": "scattergeo"
           }
          ],
          "scattergl": [
           {
            "marker": {
             "colorbar": {
              "outlinewidth": 0,
              "ticks": ""
             }
            },
            "type": "scattergl"
           }
          ],
          "scattermapbox": [
           {
            "marker": {
             "colorbar": {
              "outlinewidth": 0,
              "ticks": ""
             }
            },
            "type": "scattermapbox"
           }
          ],
          "scatterpolar": [
           {
            "marker": {
             "colorbar": {
              "outlinewidth": 0,
              "ticks": ""
             }
            },
            "type": "scatterpolar"
           }
          ],
          "scatterpolargl": [
           {
            "marker": {
             "colorbar": {
              "outlinewidth": 0,
              "ticks": ""
             }
            },
            "type": "scatterpolargl"
           }
          ],
          "scatterternary": [
           {
            "marker": {
             "colorbar": {
              "outlinewidth": 0,
              "ticks": ""
             }
            },
            "type": "scatterternary"
           }
          ],
          "surface": [
           {
            "colorbar": {
             "outlinewidth": 0,
             "ticks": ""
            },
            "colorscale": [
             [
              0,
              "#0d0887"
             ],
             [
              0.1111111111111111,
              "#46039f"
             ],
             [
              0.2222222222222222,
              "#7201a8"
             ],
             [
              0.3333333333333333,
              "#9c179e"
             ],
             [
              0.4444444444444444,
              "#bd3786"
             ],
             [
              0.5555555555555556,
              "#d8576b"
             ],
             [
              0.6666666666666666,
              "#ed7953"
             ],
             [
              0.7777777777777778,
              "#fb9f3a"
             ],
             [
              0.8888888888888888,
              "#fdca26"
             ],
             [
              1,
              "#f0f921"
             ]
            ],
            "type": "surface"
           }
          ],
          "table": [
           {
            "cells": {
             "fill": {
              "color": "#EBF0F8"
             },
             "line": {
              "color": "white"
             }
            },
            "header": {
             "fill": {
              "color": "#C8D4E3"
             },
             "line": {
              "color": "white"
             }
            },
            "type": "table"
           }
          ]
         },
         "layout": {
          "annotationdefaults": {
           "arrowcolor": "#2a3f5f",
           "arrowhead": 0,
           "arrowwidth": 1
          },
          "autotypenumbers": "strict",
          "coloraxis": {
           "colorbar": {
            "outlinewidth": 0,
            "ticks": ""
           }
          },
          "colorscale": {
           "diverging": [
            [
             0,
             "#8e0152"
            ],
            [
             0.1,
             "#c51b7d"
            ],
            [
             0.2,
             "#de77ae"
            ],
            [
             0.3,
             "#f1b6da"
            ],
            [
             0.4,
             "#fde0ef"
            ],
            [
             0.5,
             "#f7f7f7"
            ],
            [
             0.6,
             "#e6f5d0"
            ],
            [
             0.7,
             "#b8e186"
            ],
            [
             0.8,
             "#7fbc41"
            ],
            [
             0.9,
             "#4d9221"
            ],
            [
             1,
             "#276419"
            ]
           ],
           "sequential": [
            [
             0,
             "#0d0887"
            ],
            [
             0.1111111111111111,
             "#46039f"
            ],
            [
             0.2222222222222222,
             "#7201a8"
            ],
            [
             0.3333333333333333,
             "#9c179e"
            ],
            [
             0.4444444444444444,
             "#bd3786"
            ],
            [
             0.5555555555555556,
             "#d8576b"
            ],
            [
             0.6666666666666666,
             "#ed7953"
            ],
            [
             0.7777777777777778,
             "#fb9f3a"
            ],
            [
             0.8888888888888888,
             "#fdca26"
            ],
            [
             1,
             "#f0f921"
            ]
           ],
           "sequentialminus": [
            [
             0,
             "#0d0887"
            ],
            [
             0.1111111111111111,
             "#46039f"
            ],
            [
             0.2222222222222222,
             "#7201a8"
            ],
            [
             0.3333333333333333,
             "#9c179e"
            ],
            [
             0.4444444444444444,
             "#bd3786"
            ],
            [
             0.5555555555555556,
             "#d8576b"
            ],
            [
             0.6666666666666666,
             "#ed7953"
            ],
            [
             0.7777777777777778,
             "#fb9f3a"
            ],
            [
             0.8888888888888888,
             "#fdca26"
            ],
            [
             1,
             "#f0f921"
            ]
           ]
          },
          "colorway": [
           "#636efa",
           "#EF553B",
           "#00cc96",
           "#ab63fa",
           "#FFA15A",
           "#19d3f3",
           "#FF6692",
           "#B6E880",
           "#FF97FF",
           "#FECB52"
          ],
          "font": {
           "color": "#2a3f5f"
          },
          "geo": {
           "bgcolor": "white",
           "lakecolor": "white",
           "landcolor": "#E5ECF6",
           "showlakes": true,
           "showland": true,
           "subunitcolor": "white"
          },
          "hoverlabel": {
           "align": "left"
          },
          "hovermode": "closest",
          "mapbox": {
           "style": "light"
          },
          "paper_bgcolor": "white",
          "plot_bgcolor": "#E5ECF6",
          "polar": {
           "angularaxis": {
            "gridcolor": "white",
            "linecolor": "white",
            "ticks": ""
           },
           "bgcolor": "#E5ECF6",
           "radialaxis": {
            "gridcolor": "white",
            "linecolor": "white",
            "ticks": ""
           }
          },
          "scene": {
           "xaxis": {
            "backgroundcolor": "#E5ECF6",
            "gridcolor": "white",
            "gridwidth": 2,
            "linecolor": "white",
            "showbackground": true,
            "ticks": "",
            "zerolinecolor": "white"
           },
           "yaxis": {
            "backgroundcolor": "#E5ECF6",
            "gridcolor": "white",
            "gridwidth": 2,
            "linecolor": "white",
            "showbackground": true,
            "ticks": "",
            "zerolinecolor": "white"
           },
           "zaxis": {
            "backgroundcolor": "#E5ECF6",
            "gridcolor": "white",
            "gridwidth": 2,
            "linecolor": "white",
            "showbackground": true,
            "ticks": "",
            "zerolinecolor": "white"
           }
          },
          "shapedefaults": {
           "line": {
            "color": "#2a3f5f"
           }
          },
          "ternary": {
           "aaxis": {
            "gridcolor": "white",
            "linecolor": "white",
            "ticks": ""
           },
           "baxis": {
            "gridcolor": "white",
            "linecolor": "white",
            "ticks": ""
           },
           "bgcolor": "#E5ECF6",
           "caxis": {
            "gridcolor": "white",
            "linecolor": "white",
            "ticks": ""
           }
          },
          "title": {
           "x": 0.05
          },
          "xaxis": {
           "automargin": true,
           "gridcolor": "white",
           "linecolor": "white",
           "ticks": "",
           "title": {
            "standoff": 15
           },
           "zerolinecolor": "white",
           "zerolinewidth": 2
          },
          "yaxis": {
           "automargin": true,
           "gridcolor": "white",
           "linecolor": "white",
           "ticks": "",
           "title": {
            "standoff": 15
           },
           "zerolinecolor": "white",
           "zerolinewidth": 2
          }
         }
        },
        "xaxis": {
         "rangeslider": {
          "visible": false
         }
        }
       }
      },
      "text/html": [
       "<div>                            <div id=\"d359abe9-3fd4-4f6d-b612-7ba272341d56\" class=\"plotly-graph-div\" style=\"height:525px; width:100%;\"></div>            <script type=\"text/javascript\">                require([\"plotly\"], function(Plotly) {                    window.PLOTLYENV=window.PLOTLYENV || {};                                    if (document.getElementById(\"d359abe9-3fd4-4f6d-b612-7ba272341d56\")) {                    Plotly.newPlot(                        \"d359abe9-3fd4-4f6d-b612-7ba272341d56\",                        [{\"close\":[\"133.0000\",\"132.8600\",\"132.9500\",\"132.9300\",\"133.0000\",\"133.0600\",\"133.1700\",\"132.8400\",\"132.7900\",\"132.7500\",\"132.7500\",\"132.6000\",\"132.5400\",\"132.5100\",\"132.4701\",\"132.3500\",\"132.2900\",\"132.2742\",\"132.1000\",\"131.8100\",\"131.8300\",\"131.7298\",\"131.9300\",\"131.9999\",\"131.9100\",\"132.3400\",\"132.2900\",\"131.9680\",\"132.5150\",\"132.3759\",\"132.3800\",\"132.2100\",\"132.0942\",\"131.3500\",\"131.0118\",\"131.8300\",\"132.2800\",\"132.6500\",\"132.8500\",\"131.7600\",\"131.3200\",\"130.4800\",\"131.3900\",\"131.6400\",\"131.8400\",\"132.0400\",\"131.6525\",\"131.8200\",\"131.6600\",\"131.9600\",\"132.1400\",\"132.2000\",\"132.2800\",\"132.4100\",\"132.3400\",\"132.2500\",\"132.0900\",\"132.0200\",\"132.1700\",\"131.9800\",\"131.9200\",\"132.1700\",\"132.0800\",\"132.0100\",\"132.5500\",\"132.4399\",\"132.3900\",\"132.4300\",\"132.4300\",\"132.3600\",\"132.3300\",\"132.3000\",\"132.1000\",\"132.0600\",\"132.0504\",\"132.0500\",\"132.2700\",\"132.2300\",\"132.3100\",\"132.3700\",\"132.3500\",\"131.5699\",\"131.4600\",\"131.6650\",\"132.1800\",\"132.3200\",\"132.0300\",\"132.3400\",\"132.3394\",\"132.4350\",\"132.6453\",\"132.7650\",\"132.8520\",\"133.0074\",\"132.6488\",\"132.8400\",\"132.3550\",\"132.1600\",\"132.0250\",\"131.7450\"],\"high\":[\"133.0600\",\"132.9700\",\"132.9900\",\"133.0200\",\"133.1000\",\"133.2500\",\"133.2300\",\"132.9400\",\"132.7900\",\"132.7500\",\"132.7800\",\"132.6400\",\"132.5400\",\"132.5700\",\"132.5100\",\"132.4100\",\"132.4400\",\"132.3700\",\"132.1500\",\"131.8900\",\"131.9900\",\"132.0500\",\"132.1300\",\"132.1300\",\"132.3663\",\"132.7600\",\"132.4600\",\"132.6800\",\"132.6257\",\"132.6400\",\"132.7200\",\"132.6400\",\"132.1400\",\"131.4300\",\"131.8900\",\"132.4800\",\"132.8999\",\"133.2500\",\"133.0200\",\"131.8800\",\"131.4600\",\"131.6300\",\"131.6700\",\"131.8600\",\"132.1000\",\"132.1512\",\"131.8700\",\"132.7000\",\"131.9400\",\"132.1400\",\"132.2500\",\"132.4000\",\"132.3900\",\"132.4300\",\"132.4500\",\"132.2900\",\"132.1400\",\"132.1800\",\"132.1900\",\"132.1000\",\"132.2000\",\"132.3000\",\"132.0800\",\"132.4800\",\"132.5900\",\"132.4400\",\"132.4400\",\"132.4700\",\"132.5500\",\"132.4800\",\"132.3700\",\"132.3100\",\"132.1600\",\"132.1546\",\"132.3700\",\"132.2700\",\"132.3000\",\"132.3700\",\"132.3700\",\"132.5200\",\"132.6000\",\"131.7600\",\"131.8900\",\"132.2000\",\"132.6900\",\"132.3857\",\"132.4000\",\"132.4850\",\"132.5006\",\"132.6900\",\"132.8800\",\"132.9200\",\"133.2500\",\"133.1100\",\"133.0000\",\"132.9800\",\"132.6100\",\"132.2300\",\"132.1400\",\"131.9100\"],\"low\":[\"132.8400\",\"132.8600\",\"132.8601\",\"132.9200\",\"132.9000\",\"133.0100\",\"132.8001\",\"132.7700\",\"132.7300\",\"132.7255\",\"132.6100\",\"132.3000\",\"132.4623\",\"132.3000\",\"132.2855\",\"132.2400\",\"132.1000\",\"131.9700\",\"131.5200\",\"131.5600\",\"131.6300\",\"131.6600\",\"131.7600\",\"131.8000\",\"131.9000\",\"132.2200\",\"131.7700\",\"131.8550\",\"132.3200\",\"132.1500\",\"132.1100\",\"132.0101\",\"131.1900\",\"131.0000\",\"130.8450\",\"131.6600\",\"132.2315\",\"132.5800\",\"131.7500\",\"131.1900\",\"129.9100\",\"129.8900\",\"131.2500\",\"131.5100\",\"131.8400\",\"131.5700\",\"131.6300\",\"130.6000\",\"131.6500\",\"131.8500\",\"132.1200\",\"132.1600\",\"132.2000\",\"132.2900\",\"132.3300\",\"132.1200\",\"132.0800\",\"131.9500\",\"132.0400\",\"131.9800\",\"131.7900\",\"132.0100\",\"131.7500\",\"131.9100\",\"132.3900\",\"132.3698\",\"132.3500\",\"132.3900\",\"132.3699\",\"132.2100\",\"132.2800\",\"132.1400\",\"132.0600\",\"132.0100\",\"132.0300\",\"131.9800\",\"132.2000\",\"132.2200\",\"132.2100\",\"132.2100\",\"131.5550\",\"131.3200\",\"131.4501\",\"131.6600\",\"132.0550\",\"132.0315\",\"132.0300\",\"132.0100\",\"132.2700\",\"132.3800\",\"132.5607\",\"132.5100\",\"132.7800\",\"132.6000\",\"132.5300\",\"132.3400\",\"132.1600\",\"131.7400\",\"131.7331\",\"131.4549\"],\"name\":\"Historical Data\",\"open\":[\"132.8800\",\"132.9400\",\"132.9900\",\"133.0200\",\"133.0500\",\"133.1700\",\"132.8001\",\"132.8000\",\"132.7500\",\"132.7400\",\"132.6300\",\"132.5500\",\"132.5400\",\"132.4700\",\"132.3500\",\"132.3000\",\"132.2700\",\"132.1013\",\"131.8199\",\"131.8350\",\"131.7300\",\"131.9300\",\"131.9950\",\"131.9100\",\"132.3350\",\"132.2850\",\"131.9700\",\"132.5200\",\"132.3800\",\"132.3900\",\"132.2250\",\"132.1000\",\"131.3500\",\"131.0200\",\"131.8300\",\"132.2600\",\"132.6584\",\"132.8580\",\"131.7700\",\"131.3350\",\"130.4900\",\"131.3900\",\"131.6500\",\"131.8400\",\"132.1000\",\"131.6899\",\"131.8000\",\"132.3500\",\"131.9200\",\"132.1400\",\"132.1500\",\"132.2800\",\"132.3900\",\"132.4000\",\"132.3500\",\"132.1400\",\"132.1000\",\"132.1800\",\"132.0400\",\"132.0200\",\"132.2000\",\"132.1200\",\"132.0300\",\"132.2400\",\"132.4000\",\"132.3698\",\"132.4300\",\"132.4700\",\"132.3700\",\"132.3700\",\"132.2800\",\"132.2000\",\"132.0600\",\"132.0400\",\"132.0600\",\"132.2700\",\"132.2400\",\"132.3300\",\"132.3100\",\"132.3800\",\"131.5700\",\"131.4575\",\"131.6600\",\"132.1800\",\"132.3200\",\"132.0350\",\"132.3350\",\"132.3300\",\"132.4350\",\"132.6400\",\"132.7699\",\"132.8550\",\"133.0100\",\"132.6489\",\"132.8400\",\"132.3550\",\"132.1650\",\"132.0200\",\"131.7331\",\"131.8800\"],\"x\":[\"2022-12-20 20:00:00\",\"2022-12-20 19:45:00\",\"2022-12-20 19:30:00\",\"2022-12-20 19:15:00\",\"2022-12-20 19:00:00\",\"2022-12-20 18:45:00\",\"2022-12-20 18:30:00\",\"2022-12-20 18:15:00\",\"2022-12-20 18:00:00\",\"2022-12-20 17:45:00\",\"2022-12-20 17:30:00\",\"2022-12-20 17:15:00\",\"2022-12-20 17:00:00\",\"2022-12-20 16:45:00\",\"2022-12-20 16:30:00\",\"2022-12-20 16:15:00\",\"2022-12-20 16:00:00\",\"2022-12-20 15:45:00\",\"2022-12-20 15:30:00\",\"2022-12-20 15:15:00\",\"2022-12-20 15:00:00\",\"2022-12-20 14:45:00\",\"2022-12-20 14:30:00\",\"2022-12-20 14:15:00\",\"2022-12-20 14:00:00\",\"2022-12-20 13:45:00\",\"2022-12-20 13:30:00\",\"2022-12-20 13:15:00\",\"2022-12-20 13:00:00\",\"2022-12-20 12:45:00\",\"2022-12-20 12:30:00\",\"2022-12-20 12:15:00\",\"2022-12-20 12:00:00\",\"2022-12-20 11:45:00\",\"2022-12-20 11:30:00\",\"2022-12-20 11:15:00\",\"2022-12-20 11:00:00\",\"2022-12-20 10:45:00\",\"2022-12-20 10:30:00\",\"2022-12-20 10:15:00\",\"2022-12-20 10:00:00\",\"2022-12-20 09:45:00\",\"2022-12-20 09:30:00\",\"2022-12-20 09:15:00\",\"2022-12-20 09:00:00\",\"2022-12-20 08:45:00\",\"2022-12-20 08:30:00\",\"2022-12-20 08:15:00\",\"2022-12-20 08:00:00\",\"2022-12-20 07:45:00\",\"2022-12-20 07:30:00\",\"2022-12-20 07:15:00\",\"2022-12-20 07:00:00\",\"2022-12-20 06:45:00\",\"2022-12-20 06:30:00\",\"2022-12-20 06:15:00\",\"2022-12-20 06:00:00\",\"2022-12-20 05:45:00\",\"2022-12-20 05:30:00\",\"2022-12-20 05:15:00\",\"2022-12-20 05:00:00\",\"2022-12-20 04:45:00\",\"2022-12-20 04:30:00\",\"2022-12-20 04:15:00\",\"2022-12-19 20:00:00\",\"2022-12-19 19:45:00\",\"2022-12-19 19:30:00\",\"2022-12-19 19:15:00\",\"2022-12-19 19:00:00\",\"2022-12-19 18:45:00\",\"2022-12-19 18:30:00\",\"2022-12-19 18:15:00\",\"2022-12-19 18:00:00\",\"2022-12-19 17:45:00\",\"2022-12-19 17:30:00\",\"2022-12-19 17:15:00\",\"2022-12-19 17:00:00\",\"2022-12-19 16:45:00\",\"2022-12-19 16:30:00\",\"2022-12-19 16:15:00\",\"2022-12-19 16:00:00\",\"2022-12-19 15:45:00\",\"2022-12-19 15:30:00\",\"2022-12-19 15:15:00\",\"2022-12-19 15:00:00\",\"2022-12-19 14:45:00\",\"2022-12-19 14:30:00\",\"2022-12-19 14:15:00\",\"2022-12-19 14:00:00\",\"2022-12-19 13:45:00\",\"2022-12-19 13:30:00\",\"2022-12-19 13:15:00\",\"2022-12-19 13:00:00\",\"2022-12-19 12:45:00\",\"2022-12-19 12:30:00\",\"2022-12-19 12:15:00\",\"2022-12-19 12:00:00\",\"2022-12-19 11:45:00\",\"2022-12-19 11:30:00\",\"2022-12-19 11:15:00\"],\"type\":\"candlestick\"},{\"line\":{\"color\":\"gray\"},\"name\":\"SMA\",\"x\":[\"2022-12-20 20:00:00\",\"2022-12-20 19:45:00\",\"2022-12-20 19:30:00\",\"2022-12-20 19:15:00\",\"2022-12-20 19:00:00\",\"2022-12-20 18:45:00\",\"2022-12-20 18:30:00\",\"2022-12-20 18:15:00\",\"2022-12-20 18:00:00\",\"2022-12-20 17:45:00\",\"2022-12-20 17:30:00\",\"2022-12-20 17:15:00\",\"2022-12-20 17:00:00\",\"2022-12-20 16:45:00\",\"2022-12-20 16:30:00\",\"2022-12-20 16:15:00\",\"2022-12-20 16:00:00\",\"2022-12-20 15:45:00\",\"2022-12-20 15:30:00\",\"2022-12-20 15:15:00\",\"2022-12-20 15:00:00\",\"2022-12-20 14:45:00\",\"2022-12-20 14:30:00\",\"2022-12-20 14:15:00\",\"2022-12-20 14:00:00\",\"2022-12-20 13:45:00\",\"2022-12-20 13:30:00\",\"2022-12-20 13:15:00\",\"2022-12-20 13:00:00\",\"2022-12-20 12:45:00\",\"2022-12-20 12:30:00\",\"2022-12-20 12:15:00\",\"2022-12-20 12:00:00\",\"2022-12-20 11:45:00\",\"2022-12-20 11:30:00\",\"2022-12-20 11:15:00\",\"2022-12-20 11:00:00\",\"2022-12-20 10:45:00\",\"2022-12-20 10:30:00\",\"2022-12-20 10:15:00\",\"2022-12-20 10:00:00\",\"2022-12-20 09:45:00\",\"2022-12-20 09:30:00\",\"2022-12-20 09:15:00\",\"2022-12-20 09:00:00\",\"2022-12-20 08:45:00\",\"2022-12-20 08:30:00\",\"2022-12-20 08:15:00\",\"2022-12-20 08:00:00\",\"2022-12-20 07:45:00\",\"2022-12-20 07:30:00\",\"2022-12-20 07:15:00\",\"2022-12-20 07:00:00\",\"2022-12-20 06:45:00\",\"2022-12-20 06:30:00\",\"2022-12-20 06:15:00\",\"2022-12-20 06:00:00\",\"2022-12-20 05:45:00\",\"2022-12-20 05:30:00\",\"2022-12-20 05:15:00\",\"2022-12-20 05:00:00\",\"2022-12-20 04:45:00\",\"2022-12-20 04:30:00\",\"2022-12-20 04:15:00\",\"2022-12-19 20:00:00\",\"2022-12-19 19:45:00\",\"2022-12-19 19:30:00\",\"2022-12-19 19:15:00\",\"2022-12-19 19:00:00\",\"2022-12-19 18:45:00\",\"2022-12-19 18:30:00\",\"2022-12-19 18:15:00\",\"2022-12-19 18:00:00\",\"2022-12-19 17:45:00\",\"2022-12-19 17:30:00\",\"2022-12-19 17:15:00\",\"2022-12-19 17:00:00\",\"2022-12-19 16:45:00\",\"2022-12-19 16:30:00\",\"2022-12-19 16:15:00\",\"2022-12-19 16:00:00\",\"2022-12-19 15:45:00\",\"2022-12-19 15:30:00\",\"2022-12-19 15:15:00\",\"2022-12-19 15:00:00\",\"2022-12-19 14:45:00\",\"2022-12-19 14:30:00\",\"2022-12-19 14:15:00\",\"2022-12-19 14:00:00\",\"2022-12-19 13:45:00\",\"2022-12-19 13:30:00\",\"2022-12-19 13:15:00\",\"2022-12-19 13:00:00\",\"2022-12-19 12:45:00\",\"2022-12-19 12:30:00\",\"2022-12-19 12:15:00\",\"2022-12-19 12:00:00\",\"2022-12-19 11:45:00\",\"2022-12-19 11:30:00\",\"2022-12-19 11:15:00\"],\"y\":[null,null,null,null,132.948,132.96,133.022,133.0,132.972,132.922,132.86,132.746,132.686,132.63,132.574,132.494,132.432,132.379,132.297,132.165,132.061,131.949,131.88,131.86,131.88,131.982,132.094,132.102,132.205,132.298,132.306,132.29,132.315,132.082,131.809,131.699,131.713,131.824,132.124,132.274,132.172,131.812,131.56,131.318,131.334,131.478,131.712,131.799,131.802,131.826,131.846,131.956,132.048,132.198,132.274,132.296,132.274,132.222,132.174,132.102,132.036,132.052,132.064,132.032,132.146,132.25,132.294,132.364,132.448,132.41,132.388,132.37,132.304,132.23,132.168,132.112,132.106,132.132,132.182,132.246,132.306,132.166,132.012,131.883,131.845,131.839,131.931,132.107,132.242,132.293,132.358,132.505,132.607,132.741,132.784,132.823,132.741,132.602,132.406,132.225],\"type\":\"scatter\"}],                        {\"template\":{\"data\":{\"histogram2dcontour\":[{\"type\":\"histogram2dcontour\",\"colorbar\":{\"outlinewidth\":0,\"ticks\":\"\"},\"colorscale\":[[0.0,\"#0d0887\"],[0.1111111111111111,\"#46039f\"],[0.2222222222222222,\"#7201a8\"],[0.3333333333333333,\"#9c179e\"],[0.4444444444444444,\"#bd3786\"],[0.5555555555555556,\"#d8576b\"],[0.6666666666666666,\"#ed7953\"],[0.7777777777777778,\"#fb9f3a\"],[0.8888888888888888,\"#fdca26\"],[1.0,\"#f0f921\"]]}],\"choropleth\":[{\"type\":\"choropleth\",\"colorbar\":{\"outlinewidth\":0,\"ticks\":\"\"}}],\"histogram2d\":[{\"type\":\"histogram2d\",\"colorbar\":{\"outlinewidth\":0,\"ticks\":\"\"},\"colorscale\":[[0.0,\"#0d0887\"],[0.1111111111111111,\"#46039f\"],[0.2222222222222222,\"#7201a8\"],[0.3333333333333333,\"#9c179e\"],[0.4444444444444444,\"#bd3786\"],[0.5555555555555556,\"#d8576b\"],[0.6666666666666666,\"#ed7953\"],[0.7777777777777778,\"#fb9f3a\"],[0.8888888888888888,\"#fdca26\"],[1.0,\"#f0f921\"]]}],\"heatmap\":[{\"type\":\"heatmap\",\"colorbar\":{\"outlinewidth\":0,\"ticks\":\"\"},\"colorscale\":[[0.0,\"#0d0887\"],[0.1111111111111111,\"#46039f\"],[0.2222222222222222,\"#7201a8\"],[0.3333333333333333,\"#9c179e\"],[0.4444444444444444,\"#bd3786\"],[0.5555555555555556,\"#d8576b\"],[0.6666666666666666,\"#ed7953\"],[0.7777777777777778,\"#fb9f3a\"],[0.8888888888888888,\"#fdca26\"],[1.0,\"#f0f921\"]]}],\"heatmapgl\":[{\"type\":\"heatmapgl\",\"colorbar\":{\"outlinewidth\":0,\"ticks\":\"\"},\"colorscale\":[[0.0,\"#0d0887\"],[0.1111111111111111,\"#46039f\"],[0.2222222222222222,\"#7201a8\"],[0.3333333333333333,\"#9c179e\"],[0.4444444444444444,\"#bd3786\"],[0.5555555555555556,\"#d8576b\"],[0.6666666666666666,\"#ed7953\"],[0.7777777777777778,\"#fb9f3a\"],[0.8888888888888888,\"#fdca26\"],[1.0,\"#f0f921\"]]}],\"contourcarpet\":[{\"type\":\"contourcarpet\",\"colorbar\":{\"outlinewidth\":0,\"ticks\":\"\"}}],\"contour\":[{\"type\":\"contour\",\"colorbar\":{\"outlinewidth\":0,\"ticks\":\"\"},\"colorscale\":[[0.0,\"#0d0887\"],[0.1111111111111111,\"#46039f\"],[0.2222222222222222,\"#7201a8\"],[0.3333333333333333,\"#9c179e\"],[0.4444444444444444,\"#bd3786\"],[0.5555555555555556,\"#d8576b\"],[0.6666666666666666,\"#ed7953\"],[0.7777777777777778,\"#fb9f3a\"],[0.8888888888888888,\"#fdca26\"],[1.0,\"#f0f921\"]]}],\"surface\":[{\"type\":\"surface\",\"colorbar\":{\"outlinewidth\":0,\"ticks\":\"\"},\"colorscale\":[[0.0,\"#0d0887\"],[0.1111111111111111,\"#46039f\"],[0.2222222222222222,\"#7201a8\"],[0.3333333333333333,\"#9c179e\"],[0.4444444444444444,\"#bd3786\"],[0.5555555555555556,\"#d8576b\"],[0.6666666666666666,\"#ed7953\"],[0.7777777777777778,\"#fb9f3a\"],[0.8888888888888888,\"#fdca26\"],[1.0,\"#f0f921\"]]}],\"mesh3d\":[{\"type\":\"mesh3d\",\"colorbar\":{\"outlinewidth\":0,\"ticks\":\"\"}}],\"scatter\":[{\"fillpattern\":{\"fillmode\":\"overlay\",\"size\":10,\"solidity\":0.2},\"type\":\"scatter\"}],\"parcoords\":[{\"type\":\"parcoords\",\"line\":{\"colorbar\":{\"outlinewidth\":0,\"ticks\":\"\"}}}],\"scatterpolargl\":[{\"type\":\"scatterpolargl\",\"marker\":{\"colorbar\":{\"outlinewidth\":0,\"ticks\":\"\"}}}],\"bar\":[{\"error_x\":{\"color\":\"#2a3f5f\"},\"error_y\":{\"color\":\"#2a3f5f\"},\"marker\":{\"line\":{\"color\":\"#E5ECF6\",\"width\":0.5},\"pattern\":{\"fillmode\":\"overlay\",\"size\":10,\"solidity\":0.2}},\"type\":\"bar\"}],\"scattergeo\":[{\"type\":\"scattergeo\",\"marker\":{\"colorbar\":{\"outlinewidth\":0,\"ticks\":\"\"}}}],\"scatterpolar\":[{\"type\":\"scatterpolar\",\"marker\":{\"colorbar\":{\"outlinewidth\":0,\"ticks\":\"\"}}}],\"histogram\":[{\"marker\":{\"pattern\":{\"fillmode\":\"overlay\",\"size\":10,\"solidity\":0.2}},\"type\":\"histogram\"}],\"scattergl\":[{\"type\":\"scattergl\",\"marker\":{\"colorbar\":{\"outlinewidth\":0,\"ticks\":\"\"}}}],\"scatter3d\":[{\"type\":\"scatter3d\",\"line\":{\"colorbar\":{\"outlinewidth\":0,\"ticks\":\"\"}},\"marker\":{\"colorbar\":{\"outlinewidth\":0,\"ticks\":\"\"}}}],\"scattermapbox\":[{\"type\":\"scattermapbox\",\"marker\":{\"colorbar\":{\"outlinewidth\":0,\"ticks\":\"\"}}}],\"scatterternary\":[{\"type\":\"scatterternary\",\"marker\":{\"colorbar\":{\"outlinewidth\":0,\"ticks\":\"\"}}}],\"scattercarpet\":[{\"type\":\"scattercarpet\",\"marker\":{\"colorbar\":{\"outlinewidth\":0,\"ticks\":\"\"}}}],\"carpet\":[{\"aaxis\":{\"endlinecolor\":\"#2a3f5f\",\"gridcolor\":\"white\",\"linecolor\":\"white\",\"minorgridcolor\":\"white\",\"startlinecolor\":\"#2a3f5f\"},\"baxis\":{\"endlinecolor\":\"#2a3f5f\",\"gridcolor\":\"white\",\"linecolor\":\"white\",\"minorgridcolor\":\"white\",\"startlinecolor\":\"#2a3f5f\"},\"type\":\"carpet\"}],\"table\":[{\"cells\":{\"fill\":{\"color\":\"#EBF0F8\"},\"line\":{\"color\":\"white\"}},\"header\":{\"fill\":{\"color\":\"#C8D4E3\"},\"line\":{\"color\":\"white\"}},\"type\":\"table\"}],\"barpolar\":[{\"marker\":{\"line\":{\"color\":\"#E5ECF6\",\"width\":0.5},\"pattern\":{\"fillmode\":\"overlay\",\"size\":10,\"solidity\":0.2}},\"type\":\"barpolar\"}],\"pie\":[{\"automargin\":true,\"type\":\"pie\"}]},\"layout\":{\"autotypenumbers\":\"strict\",\"colorway\":[\"#636efa\",\"#EF553B\",\"#00cc96\",\"#ab63fa\",\"#FFA15A\",\"#19d3f3\",\"#FF6692\",\"#B6E880\",\"#FF97FF\",\"#FECB52\"],\"font\":{\"color\":\"#2a3f5f\"},\"hovermode\":\"closest\",\"hoverlabel\":{\"align\":\"left\"},\"paper_bgcolor\":\"white\",\"plot_bgcolor\":\"#E5ECF6\",\"polar\":{\"bgcolor\":\"#E5ECF6\",\"angularaxis\":{\"gridcolor\":\"white\",\"linecolor\":\"white\",\"ticks\":\"\"},\"radialaxis\":{\"gridcolor\":\"white\",\"linecolor\":\"white\",\"ticks\":\"\"}},\"ternary\":{\"bgcolor\":\"#E5ECF6\",\"aaxis\":{\"gridcolor\":\"white\",\"linecolor\":\"white\",\"ticks\":\"\"},\"baxis\":{\"gridcolor\":\"white\",\"linecolor\":\"white\",\"ticks\":\"\"},\"caxis\":{\"gridcolor\":\"white\",\"linecolor\":\"white\",\"ticks\":\"\"}},\"coloraxis\":{\"colorbar\":{\"outlinewidth\":0,\"ticks\":\"\"}},\"colorscale\":{\"sequential\":[[0.0,\"#0d0887\"],[0.1111111111111111,\"#46039f\"],[0.2222222222222222,\"#7201a8\"],[0.3333333333333333,\"#9c179e\"],[0.4444444444444444,\"#bd3786\"],[0.5555555555555556,\"#d8576b\"],[0.6666666666666666,\"#ed7953\"],[0.7777777777777778,\"#fb9f3a\"],[0.8888888888888888,\"#fdca26\"],[1.0,\"#f0f921\"]],\"sequentialminus\":[[0.0,\"#0d0887\"],[0.1111111111111111,\"#46039f\"],[0.2222222222222222,\"#7201a8\"],[0.3333333333333333,\"#9c179e\"],[0.4444444444444444,\"#bd3786\"],[0.5555555555555556,\"#d8576b\"],[0.6666666666666666,\"#ed7953\"],[0.7777777777777778,\"#fb9f3a\"],[0.8888888888888888,\"#fdca26\"],[1.0,\"#f0f921\"]],\"diverging\":[[0,\"#8e0152\"],[0.1,\"#c51b7d\"],[0.2,\"#de77ae\"],[0.3,\"#f1b6da\"],[0.4,\"#fde0ef\"],[0.5,\"#f7f7f7\"],[0.6,\"#e6f5d0\"],[0.7,\"#b8e186\"],[0.8,\"#7fbc41\"],[0.9,\"#4d9221\"],[1,\"#276419\"]]},\"xaxis\":{\"gridcolor\":\"white\",\"linecolor\":\"white\",\"ticks\":\"\",\"title\":{\"standoff\":15},\"zerolinecolor\":\"white\",\"automargin\":true,\"zerolinewidth\":2},\"yaxis\":{\"gridcolor\":\"white\",\"linecolor\":\"white\",\"ticks\":\"\",\"title\":{\"standoff\":15},\"zerolinecolor\":\"white\",\"automargin\":true,\"zerolinewidth\":2},\"scene\":{\"xaxis\":{\"backgroundcolor\":\"#E5ECF6\",\"gridcolor\":\"white\",\"linecolor\":\"white\",\"showbackground\":true,\"ticks\":\"\",\"zerolinecolor\":\"white\",\"gridwidth\":2},\"yaxis\":{\"backgroundcolor\":\"#E5ECF6\",\"gridcolor\":\"white\",\"linecolor\":\"white\",\"showbackground\":true,\"ticks\":\"\",\"zerolinecolor\":\"white\",\"gridwidth\":2},\"zaxis\":{\"backgroundcolor\":\"#E5ECF6\",\"gridcolor\":\"white\",\"linecolor\":\"white\",\"showbackground\":true,\"ticks\":\"\",\"zerolinecolor\":\"white\",\"gridwidth\":2}},\"shapedefaults\":{\"line\":{\"color\":\"#2a3f5f\"}},\"annotationdefaults\":{\"arrowcolor\":\"#2a3f5f\",\"arrowhead\":0,\"arrowwidth\":1},\"geo\":{\"bgcolor\":\"white\",\"landcolor\":\"#E5ECF6\",\"subunitcolor\":\"white\",\"showland\":true,\"showlakes\":true,\"lakecolor\":\"white\"},\"title\":{\"x\":0.05},\"mapbox\":{\"style\":\"light\"}}},\"xaxis\":{\"rangeslider\":{\"visible\":false}}},                        {\"responsive\": true}                    ).then(function(){\n",
       "                            \n",
       "var gd = document.getElementById('d359abe9-3fd4-4f6d-b612-7ba272341d56');\n",
       "var x = new MutationObserver(function (mutations, observer) {{\n",
       "        var display = window.getComputedStyle(gd).display;\n",
       "        if (!display || display === 'none') {{\n",
       "            console.log([gd, 'removed!']);\n",
       "            Plotly.purge(gd);\n",
       "            observer.disconnect();\n",
       "        }}\n",
       "}});\n",
       "\n",
       "// Listen for the removal of the full notebook cells\n",
       "var notebookContainer = gd.closest('#notebook-container');\n",
       "if (notebookContainer) {{\n",
       "    x.observe(notebookContainer, {childList: true});\n",
       "}}\n",
       "\n",
       "// Listen for the clearing of the current output cell\n",
       "var outputEl = gd.closest('.output');\n",
       "if (outputEl) {{\n",
       "    x.observe(outputEl, {childList: true});\n",
       "}}\n",
       "\n",
       "                        })                };                });            </script>        </div>"
      ]
     },
     "metadata": {},
     "output_type": "display_data"
    }
   ],
   "source": [
    "show_graph(\"AAPL\")"
   ]
  },
  {
   "cell_type": "code",
   "execution_count": 541,
   "id": "9b125928",
   "metadata": {},
   "outputs": [
    {
     "data": {
      "application/vnd.plotly.v1+json": {
       "config": {
        "plotlyServerURL": "https://plot.ly"
       },
       "data": [
        {
         "close": [
          "161.2000",
          "161.2700",
          "161.3000",
          "161.7000",
          "161.4000",
          "161.6600",
          "161.6500",
          "161.4000",
          "161.3400",
          "161.1200",
          "160.8500",
          "161.0000",
          "160.9200",
          "160.8000",
          "160.8300",
          "160.7500",
          "160.8600",
          "161.2900",
          "161.5400",
          "161.3765",
          "161.3600",
          "161.0790",
          "161.5700",
          "162.0000",
          "161.1300",
          "161.0900",
          "160.7100",
          "160.2800",
          "161.0340",
          "160.1700",
          "160.5300",
          "161.2600",
          "161.2950",
          "161.0200",
          "160.1099",
          "160.6800",
          "162.0950",
          "161.6828",
          "161.6500",
          "161.4800",
          "162.6700",
          "159.2105",
          "160.6000",
          "160.7400",
          "161.2100",
          "161.3300",
          "161.1800",
          "161.3400",
          "161.4100",
          "161.7500",
          "162.1500",
          "162.1500",
          "161.8500",
          "162.3900",
          "162.0900",
          "161.9100",
          "161.6800",
          "162.4400",
          "161.7000",
          "161.8000",
          "161.8000",
          "161.7100",
          "161.7700",
          "162.5400",
          "162.3600",
          "162.3200",
          "162.3800",
          "162.4700",
          "162.4500",
          "162.4693",
          "162.4500",
          "162.3000",
          "162.3000",
          "162.2900",
          "162.3400",
          "162.3100",
          "162.5400",
          "162.3824",
          "162.5400",
          "162.5800",
          "161.5300",
          "161.8511",
          "161.6850",
          "162.5100",
          "162.7500",
          "162.0500",
          "162.7900",
          "163.0100",
          "163.0100",
          "163.5473",
          "163.8400",
          "164.1000",
          "163.7400",
          "162.9535",
          "163.5200",
          "162.0880",
          "161.9500",
          "163.3400",
          "163.4644",
          "162.9400"
         ],
         "high": [
          "161.4900",
          "161.3700",
          "161.7300",
          "161.7000",
          "161.6000",
          "161.7300",
          "161.7000",
          "161.5000",
          "161.3400",
          "161.1500",
          "161.1700",
          "161.0200",
          "160.9200",
          "160.8500",
          "160.8800",
          "160.9800",
          "161.4700",
          "161.7500",
          "161.6800",
          "161.5300",
          "161.5700",
          "161.6900",
          "162.0500",
          "162.0700",
          "161.3800",
          "161.5800",
          "160.7400",
          "161.3800",
          "161.0700",
          "160.6000",
          "161.4202",
          "161.9700",
          "161.3600",
          "161.1300",
          "160.7580",
          "162.7000",
          "162.5000",
          "162.9200",
          "162.2399",
          "163.1000",
          "162.8955",
          "161.9300",
          "161.1500",
          "161.1900",
          "161.4300",
          "161.5000",
          "161.3900",
          "162.3900",
          "161.8400",
          "162.2000",
          "162.1900",
          "162.2900",
          "161.8500",
          "162.3900",
          "162.0900",
          "162.0000",
          "162.4700",
          "162.4400",
          "161.7800",
          "161.8000",
          "161.8100",
          "162.0000",
          "162.0000",
          "162.5400",
          "162.4700",
          "162.4500",
          "162.4400",
          "162.4800",
          "162.5000",
          "162.4900",
          "162.4700",
          "162.3900",
          "162.3000",
          "162.2900",
          "162.3900",
          "162.3700",
          "162.5400",
          "162.5400",
          "162.6900",
          "162.8600",
          "162.1600",
          "162.3300",
          "162.5900",
          "163.2800",
          "162.8500",
          "162.8800",
          "163.1383",
          "163.3000",
          "163.6325",
          "164.1600",
          "164.2573",
          "164.6400",
          "163.9800",
          "163.5300",
          "163.5550",
          "162.8300",
          "163.4811",
          "164.2896",
          "163.6700",
          "163.2050"
         ],
         "low": [
          "161.2000",
          "161.2000",
          "161.2500",
          "161.6000",
          "161.4000",
          "161.5100",
          "161.3500",
          "161.3389",
          "161.1794",
          "160.9700",
          "160.8500",
          "160.8500",
          "160.8300",
          "160.8000",
          "160.7700",
          "160.7500",
          "160.7400",
          "161.2600",
          "161.2000",
          "161.0100",
          "160.9600",
          "161.0200",
          "161.3300",
          "161.0700",
          "160.8900",
          "160.7100",
          "159.7800",
          "160.2600",
          "160.0800",
          "159.9400",
          "160.4900",
          "161.1120",
          "160.5600",
          "159.9800",
          "159.7000",
          "160.3400",
          "161.2100",
          "161.5139",
          "160.9400",
          "161.1001",
          "158.5200",
          "159.2100",
          "160.6000",
          "160.6800",
          "161.0500",
          "160.8322",
          "161.0600",
          "158.0800",
          "161.3900",
          "161.7500",
          "162.1000",
          "161.9800",
          "161.8200",
          "162.3900",
          "161.9000",
          "161.9100",
          "161.6800",
          "161.4600",
          "161.7000",
          "161.8000",
          "161.8000",
          "161.6600",
          "161.5900",
          "162.4400",
          "162.3600",
          "162.3100",
          "162.3400",
          "162.4400",
          "162.3000",
          "162.4400",
          "162.3000",
          "162.3000",
          "162.2203",
          "162.1200",
          "162.2700",
          "162.2890",
          "162.3100",
          "162.2714",
          "162.4000",
          "161.4800",
          "161.4500",
          "161.6750",
          "161.6600",
          "162.3021",
          "162.0400",
          "162.0400",
          "162.3700",
          "162.9100",
          "163.0021",
          "163.4100",
          "163.4500",
          "163.5700",
          "162.9500",
          "162.8350",
          "162.0750",
          "161.9000",
          "161.7500",
          "163.0700",
          "162.5300",
          "162.3000"
         ],
         "name": "Historical Data",
         "open": [
          "161.2700",
          "161.3500",
          "161.7000",
          "161.6000",
          "161.6000",
          "161.7000",
          "161.3500",
          "161.3400",
          "161.2500",
          "161.1500",
          "161.0800",
          "160.9500",
          "160.8300",
          "160.8200",
          "160.8000",
          "160.8500",
          "161.3000",
          "161.5400",
          "161.4000",
          "161.3950",
          "161.0700",
          "161.6000",
          "162.0200",
          "161.1400",
          "161.1000",
          "160.7200",
          "160.2800",
          "161.0400",
          "160.1900",
          "160.5350",
          "161.2550",
          "161.3100",
          "161.0500",
          "160.0950",
          "160.6850",
          "162.0800",
          "161.6600",
          "161.6590",
          "161.4600",
          "162.7100",
          "159.2400",
          "160.6400",
          "160.9100",
          "161.1800",
          "161.1749",
          "161.2000",
          "161.2500",
          "161.8500",
          "161.7500",
          "162.2000",
          "162.1500",
          "162.1000",
          "161.8200",
          "162.3900",
          "161.9000",
          "162.0000",
          "162.2600",
          "161.5100",
          "161.7700",
          "161.8000",
          "161.8100",
          "161.9900",
          "161.7800",
          "162.4400",
          "162.4700",
          "162.4000",
          "162.4400",
          "162.4500",
          "162.4700",
          "162.4500",
          "162.3000",
          "162.3900",
          "162.2500",
          "162.2900",
          "162.2700",
          "162.3700",
          "162.3500",
          "162.4900",
          "162.5400",
          "161.5200",
          "161.8700",
          "161.6750",
          "162.5000",
          "162.7600",
          "162.0573",
          "162.8000",
          "162.9700",
          "163.0000",
          "163.5300",
          "163.8500",
          "164.1187",
          "163.7300",
          "162.9700",
          "163.5100",
          "162.0750",
          "161.9500",
          "163.3600",
          "163.4900",
          "162.9800",
          "162.5192"
         ],
         "type": "candlestick",
         "x": [
          "2022-12-20 20:00:00",
          "2022-12-20 19:45:00",
          "2022-12-20 19:30:00",
          "2022-12-20 19:15:00",
          "2022-12-20 19:00:00",
          "2022-12-20 18:45:00",
          "2022-12-20 18:30:00",
          "2022-12-20 18:15:00",
          "2022-12-20 18:00:00",
          "2022-12-20 17:45:00",
          "2022-12-20 17:30:00",
          "2022-12-20 17:15:00",
          "2022-12-20 17:00:00",
          "2022-12-20 16:45:00",
          "2022-12-20 16:30:00",
          "2022-12-20 16:15:00",
          "2022-12-20 16:00:00",
          "2022-12-20 15:45:00",
          "2022-12-20 15:30:00",
          "2022-12-20 15:15:00",
          "2022-12-20 15:00:00",
          "2022-12-20 14:45:00",
          "2022-12-20 14:30:00",
          "2022-12-20 14:15:00",
          "2022-12-20 14:00:00",
          "2022-12-20 13:45:00",
          "2022-12-20 13:30:00",
          "2022-12-20 13:15:00",
          "2022-12-20 13:00:00",
          "2022-12-20 12:45:00",
          "2022-12-20 12:30:00",
          "2022-12-20 12:15:00",
          "2022-12-20 12:00:00",
          "2022-12-20 11:45:00",
          "2022-12-20 11:30:00",
          "2022-12-20 11:15:00",
          "2022-12-20 11:00:00",
          "2022-12-20 10:45:00",
          "2022-12-20 10:30:00",
          "2022-12-20 10:15:00",
          "2022-12-20 10:00:00",
          "2022-12-20 09:45:00",
          "2022-12-20 09:30:00",
          "2022-12-20 09:15:00",
          "2022-12-20 09:00:00",
          "2022-12-20 08:45:00",
          "2022-12-20 08:30:00",
          "2022-12-20 08:15:00",
          "2022-12-20 08:00:00",
          "2022-12-20 07:45:00",
          "2022-12-20 07:30:00",
          "2022-12-20 07:15:00",
          "2022-12-20 07:00:00",
          "2022-12-20 06:30:00",
          "2022-12-20 06:15:00",
          "2022-12-20 06:00:00",
          "2022-12-20 05:45:00",
          "2022-12-20 05:30:00",
          "2022-12-20 05:15:00",
          "2022-12-20 05:00:00",
          "2022-12-20 04:45:00",
          "2022-12-20 04:30:00",
          "2022-12-20 04:15:00",
          "2022-12-19 20:00:00",
          "2022-12-19 19:45:00",
          "2022-12-19 19:30:00",
          "2022-12-19 19:15:00",
          "2022-12-19 19:00:00",
          "2022-12-19 18:45:00",
          "2022-12-19 18:30:00",
          "2022-12-19 18:15:00",
          "2022-12-19 18:00:00",
          "2022-12-19 17:45:00",
          "2022-12-19 17:30:00",
          "2022-12-19 17:15:00",
          "2022-12-19 17:00:00",
          "2022-12-19 16:45:00",
          "2022-12-19 16:30:00",
          "2022-12-19 16:15:00",
          "2022-12-19 16:00:00",
          "2022-12-19 15:45:00",
          "2022-12-19 15:30:00",
          "2022-12-19 15:15:00",
          "2022-12-19 15:00:00",
          "2022-12-19 14:45:00",
          "2022-12-19 14:30:00",
          "2022-12-19 14:15:00",
          "2022-12-19 14:00:00",
          "2022-12-19 13:45:00",
          "2022-12-19 13:30:00",
          "2022-12-19 13:15:00",
          "2022-12-19 13:00:00",
          "2022-12-19 12:45:00",
          "2022-12-19 12:30:00",
          "2022-12-19 12:15:00",
          "2022-12-19 12:00:00",
          "2022-12-19 11:45:00",
          "2022-12-19 11:30:00",
          "2022-12-19 11:15:00",
          "2022-12-19 11:00:00"
         ]
        },
        {
         "line": {
          "color": "gray"
         },
         "name": "SMA",
         "type": "scatter",
         "x": [
          "2022-12-20 20:00:00",
          "2022-12-20 19:45:00",
          "2022-12-20 19:30:00",
          "2022-12-20 19:15:00",
          "2022-12-20 19:00:00",
          "2022-12-20 18:45:00",
          "2022-12-20 18:30:00",
          "2022-12-20 18:15:00",
          "2022-12-20 18:00:00",
          "2022-12-20 17:45:00",
          "2022-12-20 17:30:00",
          "2022-12-20 17:15:00",
          "2022-12-20 17:00:00",
          "2022-12-20 16:45:00",
          "2022-12-20 16:30:00",
          "2022-12-20 16:15:00",
          "2022-12-20 16:00:00",
          "2022-12-20 15:45:00",
          "2022-12-20 15:30:00",
          "2022-12-20 15:15:00",
          "2022-12-20 15:00:00",
          "2022-12-20 14:45:00",
          "2022-12-20 14:30:00",
          "2022-12-20 14:15:00",
          "2022-12-20 14:00:00",
          "2022-12-20 13:45:00",
          "2022-12-20 13:30:00",
          "2022-12-20 13:15:00",
          "2022-12-20 13:00:00",
          "2022-12-20 12:45:00",
          "2022-12-20 12:30:00",
          "2022-12-20 12:15:00",
          "2022-12-20 12:00:00",
          "2022-12-20 11:45:00",
          "2022-12-20 11:30:00",
          "2022-12-20 11:15:00",
          "2022-12-20 11:00:00",
          "2022-12-20 10:45:00",
          "2022-12-20 10:30:00",
          "2022-12-20 10:15:00",
          "2022-12-20 10:00:00",
          "2022-12-20 09:45:00",
          "2022-12-20 09:30:00",
          "2022-12-20 09:15:00",
          "2022-12-20 09:00:00",
          "2022-12-20 08:45:00",
          "2022-12-20 08:30:00",
          "2022-12-20 08:15:00",
          "2022-12-20 08:00:00",
          "2022-12-20 07:45:00",
          "2022-12-20 07:30:00",
          "2022-12-20 07:15:00",
          "2022-12-20 07:00:00",
          "2022-12-20 06:30:00",
          "2022-12-20 06:15:00",
          "2022-12-20 06:00:00",
          "2022-12-20 05:45:00",
          "2022-12-20 05:30:00",
          "2022-12-20 05:15:00",
          "2022-12-20 05:00:00",
          "2022-12-20 04:45:00",
          "2022-12-20 04:30:00",
          "2022-12-20 04:15:00",
          "2022-12-19 20:00:00",
          "2022-12-19 19:45:00",
          "2022-12-19 19:30:00",
          "2022-12-19 19:15:00",
          "2022-12-19 19:00:00",
          "2022-12-19 18:45:00",
          "2022-12-19 18:30:00",
          "2022-12-19 18:15:00",
          "2022-12-19 18:00:00",
          "2022-12-19 17:45:00",
          "2022-12-19 17:30:00",
          "2022-12-19 17:15:00",
          "2022-12-19 17:00:00",
          "2022-12-19 16:45:00",
          "2022-12-19 16:30:00",
          "2022-12-19 16:15:00",
          "2022-12-19 16:00:00",
          "2022-12-19 15:45:00",
          "2022-12-19 15:30:00",
          "2022-12-19 15:15:00",
          "2022-12-19 15:00:00",
          "2022-12-19 14:45:00",
          "2022-12-19 14:30:00",
          "2022-12-19 14:15:00",
          "2022-12-19 14:00:00",
          "2022-12-19 13:45:00",
          "2022-12-19 13:30:00",
          "2022-12-19 13:15:00",
          "2022-12-19 13:00:00",
          "2022-12-19 12:45:00",
          "2022-12-19 12:30:00",
          "2022-12-19 12:15:00",
          "2022-12-19 12:00:00",
          "2022-12-19 11:45:00",
          "2022-12-19 11:30:00",
          "2022-12-19 11:15:00",
          "2022-12-19 11:00:00"
         ],
         "y": [
          null,
          null,
          null,
          null,
          161.374,
          161.466,
          161.542,
          161.562,
          161.49,
          161.434,
          161.272,
          161.142,
          161.046,
          160.938,
          160.88,
          160.86,
          160.832,
          160.906,
          161.054,
          161.163,
          161.285,
          161.329,
          161.385,
          161.477,
          161.428,
          161.374,
          161.3,
          161.042,
          160.849,
          160.657,
          160.545,
          160.655,
          160.858,
          160.855,
          160.843,
          160.873,
          161.04,
          161.118,
          161.244,
          161.518,
          161.916,
          161.339,
          161.122,
          160.94,
          160.886,
          160.618,
          161.012,
          161.16,
          161.294,
          161.402,
          161.566,
          161.76,
          161.862,
          162.058,
          162.126,
          162.078,
          161.984,
          162.102,
          161.964,
          161.906,
          161.884,
          161.89,
          161.756,
          161.924,
          162.036,
          162.14,
          162.274,
          162.414,
          162.396,
          162.418,
          162.444,
          162.428,
          162.394,
          162.362,
          162.336,
          162.308,
          162.356,
          162.372,
          162.422,
          162.47,
          162.314,
          162.177,
          162.037,
          162.031,
          162.065,
          162.169,
          162.357,
          162.622,
          162.722,
          162.881,
          163.239,
          163.501,
          163.647,
          163.636,
          163.631,
          163.28,
          162.85,
          162.77,
          162.872,
          162.756
         ]
        }
       ],
       "layout": {
        "template": {
         "data": {
          "bar": [
           {
            "error_x": {
             "color": "#2a3f5f"
            },
            "error_y": {
             "color": "#2a3f5f"
            },
            "marker": {
             "line": {
              "color": "#E5ECF6",
              "width": 0.5
             },
             "pattern": {
              "fillmode": "overlay",
              "size": 10,
              "solidity": 0.2
             }
            },
            "type": "bar"
           }
          ],
          "barpolar": [
           {
            "marker": {
             "line": {
              "color": "#E5ECF6",
              "width": 0.5
             },
             "pattern": {
              "fillmode": "overlay",
              "size": 10,
              "solidity": 0.2
             }
            },
            "type": "barpolar"
           }
          ],
          "carpet": [
           {
            "aaxis": {
             "endlinecolor": "#2a3f5f",
             "gridcolor": "white",
             "linecolor": "white",
             "minorgridcolor": "white",
             "startlinecolor": "#2a3f5f"
            },
            "baxis": {
             "endlinecolor": "#2a3f5f",
             "gridcolor": "white",
             "linecolor": "white",
             "minorgridcolor": "white",
             "startlinecolor": "#2a3f5f"
            },
            "type": "carpet"
           }
          ],
          "choropleth": [
           {
            "colorbar": {
             "outlinewidth": 0,
             "ticks": ""
            },
            "type": "choropleth"
           }
          ],
          "contour": [
           {
            "colorbar": {
             "outlinewidth": 0,
             "ticks": ""
            },
            "colorscale": [
             [
              0,
              "#0d0887"
             ],
             [
              0.1111111111111111,
              "#46039f"
             ],
             [
              0.2222222222222222,
              "#7201a8"
             ],
             [
              0.3333333333333333,
              "#9c179e"
             ],
             [
              0.4444444444444444,
              "#bd3786"
             ],
             [
              0.5555555555555556,
              "#d8576b"
             ],
             [
              0.6666666666666666,
              "#ed7953"
             ],
             [
              0.7777777777777778,
              "#fb9f3a"
             ],
             [
              0.8888888888888888,
              "#fdca26"
             ],
             [
              1,
              "#f0f921"
             ]
            ],
            "type": "contour"
           }
          ],
          "contourcarpet": [
           {
            "colorbar": {
             "outlinewidth": 0,
             "ticks": ""
            },
            "type": "contourcarpet"
           }
          ],
          "heatmap": [
           {
            "colorbar": {
             "outlinewidth": 0,
             "ticks": ""
            },
            "colorscale": [
             [
              0,
              "#0d0887"
             ],
             [
              0.1111111111111111,
              "#46039f"
             ],
             [
              0.2222222222222222,
              "#7201a8"
             ],
             [
              0.3333333333333333,
              "#9c179e"
             ],
             [
              0.4444444444444444,
              "#bd3786"
             ],
             [
              0.5555555555555556,
              "#d8576b"
             ],
             [
              0.6666666666666666,
              "#ed7953"
             ],
             [
              0.7777777777777778,
              "#fb9f3a"
             ],
             [
              0.8888888888888888,
              "#fdca26"
             ],
             [
              1,
              "#f0f921"
             ]
            ],
            "type": "heatmap"
           }
          ],
          "heatmapgl": [
           {
            "colorbar": {
             "outlinewidth": 0,
             "ticks": ""
            },
            "colorscale": [
             [
              0,
              "#0d0887"
             ],
             [
              0.1111111111111111,
              "#46039f"
             ],
             [
              0.2222222222222222,
              "#7201a8"
             ],
             [
              0.3333333333333333,
              "#9c179e"
             ],
             [
              0.4444444444444444,
              "#bd3786"
             ],
             [
              0.5555555555555556,
              "#d8576b"
             ],
             [
              0.6666666666666666,
              "#ed7953"
             ],
             [
              0.7777777777777778,
              "#fb9f3a"
             ],
             [
              0.8888888888888888,
              "#fdca26"
             ],
             [
              1,
              "#f0f921"
             ]
            ],
            "type": "heatmapgl"
           }
          ],
          "histogram": [
           {
            "marker": {
             "pattern": {
              "fillmode": "overlay",
              "size": 10,
              "solidity": 0.2
             }
            },
            "type": "histogram"
           }
          ],
          "histogram2d": [
           {
            "colorbar": {
             "outlinewidth": 0,
             "ticks": ""
            },
            "colorscale": [
             [
              0,
              "#0d0887"
             ],
             [
              0.1111111111111111,
              "#46039f"
             ],
             [
              0.2222222222222222,
              "#7201a8"
             ],
             [
              0.3333333333333333,
              "#9c179e"
             ],
             [
              0.4444444444444444,
              "#bd3786"
             ],
             [
              0.5555555555555556,
              "#d8576b"
             ],
             [
              0.6666666666666666,
              "#ed7953"
             ],
             [
              0.7777777777777778,
              "#fb9f3a"
             ],
             [
              0.8888888888888888,
              "#fdca26"
             ],
             [
              1,
              "#f0f921"
             ]
            ],
            "type": "histogram2d"
           }
          ],
          "histogram2dcontour": [
           {
            "colorbar": {
             "outlinewidth": 0,
             "ticks": ""
            },
            "colorscale": [
             [
              0,
              "#0d0887"
             ],
             [
              0.1111111111111111,
              "#46039f"
             ],
             [
              0.2222222222222222,
              "#7201a8"
             ],
             [
              0.3333333333333333,
              "#9c179e"
             ],
             [
              0.4444444444444444,
              "#bd3786"
             ],
             [
              0.5555555555555556,
              "#d8576b"
             ],
             [
              0.6666666666666666,
              "#ed7953"
             ],
             [
              0.7777777777777778,
              "#fb9f3a"
             ],
             [
              0.8888888888888888,
              "#fdca26"
             ],
             [
              1,
              "#f0f921"
             ]
            ],
            "type": "histogram2dcontour"
           }
          ],
          "mesh3d": [
           {
            "colorbar": {
             "outlinewidth": 0,
             "ticks": ""
            },
            "type": "mesh3d"
           }
          ],
          "parcoords": [
           {
            "line": {
             "colorbar": {
              "outlinewidth": 0,
              "ticks": ""
             }
            },
            "type": "parcoords"
           }
          ],
          "pie": [
           {
            "automargin": true,
            "type": "pie"
           }
          ],
          "scatter": [
           {
            "fillpattern": {
             "fillmode": "overlay",
             "size": 10,
             "solidity": 0.2
            },
            "type": "scatter"
           }
          ],
          "scatter3d": [
           {
            "line": {
             "colorbar": {
              "outlinewidth": 0,
              "ticks": ""
             }
            },
            "marker": {
             "colorbar": {
              "outlinewidth": 0,
              "ticks": ""
             }
            },
            "type": "scatter3d"
           }
          ],
          "scattercarpet": [
           {
            "marker": {
             "colorbar": {
              "outlinewidth": 0,
              "ticks": ""
             }
            },
            "type": "scattercarpet"
           }
          ],
          "scattergeo": [
           {
            "marker": {
             "colorbar": {
              "outlinewidth": 0,
              "ticks": ""
             }
            },
            "type": "scattergeo"
           }
          ],
          "scattergl": [
           {
            "marker": {
             "colorbar": {
              "outlinewidth": 0,
              "ticks": ""
             }
            },
            "type": "scattergl"
           }
          ],
          "scattermapbox": [
           {
            "marker": {
             "colorbar": {
              "outlinewidth": 0,
              "ticks": ""
             }
            },
            "type": "scattermapbox"
           }
          ],
          "scatterpolar": [
           {
            "marker": {
             "colorbar": {
              "outlinewidth": 0,
              "ticks": ""
             }
            },
            "type": "scatterpolar"
           }
          ],
          "scatterpolargl": [
           {
            "marker": {
             "colorbar": {
              "outlinewidth": 0,
              "ticks": ""
             }
            },
            "type": "scatterpolargl"
           }
          ],
          "scatterternary": [
           {
            "marker": {
             "colorbar": {
              "outlinewidth": 0,
              "ticks": ""
             }
            },
            "type": "scatterternary"
           }
          ],
          "surface": [
           {
            "colorbar": {
             "outlinewidth": 0,
             "ticks": ""
            },
            "colorscale": [
             [
              0,
              "#0d0887"
             ],
             [
              0.1111111111111111,
              "#46039f"
             ],
             [
              0.2222222222222222,
              "#7201a8"
             ],
             [
              0.3333333333333333,
              "#9c179e"
             ],
             [
              0.4444444444444444,
              "#bd3786"
             ],
             [
              0.5555555555555556,
              "#d8576b"
             ],
             [
              0.6666666666666666,
              "#ed7953"
             ],
             [
              0.7777777777777778,
              "#fb9f3a"
             ],
             [
              0.8888888888888888,
              "#fdca26"
             ],
             [
              1,
              "#f0f921"
             ]
            ],
            "type": "surface"
           }
          ],
          "table": [
           {
            "cells": {
             "fill": {
              "color": "#EBF0F8"
             },
             "line": {
              "color": "white"
             }
            },
            "header": {
             "fill": {
              "color": "#C8D4E3"
             },
             "line": {
              "color": "white"
             }
            },
            "type": "table"
           }
          ]
         },
         "layout": {
          "annotationdefaults": {
           "arrowcolor": "#2a3f5f",
           "arrowhead": 0,
           "arrowwidth": 1
          },
          "autotypenumbers": "strict",
          "coloraxis": {
           "colorbar": {
            "outlinewidth": 0,
            "ticks": ""
           }
          },
          "colorscale": {
           "diverging": [
            [
             0,
             "#8e0152"
            ],
            [
             0.1,
             "#c51b7d"
            ],
            [
             0.2,
             "#de77ae"
            ],
            [
             0.3,
             "#f1b6da"
            ],
            [
             0.4,
             "#fde0ef"
            ],
            [
             0.5,
             "#f7f7f7"
            ],
            [
             0.6,
             "#e6f5d0"
            ],
            [
             0.7,
             "#b8e186"
            ],
            [
             0.8,
             "#7fbc41"
            ],
            [
             0.9,
             "#4d9221"
            ],
            [
             1,
             "#276419"
            ]
           ],
           "sequential": [
            [
             0,
             "#0d0887"
            ],
            [
             0.1111111111111111,
             "#46039f"
            ],
            [
             0.2222222222222222,
             "#7201a8"
            ],
            [
             0.3333333333333333,
             "#9c179e"
            ],
            [
             0.4444444444444444,
             "#bd3786"
            ],
            [
             0.5555555555555556,
             "#d8576b"
            ],
            [
             0.6666666666666666,
             "#ed7953"
            ],
            [
             0.7777777777777778,
             "#fb9f3a"
            ],
            [
             0.8888888888888888,
             "#fdca26"
            ],
            [
             1,
             "#f0f921"
            ]
           ],
           "sequentialminus": [
            [
             0,
             "#0d0887"
            ],
            [
             0.1111111111111111,
             "#46039f"
            ],
            [
             0.2222222222222222,
             "#7201a8"
            ],
            [
             0.3333333333333333,
             "#9c179e"
            ],
            [
             0.4444444444444444,
             "#bd3786"
            ],
            [
             0.5555555555555556,
             "#d8576b"
            ],
            [
             0.6666666666666666,
             "#ed7953"
            ],
            [
             0.7777777777777778,
             "#fb9f3a"
            ],
            [
             0.8888888888888888,
             "#fdca26"
            ],
            [
             1,
             "#f0f921"
            ]
           ]
          },
          "colorway": [
           "#636efa",
           "#EF553B",
           "#00cc96",
           "#ab63fa",
           "#FFA15A",
           "#19d3f3",
           "#FF6692",
           "#B6E880",
           "#FF97FF",
           "#FECB52"
          ],
          "font": {
           "color": "#2a3f5f"
          },
          "geo": {
           "bgcolor": "white",
           "lakecolor": "white",
           "landcolor": "#E5ECF6",
           "showlakes": true,
           "showland": true,
           "subunitcolor": "white"
          },
          "hoverlabel": {
           "align": "left"
          },
          "hovermode": "closest",
          "mapbox": {
           "style": "light"
          },
          "paper_bgcolor": "white",
          "plot_bgcolor": "#E5ECF6",
          "polar": {
           "angularaxis": {
            "gridcolor": "white",
            "linecolor": "white",
            "ticks": ""
           },
           "bgcolor": "#E5ECF6",
           "radialaxis": {
            "gridcolor": "white",
            "linecolor": "white",
            "ticks": ""
           }
          },
          "scene": {
           "xaxis": {
            "backgroundcolor": "#E5ECF6",
            "gridcolor": "white",
            "gridwidth": 2,
            "linecolor": "white",
            "showbackground": true,
            "ticks": "",
            "zerolinecolor": "white"
           },
           "yaxis": {
            "backgroundcolor": "#E5ECF6",
            "gridcolor": "white",
            "gridwidth": 2,
            "linecolor": "white",
            "showbackground": true,
            "ticks": "",
            "zerolinecolor": "white"
           },
           "zaxis": {
            "backgroundcolor": "#E5ECF6",
            "gridcolor": "white",
            "gridwidth": 2,
            "linecolor": "white",
            "showbackground": true,
            "ticks": "",
            "zerolinecolor": "white"
           }
          },
          "shapedefaults": {
           "line": {
            "color": "#2a3f5f"
           }
          },
          "ternary": {
           "aaxis": {
            "gridcolor": "white",
            "linecolor": "white",
            "ticks": ""
           },
           "baxis": {
            "gridcolor": "white",
            "linecolor": "white",
            "ticks": ""
           },
           "bgcolor": "#E5ECF6",
           "caxis": {
            "gridcolor": "white",
            "linecolor": "white",
            "ticks": ""
           }
          },
          "title": {
           "x": 0.05
          },
          "xaxis": {
           "automargin": true,
           "gridcolor": "white",
           "linecolor": "white",
           "ticks": "",
           "title": {
            "standoff": 15
           },
           "zerolinecolor": "white",
           "zerolinewidth": 2
          },
          "yaxis": {
           "automargin": true,
           "gridcolor": "white",
           "linecolor": "white",
           "ticks": "",
           "title": {
            "standoff": 15
           },
           "zerolinecolor": "white",
           "zerolinewidth": 2
          }
         }
        },
        "xaxis": {
         "rangeslider": {
          "visible": false
         }
        }
       }
      },
      "text/html": [
       "<div>                            <div id=\"1ef30dc9-f29b-4c55-859f-02670e76cee3\" class=\"plotly-graph-div\" style=\"height:525px; width:100%;\"></div>            <script type=\"text/javascript\">                require([\"plotly\"], function(Plotly) {                    window.PLOTLYENV=window.PLOTLYENV || {};                                    if (document.getElementById(\"1ef30dc9-f29b-4c55-859f-02670e76cee3\")) {                    Plotly.newPlot(                        \"1ef30dc9-f29b-4c55-859f-02670e76cee3\",                        [{\"close\":[\"161.2000\",\"161.2700\",\"161.3000\",\"161.7000\",\"161.4000\",\"161.6600\",\"161.6500\",\"161.4000\",\"161.3400\",\"161.1200\",\"160.8500\",\"161.0000\",\"160.9200\",\"160.8000\",\"160.8300\",\"160.7500\",\"160.8600\",\"161.2900\",\"161.5400\",\"161.3765\",\"161.3600\",\"161.0790\",\"161.5700\",\"162.0000\",\"161.1300\",\"161.0900\",\"160.7100\",\"160.2800\",\"161.0340\",\"160.1700\",\"160.5300\",\"161.2600\",\"161.2950\",\"161.0200\",\"160.1099\",\"160.6800\",\"162.0950\",\"161.6828\",\"161.6500\",\"161.4800\",\"162.6700\",\"159.2105\",\"160.6000\",\"160.7400\",\"161.2100\",\"161.3300\",\"161.1800\",\"161.3400\",\"161.4100\",\"161.7500\",\"162.1500\",\"162.1500\",\"161.8500\",\"162.3900\",\"162.0900\",\"161.9100\",\"161.6800\",\"162.4400\",\"161.7000\",\"161.8000\",\"161.8000\",\"161.7100\",\"161.7700\",\"162.5400\",\"162.3600\",\"162.3200\",\"162.3800\",\"162.4700\",\"162.4500\",\"162.4693\",\"162.4500\",\"162.3000\",\"162.3000\",\"162.2900\",\"162.3400\",\"162.3100\",\"162.5400\",\"162.3824\",\"162.5400\",\"162.5800\",\"161.5300\",\"161.8511\",\"161.6850\",\"162.5100\",\"162.7500\",\"162.0500\",\"162.7900\",\"163.0100\",\"163.0100\",\"163.5473\",\"163.8400\",\"164.1000\",\"163.7400\",\"162.9535\",\"163.5200\",\"162.0880\",\"161.9500\",\"163.3400\",\"163.4644\",\"162.9400\"],\"high\":[\"161.4900\",\"161.3700\",\"161.7300\",\"161.7000\",\"161.6000\",\"161.7300\",\"161.7000\",\"161.5000\",\"161.3400\",\"161.1500\",\"161.1700\",\"161.0200\",\"160.9200\",\"160.8500\",\"160.8800\",\"160.9800\",\"161.4700\",\"161.7500\",\"161.6800\",\"161.5300\",\"161.5700\",\"161.6900\",\"162.0500\",\"162.0700\",\"161.3800\",\"161.5800\",\"160.7400\",\"161.3800\",\"161.0700\",\"160.6000\",\"161.4202\",\"161.9700\",\"161.3600\",\"161.1300\",\"160.7580\",\"162.7000\",\"162.5000\",\"162.9200\",\"162.2399\",\"163.1000\",\"162.8955\",\"161.9300\",\"161.1500\",\"161.1900\",\"161.4300\",\"161.5000\",\"161.3900\",\"162.3900\",\"161.8400\",\"162.2000\",\"162.1900\",\"162.2900\",\"161.8500\",\"162.3900\",\"162.0900\",\"162.0000\",\"162.4700\",\"162.4400\",\"161.7800\",\"161.8000\",\"161.8100\",\"162.0000\",\"162.0000\",\"162.5400\",\"162.4700\",\"162.4500\",\"162.4400\",\"162.4800\",\"162.5000\",\"162.4900\",\"162.4700\",\"162.3900\",\"162.3000\",\"162.2900\",\"162.3900\",\"162.3700\",\"162.5400\",\"162.5400\",\"162.6900\",\"162.8600\",\"162.1600\",\"162.3300\",\"162.5900\",\"163.2800\",\"162.8500\",\"162.8800\",\"163.1383\",\"163.3000\",\"163.6325\",\"164.1600\",\"164.2573\",\"164.6400\",\"163.9800\",\"163.5300\",\"163.5550\",\"162.8300\",\"163.4811\",\"164.2896\",\"163.6700\",\"163.2050\"],\"low\":[\"161.2000\",\"161.2000\",\"161.2500\",\"161.6000\",\"161.4000\",\"161.5100\",\"161.3500\",\"161.3389\",\"161.1794\",\"160.9700\",\"160.8500\",\"160.8500\",\"160.8300\",\"160.8000\",\"160.7700\",\"160.7500\",\"160.7400\",\"161.2600\",\"161.2000\",\"161.0100\",\"160.9600\",\"161.0200\",\"161.3300\",\"161.0700\",\"160.8900\",\"160.7100\",\"159.7800\",\"160.2600\",\"160.0800\",\"159.9400\",\"160.4900\",\"161.1120\",\"160.5600\",\"159.9800\",\"159.7000\",\"160.3400\",\"161.2100\",\"161.5139\",\"160.9400\",\"161.1001\",\"158.5200\",\"159.2100\",\"160.6000\",\"160.6800\",\"161.0500\",\"160.8322\",\"161.0600\",\"158.0800\",\"161.3900\",\"161.7500\",\"162.1000\",\"161.9800\",\"161.8200\",\"162.3900\",\"161.9000\",\"161.9100\",\"161.6800\",\"161.4600\",\"161.7000\",\"161.8000\",\"161.8000\",\"161.6600\",\"161.5900\",\"162.4400\",\"162.3600\",\"162.3100\",\"162.3400\",\"162.4400\",\"162.3000\",\"162.4400\",\"162.3000\",\"162.3000\",\"162.2203\",\"162.1200\",\"162.2700\",\"162.2890\",\"162.3100\",\"162.2714\",\"162.4000\",\"161.4800\",\"161.4500\",\"161.6750\",\"161.6600\",\"162.3021\",\"162.0400\",\"162.0400\",\"162.3700\",\"162.9100\",\"163.0021\",\"163.4100\",\"163.4500\",\"163.5700\",\"162.9500\",\"162.8350\",\"162.0750\",\"161.9000\",\"161.7500\",\"163.0700\",\"162.5300\",\"162.3000\"],\"name\":\"Historical Data\",\"open\":[\"161.2700\",\"161.3500\",\"161.7000\",\"161.6000\",\"161.6000\",\"161.7000\",\"161.3500\",\"161.3400\",\"161.2500\",\"161.1500\",\"161.0800\",\"160.9500\",\"160.8300\",\"160.8200\",\"160.8000\",\"160.8500\",\"161.3000\",\"161.5400\",\"161.4000\",\"161.3950\",\"161.0700\",\"161.6000\",\"162.0200\",\"161.1400\",\"161.1000\",\"160.7200\",\"160.2800\",\"161.0400\",\"160.1900\",\"160.5350\",\"161.2550\",\"161.3100\",\"161.0500\",\"160.0950\",\"160.6850\",\"162.0800\",\"161.6600\",\"161.6590\",\"161.4600\",\"162.7100\",\"159.2400\",\"160.6400\",\"160.9100\",\"161.1800\",\"161.1749\",\"161.2000\",\"161.2500\",\"161.8500\",\"161.7500\",\"162.2000\",\"162.1500\",\"162.1000\",\"161.8200\",\"162.3900\",\"161.9000\",\"162.0000\",\"162.2600\",\"161.5100\",\"161.7700\",\"161.8000\",\"161.8100\",\"161.9900\",\"161.7800\",\"162.4400\",\"162.4700\",\"162.4000\",\"162.4400\",\"162.4500\",\"162.4700\",\"162.4500\",\"162.3000\",\"162.3900\",\"162.2500\",\"162.2900\",\"162.2700\",\"162.3700\",\"162.3500\",\"162.4900\",\"162.5400\",\"161.5200\",\"161.8700\",\"161.6750\",\"162.5000\",\"162.7600\",\"162.0573\",\"162.8000\",\"162.9700\",\"163.0000\",\"163.5300\",\"163.8500\",\"164.1187\",\"163.7300\",\"162.9700\",\"163.5100\",\"162.0750\",\"161.9500\",\"163.3600\",\"163.4900\",\"162.9800\",\"162.5192\"],\"x\":[\"2022-12-20 20:00:00\",\"2022-12-20 19:45:00\",\"2022-12-20 19:30:00\",\"2022-12-20 19:15:00\",\"2022-12-20 19:00:00\",\"2022-12-20 18:45:00\",\"2022-12-20 18:30:00\",\"2022-12-20 18:15:00\",\"2022-12-20 18:00:00\",\"2022-12-20 17:45:00\",\"2022-12-20 17:30:00\",\"2022-12-20 17:15:00\",\"2022-12-20 17:00:00\",\"2022-12-20 16:45:00\",\"2022-12-20 16:30:00\",\"2022-12-20 16:15:00\",\"2022-12-20 16:00:00\",\"2022-12-20 15:45:00\",\"2022-12-20 15:30:00\",\"2022-12-20 15:15:00\",\"2022-12-20 15:00:00\",\"2022-12-20 14:45:00\",\"2022-12-20 14:30:00\",\"2022-12-20 14:15:00\",\"2022-12-20 14:00:00\",\"2022-12-20 13:45:00\",\"2022-12-20 13:30:00\",\"2022-12-20 13:15:00\",\"2022-12-20 13:00:00\",\"2022-12-20 12:45:00\",\"2022-12-20 12:30:00\",\"2022-12-20 12:15:00\",\"2022-12-20 12:00:00\",\"2022-12-20 11:45:00\",\"2022-12-20 11:30:00\",\"2022-12-20 11:15:00\",\"2022-12-20 11:00:00\",\"2022-12-20 10:45:00\",\"2022-12-20 10:30:00\",\"2022-12-20 10:15:00\",\"2022-12-20 10:00:00\",\"2022-12-20 09:45:00\",\"2022-12-20 09:30:00\",\"2022-12-20 09:15:00\",\"2022-12-20 09:00:00\",\"2022-12-20 08:45:00\",\"2022-12-20 08:30:00\",\"2022-12-20 08:15:00\",\"2022-12-20 08:00:00\",\"2022-12-20 07:45:00\",\"2022-12-20 07:30:00\",\"2022-12-20 07:15:00\",\"2022-12-20 07:00:00\",\"2022-12-20 06:30:00\",\"2022-12-20 06:15:00\",\"2022-12-20 06:00:00\",\"2022-12-20 05:45:00\",\"2022-12-20 05:30:00\",\"2022-12-20 05:15:00\",\"2022-12-20 05:00:00\",\"2022-12-20 04:45:00\",\"2022-12-20 04:30:00\",\"2022-12-20 04:15:00\",\"2022-12-19 20:00:00\",\"2022-12-19 19:45:00\",\"2022-12-19 19:30:00\",\"2022-12-19 19:15:00\",\"2022-12-19 19:00:00\",\"2022-12-19 18:45:00\",\"2022-12-19 18:30:00\",\"2022-12-19 18:15:00\",\"2022-12-19 18:00:00\",\"2022-12-19 17:45:00\",\"2022-12-19 17:30:00\",\"2022-12-19 17:15:00\",\"2022-12-19 17:00:00\",\"2022-12-19 16:45:00\",\"2022-12-19 16:30:00\",\"2022-12-19 16:15:00\",\"2022-12-19 16:00:00\",\"2022-12-19 15:45:00\",\"2022-12-19 15:30:00\",\"2022-12-19 15:15:00\",\"2022-12-19 15:00:00\",\"2022-12-19 14:45:00\",\"2022-12-19 14:30:00\",\"2022-12-19 14:15:00\",\"2022-12-19 14:00:00\",\"2022-12-19 13:45:00\",\"2022-12-19 13:30:00\",\"2022-12-19 13:15:00\",\"2022-12-19 13:00:00\",\"2022-12-19 12:45:00\",\"2022-12-19 12:30:00\",\"2022-12-19 12:15:00\",\"2022-12-19 12:00:00\",\"2022-12-19 11:45:00\",\"2022-12-19 11:30:00\",\"2022-12-19 11:15:00\",\"2022-12-19 11:00:00\"],\"type\":\"candlestick\"},{\"line\":{\"color\":\"gray\"},\"name\":\"SMA\",\"x\":[\"2022-12-20 20:00:00\",\"2022-12-20 19:45:00\",\"2022-12-20 19:30:00\",\"2022-12-20 19:15:00\",\"2022-12-20 19:00:00\",\"2022-12-20 18:45:00\",\"2022-12-20 18:30:00\",\"2022-12-20 18:15:00\",\"2022-12-20 18:00:00\",\"2022-12-20 17:45:00\",\"2022-12-20 17:30:00\",\"2022-12-20 17:15:00\",\"2022-12-20 17:00:00\",\"2022-12-20 16:45:00\",\"2022-12-20 16:30:00\",\"2022-12-20 16:15:00\",\"2022-12-20 16:00:00\",\"2022-12-20 15:45:00\",\"2022-12-20 15:30:00\",\"2022-12-20 15:15:00\",\"2022-12-20 15:00:00\",\"2022-12-20 14:45:00\",\"2022-12-20 14:30:00\",\"2022-12-20 14:15:00\",\"2022-12-20 14:00:00\",\"2022-12-20 13:45:00\",\"2022-12-20 13:30:00\",\"2022-12-20 13:15:00\",\"2022-12-20 13:00:00\",\"2022-12-20 12:45:00\",\"2022-12-20 12:30:00\",\"2022-12-20 12:15:00\",\"2022-12-20 12:00:00\",\"2022-12-20 11:45:00\",\"2022-12-20 11:30:00\",\"2022-12-20 11:15:00\",\"2022-12-20 11:00:00\",\"2022-12-20 10:45:00\",\"2022-12-20 10:30:00\",\"2022-12-20 10:15:00\",\"2022-12-20 10:00:00\",\"2022-12-20 09:45:00\",\"2022-12-20 09:30:00\",\"2022-12-20 09:15:00\",\"2022-12-20 09:00:00\",\"2022-12-20 08:45:00\",\"2022-12-20 08:30:00\",\"2022-12-20 08:15:00\",\"2022-12-20 08:00:00\",\"2022-12-20 07:45:00\",\"2022-12-20 07:30:00\",\"2022-12-20 07:15:00\",\"2022-12-20 07:00:00\",\"2022-12-20 06:30:00\",\"2022-12-20 06:15:00\",\"2022-12-20 06:00:00\",\"2022-12-20 05:45:00\",\"2022-12-20 05:30:00\",\"2022-12-20 05:15:00\",\"2022-12-20 05:00:00\",\"2022-12-20 04:45:00\",\"2022-12-20 04:30:00\",\"2022-12-20 04:15:00\",\"2022-12-19 20:00:00\",\"2022-12-19 19:45:00\",\"2022-12-19 19:30:00\",\"2022-12-19 19:15:00\",\"2022-12-19 19:00:00\",\"2022-12-19 18:45:00\",\"2022-12-19 18:30:00\",\"2022-12-19 18:15:00\",\"2022-12-19 18:00:00\",\"2022-12-19 17:45:00\",\"2022-12-19 17:30:00\",\"2022-12-19 17:15:00\",\"2022-12-19 17:00:00\",\"2022-12-19 16:45:00\",\"2022-12-19 16:30:00\",\"2022-12-19 16:15:00\",\"2022-12-19 16:00:00\",\"2022-12-19 15:45:00\",\"2022-12-19 15:30:00\",\"2022-12-19 15:15:00\",\"2022-12-19 15:00:00\",\"2022-12-19 14:45:00\",\"2022-12-19 14:30:00\",\"2022-12-19 14:15:00\",\"2022-12-19 14:00:00\",\"2022-12-19 13:45:00\",\"2022-12-19 13:30:00\",\"2022-12-19 13:15:00\",\"2022-12-19 13:00:00\",\"2022-12-19 12:45:00\",\"2022-12-19 12:30:00\",\"2022-12-19 12:15:00\",\"2022-12-19 12:00:00\",\"2022-12-19 11:45:00\",\"2022-12-19 11:30:00\",\"2022-12-19 11:15:00\",\"2022-12-19 11:00:00\"],\"y\":[null,null,null,null,161.374,161.466,161.542,161.562,161.49,161.434,161.272,161.142,161.046,160.938,160.88,160.86,160.832,160.906,161.054,161.163,161.285,161.329,161.385,161.477,161.428,161.374,161.3,161.042,160.849,160.657,160.545,160.655,160.858,160.855,160.843,160.873,161.04,161.118,161.244,161.518,161.916,161.339,161.122,160.94,160.886,160.618,161.012,161.16,161.294,161.402,161.566,161.76,161.862,162.058,162.126,162.078,161.984,162.102,161.964,161.906,161.884,161.89,161.756,161.924,162.036,162.14,162.274,162.414,162.396,162.418,162.444,162.428,162.394,162.362,162.336,162.308,162.356,162.372,162.422,162.47,162.314,162.177,162.037,162.031,162.065,162.169,162.357,162.622,162.722,162.881,163.239,163.501,163.647,163.636,163.631,163.28,162.85,162.77,162.872,162.756],\"type\":\"scatter\"}],                        {\"template\":{\"data\":{\"histogram2dcontour\":[{\"type\":\"histogram2dcontour\",\"colorbar\":{\"outlinewidth\":0,\"ticks\":\"\"},\"colorscale\":[[0.0,\"#0d0887\"],[0.1111111111111111,\"#46039f\"],[0.2222222222222222,\"#7201a8\"],[0.3333333333333333,\"#9c179e\"],[0.4444444444444444,\"#bd3786\"],[0.5555555555555556,\"#d8576b\"],[0.6666666666666666,\"#ed7953\"],[0.7777777777777778,\"#fb9f3a\"],[0.8888888888888888,\"#fdca26\"],[1.0,\"#f0f921\"]]}],\"choropleth\":[{\"type\":\"choropleth\",\"colorbar\":{\"outlinewidth\":0,\"ticks\":\"\"}}],\"histogram2d\":[{\"type\":\"histogram2d\",\"colorbar\":{\"outlinewidth\":0,\"ticks\":\"\"},\"colorscale\":[[0.0,\"#0d0887\"],[0.1111111111111111,\"#46039f\"],[0.2222222222222222,\"#7201a8\"],[0.3333333333333333,\"#9c179e\"],[0.4444444444444444,\"#bd3786\"],[0.5555555555555556,\"#d8576b\"],[0.6666666666666666,\"#ed7953\"],[0.7777777777777778,\"#fb9f3a\"],[0.8888888888888888,\"#fdca26\"],[1.0,\"#f0f921\"]]}],\"heatmap\":[{\"type\":\"heatmap\",\"colorbar\":{\"outlinewidth\":0,\"ticks\":\"\"},\"colorscale\":[[0.0,\"#0d0887\"],[0.1111111111111111,\"#46039f\"],[0.2222222222222222,\"#7201a8\"],[0.3333333333333333,\"#9c179e\"],[0.4444444444444444,\"#bd3786\"],[0.5555555555555556,\"#d8576b\"],[0.6666666666666666,\"#ed7953\"],[0.7777777777777778,\"#fb9f3a\"],[0.8888888888888888,\"#fdca26\"],[1.0,\"#f0f921\"]]}],\"heatmapgl\":[{\"type\":\"heatmapgl\",\"colorbar\":{\"outlinewidth\":0,\"ticks\":\"\"},\"colorscale\":[[0.0,\"#0d0887\"],[0.1111111111111111,\"#46039f\"],[0.2222222222222222,\"#7201a8\"],[0.3333333333333333,\"#9c179e\"],[0.4444444444444444,\"#bd3786\"],[0.5555555555555556,\"#d8576b\"],[0.6666666666666666,\"#ed7953\"],[0.7777777777777778,\"#fb9f3a\"],[0.8888888888888888,\"#fdca26\"],[1.0,\"#f0f921\"]]}],\"contourcarpet\":[{\"type\":\"contourcarpet\",\"colorbar\":{\"outlinewidth\":0,\"ticks\":\"\"}}],\"contour\":[{\"type\":\"contour\",\"colorbar\":{\"outlinewidth\":0,\"ticks\":\"\"},\"colorscale\":[[0.0,\"#0d0887\"],[0.1111111111111111,\"#46039f\"],[0.2222222222222222,\"#7201a8\"],[0.3333333333333333,\"#9c179e\"],[0.4444444444444444,\"#bd3786\"],[0.5555555555555556,\"#d8576b\"],[0.6666666666666666,\"#ed7953\"],[0.7777777777777778,\"#fb9f3a\"],[0.8888888888888888,\"#fdca26\"],[1.0,\"#f0f921\"]]}],\"surface\":[{\"type\":\"surface\",\"colorbar\":{\"outlinewidth\":0,\"ticks\":\"\"},\"colorscale\":[[0.0,\"#0d0887\"],[0.1111111111111111,\"#46039f\"],[0.2222222222222222,\"#7201a8\"],[0.3333333333333333,\"#9c179e\"],[0.4444444444444444,\"#bd3786\"],[0.5555555555555556,\"#d8576b\"],[0.6666666666666666,\"#ed7953\"],[0.7777777777777778,\"#fb9f3a\"],[0.8888888888888888,\"#fdca26\"],[1.0,\"#f0f921\"]]}],\"mesh3d\":[{\"type\":\"mesh3d\",\"colorbar\":{\"outlinewidth\":0,\"ticks\":\"\"}}],\"scatter\":[{\"fillpattern\":{\"fillmode\":\"overlay\",\"size\":10,\"solidity\":0.2},\"type\":\"scatter\"}],\"parcoords\":[{\"type\":\"parcoords\",\"line\":{\"colorbar\":{\"outlinewidth\":0,\"ticks\":\"\"}}}],\"scatterpolargl\":[{\"type\":\"scatterpolargl\",\"marker\":{\"colorbar\":{\"outlinewidth\":0,\"ticks\":\"\"}}}],\"bar\":[{\"error_x\":{\"color\":\"#2a3f5f\"},\"error_y\":{\"color\":\"#2a3f5f\"},\"marker\":{\"line\":{\"color\":\"#E5ECF6\",\"width\":0.5},\"pattern\":{\"fillmode\":\"overlay\",\"size\":10,\"solidity\":0.2}},\"type\":\"bar\"}],\"scattergeo\":[{\"type\":\"scattergeo\",\"marker\":{\"colorbar\":{\"outlinewidth\":0,\"ticks\":\"\"}}}],\"scatterpolar\":[{\"type\":\"scatterpolar\",\"marker\":{\"colorbar\":{\"outlinewidth\":0,\"ticks\":\"\"}}}],\"histogram\":[{\"marker\":{\"pattern\":{\"fillmode\":\"overlay\",\"size\":10,\"solidity\":0.2}},\"type\":\"histogram\"}],\"scattergl\":[{\"type\":\"scattergl\",\"marker\":{\"colorbar\":{\"outlinewidth\":0,\"ticks\":\"\"}}}],\"scatter3d\":[{\"type\":\"scatter3d\",\"line\":{\"colorbar\":{\"outlinewidth\":0,\"ticks\":\"\"}},\"marker\":{\"colorbar\":{\"outlinewidth\":0,\"ticks\":\"\"}}}],\"scattermapbox\":[{\"type\":\"scattermapbox\",\"marker\":{\"colorbar\":{\"outlinewidth\":0,\"ticks\":\"\"}}}],\"scatterternary\":[{\"type\":\"scatterternary\",\"marker\":{\"colorbar\":{\"outlinewidth\":0,\"ticks\":\"\"}}}],\"scattercarpet\":[{\"type\":\"scattercarpet\",\"marker\":{\"colorbar\":{\"outlinewidth\":0,\"ticks\":\"\"}}}],\"carpet\":[{\"aaxis\":{\"endlinecolor\":\"#2a3f5f\",\"gridcolor\":\"white\",\"linecolor\":\"white\",\"minorgridcolor\":\"white\",\"startlinecolor\":\"#2a3f5f\"},\"baxis\":{\"endlinecolor\":\"#2a3f5f\",\"gridcolor\":\"white\",\"linecolor\":\"white\",\"minorgridcolor\":\"white\",\"startlinecolor\":\"#2a3f5f\"},\"type\":\"carpet\"}],\"table\":[{\"cells\":{\"fill\":{\"color\":\"#EBF0F8\"},\"line\":{\"color\":\"white\"}},\"header\":{\"fill\":{\"color\":\"#C8D4E3\"},\"line\":{\"color\":\"white\"}},\"type\":\"table\"}],\"barpolar\":[{\"marker\":{\"line\":{\"color\":\"#E5ECF6\",\"width\":0.5},\"pattern\":{\"fillmode\":\"overlay\",\"size\":10,\"solidity\":0.2}},\"type\":\"barpolar\"}],\"pie\":[{\"automargin\":true,\"type\":\"pie\"}]},\"layout\":{\"autotypenumbers\":\"strict\",\"colorway\":[\"#636efa\",\"#EF553B\",\"#00cc96\",\"#ab63fa\",\"#FFA15A\",\"#19d3f3\",\"#FF6692\",\"#B6E880\",\"#FF97FF\",\"#FECB52\"],\"font\":{\"color\":\"#2a3f5f\"},\"hovermode\":\"closest\",\"hoverlabel\":{\"align\":\"left\"},\"paper_bgcolor\":\"white\",\"plot_bgcolor\":\"#E5ECF6\",\"polar\":{\"bgcolor\":\"#E5ECF6\",\"angularaxis\":{\"gridcolor\":\"white\",\"linecolor\":\"white\",\"ticks\":\"\"},\"radialaxis\":{\"gridcolor\":\"white\",\"linecolor\":\"white\",\"ticks\":\"\"}},\"ternary\":{\"bgcolor\":\"#E5ECF6\",\"aaxis\":{\"gridcolor\":\"white\",\"linecolor\":\"white\",\"ticks\":\"\"},\"baxis\":{\"gridcolor\":\"white\",\"linecolor\":\"white\",\"ticks\":\"\"},\"caxis\":{\"gridcolor\":\"white\",\"linecolor\":\"white\",\"ticks\":\"\"}},\"coloraxis\":{\"colorbar\":{\"outlinewidth\":0,\"ticks\":\"\"}},\"colorscale\":{\"sequential\":[[0.0,\"#0d0887\"],[0.1111111111111111,\"#46039f\"],[0.2222222222222222,\"#7201a8\"],[0.3333333333333333,\"#9c179e\"],[0.4444444444444444,\"#bd3786\"],[0.5555555555555556,\"#d8576b\"],[0.6666666666666666,\"#ed7953\"],[0.7777777777777778,\"#fb9f3a\"],[0.8888888888888888,\"#fdca26\"],[1.0,\"#f0f921\"]],\"sequentialminus\":[[0.0,\"#0d0887\"],[0.1111111111111111,\"#46039f\"],[0.2222222222222222,\"#7201a8\"],[0.3333333333333333,\"#9c179e\"],[0.4444444444444444,\"#bd3786\"],[0.5555555555555556,\"#d8576b\"],[0.6666666666666666,\"#ed7953\"],[0.7777777777777778,\"#fb9f3a\"],[0.8888888888888888,\"#fdca26\"],[1.0,\"#f0f921\"]],\"diverging\":[[0,\"#8e0152\"],[0.1,\"#c51b7d\"],[0.2,\"#de77ae\"],[0.3,\"#f1b6da\"],[0.4,\"#fde0ef\"],[0.5,\"#f7f7f7\"],[0.6,\"#e6f5d0\"],[0.7,\"#b8e186\"],[0.8,\"#7fbc41\"],[0.9,\"#4d9221\"],[1,\"#276419\"]]},\"xaxis\":{\"gridcolor\":\"white\",\"linecolor\":\"white\",\"ticks\":\"\",\"title\":{\"standoff\":15},\"zerolinecolor\":\"white\",\"automargin\":true,\"zerolinewidth\":2},\"yaxis\":{\"gridcolor\":\"white\",\"linecolor\":\"white\",\"ticks\":\"\",\"title\":{\"standoff\":15},\"zerolinecolor\":\"white\",\"automargin\":true,\"zerolinewidth\":2},\"scene\":{\"xaxis\":{\"backgroundcolor\":\"#E5ECF6\",\"gridcolor\":\"white\",\"linecolor\":\"white\",\"showbackground\":true,\"ticks\":\"\",\"zerolinecolor\":\"white\",\"gridwidth\":2},\"yaxis\":{\"backgroundcolor\":\"#E5ECF6\",\"gridcolor\":\"white\",\"linecolor\":\"white\",\"showbackground\":true,\"ticks\":\"\",\"zerolinecolor\":\"white\",\"gridwidth\":2},\"zaxis\":{\"backgroundcolor\":\"#E5ECF6\",\"gridcolor\":\"white\",\"linecolor\":\"white\",\"showbackground\":true,\"ticks\":\"\",\"zerolinecolor\":\"white\",\"gridwidth\":2}},\"shapedefaults\":{\"line\":{\"color\":\"#2a3f5f\"}},\"annotationdefaults\":{\"arrowcolor\":\"#2a3f5f\",\"arrowhead\":0,\"arrowwidth\":1},\"geo\":{\"bgcolor\":\"white\",\"landcolor\":\"#E5ECF6\",\"subunitcolor\":\"white\",\"showland\":true,\"showlakes\":true,\"lakecolor\":\"white\"},\"title\":{\"x\":0.05},\"mapbox\":{\"style\":\"light\"}}},\"xaxis\":{\"rangeslider\":{\"visible\":false}}},                        {\"responsive\": true}                    ).then(function(){\n",
       "                            \n",
       "var gd = document.getElementById('1ef30dc9-f29b-4c55-859f-02670e76cee3');\n",
       "var x = new MutationObserver(function (mutations, observer) {{\n",
       "        var display = window.getComputedStyle(gd).display;\n",
       "        if (!display || display === 'none') {{\n",
       "            console.log([gd, 'removed!']);\n",
       "            Plotly.purge(gd);\n",
       "            observer.disconnect();\n",
       "        }}\n",
       "}});\n",
       "\n",
       "// Listen for the removal of the full notebook cells\n",
       "var notebookContainer = gd.closest('#notebook-container');\n",
       "if (notebookContainer) {{\n",
       "    x.observe(notebookContainer, {childList: true});\n",
       "}}\n",
       "\n",
       "// Listen for the clearing of the current output cell\n",
       "var outputEl = gd.closest('.output');\n",
       "if (outputEl) {{\n",
       "    x.observe(outputEl, {childList: true});\n",
       "}}\n",
       "\n",
       "                        })                };                });            </script>        </div>"
      ]
     },
     "metadata": {},
     "output_type": "display_data"
    }
   ],
   "source": [
    "show_graph(\"NVDA\")"
   ]
  },
  {
   "cell_type": "code",
   "execution_count": null,
   "id": "da2872c7",
   "metadata": {},
   "outputs": [],
   "source": []
  }
 ],
 "metadata": {
  "kernelspec": {
   "display_name": "algobulls",
   "language": "python",
   "name": "algobulls"
  },
  "language_info": {
   "codemirror_mode": {
    "name": "ipython",
    "version": 3
   },
   "file_extension": ".py",
   "mimetype": "text/x-python",
   "name": "python",
   "nbconvert_exporter": "python",
   "pygments_lexer": "ipython3",
   "version": "3.9.13"
  }
 },
 "nbformat": 4,
 "nbformat_minor": 5
}
