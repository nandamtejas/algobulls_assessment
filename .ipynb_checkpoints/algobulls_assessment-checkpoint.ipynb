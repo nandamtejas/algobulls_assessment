{
 "cells": [
  {
   "cell_type": "markdown",
   "id": "e01e2689",
   "metadata": {},
   "source": [
    "# AlgoBulls Python Developer Coding Assignment (Internshala)\n",
    "\n",
    "### Design a simple Algorithmic Trading Strategy\n",
    "\n",
    "###### By NANDAM TEJAS"
   ]
  },
  {
   "cell_type": "code",
   "execution_count": null,
   "id": "0243049b",
   "metadata": {},
   "outputs": [],
   "source": [
    "!pip install pandas\n",
    "!pip install numpy\n",
    "!pip install alpha_vantage\n",
    "!pip install matplotlib\n",
    "!pip install plotly\n",
    "!pip install python-dotenv\n",
    "\n",
    "!pip freeze > requirements.txt"
   ]
  },
  {
   "cell_type": "code",
   "execution_count": null,
   "id": "9ec85ed5",
   "metadata": {},
   "outputs": [],
   "source": [
    "#import all modules\n",
    "import os\n",
    "from datetime import datetime\n",
    "import pandas as pd\n",
    "import numpy as np\n",
    "from alpha_vantage.timeseries import TimeSeries\n",
    "import plotly.graph_objects as go\n",
    "\n",
    "from dotenv import load_dotenv\n",
    "load_dotenv()\n",
    "\n",
    "API_KEY = os.environ.get(\"API_KEY\")"
   ]
  },
  {
   "cell_type": "markdown",
   "id": "0d76d65a",
   "metadata": {},
   "source": [
    "### To define a class `ScriptData` which fetches US Stocks using `alpha_vantage` package\n",
    "##### And the class contains:\n",
    "- `fetch_intraday_data` `(method arguments: script)`: Which fetches intraday data for given scripts.\n",
    "- `convert_intraday_data` `(method arguments: script)`: Which converts the fetched data to pandas Dataframe  "
   ]
  },
  {
   "cell_type": "code",
   "execution_count": null,
   "id": "28863967",
   "metadata": {},
   "outputs": [],
   "source": [
    "# ScriptData\n",
    "class ScriptData:\n",
    "    \n",
    "    def __init__(self): \n",
    "        self.api_key = API_KEY\n",
    "        self.scripts = {}\n",
    "        \n",
    "    def __getitem__(self, script):\n",
    "        return self.scripts.get(script.upper(), None)\n",
    "    \n",
    "    def __setitem__(self, script, output):\n",
    "        self.scripts[script.upper()] = output\n",
    "        \n",
    "    def __contains__(self, script):\n",
    "        return script.upper() in self.scripts\n",
    "    \n",
    "    def fetch_intraday_data(self, script):\n",
    "        script = script.upper()\n",
    "        \n",
    "        if script not in self:\n",
    "            # Create the TimeSeries and get the intraday data in dictionary\n",
    "            ts = TimeSeries(key=self.api_key)\n",
    "            data, meta_data = ts.get_intraday(script)\n",
    "\n",
    "            # Now store the data in scripts\n",
    "            self.__setitem__(script, data)\n",
    "    \n",
    "    def convert_intraday_data(self, script):\n",
    "        script = script.upper()\n",
    "        \n",
    "        # Get the data from the `fetch_intraday_data` method\n",
    "        data = self.__getitem__(script)\n",
    "        \n",
    "        # If the data is not in dataframe, convert it\n",
    "        if not isinstance(data, pd.DataFrame):\n",
    "            # Convert data to pandas Dataframe in `df` \n",
    "            df = pd.DataFrame.from_dict({i: data[i]\n",
    "                                        for i in data.keys()\n",
    "                                        for j in data[i].keys()},\n",
    "                                       orient=\"index\")\n",
    "            # reset column names\n",
    "            df.columns = list(map(\n",
    "                lambda x: x.split()[-1],\n",
    "                df.columns\n",
    "            ))\n",
    "            df.reset_index(names=['timestamp'], inplace=True)\n",
    "        \n",
    "            self.__setitem__(script, df)"
   ]
  },
  {
   "cell_type": "code",
   "execution_count": null,
   "id": "8a415482",
   "metadata": {},
   "outputs": [],
   "source": [
    "script_data = ScriptData()"
   ]
  },
  {
   "cell_type": "code",
   "execution_count": null,
   "id": "3606f978",
   "metadata": {},
   "outputs": [],
   "source": [
    "script_data.fetch_intraday_data('GOOGL')\n",
    "script_data.convert_intraday_data(\"GOOGL\")\n",
    "script_data['GOOGL']"
   ]
  },
  {
   "cell_type": "code",
   "execution_count": null,
   "id": "ad0a1adb",
   "metadata": {},
   "outputs": [],
   "source": [
    "script_data.fetch_intraday_data('AAPL')\n",
    "script_data.convert_intraday_data(\"AAPL\")\n",
    "script_data['AAPL']"
   ]
  },
  {
   "cell_type": "code",
   "execution_count": null,
   "id": "f0e7397f",
   "metadata": {},
   "outputs": [],
   "source": [
    "'GOOGL' in script_data"
   ]
  },
  {
   "cell_type": "code",
   "execution_count": null,
   "id": "6b0b4bd0",
   "metadata": {},
   "outputs": [],
   "source": [
    "'AAPL' in script_data"
   ]
  },
  {
   "cell_type": "code",
   "execution_count": null,
   "id": "f2183ab9",
   "metadata": {},
   "outputs": [],
   "source": [
    "'NVDA' in script_data"
   ]
  },
  {
   "cell_type": "markdown",
   "id": "cd98bdfc",
   "metadata": {},
   "source": [
    "### To define function called `indicator1` which takes `df` and `timestamp` as inputs and returns another dataframe with two columns\n",
    "- `timestamp`: Same as ‘timestamp’ column in ‘df’\n",
    "- `indicator`: Moving Average of the ‘close’ column in ‘df’. The number of\n",
    "    elements to be taken for a moving average is defined by ‘timeperiod’. For\n",
    "    example, if ‘timeperiod’ is 5, then each row in this column will be an average\n",
    "    of total 5 previous values (including current value) of the ‘close’ column.\n"
   ]
  },
  {
   "cell_type": "code",
   "execution_count": null,
   "id": "8ec24b79",
   "metadata": {},
   "outputs": [],
   "source": [
    "def indicator1(df, timestamp=5):\n",
    "    \"\"\"\n",
    "    - `inputs`: `df` and `timestamp` with default value `5`\n",
    "    - `returns`: Dataframe of two columns\n",
    "            - `timestamp`: Same as ‘timestamp’ column in ‘df’\n",
    "            - `indicator`: Moving Average of the ‘close’ column in ‘df’. The number of\n",
    "                elements to be taken for a moving average is defined by ‘timeperiod’. For\n",
    "                example, if ‘timeperiod’ is 5, then each row in this column will be an average\n",
    "                of total 5 previous values (including current value) of the ‘close’ column.\n",
    "    \"\"\"\n",
    "    df = df.copy(deep=False)\n",
    "    # create the new column in the given Dataframe\n",
    "    for i in range(0, df.shape[0]-timestamp+1):\n",
    "        df.loc[df.index[i+timestamp-1], 'indicator'] = round(\n",
    "            ((df['close'][i:i+timestamp].astype(np.float64).sum()) / timestamp), 3)\n",
    "\n",
    "    #return the dataframe with `timestamp` and `indicator` columns\n",
    "    return df[['timestamp', 'indicator']]"
   ]
  },
  {
   "cell_type": "code",
   "execution_count": null,
   "id": "e8fccc6b",
   "metadata": {},
   "outputs": [],
   "source": [
    "indicator1(script_data['GOOGL'], timestamp=5)"
   ]
  },
  {
   "cell_type": "code",
   "execution_count": null,
   "id": "d4af390d",
   "metadata": {},
   "outputs": [],
   "source": [
    "indicator1(script_data['AAPL'], timestamp=5)"
   ]
  },
  {
   "cell_type": "markdown",
   "id": "052664fc",
   "metadata": {},
   "source": [
    "### To define class `Strategy` which\n",
    "- Fetch intraday historical day (‘df’) using ScriptData class.\n",
    "We’ll refer to the ‘close’ column of ‘df’ as close_data.\n",
    "- Compute indicator data on ‘close’ of ‘df’ using indicator1 function.\n",
    "We’ll refer to the ‘indicator’ column of this data as indicator_data.\n",
    "- Generate a pandas DataFrame called ‘signals’ with 2 columns:\n",
    "    i. ‘timestamp’: Same as ‘timestamp’ column in ‘df’\n",
    "    ii. ‘signal’: This column can have the following values:\n",
    "        1. BUY (When: If indicator_data cuts close_data upwards)\n",
    "        2. SELL (When: If indicator_data cuts close_data downwards)\n",
    "        3. NO_SIGNAL (When: If indicator_data and close_data don’t cut each other)"
   ]
  },
  {
   "cell_type": "code",
   "execution_count": null,
   "id": "a30e8eb7",
   "metadata": {},
   "outputs": [],
   "source": [
    "class Strategy:\n",
    "    \n",
    "    def __init__(self, script):\n",
    "        self.script = script\n",
    "        self.script_data = None\n",
    "    \n",
    "    def get_script_data(self):\n",
    "        \"\"\"\n",
    "        Get the script data from `ScriptData` and store it in self.script_data\n",
    "        \"\"\"\n",
    "        script_data = ScriptData()\n",
    "        script_data.fetch_intraday_data(self.script)\n",
    "        script_data.convert_intraday_data(self.script)\n",
    "        self.script_data = script_data[self.script].copy()\n",
    "        \n",
    "    def get_signals(self):\n",
    "        \"\"\"\n",
    "        Method used to generate the pandas Dataframe called `signals` with 2 columns:\n",
    "            - `timestamp`: Same `timestamp` from `self.script_data`\n",
    "            - `signal`: This column can have following values:\n",
    "                1. `BUY`\n",
    "                2. `SELL`\n",
    "                3. `NO_SIGNAL`\n",
    "        And prints `signals` Dataframe with only those rows where the signal is either `BUY` or `SELL` \n",
    "        \"\"\"\n",
    "        # Close data\n",
    "        close_data = self.script_data[['timestamp', 'close']]\n",
    "        \n",
    "        # Indicator data\n",
    "        indicator_data = indicator1(self.script_data, timestamp=5)\n",
    "        \n",
    "        # Create the new Dataframe of name `signals`\n",
    "        signals = pd.concat([close_data[['timestamp', 'close']], indicator_data[['indicator']]], axis=1)\n",
    "        \n",
    "        # Convert close to float64 type\n",
    "        signals['close'] = signals['close'].astype(np.float64)\n",
    "        \n",
    "        # Create diff column in signals Dataframe\n",
    "        for i in range(0, signals.shape[0]):\n",
    "            signals.loc[signals.index[i], 'diff'] = np.round(signals['indicator'][i] - signals['close'][i])\n",
    "        \n",
    "        # Create `signal` column in signals Dataframe\n",
    "        flag = np.NaN\n",
    "        for i in range(0, signals.shape[0]):\n",
    "            if flag == signals.iloc[i]['diff']:\n",
    "                set_flag = \"NO_SIG\"\n",
    "            else:\n",
    "                if signals.iloc[i]['indicator'] > signals.iloc[i]['close']:\n",
    "                    set_flag = \"BUY\"\n",
    "                elif signals.iloc[i]['indicator'] < signals.iloc[i]['close']:\n",
    "                    set_flag = \"SELL\"\n",
    "                else:\n",
    "                    set_flag = \"NO_SIG\"\n",
    "                flag = signals.iloc[i]['diff']\n",
    "            signals.loc[signals.index[i], 'signal'] = set_flag\n",
    "        \n",
    "        # print the `signals` Dataframe with `signal` column with [BUY, SELL]\n",
    "        return signals[(signals['signal'] == 'BUY') | (signals['signal'] == 'SELL')][['timestamp', 'signal']]\n",
    "            "
   ]
  },
  {
   "cell_type": "code",
   "execution_count": null,
   "id": "09525eb0",
   "metadata": {},
   "outputs": [],
   "source": [
    "strategy = Strategy(\"NVDA\")"
   ]
  },
  {
   "cell_type": "code",
   "execution_count": null,
   "id": "e1c17238",
   "metadata": {},
   "outputs": [],
   "source": [
    "strategy.get_script_data()"
   ]
  },
  {
   "cell_type": "code",
   "execution_count": null,
   "id": "44196bdb",
   "metadata": {},
   "outputs": [],
   "source": [
    "strategy.get_signals()"
   ]
  },
  {
   "cell_type": "markdown",
   "id": "0eb31517",
   "metadata": {},
   "source": [
    "### [OPTIONAL] Plot a candlestick chart of `df` and `indicator`\n"
   ]
  },
  {
   "cell_type": "code",
   "execution_count": null,
   "id": "75b000b8",
   "metadata": {},
   "outputs": [],
   "source": [
    "def show_graph(script):\n",
    "    df = script_data[script.upper()]\n",
    "    ind = indicator1(df, timestamp=5)\n",
    "\n",
    "    fig = go.Figure(data=[go.Candlestick(x=df['timestamp'],\n",
    "                    open=df['open'], high=df['high'],\n",
    "                    low=df['low'], close=df['close'], \n",
    "                    name=\"Historical Data\"), \n",
    "\n",
    "                    go.Scatter(x=ind['timestamp'], y=ind['indicator'],\n",
    "                    line = dict(color = \"gray\"), name=\"SMA\")\n",
    "                ]\n",
    "            )\n",
    "\n",
    "    fig.update_layout(xaxis_rangeslider_visible=False)\n",
    "\n",
    "    fig.show()"
   ]
  },
  {
   "cell_type": "code",
   "execution_count": null,
   "id": "11a8bc92",
   "metadata": {},
   "outputs": [],
   "source": [
    "show_graph('GOOGL')"
   ]
  },
  {
   "cell_type": "code",
   "execution_count": null,
   "id": "0ddea1ce",
   "metadata": {},
   "outputs": [],
   "source": [
    "show_graph(\"AAPL\")"
   ]
  },
  {
   "cell_type": "code",
   "execution_count": null,
   "id": "7bbda058",
   "metadata": {},
   "outputs": [],
   "source": [
    "show_graph(\"NVDA\")"
   ]
  },
  {
   "cell_type": "code",
   "execution_count": null,
   "id": "8b5f36cb",
   "metadata": {},
   "outputs": [],
   "source": []
  }
 ],
 "metadata": {
  "kernelspec": {
   "display_name": "algobulls",
   "language": "python",
   "name": "algobulls"
  },
  "language_info": {
   "codemirror_mode": {
    "name": "ipython",
    "version": 3
   },
   "file_extension": ".py",
   "mimetype": "text/x-python",
   "name": "python",
   "nbconvert_exporter": "python",
   "pygments_lexer": "ipython3",
   "version": "3.9.13"
  }
 },
 "nbformat": 4,
 "nbformat_minor": 5
}
