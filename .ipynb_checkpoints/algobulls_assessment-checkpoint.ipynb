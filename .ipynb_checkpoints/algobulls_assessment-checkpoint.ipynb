{
 "cells": [
  {
   "cell_type": "markdown",
   "id": "a9e103ce",
   "metadata": {},
   "source": [
    "# AlgoBulls Python Developer Coding Assignment (Internshala)\n",
    "\n",
    "### Design a simple Algorithmic Trading Strategy\n",
    "\n",
    "###### By NANDAM TEJAS"
   ]
  },
  {
   "cell_type": "code",
   "execution_count": 1,
   "id": "f31edc87",
   "metadata": {},
   "outputs": [
    {
     "name": "stdout",
     "output_type": "stream",
     "text": [
      "Requirement already satisfied: pandas in c:\\users\\91701\\anaconda3\\lib\\site-packages (1.4.4)\n",
      "Requirement already satisfied: pytz>=2020.1 in c:\\users\\91701\\anaconda3\\lib\\site-packages (from pandas) (2022.1)\n",
      "Requirement already satisfied: python-dateutil>=2.8.1 in c:\\users\\91701\\anaconda3\\lib\\site-packages (from pandas) (2.8.2)\n",
      "Requirement already satisfied: numpy>=1.18.5 in c:\\users\\91701\\anaconda3\\lib\\site-packages (from pandas) (1.21.5)\n",
      "Requirement already satisfied: six>=1.5 in c:\\users\\91701\\anaconda3\\lib\\site-packages (from python-dateutil>=2.8.1->pandas) (1.16.0)\n",
      "Requirement already satisfied: numpy in c:\\users\\91701\\anaconda3\\lib\\site-packages (1.21.5)\n",
      "Requirement already satisfied: alpha_vantage in c:\\users\\91701\\anaconda3\\lib\\site-packages (2.3.1)\n",
      "Requirement already satisfied: requests in c:\\users\\91701\\anaconda3\\lib\\site-packages (from alpha_vantage) (2.28.1)\n",
      "Requirement already satisfied: aiohttp in c:\\users\\91701\\anaconda3\\lib\\site-packages (from alpha_vantage) (3.8.3)\n",
      "Requirement already satisfied: aiosignal>=1.1.2 in c:\\users\\91701\\anaconda3\\lib\\site-packages (from aiohttp->alpha_vantage) (1.3.1)\n",
      "Requirement already satisfied: async-timeout<5.0,>=4.0.0a3 in c:\\users\\91701\\anaconda3\\lib\\site-packages (from aiohttp->alpha_vantage) (4.0.2)\n",
      "Requirement already satisfied: attrs>=17.3.0 in c:\\users\\91701\\anaconda3\\lib\\site-packages (from aiohttp->alpha_vantage) (21.4.0)\n",
      "Requirement already satisfied: charset-normalizer<3.0,>=2.0 in c:\\users\\91701\\anaconda3\\lib\\site-packages (from aiohttp->alpha_vantage) (2.0.4)\n",
      "Requirement already satisfied: yarl<2.0,>=1.0 in c:\\users\\91701\\anaconda3\\lib\\site-packages (from aiohttp->alpha_vantage) (1.8.2)\n",
      "Requirement already satisfied: multidict<7.0,>=4.5 in c:\\users\\91701\\anaconda3\\lib\\site-packages (from aiohttp->alpha_vantage) (6.0.4)\n",
      "Requirement already satisfied: frozenlist>=1.1.1 in c:\\users\\91701\\anaconda3\\lib\\site-packages (from aiohttp->alpha_vantage) (1.3.3)\n",
      "Requirement already satisfied: certifi>=2017.4.17 in c:\\users\\91701\\anaconda3\\lib\\site-packages (from requests->alpha_vantage) (2022.9.14)\n",
      "Requirement already satisfied: urllib3<1.27,>=1.21.1 in c:\\users\\91701\\anaconda3\\lib\\site-packages (from requests->alpha_vantage) (1.26.11)\n",
      "Requirement already satisfied: idna<4,>=2.5 in c:\\users\\91701\\anaconda3\\lib\\site-packages (from requests->alpha_vantage) (3.3)\n",
      "Requirement already satisfied: matplotlib in c:\\users\\91701\\anaconda3\\lib\\site-packages (3.5.2)\n",
      "Requirement already satisfied: python-dateutil>=2.7 in c:\\users\\91701\\anaconda3\\lib\\site-packages (from matplotlib) (2.8.2)\n",
      "Requirement already satisfied: packaging>=20.0 in c:\\users\\91701\\anaconda3\\lib\\site-packages (from matplotlib) (21.3)\n",
      "Requirement already satisfied: pyparsing>=2.2.1 in c:\\users\\91701\\anaconda3\\lib\\site-packages (from matplotlib) (3.0.9)\n",
      "Requirement already satisfied: kiwisolver>=1.0.1 in c:\\users\\91701\\anaconda3\\lib\\site-packages (from matplotlib) (1.4.2)\n",
      "Requirement already satisfied: pillow>=6.2.0 in c:\\users\\91701\\anaconda3\\lib\\site-packages (from matplotlib) (9.2.0)\n",
      "Requirement already satisfied: cycler>=0.10 in c:\\users\\91701\\anaconda3\\lib\\site-packages (from matplotlib) (0.11.0)\n",
      "Requirement already satisfied: fonttools>=4.22.0 in c:\\users\\91701\\anaconda3\\lib\\site-packages (from matplotlib) (4.25.0)\n",
      "Requirement already satisfied: numpy>=1.17 in c:\\users\\91701\\anaconda3\\lib\\site-packages (from matplotlib) (1.21.5)\n",
      "Requirement already satisfied: six>=1.5 in c:\\users\\91701\\anaconda3\\lib\\site-packages (from python-dateutil>=2.7->matplotlib) (1.16.0)\n",
      "Requirement already satisfied: plotly in c:\\users\\91701\\anaconda3\\lib\\site-packages (5.9.0)\n",
      "Requirement already satisfied: tenacity>=6.2.0 in c:\\users\\91701\\anaconda3\\lib\\site-packages (from plotly) (8.0.1)\n",
      "Requirement already satisfied: python-dotenv in c:\\users\\91701\\anaconda3\\lib\\site-packages (0.21.0)\n"
     ]
    }
   ],
   "source": [
    "!pip install pandas\n",
    "!pip install numpy\n",
    "!pip install alpha_vantage\n",
    "!pip install matplotlib\n",
    "!pip install plotly\n",
    "!pip install python-dotenv\n",
    "\n",
    "!pip freeze > requirements.txt"
   ]
  },
  {
   "cell_type": "code",
   "execution_count": 2,
   "id": "ac400565",
   "metadata": {},
   "outputs": [],
   "source": [
    "#import all modules\n",
    "import os\n",
    "from datetime import datetime\n",
    "import pandas as pd\n",
    "import numpy as np\n",
    "from alpha_vantage.timeseries import TimeSeries\n",
    "import plotly.graph_objects as go\n",
    "\n",
    "from dotenv import load_dotenv\n",
    "load_dotenv()\n",
    "\n",
    "API_KEY = os.environ.get(\"API_KEY\")"
   ]
  },
  {
   "cell_type": "markdown",
   "id": "35a7f9aa",
   "metadata": {},
   "source": [
    "### To define a class `ScriptData` which fetches US Stocks using `alpha_vantage` package\n",
    "##### And the class contains:\n",
    "- `fetch_intraday_data` `(method arguments: script)`: Which fetches intraday data for given scripts.\n",
    "- `convert_intraday_data` `(method arguments: script)`: Which converts the fetched data to pandas Dataframe  "
   ]
  },
  {
   "cell_type": "code",
   "execution_count": 3,
   "id": "78ef5c58",
   "metadata": {},
   "outputs": [],
   "source": [
    "# ScriptData\n",
    "class ScriptData:\n",
    "    \n",
    "    def __init__(self): \n",
    "        self.api_key = API_KEY\n",
    "        self.scripts = {}\n",
    "        \n",
    "    def __getitem__(self, script):\n",
    "        return self.scripts.get(script.upper(), None)\n",
    "    \n",
    "    def __setitem__(self, script, output):\n",
    "        self.scripts[script.upper()] = output\n",
    "        \n",
    "    def __contains__(self, script):\n",
    "        return script.upper() in self.scripts\n",
    "    \n",
    "    def fetch_intraday_data(self, script):\n",
    "        script = script.upper()\n",
    "        \n",
    "        if script not in self:\n",
    "            # Create the TimeSeries and get the intraday data in dictionary\n",
    "            ts = TimeSeries(key=self.api_key)\n",
    "            data, meta_data = ts.get_intraday(script, interval=\"60min\")\n",
    "\n",
    "            # Now store the data in scripts\n",
    "            self.__setitem__(script, data)\n",
    "    \n",
    "    def convert_intraday_data(self, script):\n",
    "        script = script.upper()\n",
    "        \n",
    "        # Get the data from the `fetch_intraday_data` method\n",
    "        data = self.__getitem__(script)\n",
    "        \n",
    "        # If the data is not in dataframe, convert it\n",
    "        if not isinstance(data, pd.DataFrame):\n",
    "            # Convert data to pandas Dataframe in `df` \n",
    "            df = pd.DataFrame.from_dict({i: data[i]\n",
    "                                        for i in data.keys()\n",
    "                                        for j in data[i].keys()},\n",
    "                                       orient=\"index\")\n",
    "            # reset column names\n",
    "            df.columns = list(map(\n",
    "                lambda x: x.split()[-1],\n",
    "                df.columns\n",
    "            ))\n",
    "            df.reset_index(names=['timestamp'], inplace=True)\n",
    "        \n",
    "            self.__setitem__(script, df.iloc[::-1].reset_index(drop=True))"
   ]
  },
  {
   "cell_type": "code",
   "execution_count": 4,
   "id": "06bea575",
   "metadata": {},
   "outputs": [],
   "source": [
    "script_data = ScriptData()"
   ]
  },
  {
   "cell_type": "code",
   "execution_count": 5,
   "id": "ddf0f1e3",
   "metadata": {},
   "outputs": [
    {
     "data": {
      "text/html": [
       "<div>\n",
       "<style scoped>\n",
       "    .dataframe tbody tr th:only-of-type {\n",
       "        vertical-align: middle;\n",
       "    }\n",
       "\n",
       "    .dataframe tbody tr th {\n",
       "        vertical-align: top;\n",
       "    }\n",
       "\n",
       "    .dataframe thead th {\n",
       "        text-align: right;\n",
       "    }\n",
       "</style>\n",
       "<table border=\"1\" class=\"dataframe\">\n",
       "  <thead>\n",
       "    <tr style=\"text-align: right;\">\n",
       "      <th></th>\n",
       "      <th>timestamp</th>\n",
       "      <th>open</th>\n",
       "      <th>high</th>\n",
       "      <th>low</th>\n",
       "      <th>close</th>\n",
       "      <th>volume</th>\n",
       "    </tr>\n",
       "  </thead>\n",
       "  <tbody>\n",
       "    <tr>\n",
       "      <th>0</th>\n",
       "      <td>2022-12-21 17:00:00</td>\n",
       "      <td>89.5800</td>\n",
       "      <td>89.8000</td>\n",
       "      <td>89.5500</td>\n",
       "      <td>89.6200</td>\n",
       "      <td>1596119</td>\n",
       "    </tr>\n",
       "    <tr>\n",
       "      <th>1</th>\n",
       "      <td>2022-12-21 18:00:00</td>\n",
       "      <td>89.7100</td>\n",
       "      <td>89.7900</td>\n",
       "      <td>89.6600</td>\n",
       "      <td>89.7500</td>\n",
       "      <td>4156</td>\n",
       "    </tr>\n",
       "    <tr>\n",
       "      <th>2</th>\n",
       "      <td>2022-12-21 19:00:00</td>\n",
       "      <td>89.7500</td>\n",
       "      <td>89.7900</td>\n",
       "      <td>89.6000</td>\n",
       "      <td>89.7700</td>\n",
       "      <td>7033</td>\n",
       "    </tr>\n",
       "    <tr>\n",
       "      <th>3</th>\n",
       "      <td>2022-12-21 20:00:00</td>\n",
       "      <td>89.7000</td>\n",
       "      <td>89.7700</td>\n",
       "      <td>89.6200</td>\n",
       "      <td>89.7700</td>\n",
       "      <td>8787</td>\n",
       "    </tr>\n",
       "    <tr>\n",
       "      <th>4</th>\n",
       "      <td>2022-12-22 05:00:00</td>\n",
       "      <td>89.8600</td>\n",
       "      <td>89.8600</td>\n",
       "      <td>89.7000</td>\n",
       "      <td>89.7000</td>\n",
       "      <td>5285</td>\n",
       "    </tr>\n",
       "    <tr>\n",
       "      <th>...</th>\n",
       "      <td>...</td>\n",
       "      <td>...</td>\n",
       "      <td>...</td>\n",
       "      <td>...</td>\n",
       "      <td>...</td>\n",
       "      <td>...</td>\n",
       "    </tr>\n",
       "    <tr>\n",
       "      <th>95</th>\n",
       "      <td>2022-12-30 16:00:00</td>\n",
       "      <td>87.2050</td>\n",
       "      <td>88.3000</td>\n",
       "      <td>87.2000</td>\n",
       "      <td>88.2400</td>\n",
       "      <td>5183569</td>\n",
       "    </tr>\n",
       "    <tr>\n",
       "      <th>96</th>\n",
       "      <td>2022-12-30 17:00:00</td>\n",
       "      <td>88.2300</td>\n",
       "      <td>88.7400</td>\n",
       "      <td>88.2200</td>\n",
       "      <td>88.5000</td>\n",
       "      <td>1038000</td>\n",
       "    </tr>\n",
       "    <tr>\n",
       "      <th>97</th>\n",
       "      <td>2022-12-30 18:00:00</td>\n",
       "      <td>88.4815</td>\n",
       "      <td>88.4815</td>\n",
       "      <td>88.3600</td>\n",
       "      <td>88.4199</td>\n",
       "      <td>7066</td>\n",
       "    </tr>\n",
       "    <tr>\n",
       "      <th>98</th>\n",
       "      <td>2022-12-30 19:00:00</td>\n",
       "      <td>88.3600</td>\n",
       "      <td>88.4500</td>\n",
       "      <td>88.3500</td>\n",
       "      <td>88.4000</td>\n",
       "      <td>13286</td>\n",
       "    </tr>\n",
       "    <tr>\n",
       "      <th>99</th>\n",
       "      <td>2022-12-30 20:00:00</td>\n",
       "      <td>88.4600</td>\n",
       "      <td>88.5700</td>\n",
       "      <td>88.4500</td>\n",
       "      <td>88.5500</td>\n",
       "      <td>6460</td>\n",
       "    </tr>\n",
       "  </tbody>\n",
       "</table>\n",
       "<p>100 rows × 6 columns</p>\n",
       "</div>"
      ],
      "text/plain": [
       "              timestamp     open     high      low    close   volume\n",
       "0   2022-12-21 17:00:00  89.5800  89.8000  89.5500  89.6200  1596119\n",
       "1   2022-12-21 18:00:00  89.7100  89.7900  89.6600  89.7500     4156\n",
       "2   2022-12-21 19:00:00  89.7500  89.7900  89.6000  89.7700     7033\n",
       "3   2022-12-21 20:00:00  89.7000  89.7700  89.6200  89.7700     8787\n",
       "4   2022-12-22 05:00:00  89.8600  89.8600  89.7000  89.7000     5285\n",
       "..                  ...      ...      ...      ...      ...      ...\n",
       "95  2022-12-30 16:00:00  87.2050  88.3000  87.2000  88.2400  5183569\n",
       "96  2022-12-30 17:00:00  88.2300  88.7400  88.2200  88.5000  1038000\n",
       "97  2022-12-30 18:00:00  88.4815  88.4815  88.3600  88.4199     7066\n",
       "98  2022-12-30 19:00:00  88.3600  88.4500  88.3500  88.4000    13286\n",
       "99  2022-12-30 20:00:00  88.4600  88.5700  88.4500  88.5500     6460\n",
       "\n",
       "[100 rows x 6 columns]"
      ]
     },
     "execution_count": 5,
     "metadata": {},
     "output_type": "execute_result"
    }
   ],
   "source": [
    "script_data.fetch_intraday_data('GOOGL')\n",
    "script_data.convert_intraday_data(\"GOOGL\")\n",
    "script_data['GOOGL']"
   ]
  },
  {
   "cell_type": "code",
   "execution_count": 6,
   "id": "a9739594",
   "metadata": {},
   "outputs": [
    {
     "data": {
      "text/html": [
       "<div>\n",
       "<style scoped>\n",
       "    .dataframe tbody tr th:only-of-type {\n",
       "        vertical-align: middle;\n",
       "    }\n",
       "\n",
       "    .dataframe tbody tr th {\n",
       "        vertical-align: top;\n",
       "    }\n",
       "\n",
       "    .dataframe thead th {\n",
       "        text-align: right;\n",
       "    }\n",
       "</style>\n",
       "<table border=\"1\" class=\"dataframe\">\n",
       "  <thead>\n",
       "    <tr style=\"text-align: right;\">\n",
       "      <th></th>\n",
       "      <th>timestamp</th>\n",
       "      <th>open</th>\n",
       "      <th>high</th>\n",
       "      <th>low</th>\n",
       "      <th>close</th>\n",
       "      <th>volume</th>\n",
       "    </tr>\n",
       "  </thead>\n",
       "  <tbody>\n",
       "    <tr>\n",
       "      <th>0</th>\n",
       "      <td>2022-12-21 17:00:00</td>\n",
       "      <td>135.2790</td>\n",
       "      <td>135.5586</td>\n",
       "      <td>134.6498</td>\n",
       "      <td>135.4188</td>\n",
       "      <td>5399794</td>\n",
       "    </tr>\n",
       "    <tr>\n",
       "      <th>1</th>\n",
       "      <td>2022-12-21 18:00:00</td>\n",
       "      <td>135.4088</td>\n",
       "      <td>135.4887</td>\n",
       "      <td>135.3289</td>\n",
       "      <td>135.4887</td>\n",
       "      <td>43032</td>\n",
       "    </tr>\n",
       "    <tr>\n",
       "      <th>2</th>\n",
       "      <td>2022-12-21 19:00:00</td>\n",
       "      <td>135.4987</td>\n",
       "      <td>135.5287</td>\n",
       "      <td>135.3888</td>\n",
       "      <td>135.4588</td>\n",
       "      <td>42909</td>\n",
       "    </tr>\n",
       "    <tr>\n",
       "      <th>3</th>\n",
       "      <td>2022-12-21 20:00:00</td>\n",
       "      <td>135.4588</td>\n",
       "      <td>135.5586</td>\n",
       "      <td>135.3389</td>\n",
       "      <td>135.4987</td>\n",
       "      <td>40192</td>\n",
       "    </tr>\n",
       "    <tr>\n",
       "      <th>4</th>\n",
       "      <td>2022-12-22 05:00:00</td>\n",
       "      <td>135.7783</td>\n",
       "      <td>135.7783</td>\n",
       "      <td>135.2790</td>\n",
       "      <td>135.2790</td>\n",
       "      <td>21403</td>\n",
       "    </tr>\n",
       "    <tr>\n",
       "      <th>...</th>\n",
       "      <td>...</td>\n",
       "      <td>...</td>\n",
       "      <td>...</td>\n",
       "      <td>...</td>\n",
       "      <td>...</td>\n",
       "      <td>...</td>\n",
       "    </tr>\n",
       "    <tr>\n",
       "      <th>95</th>\n",
       "      <td>2022-12-30 16:00:00</td>\n",
       "      <td>128.2800</td>\n",
       "      <td>129.9500</td>\n",
       "      <td>128.2550</td>\n",
       "      <td>129.9100</td>\n",
       "      <td>16425305</td>\n",
       "    </tr>\n",
       "    <tr>\n",
       "      <th>96</th>\n",
       "      <td>2022-12-30 17:00:00</td>\n",
       "      <td>129.9100</td>\n",
       "      <td>130.0500</td>\n",
       "      <td>129.7800</td>\n",
       "      <td>129.9900</td>\n",
       "      <td>2235326</td>\n",
       "    </tr>\n",
       "    <tr>\n",
       "      <th>97</th>\n",
       "      <td>2022-12-30 18:00:00</td>\n",
       "      <td>130.0000</td>\n",
       "      <td>130.0500</td>\n",
       "      <td>129.9100</td>\n",
       "      <td>129.9487</td>\n",
       "      <td>76786</td>\n",
       "    </tr>\n",
       "    <tr>\n",
       "      <th>98</th>\n",
       "      <td>2022-12-30 19:00:00</td>\n",
       "      <td>129.9500</td>\n",
       "      <td>130.0500</td>\n",
       "      <td>129.9400</td>\n",
       "      <td>130.0100</td>\n",
       "      <td>35882</td>\n",
       "    </tr>\n",
       "    <tr>\n",
       "      <th>99</th>\n",
       "      <td>2022-12-30 20:00:00</td>\n",
       "      <td>129.9900</td>\n",
       "      <td>130.0400</td>\n",
       "      <td>129.9700</td>\n",
       "      <td>129.9700</td>\n",
       "      <td>40761</td>\n",
       "    </tr>\n",
       "  </tbody>\n",
       "</table>\n",
       "<p>100 rows × 6 columns</p>\n",
       "</div>"
      ],
      "text/plain": [
       "              timestamp      open      high       low     close    volume\n",
       "0   2022-12-21 17:00:00  135.2790  135.5586  134.6498  135.4188   5399794\n",
       "1   2022-12-21 18:00:00  135.4088  135.4887  135.3289  135.4887     43032\n",
       "2   2022-12-21 19:00:00  135.4987  135.5287  135.3888  135.4588     42909\n",
       "3   2022-12-21 20:00:00  135.4588  135.5586  135.3389  135.4987     40192\n",
       "4   2022-12-22 05:00:00  135.7783  135.7783  135.2790  135.2790     21403\n",
       "..                  ...       ...       ...       ...       ...       ...\n",
       "95  2022-12-30 16:00:00  128.2800  129.9500  128.2550  129.9100  16425305\n",
       "96  2022-12-30 17:00:00  129.9100  130.0500  129.7800  129.9900   2235326\n",
       "97  2022-12-30 18:00:00  130.0000  130.0500  129.9100  129.9487     76786\n",
       "98  2022-12-30 19:00:00  129.9500  130.0500  129.9400  130.0100     35882\n",
       "99  2022-12-30 20:00:00  129.9900  130.0400  129.9700  129.9700     40761\n",
       "\n",
       "[100 rows x 6 columns]"
      ]
     },
     "execution_count": 6,
     "metadata": {},
     "output_type": "execute_result"
    }
   ],
   "source": [
    "script_data.fetch_intraday_data('AAPL')\n",
    "script_data.convert_intraday_data(\"AAPL\")\n",
    "script_data['AAPL']"
   ]
  },
  {
   "cell_type": "code",
   "execution_count": 7,
   "id": "a76e4e9f",
   "metadata": {},
   "outputs": [
    {
     "data": {
      "text/plain": [
       "True"
      ]
     },
     "execution_count": 7,
     "metadata": {},
     "output_type": "execute_result"
    }
   ],
   "source": [
    "'GOOGL' in script_data"
   ]
  },
  {
   "cell_type": "code",
   "execution_count": 8,
   "id": "e3931f33",
   "metadata": {},
   "outputs": [
    {
     "data": {
      "text/plain": [
       "True"
      ]
     },
     "execution_count": 8,
     "metadata": {},
     "output_type": "execute_result"
    }
   ],
   "source": [
    "'AAPL' in script_data"
   ]
  },
  {
   "cell_type": "code",
   "execution_count": 9,
   "id": "6f314c8a",
   "metadata": {},
   "outputs": [
    {
     "data": {
      "text/plain": [
       "False"
      ]
     },
     "execution_count": 9,
     "metadata": {},
     "output_type": "execute_result"
    }
   ],
   "source": [
    "'NVDA' in script_data"
   ]
  },
  {
   "cell_type": "markdown",
   "id": "aa16a940",
   "metadata": {},
   "source": [
    "### To define function called `indicator1` which takes `df` and `timestamp` as inputs and returns another dataframe with two columns\n",
    "- `timestamp`: Same as ‘timestamp’ column in ‘df’\n",
    "- `indicator`: Moving Average of the ‘close’ column in ‘df’. The number of\n",
    "    elements to be taken for a moving average is defined by ‘timeperiod’. For\n",
    "    example, if ‘timeperiod’ is 5, then each row in this column will be an average\n",
    "    of total 5 previous values (including current value) of the ‘close’ column.\n"
   ]
  },
  {
   "cell_type": "code",
   "execution_count": 10,
   "id": "51d66d78",
   "metadata": {},
   "outputs": [],
   "source": [
    "def indicator1(df, timestamp=5):\n",
    "    \"\"\"\n",
    "    - `inputs`: `df` and `timestamp` with default value `5`\n",
    "    - `returns`: Dataframe of two columns\n",
    "            - `timestamp`: Same as ‘timestamp’ column in ‘df’\n",
    "            - `indicator`: Moving Average of the ‘close’ column in ‘df’. The number of\n",
    "                elements to be taken for a moving average is defined by ‘timeperiod’. For\n",
    "                example, if ‘timeperiod’ is 5, then each row in this column will be an average\n",
    "                of total 5 previous values (including current value) of the ‘close’ column.\n",
    "    \"\"\"\n",
    "    df = df.copy(deep=False)\n",
    "    # create the new column in the given Dataframe\n",
    "    for i in range(0, df.shape[0]-timestamp+1):\n",
    "        df.loc[df.index[i+timestamp-1], 'indicator'] = round(\n",
    "            ((df['close'][i:i+timestamp].astype(np.float64).sum()) / timestamp), 3)\n",
    "\n",
    "    #return the dataframe with `timestamp` and `indicator` columns\n",
    "    return df[['timestamp', 'indicator']]"
   ]
  },
  {
   "cell_type": "code",
   "execution_count": 11,
   "id": "31a0cccb",
   "metadata": {},
   "outputs": [
    {
     "data": {
      "text/html": [
       "<div>\n",
       "<style scoped>\n",
       "    .dataframe tbody tr th:only-of-type {\n",
       "        vertical-align: middle;\n",
       "    }\n",
       "\n",
       "    .dataframe tbody tr th {\n",
       "        vertical-align: top;\n",
       "    }\n",
       "\n",
       "    .dataframe thead th {\n",
       "        text-align: right;\n",
       "    }\n",
       "</style>\n",
       "<table border=\"1\" class=\"dataframe\">\n",
       "  <thead>\n",
       "    <tr style=\"text-align: right;\">\n",
       "      <th></th>\n",
       "      <th>timestamp</th>\n",
       "      <th>indicator</th>\n",
       "    </tr>\n",
       "  </thead>\n",
       "  <tbody>\n",
       "    <tr>\n",
       "      <th>0</th>\n",
       "      <td>2022-12-21 17:00:00</td>\n",
       "      <td>NaN</td>\n",
       "    </tr>\n",
       "    <tr>\n",
       "      <th>1</th>\n",
       "      <td>2022-12-21 18:00:00</td>\n",
       "      <td>NaN</td>\n",
       "    </tr>\n",
       "    <tr>\n",
       "      <th>2</th>\n",
       "      <td>2022-12-21 19:00:00</td>\n",
       "      <td>NaN</td>\n",
       "    </tr>\n",
       "    <tr>\n",
       "      <th>3</th>\n",
       "      <td>2022-12-21 20:00:00</td>\n",
       "      <td>NaN</td>\n",
       "    </tr>\n",
       "    <tr>\n",
       "      <th>4</th>\n",
       "      <td>2022-12-22 05:00:00</td>\n",
       "      <td>89.722</td>\n",
       "    </tr>\n",
       "    <tr>\n",
       "      <th>...</th>\n",
       "      <td>...</td>\n",
       "      <td>...</td>\n",
       "    </tr>\n",
       "    <tr>\n",
       "      <th>95</th>\n",
       "      <td>2022-12-30 16:00:00</td>\n",
       "      <td>87.485</td>\n",
       "    </tr>\n",
       "    <tr>\n",
       "      <th>96</th>\n",
       "      <td>2022-12-30 17:00:00</td>\n",
       "      <td>87.709</td>\n",
       "    </tr>\n",
       "    <tr>\n",
       "      <th>97</th>\n",
       "      <td>2022-12-30 18:00:00</td>\n",
       "      <td>87.901</td>\n",
       "    </tr>\n",
       "    <tr>\n",
       "      <th>98</th>\n",
       "      <td>2022-12-30 19:00:00</td>\n",
       "      <td>88.153</td>\n",
       "    </tr>\n",
       "    <tr>\n",
       "      <th>99</th>\n",
       "      <td>2022-12-30 20:00:00</td>\n",
       "      <td>88.422</td>\n",
       "    </tr>\n",
       "  </tbody>\n",
       "</table>\n",
       "<p>100 rows × 2 columns</p>\n",
       "</div>"
      ],
      "text/plain": [
       "              timestamp  indicator\n",
       "0   2022-12-21 17:00:00        NaN\n",
       "1   2022-12-21 18:00:00        NaN\n",
       "2   2022-12-21 19:00:00        NaN\n",
       "3   2022-12-21 20:00:00        NaN\n",
       "4   2022-12-22 05:00:00     89.722\n",
       "..                  ...        ...\n",
       "95  2022-12-30 16:00:00     87.485\n",
       "96  2022-12-30 17:00:00     87.709\n",
       "97  2022-12-30 18:00:00     87.901\n",
       "98  2022-12-30 19:00:00     88.153\n",
       "99  2022-12-30 20:00:00     88.422\n",
       "\n",
       "[100 rows x 2 columns]"
      ]
     },
     "execution_count": 11,
     "metadata": {},
     "output_type": "execute_result"
    }
   ],
   "source": [
    "indicator1(script_data['GOOGL'], timestamp=5)"
   ]
  },
  {
   "cell_type": "code",
   "execution_count": 12,
   "id": "a2bb4284",
   "metadata": {},
   "outputs": [
    {
     "data": {
      "text/html": [
       "<div>\n",
       "<style scoped>\n",
       "    .dataframe tbody tr th:only-of-type {\n",
       "        vertical-align: middle;\n",
       "    }\n",
       "\n",
       "    .dataframe tbody tr th {\n",
       "        vertical-align: top;\n",
       "    }\n",
       "\n",
       "    .dataframe thead th {\n",
       "        text-align: right;\n",
       "    }\n",
       "</style>\n",
       "<table border=\"1\" class=\"dataframe\">\n",
       "  <thead>\n",
       "    <tr style=\"text-align: right;\">\n",
       "      <th></th>\n",
       "      <th>timestamp</th>\n",
       "      <th>indicator</th>\n",
       "    </tr>\n",
       "  </thead>\n",
       "  <tbody>\n",
       "    <tr>\n",
       "      <th>0</th>\n",
       "      <td>2022-12-21 17:00:00</td>\n",
       "      <td>NaN</td>\n",
       "    </tr>\n",
       "    <tr>\n",
       "      <th>1</th>\n",
       "      <td>2022-12-21 18:00:00</td>\n",
       "      <td>NaN</td>\n",
       "    </tr>\n",
       "    <tr>\n",
       "      <th>2</th>\n",
       "      <td>2022-12-21 19:00:00</td>\n",
       "      <td>NaN</td>\n",
       "    </tr>\n",
       "    <tr>\n",
       "      <th>3</th>\n",
       "      <td>2022-12-21 20:00:00</td>\n",
       "      <td>NaN</td>\n",
       "    </tr>\n",
       "    <tr>\n",
       "      <th>4</th>\n",
       "      <td>2022-12-22 05:00:00</td>\n",
       "      <td>135.429</td>\n",
       "    </tr>\n",
       "    <tr>\n",
       "      <th>...</th>\n",
       "      <td>...</td>\n",
       "      <td>...</td>\n",
       "    </tr>\n",
       "    <tr>\n",
       "      <th>95</th>\n",
       "      <td>2022-12-30 16:00:00</td>\n",
       "      <td>128.903</td>\n",
       "    </tr>\n",
       "    <tr>\n",
       "      <th>96</th>\n",
       "      <td>2022-12-30 17:00:00</td>\n",
       "      <td>129.102</td>\n",
       "    </tr>\n",
       "    <tr>\n",
       "      <th>97</th>\n",
       "      <td>2022-12-30 18:00:00</td>\n",
       "      <td>129.301</td>\n",
       "    </tr>\n",
       "    <tr>\n",
       "      <th>98</th>\n",
       "      <td>2022-12-30 19:00:00</td>\n",
       "      <td>129.628</td>\n",
       "    </tr>\n",
       "    <tr>\n",
       "      <th>99</th>\n",
       "      <td>2022-12-30 20:00:00</td>\n",
       "      <td>129.966</td>\n",
       "    </tr>\n",
       "  </tbody>\n",
       "</table>\n",
       "<p>100 rows × 2 columns</p>\n",
       "</div>"
      ],
      "text/plain": [
       "              timestamp  indicator\n",
       "0   2022-12-21 17:00:00        NaN\n",
       "1   2022-12-21 18:00:00        NaN\n",
       "2   2022-12-21 19:00:00        NaN\n",
       "3   2022-12-21 20:00:00        NaN\n",
       "4   2022-12-22 05:00:00    135.429\n",
       "..                  ...        ...\n",
       "95  2022-12-30 16:00:00    128.903\n",
       "96  2022-12-30 17:00:00    129.102\n",
       "97  2022-12-30 18:00:00    129.301\n",
       "98  2022-12-30 19:00:00    129.628\n",
       "99  2022-12-30 20:00:00    129.966\n",
       "\n",
       "[100 rows x 2 columns]"
      ]
     },
     "execution_count": 12,
     "metadata": {},
     "output_type": "execute_result"
    }
   ],
   "source": [
    "indicator1(script_data['AAPL'], timestamp=5)"
   ]
  },
  {
   "cell_type": "markdown",
   "id": "663138c2",
   "metadata": {},
   "source": [
    "### To define class `Strategy` which\n",
    "- Fetch intraday historical day (‘df’) using ScriptData class.\n",
    "We’ll refer to the ‘close’ column of ‘df’ as close_data.\n",
    "- Compute indicator data on ‘close’ of ‘df’ using indicator1 function.\n",
    "We’ll refer to the ‘indicator’ column of this data as indicator_data.\n",
    "- Generate a pandas DataFrame called ‘signals’ with 2 columns:\n",
    "    i. ‘timestamp’: Same as ‘timestamp’ column in ‘df’\n",
    "    ii. ‘signal’: This column can have the following values:\n",
    "        1. BUY (When: If indicator_data cuts close_data upwards)\n",
    "        2. SELL (When: If indicator_data cuts close_data downwards)\n",
    "        3. NO_SIGNAL (When: If indicator_data and close_data don’t cut each other)"
   ]
  },
  {
   "cell_type": "code",
   "execution_count": 13,
   "id": "aac96969",
   "metadata": {},
   "outputs": [],
   "source": [
    "class Strategy:\n",
    "    \n",
    "    def __init__(self, script, timestamp=5):\n",
    "        self.script = script\n",
    "        self.script_data = None\n",
    "        self.indicator_data = None\n",
    "        self.timestamp = timestamp\n",
    "    \n",
    "    def get_script_data(self):\n",
    "        \"\"\"\n",
    "        Get the script data from `ScriptData` and store it in self.script_data\n",
    "        \"\"\"\n",
    "        script_data = ScriptData()\n",
    "        script_data.fetch_intraday_data(self.script)\n",
    "        script_data.convert_intraday_data(self.script)\n",
    "        self.script_data = script_data[self.script].copy()\n",
    "        self.indicator_data = indicator1(self.script_data, timestamp=self.timestamp)\n",
    "        \n",
    "    def get_signals(self):\n",
    "        \"\"\"\n",
    "        Method used to generate the pandas Dataframe called `signals` with 2 columns:\n",
    "            - `timestamp`: Same `timestamp` from `self.script_data`\n",
    "            - `signal`: This column can have following values:\n",
    "                1. `BUY`\n",
    "                2. `SELL`\n",
    "                3. `NO_SIGNAL`\n",
    "        And prints `signals` Dataframe with only those rows where the signal is either `BUY` or `SELL` \n",
    "        \"\"\"\n",
    "        \n",
    "        # Close data\n",
    "        close_data = self.script_data[['timestamp', 'close']]\n",
    "        \n",
    "        # Indicator data\n",
    "        indicator_data = self.indicator_data\n",
    "        \n",
    "        # Create the new Dataframe of name `signals`\n",
    "        signals = pd.concat([close_data[['timestamp', 'close']], indicator_data[['indicator']]], axis=1)\n",
    "        \n",
    "        # Convert close to float64 type\n",
    "        signals['close'] = signals['close'].astype(np.float64)\n",
    "        \n",
    "        # Create diff column in signals Dataframe\n",
    "        for i in range(0, signals.shape[0]):\n",
    "            signals.loc[signals.index[i], 'diff'] = np.round(signals['indicator'][i] - signals['close'][i], decimals=2)\n",
    "           \n",
    "        \n",
    "        # Create `signal` column in signals Dataframe\n",
    "        flag_positive, diff_positive = None, None\n",
    "        for i in range(0, signals.shape[0]):\n",
    "            diff_positive = None if str(signals.iloc[i]['diff']) == 'nan' \\\n",
    "                                    else (True if signals.iloc[i]['diff'] > 0 else False)\n",
    "            if flag_positive == diff_positive:\n",
    "                set_flag = \"NO_SIG\"\n",
    "            else:\n",
    "                if (signals.iloc[i]['indicator'] > signals.iloc[i]['close']) and (flag_positive != diff_positive):\n",
    "                    set_flag = \"BUY\" if flag_positive is not None else \"NO_SIG\"\n",
    "                elif (signals.iloc[i]['indicator'] < signals.iloc[i]['close']) and (flag_positive != diff_positive):\n",
    "                    set_flag = \"SELL\"\n",
    "                else:\n",
    "                    set_flag = \"NO_SIG\"\n",
    "                flag_positive = diff_positive\n",
    "            signals.loc[signals.index[i], 'signal'] = set_flag\n",
    "            \n",
    "            \n",
    "        # print the `signals` Dataframe with `signal` column with [BUY, SELL]\n",
    "        output = signals[(signals['signal'] == 'BUY') | (signals['signal'] == 'SELL')][['timestamp', 'signal']]\n",
    "        return output.reset_index(drop=True)"
   ]
  },
  {
   "cell_type": "code",
   "execution_count": 14,
   "id": "fc1881dd",
   "metadata": {},
   "outputs": [],
   "source": [
    "strategy = Strategy(\"NVDA\")"
   ]
  },
  {
   "cell_type": "code",
   "execution_count": 15,
   "id": "6345a7b5",
   "metadata": {},
   "outputs": [],
   "source": [
    "strategy.get_script_data()"
   ]
  },
  {
   "cell_type": "code",
   "execution_count": 16,
   "id": "6639f377",
   "metadata": {},
   "outputs": [
    {
     "data": {
      "text/html": [
       "<div>\n",
       "<style scoped>\n",
       "    .dataframe tbody tr th:only-of-type {\n",
       "        vertical-align: middle;\n",
       "    }\n",
       "\n",
       "    .dataframe tbody tr th {\n",
       "        vertical-align: top;\n",
       "    }\n",
       "\n",
       "    .dataframe thead th {\n",
       "        text-align: right;\n",
       "    }\n",
       "</style>\n",
       "<table border=\"1\" class=\"dataframe\">\n",
       "  <thead>\n",
       "    <tr style=\"text-align: right;\">\n",
       "      <th></th>\n",
       "      <th>timestamp</th>\n",
       "      <th>indicator</th>\n",
       "    </tr>\n",
       "  </thead>\n",
       "  <tbody>\n",
       "    <tr>\n",
       "      <th>0</th>\n",
       "      <td>2022-12-21 17:00:00</td>\n",
       "      <td>NaN</td>\n",
       "    </tr>\n",
       "    <tr>\n",
       "      <th>1</th>\n",
       "      <td>2022-12-21 18:00:00</td>\n",
       "      <td>NaN</td>\n",
       "    </tr>\n",
       "    <tr>\n",
       "      <th>2</th>\n",
       "      <td>2022-12-21 19:00:00</td>\n",
       "      <td>NaN</td>\n",
       "    </tr>\n",
       "    <tr>\n",
       "      <th>3</th>\n",
       "      <td>2022-12-21 20:00:00</td>\n",
       "      <td>NaN</td>\n",
       "    </tr>\n",
       "    <tr>\n",
       "      <th>4</th>\n",
       "      <td>2022-12-22 05:00:00</td>\n",
       "      <td>164.796</td>\n",
       "    </tr>\n",
       "    <tr>\n",
       "      <th>...</th>\n",
       "      <td>...</td>\n",
       "      <td>...</td>\n",
       "    </tr>\n",
       "    <tr>\n",
       "      <th>95</th>\n",
       "      <td>2022-12-30 16:00:00</td>\n",
       "      <td>144.795</td>\n",
       "    </tr>\n",
       "    <tr>\n",
       "      <th>96</th>\n",
       "      <td>2022-12-30 17:00:00</td>\n",
       "      <td>145.112</td>\n",
       "    </tr>\n",
       "    <tr>\n",
       "      <th>97</th>\n",
       "      <td>2022-12-30 18:00:00</td>\n",
       "      <td>145.386</td>\n",
       "    </tr>\n",
       "    <tr>\n",
       "      <th>98</th>\n",
       "      <td>2022-12-30 19:00:00</td>\n",
       "      <td>145.824</td>\n",
       "    </tr>\n",
       "    <tr>\n",
       "      <th>99</th>\n",
       "      <td>2022-12-30 20:00:00</td>\n",
       "      <td>146.295</td>\n",
       "    </tr>\n",
       "  </tbody>\n",
       "</table>\n",
       "<p>100 rows × 2 columns</p>\n",
       "</div>"
      ],
      "text/plain": [
       "              timestamp  indicator\n",
       "0   2022-12-21 17:00:00        NaN\n",
       "1   2022-12-21 18:00:00        NaN\n",
       "2   2022-12-21 19:00:00        NaN\n",
       "3   2022-12-21 20:00:00        NaN\n",
       "4   2022-12-22 05:00:00    164.796\n",
       "..                  ...        ...\n",
       "95  2022-12-30 16:00:00    144.795\n",
       "96  2022-12-30 17:00:00    145.112\n",
       "97  2022-12-30 18:00:00    145.386\n",
       "98  2022-12-30 19:00:00    145.824\n",
       "99  2022-12-30 20:00:00    146.295\n",
       "\n",
       "[100 rows x 2 columns]"
      ]
     },
     "execution_count": 16,
     "metadata": {},
     "output_type": "execute_result"
    }
   ],
   "source": [
    "strategy.indicator_data"
   ]
  },
  {
   "cell_type": "code",
   "execution_count": 17,
   "id": "d9863d7b",
   "metadata": {},
   "outputs": [
    {
     "data": {
      "text/html": [
       "<div>\n",
       "<style scoped>\n",
       "    .dataframe tbody tr th:only-of-type {\n",
       "        vertical-align: middle;\n",
       "    }\n",
       "\n",
       "    .dataframe tbody tr th {\n",
       "        vertical-align: top;\n",
       "    }\n",
       "\n",
       "    .dataframe thead th {\n",
       "        text-align: right;\n",
       "    }\n",
       "</style>\n",
       "<table border=\"1\" class=\"dataframe\">\n",
       "  <thead>\n",
       "    <tr style=\"text-align: right;\">\n",
       "      <th></th>\n",
       "      <th>timestamp</th>\n",
       "      <th>signal</th>\n",
       "    </tr>\n",
       "  </thead>\n",
       "  <tbody>\n",
       "    <tr>\n",
       "      <th>0</th>\n",
       "      <td>2022-12-22 15:00:00</td>\n",
       "      <td>SELL</td>\n",
       "    </tr>\n",
       "    <tr>\n",
       "      <th>1</th>\n",
       "      <td>2022-12-22 20:00:00</td>\n",
       "      <td>BUY</td>\n",
       "    </tr>\n",
       "    <tr>\n",
       "      <th>2</th>\n",
       "      <td>2022-12-23 06:00:00</td>\n",
       "      <td>SELL</td>\n",
       "    </tr>\n",
       "    <tr>\n",
       "      <th>3</th>\n",
       "      <td>2022-12-23 09:00:00</td>\n",
       "      <td>BUY</td>\n",
       "    </tr>\n",
       "    <tr>\n",
       "      <th>4</th>\n",
       "      <td>2022-12-23 13:00:00</td>\n",
       "      <td>SELL</td>\n",
       "    </tr>\n",
       "    <tr>\n",
       "      <th>5</th>\n",
       "      <td>2022-12-23 19:00:00</td>\n",
       "      <td>BUY</td>\n",
       "    </tr>\n",
       "    <tr>\n",
       "      <th>6</th>\n",
       "      <td>2022-12-27 05:00:00</td>\n",
       "      <td>SELL</td>\n",
       "    </tr>\n",
       "    <tr>\n",
       "      <th>7</th>\n",
       "      <td>2022-12-27 08:00:00</td>\n",
       "      <td>BUY</td>\n",
       "    </tr>\n",
       "    <tr>\n",
       "      <th>8</th>\n",
       "      <td>2022-12-28 06:00:00</td>\n",
       "      <td>SELL</td>\n",
       "    </tr>\n",
       "    <tr>\n",
       "      <th>9</th>\n",
       "      <td>2022-12-28 09:00:00</td>\n",
       "      <td>BUY</td>\n",
       "    </tr>\n",
       "    <tr>\n",
       "      <th>10</th>\n",
       "      <td>2022-12-28 10:00:00</td>\n",
       "      <td>SELL</td>\n",
       "    </tr>\n",
       "    <tr>\n",
       "      <th>11</th>\n",
       "      <td>2022-12-28 11:00:00</td>\n",
       "      <td>BUY</td>\n",
       "    </tr>\n",
       "    <tr>\n",
       "      <th>12</th>\n",
       "      <td>2022-12-28 13:00:00</td>\n",
       "      <td>SELL</td>\n",
       "    </tr>\n",
       "    <tr>\n",
       "      <th>13</th>\n",
       "      <td>2022-12-28 15:00:00</td>\n",
       "      <td>BUY</td>\n",
       "    </tr>\n",
       "    <tr>\n",
       "      <th>14</th>\n",
       "      <td>2022-12-28 19:00:00</td>\n",
       "      <td>SELL</td>\n",
       "    </tr>\n",
       "    <tr>\n",
       "      <th>15</th>\n",
       "      <td>2022-12-29 15:00:00</td>\n",
       "      <td>BUY</td>\n",
       "    </tr>\n",
       "    <tr>\n",
       "      <th>16</th>\n",
       "      <td>2022-12-29 16:00:00</td>\n",
       "      <td>SELL</td>\n",
       "    </tr>\n",
       "    <tr>\n",
       "      <th>17</th>\n",
       "      <td>2022-12-29 20:00:00</td>\n",
       "      <td>BUY</td>\n",
       "    </tr>\n",
       "    <tr>\n",
       "      <th>18</th>\n",
       "      <td>2022-12-30 12:00:00</td>\n",
       "      <td>SELL</td>\n",
       "    </tr>\n",
       "    <tr>\n",
       "      <th>19</th>\n",
       "      <td>2022-12-30 14:00:00</td>\n",
       "      <td>BUY</td>\n",
       "    </tr>\n",
       "    <tr>\n",
       "      <th>20</th>\n",
       "      <td>2022-12-30 16:00:00</td>\n",
       "      <td>SELL</td>\n",
       "    </tr>\n",
       "  </tbody>\n",
       "</table>\n",
       "</div>"
      ],
      "text/plain": [
       "              timestamp signal\n",
       "0   2022-12-22 15:00:00   SELL\n",
       "1   2022-12-22 20:00:00    BUY\n",
       "2   2022-12-23 06:00:00   SELL\n",
       "3   2022-12-23 09:00:00    BUY\n",
       "4   2022-12-23 13:00:00   SELL\n",
       "5   2022-12-23 19:00:00    BUY\n",
       "6   2022-12-27 05:00:00   SELL\n",
       "7   2022-12-27 08:00:00    BUY\n",
       "8   2022-12-28 06:00:00   SELL\n",
       "9   2022-12-28 09:00:00    BUY\n",
       "10  2022-12-28 10:00:00   SELL\n",
       "11  2022-12-28 11:00:00    BUY\n",
       "12  2022-12-28 13:00:00   SELL\n",
       "13  2022-12-28 15:00:00    BUY\n",
       "14  2022-12-28 19:00:00   SELL\n",
       "15  2022-12-29 15:00:00    BUY\n",
       "16  2022-12-29 16:00:00   SELL\n",
       "17  2022-12-29 20:00:00    BUY\n",
       "18  2022-12-30 12:00:00   SELL\n",
       "19  2022-12-30 14:00:00    BUY\n",
       "20  2022-12-30 16:00:00   SELL"
      ]
     },
     "execution_count": 17,
     "metadata": {},
     "output_type": "execute_result"
    }
   ],
   "source": [
    "strategy.get_signals()"
   ]
  },
  {
   "cell_type": "markdown",
   "id": "df8e283e",
   "metadata": {},
   "source": [
    "### [OPTIONAL] Plot a candlestick chart of `df` and `indicator`\n"
   ]
  },
  {
   "cell_type": "code",
   "execution_count": 23,
   "id": "d581ac4d",
   "metadata": {},
   "outputs": [],
   "source": [
    "def show_graph(script):\n",
    "    if script.upper() not in script_data:\n",
    "        script_data.fetch_intraday_data(script.upper())\n",
    "        script_data.convert_intraday_data(script.upper())\n",
    "    df = script_data[script.upper()] \n",
    "    ind = indicator1(df, timestamp=5)\n",
    "\n",
    "    fig = go.Figure(data=[go.Candlestick(x=df['timestamp'],\n",
    "                    open=df['open'], high=df['high'],\n",
    "                    low=df['low'], close=df['close'], \n",
    "                    name=\"Historical Data\"), \n",
    "\n",
    "                    go.Scatter(x=ind['timestamp'], y=ind['indicator'],\n",
    "                    line = dict(color = \"gray\"), name=\"SMA\")\n",
    "                ]\n",
    "            )\n",
    "\n",
    "    fig.update_layout(xaxis_rangeslider_visible=False)\n",
    "\n",
    "    fig.show()"
   ]
  },
  {
   "cell_type": "code",
   "execution_count": 24,
   "id": "e34be850",
   "metadata": {},
   "outputs": [
    {
     "data": {
      "application/vnd.plotly.v1+json": {
       "config": {
        "plotlyServerURL": "https://plot.ly"
       },
       "data": [
        {
         "close": [
          "89.6200",
          "89.7500",
          "89.7700",
          "89.7700",
          "89.7000",
          "89.6500",
          "89.5200",
          "89.3500",
          "88.4301",
          "88.1200",
          "87.1300",
          "87.3400",
          "86.7350",
          "86.4800",
          "87.1800",
          "87.7650",
          "87.5800",
          "87.7005",
          "87.7400",
          "87.5500",
          "87.7800",
          "88.0600",
          "87.9400",
          "88.1600",
          "87.6400",
          "87.7800",
          "88.7700",
          "89.1200",
          "89.1650",
          "89.1600",
          "89.3900",
          "89.2100",
          "89.0400",
          "89.0100",
          "89.0900",
          "89.0500",
          "89.7900",
          "89.7300",
          "89.8500",
          "89.3400",
          "88.9771",
          "87.5200",
          "88.0950",
          "87.7700",
          "87.5900",
          "87.1950",
          "87.2850",
          "87.4200",
          "87.2500",
          "87.2900",
          "87.3700",
          "87.3599",
          "87.6000",
          "87.5100",
          "87.4700",
          "87.5100",
          "87.2700",
          "87.2804",
          "86.3723",
          "86.2000",
          "86.7300",
          "86.3950",
          "86.1100",
          "86.0000",
          "86.0400",
          "86.0500",
          "86.0801",
          "86.1900",
          "86.5000",
          "86.7300",
          "86.5000",
          "86.4300",
          "86.9400",
          "87.5200",
          "88.3100",
          "88.5000",
          "88.3700",
          "88.5550",
          "88.5550",
          "88.4100",
          "88.3400",
          "88.3200",
          "88.0000",
          "88.1000",
          "87.8100",
          "87.9500",
          "87.9100",
          "87.5600",
          "87.4000",
          "87.0200",
          "87.2400",
          "87.3815",
          "87.4600",
          "87.1400",
          "87.2050",
          "88.2400",
          "88.5000",
          "88.4199",
          "88.4000",
          "88.5500"
         ],
         "high": [
          "89.8000",
          "89.7900",
          "89.7900",
          "89.7700",
          "89.8600",
          "89.7100",
          "89.6500",
          "89.6500",
          "90.0000",
          "88.6000",
          "88.1100",
          "87.5850",
          "87.3900",
          "86.7400",
          "87.2600",
          "87.8300",
          "88.1000",
          "87.7600",
          "87.7600",
          "87.7500",
          "87.9000",
          "88.0900",
          "88.1800",
          "88.2200",
          "88.7200",
          "88.5200",
          "89.5300",
          "89.1950",
          "89.4700",
          "89.5450",
          "89.4200",
          "89.4900",
          "89.2300",
          "89.1200",
          "89.0900",
          "89.1900",
          "89.7900",
          "89.8500",
          "89.8900",
          "89.8000",
          "89.7000",
          "89.1870",
          "88.4000",
          "88.1800",
          "88.0350",
          "87.7300",
          "87.4000",
          "87.6800",
          "87.6000",
          "87.3900",
          "87.4000",
          "87.4900",
          "87.6000",
          "87.8800",
          "87.5200",
          "87.5200",
          "88.0000",
          "88.0400",
          "87.6800",
          "86.5300",
          "86.7900",
          "87.0500",
          "86.5400",
          "86.7499",
          "86.1600",
          "86.0985",
          "86.2200",
          "86.2000",
          "86.6000",
          "86.7300",
          "86.7900",
          "86.6000",
          "86.9506",
          "87.6200",
          "88.3450",
          "88.6300",
          "88.8100",
          "88.5900",
          "88.7500",
          "88.8450",
          "88.4900",
          "88.4642",
          "88.3700",
          "88.1400",
          "87.8100",
          "87.9800",
          "87.9800",
          "87.9800",
          "87.8400",
          "87.3800",
          "87.5500",
          "87.5795",
          "87.5151",
          "87.4700",
          "87.3500",
          "88.3000",
          "88.7400",
          "88.4815",
          "88.4500",
          "88.5700"
         ],
         "low": [
          "89.5500",
          "89.6600",
          "89.6000",
          "89.6200",
          "89.7000",
          "89.6200",
          "89.5100",
          "89.3400",
          "88.4200",
          "87.4750",
          "87.0700",
          "87.0700",
          "86.6850",
          "86.3200",
          "86.4600",
          "87.1000",
          "87.3700",
          "87.4300",
          "87.6100",
          "87.5000",
          "87.5400",
          "87.6900",
          "87.8900",
          "87.8100",
          "86.9900",
          "86.9400",
          "87.5600",
          "88.2100",
          "88.9700",
          "89.0200",
          "88.9500",
          "88.9725",
          "89.0000",
          "89.0100",
          "89.0200",
          "89.0500",
          "89.2000",
          "89.7300",
          "89.7000",
          "89.3400",
          "88.7800",
          "87.4500",
          "87.2300",
          "87.6400",
          "87.4000",
          "87.1409",
          "87.0100",
          "87.1800",
          "87.2200",
          "87.1529",
          "87.2900",
          "87.1800",
          "87.1500",
          "87.3500",
          "87.2300",
          "87.3900",
          "87.1720",
          "86.8500",
          "86.3600",
          "86.1750",
          "86.1100",
          "86.3750",
          "86.0700",
          "85.9400",
          "85.9200",
          "85.9800",
          "86.0400",
          "85.8900",
          "86.3700",
          "86.4000",
          "86.4800",
          "86.3600",
          "86.2315",
          "86.4200",
          "87.3300",
          "87.9800",
          "88.3100",
          "88.2100",
          "88.4700",
          "88.3400",
          "88.3101",
          "88.2800",
          "87.9900",
          "88.0000",
          "87.4900",
          "87.8700",
          "87.8700",
          "87.3000",
          "87.1300",
          "86.5700",
          "86.7800",
          "87.1500",
          "87.1800",
          "86.7000",
          "86.9400",
          "87.2000",
          "88.2200",
          "88.3600",
          "88.3500",
          "88.4500"
         ],
         "name": "Historical Data",
         "open": [
          "89.5800",
          "89.7100",
          "89.7500",
          "89.7000",
          "89.8600",
          "89.6700",
          "89.6500",
          "89.6300",
          "89.4000",
          "88.4300",
          "88.1100",
          "87.1250",
          "87.3400",
          "86.7350",
          "86.4800",
          "87.1900",
          "87.7800",
          "87.5800",
          "87.7499",
          "87.7400",
          "87.8900",
          "87.7500",
          "88.0900",
          "87.8800",
          "87.8413",
          "87.5700",
          "87.8000",
          "88.7700",
          "89.1340",
          "89.1528",
          "89.1500",
          "89.4000",
          "89.2300",
          "89.0800",
          "89.0200",
          "89.0900",
          "89.5900",
          "89.7800",
          "89.7200",
          "89.7700",
          "89.7000",
          "88.9600",
          "87.5000",
          "88.1000",
          "87.7900",
          "87.5850",
          "87.1950",
          "87.2900",
          "87.3900",
          "87.2500",
          "87.2900",
          "87.3000",
          "87.3900",
          "87.4500",
          "87.5000",
          "87.4200",
          "87.4754",
          "87.3000",
          "87.2900",
          "86.3700",
          "86.2000",
          "86.7300",
          "86.4100",
          "86.1100",
          "86.0200",
          "86.0300",
          "86.0500",
          "86.1800",
          "86.4900",
          "86.4700",
          "86.7900",
          "86.5000",
          "86.4587",
          "86.8900",
          "87.5200",
          "88.3100",
          "88.5100",
          "88.3800",
          "88.5500",
          "88.5550",
          "88.4500",
          "88.4642",
          "88.2800",
          "88.0500",
          "87.5900",
          "87.8700",
          "87.9800",
          "87.9800",
          "87.7402",
          "87.2400",
          "87.0000",
          "87.2350",
          "87.3800",
          "87.4600",
          "87.1400",
          "87.2050",
          "88.2300",
          "88.4815",
          "88.3600",
          "88.4600"
         ],
         "type": "candlestick",
         "x": [
          "2022-12-21 17:00:00",
          "2022-12-21 18:00:00",
          "2022-12-21 19:00:00",
          "2022-12-21 20:00:00",
          "2022-12-22 05:00:00",
          "2022-12-22 06:00:00",
          "2022-12-22 07:00:00",
          "2022-12-22 08:00:00",
          "2022-12-22 09:00:00",
          "2022-12-22 10:00:00",
          "2022-12-22 11:00:00",
          "2022-12-22 12:00:00",
          "2022-12-22 13:00:00",
          "2022-12-22 14:00:00",
          "2022-12-22 15:00:00",
          "2022-12-22 16:00:00",
          "2022-12-22 17:00:00",
          "2022-12-22 18:00:00",
          "2022-12-22 19:00:00",
          "2022-12-22 20:00:00",
          "2022-12-23 05:00:00",
          "2022-12-23 06:00:00",
          "2022-12-23 07:00:00",
          "2022-12-23 08:00:00",
          "2022-12-23 09:00:00",
          "2022-12-23 10:00:00",
          "2022-12-23 11:00:00",
          "2022-12-23 12:00:00",
          "2022-12-23 13:00:00",
          "2022-12-23 14:00:00",
          "2022-12-23 15:00:00",
          "2022-12-23 16:00:00",
          "2022-12-23 17:00:00",
          "2022-12-23 18:00:00",
          "2022-12-23 19:00:00",
          "2022-12-23 20:00:00",
          "2022-12-27 05:00:00",
          "2022-12-27 06:00:00",
          "2022-12-27 07:00:00",
          "2022-12-27 08:00:00",
          "2022-12-27 09:00:00",
          "2022-12-27 10:00:00",
          "2022-12-27 11:00:00",
          "2022-12-27 12:00:00",
          "2022-12-27 13:00:00",
          "2022-12-27 14:00:00",
          "2022-12-27 15:00:00",
          "2022-12-27 16:00:00",
          "2022-12-27 17:00:00",
          "2022-12-27 18:00:00",
          "2022-12-27 19:00:00",
          "2022-12-27 20:00:00",
          "2022-12-28 05:00:00",
          "2022-12-28 06:00:00",
          "2022-12-28 07:00:00",
          "2022-12-28 08:00:00",
          "2022-12-28 09:00:00",
          "2022-12-28 10:00:00",
          "2022-12-28 11:00:00",
          "2022-12-28 12:00:00",
          "2022-12-28 13:00:00",
          "2022-12-28 14:00:00",
          "2022-12-28 15:00:00",
          "2022-12-28 16:00:00",
          "2022-12-28 17:00:00",
          "2022-12-28 18:00:00",
          "2022-12-28 19:00:00",
          "2022-12-28 20:00:00",
          "2022-12-29 05:00:00",
          "2022-12-29 06:00:00",
          "2022-12-29 07:00:00",
          "2022-12-29 08:00:00",
          "2022-12-29 09:00:00",
          "2022-12-29 10:00:00",
          "2022-12-29 11:00:00",
          "2022-12-29 12:00:00",
          "2022-12-29 13:00:00",
          "2022-12-29 14:00:00",
          "2022-12-29 15:00:00",
          "2022-12-29 16:00:00",
          "2022-12-29 17:00:00",
          "2022-12-29 18:00:00",
          "2022-12-29 19:00:00",
          "2022-12-29 20:00:00",
          "2022-12-30 05:00:00",
          "2022-12-30 06:00:00",
          "2022-12-30 07:00:00",
          "2022-12-30 08:00:00",
          "2022-12-30 09:00:00",
          "2022-12-30 10:00:00",
          "2022-12-30 11:00:00",
          "2022-12-30 12:00:00",
          "2022-12-30 13:00:00",
          "2022-12-30 14:00:00",
          "2022-12-30 15:00:00",
          "2022-12-30 16:00:00",
          "2022-12-30 17:00:00",
          "2022-12-30 18:00:00",
          "2022-12-30 19:00:00",
          "2022-12-30 20:00:00"
         ]
        },
        {
         "line": {
          "color": "gray"
         },
         "name": "SMA",
         "type": "scatter",
         "x": [
          "2022-12-21 17:00:00",
          "2022-12-21 18:00:00",
          "2022-12-21 19:00:00",
          "2022-12-21 20:00:00",
          "2022-12-22 05:00:00",
          "2022-12-22 06:00:00",
          "2022-12-22 07:00:00",
          "2022-12-22 08:00:00",
          "2022-12-22 09:00:00",
          "2022-12-22 10:00:00",
          "2022-12-22 11:00:00",
          "2022-12-22 12:00:00",
          "2022-12-22 13:00:00",
          "2022-12-22 14:00:00",
          "2022-12-22 15:00:00",
          "2022-12-22 16:00:00",
          "2022-12-22 17:00:00",
          "2022-12-22 18:00:00",
          "2022-12-22 19:00:00",
          "2022-12-22 20:00:00",
          "2022-12-23 05:00:00",
          "2022-12-23 06:00:00",
          "2022-12-23 07:00:00",
          "2022-12-23 08:00:00",
          "2022-12-23 09:00:00",
          "2022-12-23 10:00:00",
          "2022-12-23 11:00:00",
          "2022-12-23 12:00:00",
          "2022-12-23 13:00:00",
          "2022-12-23 14:00:00",
          "2022-12-23 15:00:00",
          "2022-12-23 16:00:00",
          "2022-12-23 17:00:00",
          "2022-12-23 18:00:00",
          "2022-12-23 19:00:00",
          "2022-12-23 20:00:00",
          "2022-12-27 05:00:00",
          "2022-12-27 06:00:00",
          "2022-12-27 07:00:00",
          "2022-12-27 08:00:00",
          "2022-12-27 09:00:00",
          "2022-12-27 10:00:00",
          "2022-12-27 11:00:00",
          "2022-12-27 12:00:00",
          "2022-12-27 13:00:00",
          "2022-12-27 14:00:00",
          "2022-12-27 15:00:00",
          "2022-12-27 16:00:00",
          "2022-12-27 17:00:00",
          "2022-12-27 18:00:00",
          "2022-12-27 19:00:00",
          "2022-12-27 20:00:00",
          "2022-12-28 05:00:00",
          "2022-12-28 06:00:00",
          "2022-12-28 07:00:00",
          "2022-12-28 08:00:00",
          "2022-12-28 09:00:00",
          "2022-12-28 10:00:00",
          "2022-12-28 11:00:00",
          "2022-12-28 12:00:00",
          "2022-12-28 13:00:00",
          "2022-12-28 14:00:00",
          "2022-12-28 15:00:00",
          "2022-12-28 16:00:00",
          "2022-12-28 17:00:00",
          "2022-12-28 18:00:00",
          "2022-12-28 19:00:00",
          "2022-12-28 20:00:00",
          "2022-12-29 05:00:00",
          "2022-12-29 06:00:00",
          "2022-12-29 07:00:00",
          "2022-12-29 08:00:00",
          "2022-12-29 09:00:00",
          "2022-12-29 10:00:00",
          "2022-12-29 11:00:00",
          "2022-12-29 12:00:00",
          "2022-12-29 13:00:00",
          "2022-12-29 14:00:00",
          "2022-12-29 15:00:00",
          "2022-12-29 16:00:00",
          "2022-12-29 17:00:00",
          "2022-12-29 18:00:00",
          "2022-12-29 19:00:00",
          "2022-12-29 20:00:00",
          "2022-12-30 05:00:00",
          "2022-12-30 06:00:00",
          "2022-12-30 07:00:00",
          "2022-12-30 08:00:00",
          "2022-12-30 09:00:00",
          "2022-12-30 10:00:00",
          "2022-12-30 11:00:00",
          "2022-12-30 12:00:00",
          "2022-12-30 13:00:00",
          "2022-12-30 14:00:00",
          "2022-12-30 15:00:00",
          "2022-12-30 16:00:00",
          "2022-12-30 17:00:00",
          "2022-12-30 18:00:00",
          "2022-12-30 19:00:00",
          "2022-12-30 20:00:00"
         ],
         "y": [
          null,
          null,
          null,
          null,
          89.722,
          89.728,
          89.682,
          89.598,
          89.33,
          89.014,
          88.51,
          88.074,
          87.551,
          87.161,
          86.973,
          87.1,
          87.148,
          87.341,
          87.593,
          87.667,
          87.67,
          87.766,
          87.814,
          87.898,
          87.916,
          87.916,
          88.058,
          88.294,
          88.495,
          88.799,
          89.121,
          89.209,
          89.193,
          89.162,
          89.148,
          89.08,
          89.196,
          89.334,
          89.502,
          89.552,
          89.537,
          89.083,
          88.756,
          88.34,
          87.99,
          87.634,
          87.587,
          87.452,
          87.348,
          87.288,
          87.323,
          87.338,
          87.374,
          87.426,
          87.462,
          87.49,
          87.472,
          87.408,
          87.181,
          86.927,
          86.771,
          86.596,
          86.361,
          86.287,
          86.255,
          86.119,
          86.056,
          86.072,
          86.172,
          86.31,
          86.4,
          86.47,
          86.62,
          86.824,
          87.14,
          87.54,
          87.928,
          88.251,
          88.458,
          88.478,
          88.446,
          88.436,
          88.325,
          88.234,
          88.114,
          88.036,
          87.954,
          87.866,
          87.726,
          87.568,
          87.426,
          87.32,
          87.3,
          87.248,
          87.285,
          87.485,
          87.709,
          87.901,
          88.153,
          88.422
         ]
        }
       ],
       "layout": {
        "template": {
         "data": {
          "bar": [
           {
            "error_x": {
             "color": "#2a3f5f"
            },
            "error_y": {
             "color": "#2a3f5f"
            },
            "marker": {
             "line": {
              "color": "#E5ECF6",
              "width": 0.5
             },
             "pattern": {
              "fillmode": "overlay",
              "size": 10,
              "solidity": 0.2
             }
            },
            "type": "bar"
           }
          ],
          "barpolar": [
           {
            "marker": {
             "line": {
              "color": "#E5ECF6",
              "width": 0.5
             },
             "pattern": {
              "fillmode": "overlay",
              "size": 10,
              "solidity": 0.2
             }
            },
            "type": "barpolar"
           }
          ],
          "carpet": [
           {
            "aaxis": {
             "endlinecolor": "#2a3f5f",
             "gridcolor": "white",
             "linecolor": "white",
             "minorgridcolor": "white",
             "startlinecolor": "#2a3f5f"
            },
            "baxis": {
             "endlinecolor": "#2a3f5f",
             "gridcolor": "white",
             "linecolor": "white",
             "minorgridcolor": "white",
             "startlinecolor": "#2a3f5f"
            },
            "type": "carpet"
           }
          ],
          "choropleth": [
           {
            "colorbar": {
             "outlinewidth": 0,
             "ticks": ""
            },
            "type": "choropleth"
           }
          ],
          "contour": [
           {
            "colorbar": {
             "outlinewidth": 0,
             "ticks": ""
            },
            "colorscale": [
             [
              0,
              "#0d0887"
             ],
             [
              0.1111111111111111,
              "#46039f"
             ],
             [
              0.2222222222222222,
              "#7201a8"
             ],
             [
              0.3333333333333333,
              "#9c179e"
             ],
             [
              0.4444444444444444,
              "#bd3786"
             ],
             [
              0.5555555555555556,
              "#d8576b"
             ],
             [
              0.6666666666666666,
              "#ed7953"
             ],
             [
              0.7777777777777778,
              "#fb9f3a"
             ],
             [
              0.8888888888888888,
              "#fdca26"
             ],
             [
              1,
              "#f0f921"
             ]
            ],
            "type": "contour"
           }
          ],
          "contourcarpet": [
           {
            "colorbar": {
             "outlinewidth": 0,
             "ticks": ""
            },
            "type": "contourcarpet"
           }
          ],
          "heatmap": [
           {
            "colorbar": {
             "outlinewidth": 0,
             "ticks": ""
            },
            "colorscale": [
             [
              0,
              "#0d0887"
             ],
             [
              0.1111111111111111,
              "#46039f"
             ],
             [
              0.2222222222222222,
              "#7201a8"
             ],
             [
              0.3333333333333333,
              "#9c179e"
             ],
             [
              0.4444444444444444,
              "#bd3786"
             ],
             [
              0.5555555555555556,
              "#d8576b"
             ],
             [
              0.6666666666666666,
              "#ed7953"
             ],
             [
              0.7777777777777778,
              "#fb9f3a"
             ],
             [
              0.8888888888888888,
              "#fdca26"
             ],
             [
              1,
              "#f0f921"
             ]
            ],
            "type": "heatmap"
           }
          ],
          "heatmapgl": [
           {
            "colorbar": {
             "outlinewidth": 0,
             "ticks": ""
            },
            "colorscale": [
             [
              0,
              "#0d0887"
             ],
             [
              0.1111111111111111,
              "#46039f"
             ],
             [
              0.2222222222222222,
              "#7201a8"
             ],
             [
              0.3333333333333333,
              "#9c179e"
             ],
             [
              0.4444444444444444,
              "#bd3786"
             ],
             [
              0.5555555555555556,
              "#d8576b"
             ],
             [
              0.6666666666666666,
              "#ed7953"
             ],
             [
              0.7777777777777778,
              "#fb9f3a"
             ],
             [
              0.8888888888888888,
              "#fdca26"
             ],
             [
              1,
              "#f0f921"
             ]
            ],
            "type": "heatmapgl"
           }
          ],
          "histogram": [
           {
            "marker": {
             "pattern": {
              "fillmode": "overlay",
              "size": 10,
              "solidity": 0.2
             }
            },
            "type": "histogram"
           }
          ],
          "histogram2d": [
           {
            "colorbar": {
             "outlinewidth": 0,
             "ticks": ""
            },
            "colorscale": [
             [
              0,
              "#0d0887"
             ],
             [
              0.1111111111111111,
              "#46039f"
             ],
             [
              0.2222222222222222,
              "#7201a8"
             ],
             [
              0.3333333333333333,
              "#9c179e"
             ],
             [
              0.4444444444444444,
              "#bd3786"
             ],
             [
              0.5555555555555556,
              "#d8576b"
             ],
             [
              0.6666666666666666,
              "#ed7953"
             ],
             [
              0.7777777777777778,
              "#fb9f3a"
             ],
             [
              0.8888888888888888,
              "#fdca26"
             ],
             [
              1,
              "#f0f921"
             ]
            ],
            "type": "histogram2d"
           }
          ],
          "histogram2dcontour": [
           {
            "colorbar": {
             "outlinewidth": 0,
             "ticks": ""
            },
            "colorscale": [
             [
              0,
              "#0d0887"
             ],
             [
              0.1111111111111111,
              "#46039f"
             ],
             [
              0.2222222222222222,
              "#7201a8"
             ],
             [
              0.3333333333333333,
              "#9c179e"
             ],
             [
              0.4444444444444444,
              "#bd3786"
             ],
             [
              0.5555555555555556,
              "#d8576b"
             ],
             [
              0.6666666666666666,
              "#ed7953"
             ],
             [
              0.7777777777777778,
              "#fb9f3a"
             ],
             [
              0.8888888888888888,
              "#fdca26"
             ],
             [
              1,
              "#f0f921"
             ]
            ],
            "type": "histogram2dcontour"
           }
          ],
          "mesh3d": [
           {
            "colorbar": {
             "outlinewidth": 0,
             "ticks": ""
            },
            "type": "mesh3d"
           }
          ],
          "parcoords": [
           {
            "line": {
             "colorbar": {
              "outlinewidth": 0,
              "ticks": ""
             }
            },
            "type": "parcoords"
           }
          ],
          "pie": [
           {
            "automargin": true,
            "type": "pie"
           }
          ],
          "scatter": [
           {
            "fillpattern": {
             "fillmode": "overlay",
             "size": 10,
             "solidity": 0.2
            },
            "type": "scatter"
           }
          ],
          "scatter3d": [
           {
            "line": {
             "colorbar": {
              "outlinewidth": 0,
              "ticks": ""
             }
            },
            "marker": {
             "colorbar": {
              "outlinewidth": 0,
              "ticks": ""
             }
            },
            "type": "scatter3d"
           }
          ],
          "scattercarpet": [
           {
            "marker": {
             "colorbar": {
              "outlinewidth": 0,
              "ticks": ""
             }
            },
            "type": "scattercarpet"
           }
          ],
          "scattergeo": [
           {
            "marker": {
             "colorbar": {
              "outlinewidth": 0,
              "ticks": ""
             }
            },
            "type": "scattergeo"
           }
          ],
          "scattergl": [
           {
            "marker": {
             "colorbar": {
              "outlinewidth": 0,
              "ticks": ""
             }
            },
            "type": "scattergl"
           }
          ],
          "scattermapbox": [
           {
            "marker": {
             "colorbar": {
              "outlinewidth": 0,
              "ticks": ""
             }
            },
            "type": "scattermapbox"
           }
          ],
          "scatterpolar": [
           {
            "marker": {
             "colorbar": {
              "outlinewidth": 0,
              "ticks": ""
             }
            },
            "type": "scatterpolar"
           }
          ],
          "scatterpolargl": [
           {
            "marker": {
             "colorbar": {
              "outlinewidth": 0,
              "ticks": ""
             }
            },
            "type": "scatterpolargl"
           }
          ],
          "scatterternary": [
           {
            "marker": {
             "colorbar": {
              "outlinewidth": 0,
              "ticks": ""
             }
            },
            "type": "scatterternary"
           }
          ],
          "surface": [
           {
            "colorbar": {
             "outlinewidth": 0,
             "ticks": ""
            },
            "colorscale": [
             [
              0,
              "#0d0887"
             ],
             [
              0.1111111111111111,
              "#46039f"
             ],
             [
              0.2222222222222222,
              "#7201a8"
             ],
             [
              0.3333333333333333,
              "#9c179e"
             ],
             [
              0.4444444444444444,
              "#bd3786"
             ],
             [
              0.5555555555555556,
              "#d8576b"
             ],
             [
              0.6666666666666666,
              "#ed7953"
             ],
             [
              0.7777777777777778,
              "#fb9f3a"
             ],
             [
              0.8888888888888888,
              "#fdca26"
             ],
             [
              1,
              "#f0f921"
             ]
            ],
            "type": "surface"
           }
          ],
          "table": [
           {
            "cells": {
             "fill": {
              "color": "#EBF0F8"
             },
             "line": {
              "color": "white"
             }
            },
            "header": {
             "fill": {
              "color": "#C8D4E3"
             },
             "line": {
              "color": "white"
             }
            },
            "type": "table"
           }
          ]
         },
         "layout": {
          "annotationdefaults": {
           "arrowcolor": "#2a3f5f",
           "arrowhead": 0,
           "arrowwidth": 1
          },
          "autotypenumbers": "strict",
          "coloraxis": {
           "colorbar": {
            "outlinewidth": 0,
            "ticks": ""
           }
          },
          "colorscale": {
           "diverging": [
            [
             0,
             "#8e0152"
            ],
            [
             0.1,
             "#c51b7d"
            ],
            [
             0.2,
             "#de77ae"
            ],
            [
             0.3,
             "#f1b6da"
            ],
            [
             0.4,
             "#fde0ef"
            ],
            [
             0.5,
             "#f7f7f7"
            ],
            [
             0.6,
             "#e6f5d0"
            ],
            [
             0.7,
             "#b8e186"
            ],
            [
             0.8,
             "#7fbc41"
            ],
            [
             0.9,
             "#4d9221"
            ],
            [
             1,
             "#276419"
            ]
           ],
           "sequential": [
            [
             0,
             "#0d0887"
            ],
            [
             0.1111111111111111,
             "#46039f"
            ],
            [
             0.2222222222222222,
             "#7201a8"
            ],
            [
             0.3333333333333333,
             "#9c179e"
            ],
            [
             0.4444444444444444,
             "#bd3786"
            ],
            [
             0.5555555555555556,
             "#d8576b"
            ],
            [
             0.6666666666666666,
             "#ed7953"
            ],
            [
             0.7777777777777778,
             "#fb9f3a"
            ],
            [
             0.8888888888888888,
             "#fdca26"
            ],
            [
             1,
             "#f0f921"
            ]
           ],
           "sequentialminus": [
            [
             0,
             "#0d0887"
            ],
            [
             0.1111111111111111,
             "#46039f"
            ],
            [
             0.2222222222222222,
             "#7201a8"
            ],
            [
             0.3333333333333333,
             "#9c179e"
            ],
            [
             0.4444444444444444,
             "#bd3786"
            ],
            [
             0.5555555555555556,
             "#d8576b"
            ],
            [
             0.6666666666666666,
             "#ed7953"
            ],
            [
             0.7777777777777778,
             "#fb9f3a"
            ],
            [
             0.8888888888888888,
             "#fdca26"
            ],
            [
             1,
             "#f0f921"
            ]
           ]
          },
          "colorway": [
           "#636efa",
           "#EF553B",
           "#00cc96",
           "#ab63fa",
           "#FFA15A",
           "#19d3f3",
           "#FF6692",
           "#B6E880",
           "#FF97FF",
           "#FECB52"
          ],
          "font": {
           "color": "#2a3f5f"
          },
          "geo": {
           "bgcolor": "white",
           "lakecolor": "white",
           "landcolor": "#E5ECF6",
           "showlakes": true,
           "showland": true,
           "subunitcolor": "white"
          },
          "hoverlabel": {
           "align": "left"
          },
          "hovermode": "closest",
          "mapbox": {
           "style": "light"
          },
          "paper_bgcolor": "white",
          "plot_bgcolor": "#E5ECF6",
          "polar": {
           "angularaxis": {
            "gridcolor": "white",
            "linecolor": "white",
            "ticks": ""
           },
           "bgcolor": "#E5ECF6",
           "radialaxis": {
            "gridcolor": "white",
            "linecolor": "white",
            "ticks": ""
           }
          },
          "scene": {
           "xaxis": {
            "backgroundcolor": "#E5ECF6",
            "gridcolor": "white",
            "gridwidth": 2,
            "linecolor": "white",
            "showbackground": true,
            "ticks": "",
            "zerolinecolor": "white"
           },
           "yaxis": {
            "backgroundcolor": "#E5ECF6",
            "gridcolor": "white",
            "gridwidth": 2,
            "linecolor": "white",
            "showbackground": true,
            "ticks": "",
            "zerolinecolor": "white"
           },
           "zaxis": {
            "backgroundcolor": "#E5ECF6",
            "gridcolor": "white",
            "gridwidth": 2,
            "linecolor": "white",
            "showbackground": true,
            "ticks": "",
            "zerolinecolor": "white"
           }
          },
          "shapedefaults": {
           "line": {
            "color": "#2a3f5f"
           }
          },
          "ternary": {
           "aaxis": {
            "gridcolor": "white",
            "linecolor": "white",
            "ticks": ""
           },
           "baxis": {
            "gridcolor": "white",
            "linecolor": "white",
            "ticks": ""
           },
           "bgcolor": "#E5ECF6",
           "caxis": {
            "gridcolor": "white",
            "linecolor": "white",
            "ticks": ""
           }
          },
          "title": {
           "x": 0.05
          },
          "xaxis": {
           "automargin": true,
           "gridcolor": "white",
           "linecolor": "white",
           "ticks": "",
           "title": {
            "standoff": 15
           },
           "zerolinecolor": "white",
           "zerolinewidth": 2
          },
          "yaxis": {
           "automargin": true,
           "gridcolor": "white",
           "linecolor": "white",
           "ticks": "",
           "title": {
            "standoff": 15
           },
           "zerolinecolor": "white",
           "zerolinewidth": 2
          }
         }
        },
        "xaxis": {
         "rangeslider": {
          "visible": false
         }
        }
       }
      },
      "text/html": [
       "<div>                            <div id=\"ab04f4e3-14c7-4d88-a519-d719a4f4f8be\" class=\"plotly-graph-div\" style=\"height:525px; width:100%;\"></div>            <script type=\"text/javascript\">                require([\"plotly\"], function(Plotly) {                    window.PLOTLYENV=window.PLOTLYENV || {};                                    if (document.getElementById(\"ab04f4e3-14c7-4d88-a519-d719a4f4f8be\")) {                    Plotly.newPlot(                        \"ab04f4e3-14c7-4d88-a519-d719a4f4f8be\",                        [{\"close\":[\"89.6200\",\"89.7500\",\"89.7700\",\"89.7700\",\"89.7000\",\"89.6500\",\"89.5200\",\"89.3500\",\"88.4301\",\"88.1200\",\"87.1300\",\"87.3400\",\"86.7350\",\"86.4800\",\"87.1800\",\"87.7650\",\"87.5800\",\"87.7005\",\"87.7400\",\"87.5500\",\"87.7800\",\"88.0600\",\"87.9400\",\"88.1600\",\"87.6400\",\"87.7800\",\"88.7700\",\"89.1200\",\"89.1650\",\"89.1600\",\"89.3900\",\"89.2100\",\"89.0400\",\"89.0100\",\"89.0900\",\"89.0500\",\"89.7900\",\"89.7300\",\"89.8500\",\"89.3400\",\"88.9771\",\"87.5200\",\"88.0950\",\"87.7700\",\"87.5900\",\"87.1950\",\"87.2850\",\"87.4200\",\"87.2500\",\"87.2900\",\"87.3700\",\"87.3599\",\"87.6000\",\"87.5100\",\"87.4700\",\"87.5100\",\"87.2700\",\"87.2804\",\"86.3723\",\"86.2000\",\"86.7300\",\"86.3950\",\"86.1100\",\"86.0000\",\"86.0400\",\"86.0500\",\"86.0801\",\"86.1900\",\"86.5000\",\"86.7300\",\"86.5000\",\"86.4300\",\"86.9400\",\"87.5200\",\"88.3100\",\"88.5000\",\"88.3700\",\"88.5550\",\"88.5550\",\"88.4100\",\"88.3400\",\"88.3200\",\"88.0000\",\"88.1000\",\"87.8100\",\"87.9500\",\"87.9100\",\"87.5600\",\"87.4000\",\"87.0200\",\"87.2400\",\"87.3815\",\"87.4600\",\"87.1400\",\"87.2050\",\"88.2400\",\"88.5000\",\"88.4199\",\"88.4000\",\"88.5500\"],\"high\":[\"89.8000\",\"89.7900\",\"89.7900\",\"89.7700\",\"89.8600\",\"89.7100\",\"89.6500\",\"89.6500\",\"90.0000\",\"88.6000\",\"88.1100\",\"87.5850\",\"87.3900\",\"86.7400\",\"87.2600\",\"87.8300\",\"88.1000\",\"87.7600\",\"87.7600\",\"87.7500\",\"87.9000\",\"88.0900\",\"88.1800\",\"88.2200\",\"88.7200\",\"88.5200\",\"89.5300\",\"89.1950\",\"89.4700\",\"89.5450\",\"89.4200\",\"89.4900\",\"89.2300\",\"89.1200\",\"89.0900\",\"89.1900\",\"89.7900\",\"89.8500\",\"89.8900\",\"89.8000\",\"89.7000\",\"89.1870\",\"88.4000\",\"88.1800\",\"88.0350\",\"87.7300\",\"87.4000\",\"87.6800\",\"87.6000\",\"87.3900\",\"87.4000\",\"87.4900\",\"87.6000\",\"87.8800\",\"87.5200\",\"87.5200\",\"88.0000\",\"88.0400\",\"87.6800\",\"86.5300\",\"86.7900\",\"87.0500\",\"86.5400\",\"86.7499\",\"86.1600\",\"86.0985\",\"86.2200\",\"86.2000\",\"86.6000\",\"86.7300\",\"86.7900\",\"86.6000\",\"86.9506\",\"87.6200\",\"88.3450\",\"88.6300\",\"88.8100\",\"88.5900\",\"88.7500\",\"88.8450\",\"88.4900\",\"88.4642\",\"88.3700\",\"88.1400\",\"87.8100\",\"87.9800\",\"87.9800\",\"87.9800\",\"87.8400\",\"87.3800\",\"87.5500\",\"87.5795\",\"87.5151\",\"87.4700\",\"87.3500\",\"88.3000\",\"88.7400\",\"88.4815\",\"88.4500\",\"88.5700\"],\"low\":[\"89.5500\",\"89.6600\",\"89.6000\",\"89.6200\",\"89.7000\",\"89.6200\",\"89.5100\",\"89.3400\",\"88.4200\",\"87.4750\",\"87.0700\",\"87.0700\",\"86.6850\",\"86.3200\",\"86.4600\",\"87.1000\",\"87.3700\",\"87.4300\",\"87.6100\",\"87.5000\",\"87.5400\",\"87.6900\",\"87.8900\",\"87.8100\",\"86.9900\",\"86.9400\",\"87.5600\",\"88.2100\",\"88.9700\",\"89.0200\",\"88.9500\",\"88.9725\",\"89.0000\",\"89.0100\",\"89.0200\",\"89.0500\",\"89.2000\",\"89.7300\",\"89.7000\",\"89.3400\",\"88.7800\",\"87.4500\",\"87.2300\",\"87.6400\",\"87.4000\",\"87.1409\",\"87.0100\",\"87.1800\",\"87.2200\",\"87.1529\",\"87.2900\",\"87.1800\",\"87.1500\",\"87.3500\",\"87.2300\",\"87.3900\",\"87.1720\",\"86.8500\",\"86.3600\",\"86.1750\",\"86.1100\",\"86.3750\",\"86.0700\",\"85.9400\",\"85.9200\",\"85.9800\",\"86.0400\",\"85.8900\",\"86.3700\",\"86.4000\",\"86.4800\",\"86.3600\",\"86.2315\",\"86.4200\",\"87.3300\",\"87.9800\",\"88.3100\",\"88.2100\",\"88.4700\",\"88.3400\",\"88.3101\",\"88.2800\",\"87.9900\",\"88.0000\",\"87.4900\",\"87.8700\",\"87.8700\",\"87.3000\",\"87.1300\",\"86.5700\",\"86.7800\",\"87.1500\",\"87.1800\",\"86.7000\",\"86.9400\",\"87.2000\",\"88.2200\",\"88.3600\",\"88.3500\",\"88.4500\"],\"name\":\"Historical Data\",\"open\":[\"89.5800\",\"89.7100\",\"89.7500\",\"89.7000\",\"89.8600\",\"89.6700\",\"89.6500\",\"89.6300\",\"89.4000\",\"88.4300\",\"88.1100\",\"87.1250\",\"87.3400\",\"86.7350\",\"86.4800\",\"87.1900\",\"87.7800\",\"87.5800\",\"87.7499\",\"87.7400\",\"87.8900\",\"87.7500\",\"88.0900\",\"87.8800\",\"87.8413\",\"87.5700\",\"87.8000\",\"88.7700\",\"89.1340\",\"89.1528\",\"89.1500\",\"89.4000\",\"89.2300\",\"89.0800\",\"89.0200\",\"89.0900\",\"89.5900\",\"89.7800\",\"89.7200\",\"89.7700\",\"89.7000\",\"88.9600\",\"87.5000\",\"88.1000\",\"87.7900\",\"87.5850\",\"87.1950\",\"87.2900\",\"87.3900\",\"87.2500\",\"87.2900\",\"87.3000\",\"87.3900\",\"87.4500\",\"87.5000\",\"87.4200\",\"87.4754\",\"87.3000\",\"87.2900\",\"86.3700\",\"86.2000\",\"86.7300\",\"86.4100\",\"86.1100\",\"86.0200\",\"86.0300\",\"86.0500\",\"86.1800\",\"86.4900\",\"86.4700\",\"86.7900\",\"86.5000\",\"86.4587\",\"86.8900\",\"87.5200\",\"88.3100\",\"88.5100\",\"88.3800\",\"88.5500\",\"88.5550\",\"88.4500\",\"88.4642\",\"88.2800\",\"88.0500\",\"87.5900\",\"87.8700\",\"87.9800\",\"87.9800\",\"87.7402\",\"87.2400\",\"87.0000\",\"87.2350\",\"87.3800\",\"87.4600\",\"87.1400\",\"87.2050\",\"88.2300\",\"88.4815\",\"88.3600\",\"88.4600\"],\"x\":[\"2022-12-21 17:00:00\",\"2022-12-21 18:00:00\",\"2022-12-21 19:00:00\",\"2022-12-21 20:00:00\",\"2022-12-22 05:00:00\",\"2022-12-22 06:00:00\",\"2022-12-22 07:00:00\",\"2022-12-22 08:00:00\",\"2022-12-22 09:00:00\",\"2022-12-22 10:00:00\",\"2022-12-22 11:00:00\",\"2022-12-22 12:00:00\",\"2022-12-22 13:00:00\",\"2022-12-22 14:00:00\",\"2022-12-22 15:00:00\",\"2022-12-22 16:00:00\",\"2022-12-22 17:00:00\",\"2022-12-22 18:00:00\",\"2022-12-22 19:00:00\",\"2022-12-22 20:00:00\",\"2022-12-23 05:00:00\",\"2022-12-23 06:00:00\",\"2022-12-23 07:00:00\",\"2022-12-23 08:00:00\",\"2022-12-23 09:00:00\",\"2022-12-23 10:00:00\",\"2022-12-23 11:00:00\",\"2022-12-23 12:00:00\",\"2022-12-23 13:00:00\",\"2022-12-23 14:00:00\",\"2022-12-23 15:00:00\",\"2022-12-23 16:00:00\",\"2022-12-23 17:00:00\",\"2022-12-23 18:00:00\",\"2022-12-23 19:00:00\",\"2022-12-23 20:00:00\",\"2022-12-27 05:00:00\",\"2022-12-27 06:00:00\",\"2022-12-27 07:00:00\",\"2022-12-27 08:00:00\",\"2022-12-27 09:00:00\",\"2022-12-27 10:00:00\",\"2022-12-27 11:00:00\",\"2022-12-27 12:00:00\",\"2022-12-27 13:00:00\",\"2022-12-27 14:00:00\",\"2022-12-27 15:00:00\",\"2022-12-27 16:00:00\",\"2022-12-27 17:00:00\",\"2022-12-27 18:00:00\",\"2022-12-27 19:00:00\",\"2022-12-27 20:00:00\",\"2022-12-28 05:00:00\",\"2022-12-28 06:00:00\",\"2022-12-28 07:00:00\",\"2022-12-28 08:00:00\",\"2022-12-28 09:00:00\",\"2022-12-28 10:00:00\",\"2022-12-28 11:00:00\",\"2022-12-28 12:00:00\",\"2022-12-28 13:00:00\",\"2022-12-28 14:00:00\",\"2022-12-28 15:00:00\",\"2022-12-28 16:00:00\",\"2022-12-28 17:00:00\",\"2022-12-28 18:00:00\",\"2022-12-28 19:00:00\",\"2022-12-28 20:00:00\",\"2022-12-29 05:00:00\",\"2022-12-29 06:00:00\",\"2022-12-29 07:00:00\",\"2022-12-29 08:00:00\",\"2022-12-29 09:00:00\",\"2022-12-29 10:00:00\",\"2022-12-29 11:00:00\",\"2022-12-29 12:00:00\",\"2022-12-29 13:00:00\",\"2022-12-29 14:00:00\",\"2022-12-29 15:00:00\",\"2022-12-29 16:00:00\",\"2022-12-29 17:00:00\",\"2022-12-29 18:00:00\",\"2022-12-29 19:00:00\",\"2022-12-29 20:00:00\",\"2022-12-30 05:00:00\",\"2022-12-30 06:00:00\",\"2022-12-30 07:00:00\",\"2022-12-30 08:00:00\",\"2022-12-30 09:00:00\",\"2022-12-30 10:00:00\",\"2022-12-30 11:00:00\",\"2022-12-30 12:00:00\",\"2022-12-30 13:00:00\",\"2022-12-30 14:00:00\",\"2022-12-30 15:00:00\",\"2022-12-30 16:00:00\",\"2022-12-30 17:00:00\",\"2022-12-30 18:00:00\",\"2022-12-30 19:00:00\",\"2022-12-30 20:00:00\"],\"type\":\"candlestick\"},{\"line\":{\"color\":\"gray\"},\"name\":\"SMA\",\"x\":[\"2022-12-21 17:00:00\",\"2022-12-21 18:00:00\",\"2022-12-21 19:00:00\",\"2022-12-21 20:00:00\",\"2022-12-22 05:00:00\",\"2022-12-22 06:00:00\",\"2022-12-22 07:00:00\",\"2022-12-22 08:00:00\",\"2022-12-22 09:00:00\",\"2022-12-22 10:00:00\",\"2022-12-22 11:00:00\",\"2022-12-22 12:00:00\",\"2022-12-22 13:00:00\",\"2022-12-22 14:00:00\",\"2022-12-22 15:00:00\",\"2022-12-22 16:00:00\",\"2022-12-22 17:00:00\",\"2022-12-22 18:00:00\",\"2022-12-22 19:00:00\",\"2022-12-22 20:00:00\",\"2022-12-23 05:00:00\",\"2022-12-23 06:00:00\",\"2022-12-23 07:00:00\",\"2022-12-23 08:00:00\",\"2022-12-23 09:00:00\",\"2022-12-23 10:00:00\",\"2022-12-23 11:00:00\",\"2022-12-23 12:00:00\",\"2022-12-23 13:00:00\",\"2022-12-23 14:00:00\",\"2022-12-23 15:00:00\",\"2022-12-23 16:00:00\",\"2022-12-23 17:00:00\",\"2022-12-23 18:00:00\",\"2022-12-23 19:00:00\",\"2022-12-23 20:00:00\",\"2022-12-27 05:00:00\",\"2022-12-27 06:00:00\",\"2022-12-27 07:00:00\",\"2022-12-27 08:00:00\",\"2022-12-27 09:00:00\",\"2022-12-27 10:00:00\",\"2022-12-27 11:00:00\",\"2022-12-27 12:00:00\",\"2022-12-27 13:00:00\",\"2022-12-27 14:00:00\",\"2022-12-27 15:00:00\",\"2022-12-27 16:00:00\",\"2022-12-27 17:00:00\",\"2022-12-27 18:00:00\",\"2022-12-27 19:00:00\",\"2022-12-27 20:00:00\",\"2022-12-28 05:00:00\",\"2022-12-28 06:00:00\",\"2022-12-28 07:00:00\",\"2022-12-28 08:00:00\",\"2022-12-28 09:00:00\",\"2022-12-28 10:00:00\",\"2022-12-28 11:00:00\",\"2022-12-28 12:00:00\",\"2022-12-28 13:00:00\",\"2022-12-28 14:00:00\",\"2022-12-28 15:00:00\",\"2022-12-28 16:00:00\",\"2022-12-28 17:00:00\",\"2022-12-28 18:00:00\",\"2022-12-28 19:00:00\",\"2022-12-28 20:00:00\",\"2022-12-29 05:00:00\",\"2022-12-29 06:00:00\",\"2022-12-29 07:00:00\",\"2022-12-29 08:00:00\",\"2022-12-29 09:00:00\",\"2022-12-29 10:00:00\",\"2022-12-29 11:00:00\",\"2022-12-29 12:00:00\",\"2022-12-29 13:00:00\",\"2022-12-29 14:00:00\",\"2022-12-29 15:00:00\",\"2022-12-29 16:00:00\",\"2022-12-29 17:00:00\",\"2022-12-29 18:00:00\",\"2022-12-29 19:00:00\",\"2022-12-29 20:00:00\",\"2022-12-30 05:00:00\",\"2022-12-30 06:00:00\",\"2022-12-30 07:00:00\",\"2022-12-30 08:00:00\",\"2022-12-30 09:00:00\",\"2022-12-30 10:00:00\",\"2022-12-30 11:00:00\",\"2022-12-30 12:00:00\",\"2022-12-30 13:00:00\",\"2022-12-30 14:00:00\",\"2022-12-30 15:00:00\",\"2022-12-30 16:00:00\",\"2022-12-30 17:00:00\",\"2022-12-30 18:00:00\",\"2022-12-30 19:00:00\",\"2022-12-30 20:00:00\"],\"y\":[null,null,null,null,89.722,89.728,89.682,89.598,89.33,89.014,88.51,88.074,87.551,87.161,86.973,87.1,87.148,87.341,87.593,87.667,87.67,87.766,87.814,87.898,87.916,87.916,88.058,88.294,88.495,88.799,89.121,89.209,89.193,89.162,89.148,89.08,89.196,89.334,89.502,89.552,89.537,89.083,88.756,88.34,87.99,87.634,87.587,87.452,87.348,87.288,87.323,87.338,87.374,87.426,87.462,87.49,87.472,87.408,87.181,86.927,86.771,86.596,86.361,86.287,86.255,86.119,86.056,86.072,86.172,86.31,86.4,86.47,86.62,86.824,87.14,87.54,87.928,88.251,88.458,88.478,88.446,88.436,88.325,88.234,88.114,88.036,87.954,87.866,87.726,87.568,87.426,87.32,87.3,87.248,87.285,87.485,87.709,87.901,88.153,88.422],\"type\":\"scatter\"}],                        {\"template\":{\"data\":{\"histogram2dcontour\":[{\"type\":\"histogram2dcontour\",\"colorbar\":{\"outlinewidth\":0,\"ticks\":\"\"},\"colorscale\":[[0.0,\"#0d0887\"],[0.1111111111111111,\"#46039f\"],[0.2222222222222222,\"#7201a8\"],[0.3333333333333333,\"#9c179e\"],[0.4444444444444444,\"#bd3786\"],[0.5555555555555556,\"#d8576b\"],[0.6666666666666666,\"#ed7953\"],[0.7777777777777778,\"#fb9f3a\"],[0.8888888888888888,\"#fdca26\"],[1.0,\"#f0f921\"]]}],\"choropleth\":[{\"type\":\"choropleth\",\"colorbar\":{\"outlinewidth\":0,\"ticks\":\"\"}}],\"histogram2d\":[{\"type\":\"histogram2d\",\"colorbar\":{\"outlinewidth\":0,\"ticks\":\"\"},\"colorscale\":[[0.0,\"#0d0887\"],[0.1111111111111111,\"#46039f\"],[0.2222222222222222,\"#7201a8\"],[0.3333333333333333,\"#9c179e\"],[0.4444444444444444,\"#bd3786\"],[0.5555555555555556,\"#d8576b\"],[0.6666666666666666,\"#ed7953\"],[0.7777777777777778,\"#fb9f3a\"],[0.8888888888888888,\"#fdca26\"],[1.0,\"#f0f921\"]]}],\"heatmap\":[{\"type\":\"heatmap\",\"colorbar\":{\"outlinewidth\":0,\"ticks\":\"\"},\"colorscale\":[[0.0,\"#0d0887\"],[0.1111111111111111,\"#46039f\"],[0.2222222222222222,\"#7201a8\"],[0.3333333333333333,\"#9c179e\"],[0.4444444444444444,\"#bd3786\"],[0.5555555555555556,\"#d8576b\"],[0.6666666666666666,\"#ed7953\"],[0.7777777777777778,\"#fb9f3a\"],[0.8888888888888888,\"#fdca26\"],[1.0,\"#f0f921\"]]}],\"heatmapgl\":[{\"type\":\"heatmapgl\",\"colorbar\":{\"outlinewidth\":0,\"ticks\":\"\"},\"colorscale\":[[0.0,\"#0d0887\"],[0.1111111111111111,\"#46039f\"],[0.2222222222222222,\"#7201a8\"],[0.3333333333333333,\"#9c179e\"],[0.4444444444444444,\"#bd3786\"],[0.5555555555555556,\"#d8576b\"],[0.6666666666666666,\"#ed7953\"],[0.7777777777777778,\"#fb9f3a\"],[0.8888888888888888,\"#fdca26\"],[1.0,\"#f0f921\"]]}],\"contourcarpet\":[{\"type\":\"contourcarpet\",\"colorbar\":{\"outlinewidth\":0,\"ticks\":\"\"}}],\"contour\":[{\"type\":\"contour\",\"colorbar\":{\"outlinewidth\":0,\"ticks\":\"\"},\"colorscale\":[[0.0,\"#0d0887\"],[0.1111111111111111,\"#46039f\"],[0.2222222222222222,\"#7201a8\"],[0.3333333333333333,\"#9c179e\"],[0.4444444444444444,\"#bd3786\"],[0.5555555555555556,\"#d8576b\"],[0.6666666666666666,\"#ed7953\"],[0.7777777777777778,\"#fb9f3a\"],[0.8888888888888888,\"#fdca26\"],[1.0,\"#f0f921\"]]}],\"surface\":[{\"type\":\"surface\",\"colorbar\":{\"outlinewidth\":0,\"ticks\":\"\"},\"colorscale\":[[0.0,\"#0d0887\"],[0.1111111111111111,\"#46039f\"],[0.2222222222222222,\"#7201a8\"],[0.3333333333333333,\"#9c179e\"],[0.4444444444444444,\"#bd3786\"],[0.5555555555555556,\"#d8576b\"],[0.6666666666666666,\"#ed7953\"],[0.7777777777777778,\"#fb9f3a\"],[0.8888888888888888,\"#fdca26\"],[1.0,\"#f0f921\"]]}],\"mesh3d\":[{\"type\":\"mesh3d\",\"colorbar\":{\"outlinewidth\":0,\"ticks\":\"\"}}],\"scatter\":[{\"fillpattern\":{\"fillmode\":\"overlay\",\"size\":10,\"solidity\":0.2},\"type\":\"scatter\"}],\"parcoords\":[{\"type\":\"parcoords\",\"line\":{\"colorbar\":{\"outlinewidth\":0,\"ticks\":\"\"}}}],\"scatterpolargl\":[{\"type\":\"scatterpolargl\",\"marker\":{\"colorbar\":{\"outlinewidth\":0,\"ticks\":\"\"}}}],\"bar\":[{\"error_x\":{\"color\":\"#2a3f5f\"},\"error_y\":{\"color\":\"#2a3f5f\"},\"marker\":{\"line\":{\"color\":\"#E5ECF6\",\"width\":0.5},\"pattern\":{\"fillmode\":\"overlay\",\"size\":10,\"solidity\":0.2}},\"type\":\"bar\"}],\"scattergeo\":[{\"type\":\"scattergeo\",\"marker\":{\"colorbar\":{\"outlinewidth\":0,\"ticks\":\"\"}}}],\"scatterpolar\":[{\"type\":\"scatterpolar\",\"marker\":{\"colorbar\":{\"outlinewidth\":0,\"ticks\":\"\"}}}],\"histogram\":[{\"marker\":{\"pattern\":{\"fillmode\":\"overlay\",\"size\":10,\"solidity\":0.2}},\"type\":\"histogram\"}],\"scattergl\":[{\"type\":\"scattergl\",\"marker\":{\"colorbar\":{\"outlinewidth\":0,\"ticks\":\"\"}}}],\"scatter3d\":[{\"type\":\"scatter3d\",\"line\":{\"colorbar\":{\"outlinewidth\":0,\"ticks\":\"\"}},\"marker\":{\"colorbar\":{\"outlinewidth\":0,\"ticks\":\"\"}}}],\"scattermapbox\":[{\"type\":\"scattermapbox\",\"marker\":{\"colorbar\":{\"outlinewidth\":0,\"ticks\":\"\"}}}],\"scatterternary\":[{\"type\":\"scatterternary\",\"marker\":{\"colorbar\":{\"outlinewidth\":0,\"ticks\":\"\"}}}],\"scattercarpet\":[{\"type\":\"scattercarpet\",\"marker\":{\"colorbar\":{\"outlinewidth\":0,\"ticks\":\"\"}}}],\"carpet\":[{\"aaxis\":{\"endlinecolor\":\"#2a3f5f\",\"gridcolor\":\"white\",\"linecolor\":\"white\",\"minorgridcolor\":\"white\",\"startlinecolor\":\"#2a3f5f\"},\"baxis\":{\"endlinecolor\":\"#2a3f5f\",\"gridcolor\":\"white\",\"linecolor\":\"white\",\"minorgridcolor\":\"white\",\"startlinecolor\":\"#2a3f5f\"},\"type\":\"carpet\"}],\"table\":[{\"cells\":{\"fill\":{\"color\":\"#EBF0F8\"},\"line\":{\"color\":\"white\"}},\"header\":{\"fill\":{\"color\":\"#C8D4E3\"},\"line\":{\"color\":\"white\"}},\"type\":\"table\"}],\"barpolar\":[{\"marker\":{\"line\":{\"color\":\"#E5ECF6\",\"width\":0.5},\"pattern\":{\"fillmode\":\"overlay\",\"size\":10,\"solidity\":0.2}},\"type\":\"barpolar\"}],\"pie\":[{\"automargin\":true,\"type\":\"pie\"}]},\"layout\":{\"autotypenumbers\":\"strict\",\"colorway\":[\"#636efa\",\"#EF553B\",\"#00cc96\",\"#ab63fa\",\"#FFA15A\",\"#19d3f3\",\"#FF6692\",\"#B6E880\",\"#FF97FF\",\"#FECB52\"],\"font\":{\"color\":\"#2a3f5f\"},\"hovermode\":\"closest\",\"hoverlabel\":{\"align\":\"left\"},\"paper_bgcolor\":\"white\",\"plot_bgcolor\":\"#E5ECF6\",\"polar\":{\"bgcolor\":\"#E5ECF6\",\"angularaxis\":{\"gridcolor\":\"white\",\"linecolor\":\"white\",\"ticks\":\"\"},\"radialaxis\":{\"gridcolor\":\"white\",\"linecolor\":\"white\",\"ticks\":\"\"}},\"ternary\":{\"bgcolor\":\"#E5ECF6\",\"aaxis\":{\"gridcolor\":\"white\",\"linecolor\":\"white\",\"ticks\":\"\"},\"baxis\":{\"gridcolor\":\"white\",\"linecolor\":\"white\",\"ticks\":\"\"},\"caxis\":{\"gridcolor\":\"white\",\"linecolor\":\"white\",\"ticks\":\"\"}},\"coloraxis\":{\"colorbar\":{\"outlinewidth\":0,\"ticks\":\"\"}},\"colorscale\":{\"sequential\":[[0.0,\"#0d0887\"],[0.1111111111111111,\"#46039f\"],[0.2222222222222222,\"#7201a8\"],[0.3333333333333333,\"#9c179e\"],[0.4444444444444444,\"#bd3786\"],[0.5555555555555556,\"#d8576b\"],[0.6666666666666666,\"#ed7953\"],[0.7777777777777778,\"#fb9f3a\"],[0.8888888888888888,\"#fdca26\"],[1.0,\"#f0f921\"]],\"sequentialminus\":[[0.0,\"#0d0887\"],[0.1111111111111111,\"#46039f\"],[0.2222222222222222,\"#7201a8\"],[0.3333333333333333,\"#9c179e\"],[0.4444444444444444,\"#bd3786\"],[0.5555555555555556,\"#d8576b\"],[0.6666666666666666,\"#ed7953\"],[0.7777777777777778,\"#fb9f3a\"],[0.8888888888888888,\"#fdca26\"],[1.0,\"#f0f921\"]],\"diverging\":[[0,\"#8e0152\"],[0.1,\"#c51b7d\"],[0.2,\"#de77ae\"],[0.3,\"#f1b6da\"],[0.4,\"#fde0ef\"],[0.5,\"#f7f7f7\"],[0.6,\"#e6f5d0\"],[0.7,\"#b8e186\"],[0.8,\"#7fbc41\"],[0.9,\"#4d9221\"],[1,\"#276419\"]]},\"xaxis\":{\"gridcolor\":\"white\",\"linecolor\":\"white\",\"ticks\":\"\",\"title\":{\"standoff\":15},\"zerolinecolor\":\"white\",\"automargin\":true,\"zerolinewidth\":2},\"yaxis\":{\"gridcolor\":\"white\",\"linecolor\":\"white\",\"ticks\":\"\",\"title\":{\"standoff\":15},\"zerolinecolor\":\"white\",\"automargin\":true,\"zerolinewidth\":2},\"scene\":{\"xaxis\":{\"backgroundcolor\":\"#E5ECF6\",\"gridcolor\":\"white\",\"linecolor\":\"white\",\"showbackground\":true,\"ticks\":\"\",\"zerolinecolor\":\"white\",\"gridwidth\":2},\"yaxis\":{\"backgroundcolor\":\"#E5ECF6\",\"gridcolor\":\"white\",\"linecolor\":\"white\",\"showbackground\":true,\"ticks\":\"\",\"zerolinecolor\":\"white\",\"gridwidth\":2},\"zaxis\":{\"backgroundcolor\":\"#E5ECF6\",\"gridcolor\":\"white\",\"linecolor\":\"white\",\"showbackground\":true,\"ticks\":\"\",\"zerolinecolor\":\"white\",\"gridwidth\":2}},\"shapedefaults\":{\"line\":{\"color\":\"#2a3f5f\"}},\"annotationdefaults\":{\"arrowcolor\":\"#2a3f5f\",\"arrowhead\":0,\"arrowwidth\":1},\"geo\":{\"bgcolor\":\"white\",\"landcolor\":\"#E5ECF6\",\"subunitcolor\":\"white\",\"showland\":true,\"showlakes\":true,\"lakecolor\":\"white\"},\"title\":{\"x\":0.05},\"mapbox\":{\"style\":\"light\"}}},\"xaxis\":{\"rangeslider\":{\"visible\":false}}},                        {\"responsive\": true}                    ).then(function(){\n",
       "                            \n",
       "var gd = document.getElementById('ab04f4e3-14c7-4d88-a519-d719a4f4f8be');\n",
       "var x = new MutationObserver(function (mutations, observer) {{\n",
       "        var display = window.getComputedStyle(gd).display;\n",
       "        if (!display || display === 'none') {{\n",
       "            console.log([gd, 'removed!']);\n",
       "            Plotly.purge(gd);\n",
       "            observer.disconnect();\n",
       "        }}\n",
       "}});\n",
       "\n",
       "// Listen for the removal of the full notebook cells\n",
       "var notebookContainer = gd.closest('#notebook-container');\n",
       "if (notebookContainer) {{\n",
       "    x.observe(notebookContainer, {childList: true});\n",
       "}}\n",
       "\n",
       "// Listen for the clearing of the current output cell\n",
       "var outputEl = gd.closest('.output');\n",
       "if (outputEl) {{\n",
       "    x.observe(outputEl, {childList: true});\n",
       "}}\n",
       "\n",
       "                        })                };                });            </script>        </div>"
      ]
     },
     "metadata": {},
     "output_type": "display_data"
    }
   ],
   "source": [
    "show_graph('GOOGL')"
   ]
  },
  {
   "cell_type": "code",
   "execution_count": 25,
   "id": "a2245463",
   "metadata": {},
   "outputs": [
    {
     "data": {
      "application/vnd.plotly.v1+json": {
       "config": {
        "plotlyServerURL": "https://plot.ly"
       },
       "data": [
        {
         "close": [
          "135.4188",
          "135.4887",
          "135.4588",
          "135.4987",
          "135.2790",
          "135.1891",
          "135.0393",
          "134.7596",
          "133.7006",
          "133.3706",
          "131.3720",
          "131.5387",
          "130.8446",
          "130.6249",
          "131.3340",
          "132.0830",
          "132.0057",
          "132.0031",
          "131.8633",
          "131.1342",
          "131.8400",
          "132.5100",
          "132.1900",
          "132.2000",
          "132.0900",
          "130.0179",
          "130.8701",
          "130.8750",
          "131.1400",
          "131.1799",
          "131.7189",
          "131.8600",
          "131.7500",
          "131.7800",
          "131.7400",
          "131.6500",
          "132.6100",
          "132.5500",
          "132.3800",
          "131.6200",
          "131.2400",
          "129.3399",
          "129.8428",
          "129.9500",
          "130.1300",
          "129.6750",
          "130.1884",
          "130.0500",
          "130.0200",
          "129.9600",
          "129.9700",
          "129.5000",
          "129.8400",
          "130.0000",
          "130.1000",
          "130.2500",
          "129.8700",
          "129.9900",
          "128.0600",
          "126.6245",
          "127.6350",
          "127.0850",
          "126.8400",
          "126.0500",
          "126.2600",
          "126.1000",
          "126.2600",
          "126.3200",
          "126.8400",
          "126.9000",
          "127.2500",
          "127.3000",
          "128.0100",
          "128.7500",
          "129.9542",
          "130.1005",
          "129.8401",
          "130.0350",
          "129.7750",
          "129.6000",
          "129.5200",
          "129.5200",
          "129.3900",
          "129.2500",
          "129.1000",
          "129.1400",
          "129.1500",
          "128.4700",
          "128.1900",
          "127.8801",
          "128.8375",
          "128.9950",
          "128.9550",
          "128.3750",
          "128.2800",
          "129.9100",
          "129.9900",
          "129.9487",
          "130.0100",
          "129.9700"
         ],
         "high": [
          "135.5586",
          "135.4887",
          "135.5287",
          "135.5586",
          "135.7783",
          "135.2690",
          "135.1491",
          "135.2690",
          "135.8283",
          "134.3901",
          "133.3664",
          "131.8433",
          "131.6086",
          "130.8895",
          "131.3839",
          "132.1929",
          "132.3327",
          "132.0630",
          "132.0231",
          "131.8433",
          "132.1700",
          "132.5400",
          "132.7900",
          "132.4400",
          "133.4000",
          "132.1500",
          "132.4150",
          "131.6900",
          "131.7600",
          "131.5000",
          "131.7600",
          "131.9990",
          "131.9900",
          "131.7900",
          "131.7800",
          "131.7500",
          "133.2400",
          "132.8200",
          "132.5600",
          "132.4000",
          "132.6985",
          "131.6600",
          "130.4200",
          "130.1400",
          "130.5299",
          "130.3700",
          "130.3100",
          "130.5900",
          "130.1500",
          "130.0800",
          "130.1400",
          "130.1000",
          "130.5200",
          "130.0000",
          "130.2400",
          "130.4800",
          "130.4300",
          "131.0275",
          "130.5100",
          "130.1200",
          "127.7350",
          "128.3900",
          "127.5000",
          "126.8400",
          "126.3159",
          "126.9701",
          "126.2800",
          "126.3200",
          "126.9000",
          "126.9200",
          "127.2700",
          "127.6000",
          "128.1200",
          "129.7700",
          "129.9800",
          "130.4814",
          "130.3700",
          "130.0750",
          "130.2400",
          "130.2200",
          "129.6603",
          "129.5600",
          "129.5200",
          "129.9501",
          "129.1900",
          "129.1800",
          "129.1900",
          "129.2200",
          "129.7200",
          "128.6900",
          "129.2500",
          "129.0500",
          "129.0800",
          "128.9650",
          "128.3950",
          "129.9500",
          "130.0500",
          "130.0500",
          "130.0500",
          "130.0400"
         ],
         "low": [
          "134.6498",
          "135.3289",
          "135.3888",
          "135.3389",
          "135.2790",
          "135.0992",
          "134.9494",
          "134.6298",
          "133.6311",
          "133.0019",
          "130.9694",
          "130.8846",
          "130.5350",
          "130.1355",
          "130.4850",
          "131.0044",
          "131.7534",
          "131.8833",
          "131.8333",
          "131.0843",
          "131.3000",
          "131.8800",
          "132.1900",
          "132.0100",
          "131.0400",
          "129.6400",
          "129.6605",
          "130.2531",
          "130.8300",
          "130.8100",
          "130.9300",
          "131.2000",
          "131.5900",
          "131.7100",
          "131.7100",
          "131.6500",
          "132.3300",
          "132.5400",
          "132.2000",
          "131.6200",
          "131.1100",
          "129.1800",
          "128.7200",
          "129.1800",
          "129.6800",
          "129.6200",
          "129.6500",
          "129.9400",
          "129.9800",
          "129.8900",
          "129.9000",
          "129.5000",
          "129.5200",
          "129.7300",
          "129.8100",
          "129.9600",
          "129.5400",
          "129.1300",
          "128.0600",
          "126.4600",
          "126.4100",
          "126.8400",
          "126.8100",
          "125.8700",
          "126.0000",
          "126.0400",
          "126.1400",
          "126.1600",
          "126.5200",
          "126.7100",
          "126.9300",
          "127.0700",
          "126.1300",
          "127.7300",
          "128.1900",
          "129.4400",
          "129.5100",
          "129.3250",
          "129.7300",
          "129.5600",
          "129.4500",
          "129.4200",
          "129.3100",
          "129.2100",
          "128.7500",
          "128.8500",
          "129.0900",
          "128.4000",
          "127.8400",
          "127.4800",
          "127.4300",
          "128.0800",
          "128.6350",
          "128.0200",
          "127.9700",
          "128.2550",
          "129.7800",
          "129.9100",
          "129.9400",
          "129.9700"
         ],
         "name": "Historical Data",
         "open": [
          "135.2790",
          "135.4088",
          "135.4987",
          "135.4588",
          "135.7783",
          "135.2191",
          "135.1491",
          "135.0792",
          "135.1192",
          "133.7010",
          "133.3614",
          "131.3689",
          "131.5347",
          "130.8463",
          "130.6428",
          "131.3340",
          "132.1230",
          "132.0198",
          "132.0231",
          "131.8333",
          "131.4200",
          "131.8800",
          "132.5000",
          "132.1200",
          "132.2000",
          "132.0600",
          "130.0200",
          "130.8800",
          "130.8800",
          "131.1400",
          "131.1700",
          "131.7189",
          "131.8600",
          "131.7500",
          "131.7700",
          "131.7500",
          "132.5200",
          "132.6800",
          "132.5400",
          "132.3400",
          "132.3700",
          "131.2100",
          "129.3300",
          "129.8500",
          "129.9457",
          "130.1350",
          "129.6800",
          "130.1850",
          "130.0700",
          "129.9600",
          "130.0000",
          "130.0000",
          "130.5200",
          "129.8900",
          "129.9700",
          "130.1000",
          "130.1500",
          "129.8400",
          "129.9750",
          "128.0700",
          "126.6153",
          "127.6400",
          "127.0900",
          "126.8300",
          "126.0400",
          "126.2200",
          "126.1400",
          "126.2600",
          "126.8200",
          "126.8400",
          "126.9300",
          "127.2000",
          "127.2300",
          "127.9800",
          "128.7450",
          "129.9600",
          "130.1100",
          "129.8450",
          "130.0300",
          "129.7650",
          "129.6100",
          "129.5001",
          "129.5200",
          "129.3500",
          "129.0000",
          "129.1000",
          "129.1700",
          "129.1700",
          "128.8583",
          "128.1900",
          "127.8810",
          "128.8330",
          "128.9950",
          "128.9600",
          "128.3800",
          "128.2800",
          "129.9100",
          "130.0000",
          "129.9500",
          "129.9900"
         ],
         "type": "candlestick",
         "x": [
          "2022-12-21 17:00:00",
          "2022-12-21 18:00:00",
          "2022-12-21 19:00:00",
          "2022-12-21 20:00:00",
          "2022-12-22 05:00:00",
          "2022-12-22 06:00:00",
          "2022-12-22 07:00:00",
          "2022-12-22 08:00:00",
          "2022-12-22 09:00:00",
          "2022-12-22 10:00:00",
          "2022-12-22 11:00:00",
          "2022-12-22 12:00:00",
          "2022-12-22 13:00:00",
          "2022-12-22 14:00:00",
          "2022-12-22 15:00:00",
          "2022-12-22 16:00:00",
          "2022-12-22 17:00:00",
          "2022-12-22 18:00:00",
          "2022-12-22 19:00:00",
          "2022-12-22 20:00:00",
          "2022-12-23 05:00:00",
          "2022-12-23 06:00:00",
          "2022-12-23 07:00:00",
          "2022-12-23 08:00:00",
          "2022-12-23 09:00:00",
          "2022-12-23 10:00:00",
          "2022-12-23 11:00:00",
          "2022-12-23 12:00:00",
          "2022-12-23 13:00:00",
          "2022-12-23 14:00:00",
          "2022-12-23 15:00:00",
          "2022-12-23 16:00:00",
          "2022-12-23 17:00:00",
          "2022-12-23 18:00:00",
          "2022-12-23 19:00:00",
          "2022-12-23 20:00:00",
          "2022-12-27 05:00:00",
          "2022-12-27 06:00:00",
          "2022-12-27 07:00:00",
          "2022-12-27 08:00:00",
          "2022-12-27 09:00:00",
          "2022-12-27 10:00:00",
          "2022-12-27 11:00:00",
          "2022-12-27 12:00:00",
          "2022-12-27 13:00:00",
          "2022-12-27 14:00:00",
          "2022-12-27 15:00:00",
          "2022-12-27 16:00:00",
          "2022-12-27 17:00:00",
          "2022-12-27 18:00:00",
          "2022-12-27 19:00:00",
          "2022-12-27 20:00:00",
          "2022-12-28 05:00:00",
          "2022-12-28 06:00:00",
          "2022-12-28 07:00:00",
          "2022-12-28 08:00:00",
          "2022-12-28 09:00:00",
          "2022-12-28 10:00:00",
          "2022-12-28 11:00:00",
          "2022-12-28 12:00:00",
          "2022-12-28 13:00:00",
          "2022-12-28 14:00:00",
          "2022-12-28 15:00:00",
          "2022-12-28 16:00:00",
          "2022-12-28 17:00:00",
          "2022-12-28 18:00:00",
          "2022-12-28 19:00:00",
          "2022-12-28 20:00:00",
          "2022-12-29 05:00:00",
          "2022-12-29 06:00:00",
          "2022-12-29 07:00:00",
          "2022-12-29 08:00:00",
          "2022-12-29 09:00:00",
          "2022-12-29 10:00:00",
          "2022-12-29 11:00:00",
          "2022-12-29 12:00:00",
          "2022-12-29 13:00:00",
          "2022-12-29 14:00:00",
          "2022-12-29 15:00:00",
          "2022-12-29 16:00:00",
          "2022-12-29 17:00:00",
          "2022-12-29 18:00:00",
          "2022-12-29 19:00:00",
          "2022-12-29 20:00:00",
          "2022-12-30 05:00:00",
          "2022-12-30 06:00:00",
          "2022-12-30 07:00:00",
          "2022-12-30 08:00:00",
          "2022-12-30 09:00:00",
          "2022-12-30 10:00:00",
          "2022-12-30 11:00:00",
          "2022-12-30 12:00:00",
          "2022-12-30 13:00:00",
          "2022-12-30 14:00:00",
          "2022-12-30 15:00:00",
          "2022-12-30 16:00:00",
          "2022-12-30 17:00:00",
          "2022-12-30 18:00:00",
          "2022-12-30 19:00:00",
          "2022-12-30 20:00:00"
         ]
        },
        {
         "line": {
          "color": "gray"
         },
         "name": "SMA",
         "type": "scatter",
         "x": [
          "2022-12-21 17:00:00",
          "2022-12-21 18:00:00",
          "2022-12-21 19:00:00",
          "2022-12-21 20:00:00",
          "2022-12-22 05:00:00",
          "2022-12-22 06:00:00",
          "2022-12-22 07:00:00",
          "2022-12-22 08:00:00",
          "2022-12-22 09:00:00",
          "2022-12-22 10:00:00",
          "2022-12-22 11:00:00",
          "2022-12-22 12:00:00",
          "2022-12-22 13:00:00",
          "2022-12-22 14:00:00",
          "2022-12-22 15:00:00",
          "2022-12-22 16:00:00",
          "2022-12-22 17:00:00",
          "2022-12-22 18:00:00",
          "2022-12-22 19:00:00",
          "2022-12-22 20:00:00",
          "2022-12-23 05:00:00",
          "2022-12-23 06:00:00",
          "2022-12-23 07:00:00",
          "2022-12-23 08:00:00",
          "2022-12-23 09:00:00",
          "2022-12-23 10:00:00",
          "2022-12-23 11:00:00",
          "2022-12-23 12:00:00",
          "2022-12-23 13:00:00",
          "2022-12-23 14:00:00",
          "2022-12-23 15:00:00",
          "2022-12-23 16:00:00",
          "2022-12-23 17:00:00",
          "2022-12-23 18:00:00",
          "2022-12-23 19:00:00",
          "2022-12-23 20:00:00",
          "2022-12-27 05:00:00",
          "2022-12-27 06:00:00",
          "2022-12-27 07:00:00",
          "2022-12-27 08:00:00",
          "2022-12-27 09:00:00",
          "2022-12-27 10:00:00",
          "2022-12-27 11:00:00",
          "2022-12-27 12:00:00",
          "2022-12-27 13:00:00",
          "2022-12-27 14:00:00",
          "2022-12-27 15:00:00",
          "2022-12-27 16:00:00",
          "2022-12-27 17:00:00",
          "2022-12-27 18:00:00",
          "2022-12-27 19:00:00",
          "2022-12-27 20:00:00",
          "2022-12-28 05:00:00",
          "2022-12-28 06:00:00",
          "2022-12-28 07:00:00",
          "2022-12-28 08:00:00",
          "2022-12-28 09:00:00",
          "2022-12-28 10:00:00",
          "2022-12-28 11:00:00",
          "2022-12-28 12:00:00",
          "2022-12-28 13:00:00",
          "2022-12-28 14:00:00",
          "2022-12-28 15:00:00",
          "2022-12-28 16:00:00",
          "2022-12-28 17:00:00",
          "2022-12-28 18:00:00",
          "2022-12-28 19:00:00",
          "2022-12-28 20:00:00",
          "2022-12-29 05:00:00",
          "2022-12-29 06:00:00",
          "2022-12-29 07:00:00",
          "2022-12-29 08:00:00",
          "2022-12-29 09:00:00",
          "2022-12-29 10:00:00",
          "2022-12-29 11:00:00",
          "2022-12-29 12:00:00",
          "2022-12-29 13:00:00",
          "2022-12-29 14:00:00",
          "2022-12-29 15:00:00",
          "2022-12-29 16:00:00",
          "2022-12-29 17:00:00",
          "2022-12-29 18:00:00",
          "2022-12-29 19:00:00",
          "2022-12-29 20:00:00",
          "2022-12-30 05:00:00",
          "2022-12-30 06:00:00",
          "2022-12-30 07:00:00",
          "2022-12-30 08:00:00",
          "2022-12-30 09:00:00",
          "2022-12-30 10:00:00",
          "2022-12-30 11:00:00",
          "2022-12-30 12:00:00",
          "2022-12-30 13:00:00",
          "2022-12-30 14:00:00",
          "2022-12-30 15:00:00",
          "2022-12-30 16:00:00",
          "2022-12-30 17:00:00",
          "2022-12-30 18:00:00",
          "2022-12-30 19:00:00",
          "2022-12-30 20:00:00"
         ],
         "y": [
          null,
          null,
          null,
          null,
          135.429,
          135.383,
          135.293,
          135.153,
          134.794,
          134.412,
          133.648,
          132.948,
          132.165,
          131.55,
          131.143,
          131.285,
          131.378,
          131.61,
          131.858,
          131.818,
          131.769,
          131.87,
          131.907,
          131.975,
          132.166,
          131.802,
          131.474,
          131.211,
          130.999,
          130.817,
          131.157,
          131.355,
          131.53,
          131.658,
          131.77,
          131.756,
          131.906,
          132.066,
          132.186,
          132.162,
          132.08,
          131.426,
          130.885,
          130.399,
          130.101,
          129.788,
          129.957,
          129.999,
          130.013,
          129.979,
          130.038,
          129.9,
          129.858,
          129.854,
          129.882,
          129.938,
          130.012,
          130.042,
          129.654,
          128.959,
          128.436,
          127.879,
          127.249,
          126.847,
          126.774,
          126.467,
          126.302,
          126.198,
          126.356,
          126.484,
          126.714,
          126.922,
          127.26,
          127.642,
          128.253,
          128.823,
          129.331,
          129.736,
          129.941,
          129.87,
          129.754,
          129.69,
          129.561,
          129.456,
          129.356,
          129.28,
          129.206,
          129.022,
          128.81,
          128.566,
          128.506,
          128.475,
          128.572,
          128.609,
          128.688,
          128.903,
          129.102,
          129.301,
          129.628,
          129.966
         ]
        }
       ],
       "layout": {
        "template": {
         "data": {
          "bar": [
           {
            "error_x": {
             "color": "#2a3f5f"
            },
            "error_y": {
             "color": "#2a3f5f"
            },
            "marker": {
             "line": {
              "color": "#E5ECF6",
              "width": 0.5
             },
             "pattern": {
              "fillmode": "overlay",
              "size": 10,
              "solidity": 0.2
             }
            },
            "type": "bar"
           }
          ],
          "barpolar": [
           {
            "marker": {
             "line": {
              "color": "#E5ECF6",
              "width": 0.5
             },
             "pattern": {
              "fillmode": "overlay",
              "size": 10,
              "solidity": 0.2
             }
            },
            "type": "barpolar"
           }
          ],
          "carpet": [
           {
            "aaxis": {
             "endlinecolor": "#2a3f5f",
             "gridcolor": "white",
             "linecolor": "white",
             "minorgridcolor": "white",
             "startlinecolor": "#2a3f5f"
            },
            "baxis": {
             "endlinecolor": "#2a3f5f",
             "gridcolor": "white",
             "linecolor": "white",
             "minorgridcolor": "white",
             "startlinecolor": "#2a3f5f"
            },
            "type": "carpet"
           }
          ],
          "choropleth": [
           {
            "colorbar": {
             "outlinewidth": 0,
             "ticks": ""
            },
            "type": "choropleth"
           }
          ],
          "contour": [
           {
            "colorbar": {
             "outlinewidth": 0,
             "ticks": ""
            },
            "colorscale": [
             [
              0,
              "#0d0887"
             ],
             [
              0.1111111111111111,
              "#46039f"
             ],
             [
              0.2222222222222222,
              "#7201a8"
             ],
             [
              0.3333333333333333,
              "#9c179e"
             ],
             [
              0.4444444444444444,
              "#bd3786"
             ],
             [
              0.5555555555555556,
              "#d8576b"
             ],
             [
              0.6666666666666666,
              "#ed7953"
             ],
             [
              0.7777777777777778,
              "#fb9f3a"
             ],
             [
              0.8888888888888888,
              "#fdca26"
             ],
             [
              1,
              "#f0f921"
             ]
            ],
            "type": "contour"
           }
          ],
          "contourcarpet": [
           {
            "colorbar": {
             "outlinewidth": 0,
             "ticks": ""
            },
            "type": "contourcarpet"
           }
          ],
          "heatmap": [
           {
            "colorbar": {
             "outlinewidth": 0,
             "ticks": ""
            },
            "colorscale": [
             [
              0,
              "#0d0887"
             ],
             [
              0.1111111111111111,
              "#46039f"
             ],
             [
              0.2222222222222222,
              "#7201a8"
             ],
             [
              0.3333333333333333,
              "#9c179e"
             ],
             [
              0.4444444444444444,
              "#bd3786"
             ],
             [
              0.5555555555555556,
              "#d8576b"
             ],
             [
              0.6666666666666666,
              "#ed7953"
             ],
             [
              0.7777777777777778,
              "#fb9f3a"
             ],
             [
              0.8888888888888888,
              "#fdca26"
             ],
             [
              1,
              "#f0f921"
             ]
            ],
            "type": "heatmap"
           }
          ],
          "heatmapgl": [
           {
            "colorbar": {
             "outlinewidth": 0,
             "ticks": ""
            },
            "colorscale": [
             [
              0,
              "#0d0887"
             ],
             [
              0.1111111111111111,
              "#46039f"
             ],
             [
              0.2222222222222222,
              "#7201a8"
             ],
             [
              0.3333333333333333,
              "#9c179e"
             ],
             [
              0.4444444444444444,
              "#bd3786"
             ],
             [
              0.5555555555555556,
              "#d8576b"
             ],
             [
              0.6666666666666666,
              "#ed7953"
             ],
             [
              0.7777777777777778,
              "#fb9f3a"
             ],
             [
              0.8888888888888888,
              "#fdca26"
             ],
             [
              1,
              "#f0f921"
             ]
            ],
            "type": "heatmapgl"
           }
          ],
          "histogram": [
           {
            "marker": {
             "pattern": {
              "fillmode": "overlay",
              "size": 10,
              "solidity": 0.2
             }
            },
            "type": "histogram"
           }
          ],
          "histogram2d": [
           {
            "colorbar": {
             "outlinewidth": 0,
             "ticks": ""
            },
            "colorscale": [
             [
              0,
              "#0d0887"
             ],
             [
              0.1111111111111111,
              "#46039f"
             ],
             [
              0.2222222222222222,
              "#7201a8"
             ],
             [
              0.3333333333333333,
              "#9c179e"
             ],
             [
              0.4444444444444444,
              "#bd3786"
             ],
             [
              0.5555555555555556,
              "#d8576b"
             ],
             [
              0.6666666666666666,
              "#ed7953"
             ],
             [
              0.7777777777777778,
              "#fb9f3a"
             ],
             [
              0.8888888888888888,
              "#fdca26"
             ],
             [
              1,
              "#f0f921"
             ]
            ],
            "type": "histogram2d"
           }
          ],
          "histogram2dcontour": [
           {
            "colorbar": {
             "outlinewidth": 0,
             "ticks": ""
            },
            "colorscale": [
             [
              0,
              "#0d0887"
             ],
             [
              0.1111111111111111,
              "#46039f"
             ],
             [
              0.2222222222222222,
              "#7201a8"
             ],
             [
              0.3333333333333333,
              "#9c179e"
             ],
             [
              0.4444444444444444,
              "#bd3786"
             ],
             [
              0.5555555555555556,
              "#d8576b"
             ],
             [
              0.6666666666666666,
              "#ed7953"
             ],
             [
              0.7777777777777778,
              "#fb9f3a"
             ],
             [
              0.8888888888888888,
              "#fdca26"
             ],
             [
              1,
              "#f0f921"
             ]
            ],
            "type": "histogram2dcontour"
           }
          ],
          "mesh3d": [
           {
            "colorbar": {
             "outlinewidth": 0,
             "ticks": ""
            },
            "type": "mesh3d"
           }
          ],
          "parcoords": [
           {
            "line": {
             "colorbar": {
              "outlinewidth": 0,
              "ticks": ""
             }
            },
            "type": "parcoords"
           }
          ],
          "pie": [
           {
            "automargin": true,
            "type": "pie"
           }
          ],
          "scatter": [
           {
            "fillpattern": {
             "fillmode": "overlay",
             "size": 10,
             "solidity": 0.2
            },
            "type": "scatter"
           }
          ],
          "scatter3d": [
           {
            "line": {
             "colorbar": {
              "outlinewidth": 0,
              "ticks": ""
             }
            },
            "marker": {
             "colorbar": {
              "outlinewidth": 0,
              "ticks": ""
             }
            },
            "type": "scatter3d"
           }
          ],
          "scattercarpet": [
           {
            "marker": {
             "colorbar": {
              "outlinewidth": 0,
              "ticks": ""
             }
            },
            "type": "scattercarpet"
           }
          ],
          "scattergeo": [
           {
            "marker": {
             "colorbar": {
              "outlinewidth": 0,
              "ticks": ""
             }
            },
            "type": "scattergeo"
           }
          ],
          "scattergl": [
           {
            "marker": {
             "colorbar": {
              "outlinewidth": 0,
              "ticks": ""
             }
            },
            "type": "scattergl"
           }
          ],
          "scattermapbox": [
           {
            "marker": {
             "colorbar": {
              "outlinewidth": 0,
              "ticks": ""
             }
            },
            "type": "scattermapbox"
           }
          ],
          "scatterpolar": [
           {
            "marker": {
             "colorbar": {
              "outlinewidth": 0,
              "ticks": ""
             }
            },
            "type": "scatterpolar"
           }
          ],
          "scatterpolargl": [
           {
            "marker": {
             "colorbar": {
              "outlinewidth": 0,
              "ticks": ""
             }
            },
            "type": "scatterpolargl"
           }
          ],
          "scatterternary": [
           {
            "marker": {
             "colorbar": {
              "outlinewidth": 0,
              "ticks": ""
             }
            },
            "type": "scatterternary"
           }
          ],
          "surface": [
           {
            "colorbar": {
             "outlinewidth": 0,
             "ticks": ""
            },
            "colorscale": [
             [
              0,
              "#0d0887"
             ],
             [
              0.1111111111111111,
              "#46039f"
             ],
             [
              0.2222222222222222,
              "#7201a8"
             ],
             [
              0.3333333333333333,
              "#9c179e"
             ],
             [
              0.4444444444444444,
              "#bd3786"
             ],
             [
              0.5555555555555556,
              "#d8576b"
             ],
             [
              0.6666666666666666,
              "#ed7953"
             ],
             [
              0.7777777777777778,
              "#fb9f3a"
             ],
             [
              0.8888888888888888,
              "#fdca26"
             ],
             [
              1,
              "#f0f921"
             ]
            ],
            "type": "surface"
           }
          ],
          "table": [
           {
            "cells": {
             "fill": {
              "color": "#EBF0F8"
             },
             "line": {
              "color": "white"
             }
            },
            "header": {
             "fill": {
              "color": "#C8D4E3"
             },
             "line": {
              "color": "white"
             }
            },
            "type": "table"
           }
          ]
         },
         "layout": {
          "annotationdefaults": {
           "arrowcolor": "#2a3f5f",
           "arrowhead": 0,
           "arrowwidth": 1
          },
          "autotypenumbers": "strict",
          "coloraxis": {
           "colorbar": {
            "outlinewidth": 0,
            "ticks": ""
           }
          },
          "colorscale": {
           "diverging": [
            [
             0,
             "#8e0152"
            ],
            [
             0.1,
             "#c51b7d"
            ],
            [
             0.2,
             "#de77ae"
            ],
            [
             0.3,
             "#f1b6da"
            ],
            [
             0.4,
             "#fde0ef"
            ],
            [
             0.5,
             "#f7f7f7"
            ],
            [
             0.6,
             "#e6f5d0"
            ],
            [
             0.7,
             "#b8e186"
            ],
            [
             0.8,
             "#7fbc41"
            ],
            [
             0.9,
             "#4d9221"
            ],
            [
             1,
             "#276419"
            ]
           ],
           "sequential": [
            [
             0,
             "#0d0887"
            ],
            [
             0.1111111111111111,
             "#46039f"
            ],
            [
             0.2222222222222222,
             "#7201a8"
            ],
            [
             0.3333333333333333,
             "#9c179e"
            ],
            [
             0.4444444444444444,
             "#bd3786"
            ],
            [
             0.5555555555555556,
             "#d8576b"
            ],
            [
             0.6666666666666666,
             "#ed7953"
            ],
            [
             0.7777777777777778,
             "#fb9f3a"
            ],
            [
             0.8888888888888888,
             "#fdca26"
            ],
            [
             1,
             "#f0f921"
            ]
           ],
           "sequentialminus": [
            [
             0,
             "#0d0887"
            ],
            [
             0.1111111111111111,
             "#46039f"
            ],
            [
             0.2222222222222222,
             "#7201a8"
            ],
            [
             0.3333333333333333,
             "#9c179e"
            ],
            [
             0.4444444444444444,
             "#bd3786"
            ],
            [
             0.5555555555555556,
             "#d8576b"
            ],
            [
             0.6666666666666666,
             "#ed7953"
            ],
            [
             0.7777777777777778,
             "#fb9f3a"
            ],
            [
             0.8888888888888888,
             "#fdca26"
            ],
            [
             1,
             "#f0f921"
            ]
           ]
          },
          "colorway": [
           "#636efa",
           "#EF553B",
           "#00cc96",
           "#ab63fa",
           "#FFA15A",
           "#19d3f3",
           "#FF6692",
           "#B6E880",
           "#FF97FF",
           "#FECB52"
          ],
          "font": {
           "color": "#2a3f5f"
          },
          "geo": {
           "bgcolor": "white",
           "lakecolor": "white",
           "landcolor": "#E5ECF6",
           "showlakes": true,
           "showland": true,
           "subunitcolor": "white"
          },
          "hoverlabel": {
           "align": "left"
          },
          "hovermode": "closest",
          "mapbox": {
           "style": "light"
          },
          "paper_bgcolor": "white",
          "plot_bgcolor": "#E5ECF6",
          "polar": {
           "angularaxis": {
            "gridcolor": "white",
            "linecolor": "white",
            "ticks": ""
           },
           "bgcolor": "#E5ECF6",
           "radialaxis": {
            "gridcolor": "white",
            "linecolor": "white",
            "ticks": ""
           }
          },
          "scene": {
           "xaxis": {
            "backgroundcolor": "#E5ECF6",
            "gridcolor": "white",
            "gridwidth": 2,
            "linecolor": "white",
            "showbackground": true,
            "ticks": "",
            "zerolinecolor": "white"
           },
           "yaxis": {
            "backgroundcolor": "#E5ECF6",
            "gridcolor": "white",
            "gridwidth": 2,
            "linecolor": "white",
            "showbackground": true,
            "ticks": "",
            "zerolinecolor": "white"
           },
           "zaxis": {
            "backgroundcolor": "#E5ECF6",
            "gridcolor": "white",
            "gridwidth": 2,
            "linecolor": "white",
            "showbackground": true,
            "ticks": "",
            "zerolinecolor": "white"
           }
          },
          "shapedefaults": {
           "line": {
            "color": "#2a3f5f"
           }
          },
          "ternary": {
           "aaxis": {
            "gridcolor": "white",
            "linecolor": "white",
            "ticks": ""
           },
           "baxis": {
            "gridcolor": "white",
            "linecolor": "white",
            "ticks": ""
           },
           "bgcolor": "#E5ECF6",
           "caxis": {
            "gridcolor": "white",
            "linecolor": "white",
            "ticks": ""
           }
          },
          "title": {
           "x": 0.05
          },
          "xaxis": {
           "automargin": true,
           "gridcolor": "white",
           "linecolor": "white",
           "ticks": "",
           "title": {
            "standoff": 15
           },
           "zerolinecolor": "white",
           "zerolinewidth": 2
          },
          "yaxis": {
           "automargin": true,
           "gridcolor": "white",
           "linecolor": "white",
           "ticks": "",
           "title": {
            "standoff": 15
           },
           "zerolinecolor": "white",
           "zerolinewidth": 2
          }
         }
        },
        "xaxis": {
         "rangeslider": {
          "visible": false
         }
        }
       }
      },
      "text/html": [
       "<div>                            <div id=\"30c358aa-4dfb-4297-a5fb-d9d8add3e2b6\" class=\"plotly-graph-div\" style=\"height:525px; width:100%;\"></div>            <script type=\"text/javascript\">                require([\"plotly\"], function(Plotly) {                    window.PLOTLYENV=window.PLOTLYENV || {};                                    if (document.getElementById(\"30c358aa-4dfb-4297-a5fb-d9d8add3e2b6\")) {                    Plotly.newPlot(                        \"30c358aa-4dfb-4297-a5fb-d9d8add3e2b6\",                        [{\"close\":[\"135.4188\",\"135.4887\",\"135.4588\",\"135.4987\",\"135.2790\",\"135.1891\",\"135.0393\",\"134.7596\",\"133.7006\",\"133.3706\",\"131.3720\",\"131.5387\",\"130.8446\",\"130.6249\",\"131.3340\",\"132.0830\",\"132.0057\",\"132.0031\",\"131.8633\",\"131.1342\",\"131.8400\",\"132.5100\",\"132.1900\",\"132.2000\",\"132.0900\",\"130.0179\",\"130.8701\",\"130.8750\",\"131.1400\",\"131.1799\",\"131.7189\",\"131.8600\",\"131.7500\",\"131.7800\",\"131.7400\",\"131.6500\",\"132.6100\",\"132.5500\",\"132.3800\",\"131.6200\",\"131.2400\",\"129.3399\",\"129.8428\",\"129.9500\",\"130.1300\",\"129.6750\",\"130.1884\",\"130.0500\",\"130.0200\",\"129.9600\",\"129.9700\",\"129.5000\",\"129.8400\",\"130.0000\",\"130.1000\",\"130.2500\",\"129.8700\",\"129.9900\",\"128.0600\",\"126.6245\",\"127.6350\",\"127.0850\",\"126.8400\",\"126.0500\",\"126.2600\",\"126.1000\",\"126.2600\",\"126.3200\",\"126.8400\",\"126.9000\",\"127.2500\",\"127.3000\",\"128.0100\",\"128.7500\",\"129.9542\",\"130.1005\",\"129.8401\",\"130.0350\",\"129.7750\",\"129.6000\",\"129.5200\",\"129.5200\",\"129.3900\",\"129.2500\",\"129.1000\",\"129.1400\",\"129.1500\",\"128.4700\",\"128.1900\",\"127.8801\",\"128.8375\",\"128.9950\",\"128.9550\",\"128.3750\",\"128.2800\",\"129.9100\",\"129.9900\",\"129.9487\",\"130.0100\",\"129.9700\"],\"high\":[\"135.5586\",\"135.4887\",\"135.5287\",\"135.5586\",\"135.7783\",\"135.2690\",\"135.1491\",\"135.2690\",\"135.8283\",\"134.3901\",\"133.3664\",\"131.8433\",\"131.6086\",\"130.8895\",\"131.3839\",\"132.1929\",\"132.3327\",\"132.0630\",\"132.0231\",\"131.8433\",\"132.1700\",\"132.5400\",\"132.7900\",\"132.4400\",\"133.4000\",\"132.1500\",\"132.4150\",\"131.6900\",\"131.7600\",\"131.5000\",\"131.7600\",\"131.9990\",\"131.9900\",\"131.7900\",\"131.7800\",\"131.7500\",\"133.2400\",\"132.8200\",\"132.5600\",\"132.4000\",\"132.6985\",\"131.6600\",\"130.4200\",\"130.1400\",\"130.5299\",\"130.3700\",\"130.3100\",\"130.5900\",\"130.1500\",\"130.0800\",\"130.1400\",\"130.1000\",\"130.5200\",\"130.0000\",\"130.2400\",\"130.4800\",\"130.4300\",\"131.0275\",\"130.5100\",\"130.1200\",\"127.7350\",\"128.3900\",\"127.5000\",\"126.8400\",\"126.3159\",\"126.9701\",\"126.2800\",\"126.3200\",\"126.9000\",\"126.9200\",\"127.2700\",\"127.6000\",\"128.1200\",\"129.7700\",\"129.9800\",\"130.4814\",\"130.3700\",\"130.0750\",\"130.2400\",\"130.2200\",\"129.6603\",\"129.5600\",\"129.5200\",\"129.9501\",\"129.1900\",\"129.1800\",\"129.1900\",\"129.2200\",\"129.7200\",\"128.6900\",\"129.2500\",\"129.0500\",\"129.0800\",\"128.9650\",\"128.3950\",\"129.9500\",\"130.0500\",\"130.0500\",\"130.0500\",\"130.0400\"],\"low\":[\"134.6498\",\"135.3289\",\"135.3888\",\"135.3389\",\"135.2790\",\"135.0992\",\"134.9494\",\"134.6298\",\"133.6311\",\"133.0019\",\"130.9694\",\"130.8846\",\"130.5350\",\"130.1355\",\"130.4850\",\"131.0044\",\"131.7534\",\"131.8833\",\"131.8333\",\"131.0843\",\"131.3000\",\"131.8800\",\"132.1900\",\"132.0100\",\"131.0400\",\"129.6400\",\"129.6605\",\"130.2531\",\"130.8300\",\"130.8100\",\"130.9300\",\"131.2000\",\"131.5900\",\"131.7100\",\"131.7100\",\"131.6500\",\"132.3300\",\"132.5400\",\"132.2000\",\"131.6200\",\"131.1100\",\"129.1800\",\"128.7200\",\"129.1800\",\"129.6800\",\"129.6200\",\"129.6500\",\"129.9400\",\"129.9800\",\"129.8900\",\"129.9000\",\"129.5000\",\"129.5200\",\"129.7300\",\"129.8100\",\"129.9600\",\"129.5400\",\"129.1300\",\"128.0600\",\"126.4600\",\"126.4100\",\"126.8400\",\"126.8100\",\"125.8700\",\"126.0000\",\"126.0400\",\"126.1400\",\"126.1600\",\"126.5200\",\"126.7100\",\"126.9300\",\"127.0700\",\"126.1300\",\"127.7300\",\"128.1900\",\"129.4400\",\"129.5100\",\"129.3250\",\"129.7300\",\"129.5600\",\"129.4500\",\"129.4200\",\"129.3100\",\"129.2100\",\"128.7500\",\"128.8500\",\"129.0900\",\"128.4000\",\"127.8400\",\"127.4800\",\"127.4300\",\"128.0800\",\"128.6350\",\"128.0200\",\"127.9700\",\"128.2550\",\"129.7800\",\"129.9100\",\"129.9400\",\"129.9700\"],\"name\":\"Historical Data\",\"open\":[\"135.2790\",\"135.4088\",\"135.4987\",\"135.4588\",\"135.7783\",\"135.2191\",\"135.1491\",\"135.0792\",\"135.1192\",\"133.7010\",\"133.3614\",\"131.3689\",\"131.5347\",\"130.8463\",\"130.6428\",\"131.3340\",\"132.1230\",\"132.0198\",\"132.0231\",\"131.8333\",\"131.4200\",\"131.8800\",\"132.5000\",\"132.1200\",\"132.2000\",\"132.0600\",\"130.0200\",\"130.8800\",\"130.8800\",\"131.1400\",\"131.1700\",\"131.7189\",\"131.8600\",\"131.7500\",\"131.7700\",\"131.7500\",\"132.5200\",\"132.6800\",\"132.5400\",\"132.3400\",\"132.3700\",\"131.2100\",\"129.3300\",\"129.8500\",\"129.9457\",\"130.1350\",\"129.6800\",\"130.1850\",\"130.0700\",\"129.9600\",\"130.0000\",\"130.0000\",\"130.5200\",\"129.8900\",\"129.9700\",\"130.1000\",\"130.1500\",\"129.8400\",\"129.9750\",\"128.0700\",\"126.6153\",\"127.6400\",\"127.0900\",\"126.8300\",\"126.0400\",\"126.2200\",\"126.1400\",\"126.2600\",\"126.8200\",\"126.8400\",\"126.9300\",\"127.2000\",\"127.2300\",\"127.9800\",\"128.7450\",\"129.9600\",\"130.1100\",\"129.8450\",\"130.0300\",\"129.7650\",\"129.6100\",\"129.5001\",\"129.5200\",\"129.3500\",\"129.0000\",\"129.1000\",\"129.1700\",\"129.1700\",\"128.8583\",\"128.1900\",\"127.8810\",\"128.8330\",\"128.9950\",\"128.9600\",\"128.3800\",\"128.2800\",\"129.9100\",\"130.0000\",\"129.9500\",\"129.9900\"],\"x\":[\"2022-12-21 17:00:00\",\"2022-12-21 18:00:00\",\"2022-12-21 19:00:00\",\"2022-12-21 20:00:00\",\"2022-12-22 05:00:00\",\"2022-12-22 06:00:00\",\"2022-12-22 07:00:00\",\"2022-12-22 08:00:00\",\"2022-12-22 09:00:00\",\"2022-12-22 10:00:00\",\"2022-12-22 11:00:00\",\"2022-12-22 12:00:00\",\"2022-12-22 13:00:00\",\"2022-12-22 14:00:00\",\"2022-12-22 15:00:00\",\"2022-12-22 16:00:00\",\"2022-12-22 17:00:00\",\"2022-12-22 18:00:00\",\"2022-12-22 19:00:00\",\"2022-12-22 20:00:00\",\"2022-12-23 05:00:00\",\"2022-12-23 06:00:00\",\"2022-12-23 07:00:00\",\"2022-12-23 08:00:00\",\"2022-12-23 09:00:00\",\"2022-12-23 10:00:00\",\"2022-12-23 11:00:00\",\"2022-12-23 12:00:00\",\"2022-12-23 13:00:00\",\"2022-12-23 14:00:00\",\"2022-12-23 15:00:00\",\"2022-12-23 16:00:00\",\"2022-12-23 17:00:00\",\"2022-12-23 18:00:00\",\"2022-12-23 19:00:00\",\"2022-12-23 20:00:00\",\"2022-12-27 05:00:00\",\"2022-12-27 06:00:00\",\"2022-12-27 07:00:00\",\"2022-12-27 08:00:00\",\"2022-12-27 09:00:00\",\"2022-12-27 10:00:00\",\"2022-12-27 11:00:00\",\"2022-12-27 12:00:00\",\"2022-12-27 13:00:00\",\"2022-12-27 14:00:00\",\"2022-12-27 15:00:00\",\"2022-12-27 16:00:00\",\"2022-12-27 17:00:00\",\"2022-12-27 18:00:00\",\"2022-12-27 19:00:00\",\"2022-12-27 20:00:00\",\"2022-12-28 05:00:00\",\"2022-12-28 06:00:00\",\"2022-12-28 07:00:00\",\"2022-12-28 08:00:00\",\"2022-12-28 09:00:00\",\"2022-12-28 10:00:00\",\"2022-12-28 11:00:00\",\"2022-12-28 12:00:00\",\"2022-12-28 13:00:00\",\"2022-12-28 14:00:00\",\"2022-12-28 15:00:00\",\"2022-12-28 16:00:00\",\"2022-12-28 17:00:00\",\"2022-12-28 18:00:00\",\"2022-12-28 19:00:00\",\"2022-12-28 20:00:00\",\"2022-12-29 05:00:00\",\"2022-12-29 06:00:00\",\"2022-12-29 07:00:00\",\"2022-12-29 08:00:00\",\"2022-12-29 09:00:00\",\"2022-12-29 10:00:00\",\"2022-12-29 11:00:00\",\"2022-12-29 12:00:00\",\"2022-12-29 13:00:00\",\"2022-12-29 14:00:00\",\"2022-12-29 15:00:00\",\"2022-12-29 16:00:00\",\"2022-12-29 17:00:00\",\"2022-12-29 18:00:00\",\"2022-12-29 19:00:00\",\"2022-12-29 20:00:00\",\"2022-12-30 05:00:00\",\"2022-12-30 06:00:00\",\"2022-12-30 07:00:00\",\"2022-12-30 08:00:00\",\"2022-12-30 09:00:00\",\"2022-12-30 10:00:00\",\"2022-12-30 11:00:00\",\"2022-12-30 12:00:00\",\"2022-12-30 13:00:00\",\"2022-12-30 14:00:00\",\"2022-12-30 15:00:00\",\"2022-12-30 16:00:00\",\"2022-12-30 17:00:00\",\"2022-12-30 18:00:00\",\"2022-12-30 19:00:00\",\"2022-12-30 20:00:00\"],\"type\":\"candlestick\"},{\"line\":{\"color\":\"gray\"},\"name\":\"SMA\",\"x\":[\"2022-12-21 17:00:00\",\"2022-12-21 18:00:00\",\"2022-12-21 19:00:00\",\"2022-12-21 20:00:00\",\"2022-12-22 05:00:00\",\"2022-12-22 06:00:00\",\"2022-12-22 07:00:00\",\"2022-12-22 08:00:00\",\"2022-12-22 09:00:00\",\"2022-12-22 10:00:00\",\"2022-12-22 11:00:00\",\"2022-12-22 12:00:00\",\"2022-12-22 13:00:00\",\"2022-12-22 14:00:00\",\"2022-12-22 15:00:00\",\"2022-12-22 16:00:00\",\"2022-12-22 17:00:00\",\"2022-12-22 18:00:00\",\"2022-12-22 19:00:00\",\"2022-12-22 20:00:00\",\"2022-12-23 05:00:00\",\"2022-12-23 06:00:00\",\"2022-12-23 07:00:00\",\"2022-12-23 08:00:00\",\"2022-12-23 09:00:00\",\"2022-12-23 10:00:00\",\"2022-12-23 11:00:00\",\"2022-12-23 12:00:00\",\"2022-12-23 13:00:00\",\"2022-12-23 14:00:00\",\"2022-12-23 15:00:00\",\"2022-12-23 16:00:00\",\"2022-12-23 17:00:00\",\"2022-12-23 18:00:00\",\"2022-12-23 19:00:00\",\"2022-12-23 20:00:00\",\"2022-12-27 05:00:00\",\"2022-12-27 06:00:00\",\"2022-12-27 07:00:00\",\"2022-12-27 08:00:00\",\"2022-12-27 09:00:00\",\"2022-12-27 10:00:00\",\"2022-12-27 11:00:00\",\"2022-12-27 12:00:00\",\"2022-12-27 13:00:00\",\"2022-12-27 14:00:00\",\"2022-12-27 15:00:00\",\"2022-12-27 16:00:00\",\"2022-12-27 17:00:00\",\"2022-12-27 18:00:00\",\"2022-12-27 19:00:00\",\"2022-12-27 20:00:00\",\"2022-12-28 05:00:00\",\"2022-12-28 06:00:00\",\"2022-12-28 07:00:00\",\"2022-12-28 08:00:00\",\"2022-12-28 09:00:00\",\"2022-12-28 10:00:00\",\"2022-12-28 11:00:00\",\"2022-12-28 12:00:00\",\"2022-12-28 13:00:00\",\"2022-12-28 14:00:00\",\"2022-12-28 15:00:00\",\"2022-12-28 16:00:00\",\"2022-12-28 17:00:00\",\"2022-12-28 18:00:00\",\"2022-12-28 19:00:00\",\"2022-12-28 20:00:00\",\"2022-12-29 05:00:00\",\"2022-12-29 06:00:00\",\"2022-12-29 07:00:00\",\"2022-12-29 08:00:00\",\"2022-12-29 09:00:00\",\"2022-12-29 10:00:00\",\"2022-12-29 11:00:00\",\"2022-12-29 12:00:00\",\"2022-12-29 13:00:00\",\"2022-12-29 14:00:00\",\"2022-12-29 15:00:00\",\"2022-12-29 16:00:00\",\"2022-12-29 17:00:00\",\"2022-12-29 18:00:00\",\"2022-12-29 19:00:00\",\"2022-12-29 20:00:00\",\"2022-12-30 05:00:00\",\"2022-12-30 06:00:00\",\"2022-12-30 07:00:00\",\"2022-12-30 08:00:00\",\"2022-12-30 09:00:00\",\"2022-12-30 10:00:00\",\"2022-12-30 11:00:00\",\"2022-12-30 12:00:00\",\"2022-12-30 13:00:00\",\"2022-12-30 14:00:00\",\"2022-12-30 15:00:00\",\"2022-12-30 16:00:00\",\"2022-12-30 17:00:00\",\"2022-12-30 18:00:00\",\"2022-12-30 19:00:00\",\"2022-12-30 20:00:00\"],\"y\":[null,null,null,null,135.429,135.383,135.293,135.153,134.794,134.412,133.648,132.948,132.165,131.55,131.143,131.285,131.378,131.61,131.858,131.818,131.769,131.87,131.907,131.975,132.166,131.802,131.474,131.211,130.999,130.817,131.157,131.355,131.53,131.658,131.77,131.756,131.906,132.066,132.186,132.162,132.08,131.426,130.885,130.399,130.101,129.788,129.957,129.999,130.013,129.979,130.038,129.9,129.858,129.854,129.882,129.938,130.012,130.042,129.654,128.959,128.436,127.879,127.249,126.847,126.774,126.467,126.302,126.198,126.356,126.484,126.714,126.922,127.26,127.642,128.253,128.823,129.331,129.736,129.941,129.87,129.754,129.69,129.561,129.456,129.356,129.28,129.206,129.022,128.81,128.566,128.506,128.475,128.572,128.609,128.688,128.903,129.102,129.301,129.628,129.966],\"type\":\"scatter\"}],                        {\"template\":{\"data\":{\"histogram2dcontour\":[{\"type\":\"histogram2dcontour\",\"colorbar\":{\"outlinewidth\":0,\"ticks\":\"\"},\"colorscale\":[[0.0,\"#0d0887\"],[0.1111111111111111,\"#46039f\"],[0.2222222222222222,\"#7201a8\"],[0.3333333333333333,\"#9c179e\"],[0.4444444444444444,\"#bd3786\"],[0.5555555555555556,\"#d8576b\"],[0.6666666666666666,\"#ed7953\"],[0.7777777777777778,\"#fb9f3a\"],[0.8888888888888888,\"#fdca26\"],[1.0,\"#f0f921\"]]}],\"choropleth\":[{\"type\":\"choropleth\",\"colorbar\":{\"outlinewidth\":0,\"ticks\":\"\"}}],\"histogram2d\":[{\"type\":\"histogram2d\",\"colorbar\":{\"outlinewidth\":0,\"ticks\":\"\"},\"colorscale\":[[0.0,\"#0d0887\"],[0.1111111111111111,\"#46039f\"],[0.2222222222222222,\"#7201a8\"],[0.3333333333333333,\"#9c179e\"],[0.4444444444444444,\"#bd3786\"],[0.5555555555555556,\"#d8576b\"],[0.6666666666666666,\"#ed7953\"],[0.7777777777777778,\"#fb9f3a\"],[0.8888888888888888,\"#fdca26\"],[1.0,\"#f0f921\"]]}],\"heatmap\":[{\"type\":\"heatmap\",\"colorbar\":{\"outlinewidth\":0,\"ticks\":\"\"},\"colorscale\":[[0.0,\"#0d0887\"],[0.1111111111111111,\"#46039f\"],[0.2222222222222222,\"#7201a8\"],[0.3333333333333333,\"#9c179e\"],[0.4444444444444444,\"#bd3786\"],[0.5555555555555556,\"#d8576b\"],[0.6666666666666666,\"#ed7953\"],[0.7777777777777778,\"#fb9f3a\"],[0.8888888888888888,\"#fdca26\"],[1.0,\"#f0f921\"]]}],\"heatmapgl\":[{\"type\":\"heatmapgl\",\"colorbar\":{\"outlinewidth\":0,\"ticks\":\"\"},\"colorscale\":[[0.0,\"#0d0887\"],[0.1111111111111111,\"#46039f\"],[0.2222222222222222,\"#7201a8\"],[0.3333333333333333,\"#9c179e\"],[0.4444444444444444,\"#bd3786\"],[0.5555555555555556,\"#d8576b\"],[0.6666666666666666,\"#ed7953\"],[0.7777777777777778,\"#fb9f3a\"],[0.8888888888888888,\"#fdca26\"],[1.0,\"#f0f921\"]]}],\"contourcarpet\":[{\"type\":\"contourcarpet\",\"colorbar\":{\"outlinewidth\":0,\"ticks\":\"\"}}],\"contour\":[{\"type\":\"contour\",\"colorbar\":{\"outlinewidth\":0,\"ticks\":\"\"},\"colorscale\":[[0.0,\"#0d0887\"],[0.1111111111111111,\"#46039f\"],[0.2222222222222222,\"#7201a8\"],[0.3333333333333333,\"#9c179e\"],[0.4444444444444444,\"#bd3786\"],[0.5555555555555556,\"#d8576b\"],[0.6666666666666666,\"#ed7953\"],[0.7777777777777778,\"#fb9f3a\"],[0.8888888888888888,\"#fdca26\"],[1.0,\"#f0f921\"]]}],\"surface\":[{\"type\":\"surface\",\"colorbar\":{\"outlinewidth\":0,\"ticks\":\"\"},\"colorscale\":[[0.0,\"#0d0887\"],[0.1111111111111111,\"#46039f\"],[0.2222222222222222,\"#7201a8\"],[0.3333333333333333,\"#9c179e\"],[0.4444444444444444,\"#bd3786\"],[0.5555555555555556,\"#d8576b\"],[0.6666666666666666,\"#ed7953\"],[0.7777777777777778,\"#fb9f3a\"],[0.8888888888888888,\"#fdca26\"],[1.0,\"#f0f921\"]]}],\"mesh3d\":[{\"type\":\"mesh3d\",\"colorbar\":{\"outlinewidth\":0,\"ticks\":\"\"}}],\"scatter\":[{\"fillpattern\":{\"fillmode\":\"overlay\",\"size\":10,\"solidity\":0.2},\"type\":\"scatter\"}],\"parcoords\":[{\"type\":\"parcoords\",\"line\":{\"colorbar\":{\"outlinewidth\":0,\"ticks\":\"\"}}}],\"scatterpolargl\":[{\"type\":\"scatterpolargl\",\"marker\":{\"colorbar\":{\"outlinewidth\":0,\"ticks\":\"\"}}}],\"bar\":[{\"error_x\":{\"color\":\"#2a3f5f\"},\"error_y\":{\"color\":\"#2a3f5f\"},\"marker\":{\"line\":{\"color\":\"#E5ECF6\",\"width\":0.5},\"pattern\":{\"fillmode\":\"overlay\",\"size\":10,\"solidity\":0.2}},\"type\":\"bar\"}],\"scattergeo\":[{\"type\":\"scattergeo\",\"marker\":{\"colorbar\":{\"outlinewidth\":0,\"ticks\":\"\"}}}],\"scatterpolar\":[{\"type\":\"scatterpolar\",\"marker\":{\"colorbar\":{\"outlinewidth\":0,\"ticks\":\"\"}}}],\"histogram\":[{\"marker\":{\"pattern\":{\"fillmode\":\"overlay\",\"size\":10,\"solidity\":0.2}},\"type\":\"histogram\"}],\"scattergl\":[{\"type\":\"scattergl\",\"marker\":{\"colorbar\":{\"outlinewidth\":0,\"ticks\":\"\"}}}],\"scatter3d\":[{\"type\":\"scatter3d\",\"line\":{\"colorbar\":{\"outlinewidth\":0,\"ticks\":\"\"}},\"marker\":{\"colorbar\":{\"outlinewidth\":0,\"ticks\":\"\"}}}],\"scattermapbox\":[{\"type\":\"scattermapbox\",\"marker\":{\"colorbar\":{\"outlinewidth\":0,\"ticks\":\"\"}}}],\"scatterternary\":[{\"type\":\"scatterternary\",\"marker\":{\"colorbar\":{\"outlinewidth\":0,\"ticks\":\"\"}}}],\"scattercarpet\":[{\"type\":\"scattercarpet\",\"marker\":{\"colorbar\":{\"outlinewidth\":0,\"ticks\":\"\"}}}],\"carpet\":[{\"aaxis\":{\"endlinecolor\":\"#2a3f5f\",\"gridcolor\":\"white\",\"linecolor\":\"white\",\"minorgridcolor\":\"white\",\"startlinecolor\":\"#2a3f5f\"},\"baxis\":{\"endlinecolor\":\"#2a3f5f\",\"gridcolor\":\"white\",\"linecolor\":\"white\",\"minorgridcolor\":\"white\",\"startlinecolor\":\"#2a3f5f\"},\"type\":\"carpet\"}],\"table\":[{\"cells\":{\"fill\":{\"color\":\"#EBF0F8\"},\"line\":{\"color\":\"white\"}},\"header\":{\"fill\":{\"color\":\"#C8D4E3\"},\"line\":{\"color\":\"white\"}},\"type\":\"table\"}],\"barpolar\":[{\"marker\":{\"line\":{\"color\":\"#E5ECF6\",\"width\":0.5},\"pattern\":{\"fillmode\":\"overlay\",\"size\":10,\"solidity\":0.2}},\"type\":\"barpolar\"}],\"pie\":[{\"automargin\":true,\"type\":\"pie\"}]},\"layout\":{\"autotypenumbers\":\"strict\",\"colorway\":[\"#636efa\",\"#EF553B\",\"#00cc96\",\"#ab63fa\",\"#FFA15A\",\"#19d3f3\",\"#FF6692\",\"#B6E880\",\"#FF97FF\",\"#FECB52\"],\"font\":{\"color\":\"#2a3f5f\"},\"hovermode\":\"closest\",\"hoverlabel\":{\"align\":\"left\"},\"paper_bgcolor\":\"white\",\"plot_bgcolor\":\"#E5ECF6\",\"polar\":{\"bgcolor\":\"#E5ECF6\",\"angularaxis\":{\"gridcolor\":\"white\",\"linecolor\":\"white\",\"ticks\":\"\"},\"radialaxis\":{\"gridcolor\":\"white\",\"linecolor\":\"white\",\"ticks\":\"\"}},\"ternary\":{\"bgcolor\":\"#E5ECF6\",\"aaxis\":{\"gridcolor\":\"white\",\"linecolor\":\"white\",\"ticks\":\"\"},\"baxis\":{\"gridcolor\":\"white\",\"linecolor\":\"white\",\"ticks\":\"\"},\"caxis\":{\"gridcolor\":\"white\",\"linecolor\":\"white\",\"ticks\":\"\"}},\"coloraxis\":{\"colorbar\":{\"outlinewidth\":0,\"ticks\":\"\"}},\"colorscale\":{\"sequential\":[[0.0,\"#0d0887\"],[0.1111111111111111,\"#46039f\"],[0.2222222222222222,\"#7201a8\"],[0.3333333333333333,\"#9c179e\"],[0.4444444444444444,\"#bd3786\"],[0.5555555555555556,\"#d8576b\"],[0.6666666666666666,\"#ed7953\"],[0.7777777777777778,\"#fb9f3a\"],[0.8888888888888888,\"#fdca26\"],[1.0,\"#f0f921\"]],\"sequentialminus\":[[0.0,\"#0d0887\"],[0.1111111111111111,\"#46039f\"],[0.2222222222222222,\"#7201a8\"],[0.3333333333333333,\"#9c179e\"],[0.4444444444444444,\"#bd3786\"],[0.5555555555555556,\"#d8576b\"],[0.6666666666666666,\"#ed7953\"],[0.7777777777777778,\"#fb9f3a\"],[0.8888888888888888,\"#fdca26\"],[1.0,\"#f0f921\"]],\"diverging\":[[0,\"#8e0152\"],[0.1,\"#c51b7d\"],[0.2,\"#de77ae\"],[0.3,\"#f1b6da\"],[0.4,\"#fde0ef\"],[0.5,\"#f7f7f7\"],[0.6,\"#e6f5d0\"],[0.7,\"#b8e186\"],[0.8,\"#7fbc41\"],[0.9,\"#4d9221\"],[1,\"#276419\"]]},\"xaxis\":{\"gridcolor\":\"white\",\"linecolor\":\"white\",\"ticks\":\"\",\"title\":{\"standoff\":15},\"zerolinecolor\":\"white\",\"automargin\":true,\"zerolinewidth\":2},\"yaxis\":{\"gridcolor\":\"white\",\"linecolor\":\"white\",\"ticks\":\"\",\"title\":{\"standoff\":15},\"zerolinecolor\":\"white\",\"automargin\":true,\"zerolinewidth\":2},\"scene\":{\"xaxis\":{\"backgroundcolor\":\"#E5ECF6\",\"gridcolor\":\"white\",\"linecolor\":\"white\",\"showbackground\":true,\"ticks\":\"\",\"zerolinecolor\":\"white\",\"gridwidth\":2},\"yaxis\":{\"backgroundcolor\":\"#E5ECF6\",\"gridcolor\":\"white\",\"linecolor\":\"white\",\"showbackground\":true,\"ticks\":\"\",\"zerolinecolor\":\"white\",\"gridwidth\":2},\"zaxis\":{\"backgroundcolor\":\"#E5ECF6\",\"gridcolor\":\"white\",\"linecolor\":\"white\",\"showbackground\":true,\"ticks\":\"\",\"zerolinecolor\":\"white\",\"gridwidth\":2}},\"shapedefaults\":{\"line\":{\"color\":\"#2a3f5f\"}},\"annotationdefaults\":{\"arrowcolor\":\"#2a3f5f\",\"arrowhead\":0,\"arrowwidth\":1},\"geo\":{\"bgcolor\":\"white\",\"landcolor\":\"#E5ECF6\",\"subunitcolor\":\"white\",\"showland\":true,\"showlakes\":true,\"lakecolor\":\"white\"},\"title\":{\"x\":0.05},\"mapbox\":{\"style\":\"light\"}}},\"xaxis\":{\"rangeslider\":{\"visible\":false}}},                        {\"responsive\": true}                    ).then(function(){\n",
       "                            \n",
       "var gd = document.getElementById('30c358aa-4dfb-4297-a5fb-d9d8add3e2b6');\n",
       "var x = new MutationObserver(function (mutations, observer) {{\n",
       "        var display = window.getComputedStyle(gd).display;\n",
       "        if (!display || display === 'none') {{\n",
       "            console.log([gd, 'removed!']);\n",
       "            Plotly.purge(gd);\n",
       "            observer.disconnect();\n",
       "        }}\n",
       "}});\n",
       "\n",
       "// Listen for the removal of the full notebook cells\n",
       "var notebookContainer = gd.closest('#notebook-container');\n",
       "if (notebookContainer) {{\n",
       "    x.observe(notebookContainer, {childList: true});\n",
       "}}\n",
       "\n",
       "// Listen for the clearing of the current output cell\n",
       "var outputEl = gd.closest('.output');\n",
       "if (outputEl) {{\n",
       "    x.observe(outputEl, {childList: true});\n",
       "}}\n",
       "\n",
       "                        })                };                });            </script>        </div>"
      ]
     },
     "metadata": {},
     "output_type": "display_data"
    }
   ],
   "source": [
    "show_graph(\"AAPL\")"
   ]
  },
  {
   "cell_type": "code",
   "execution_count": 26,
   "id": "37b20890",
   "metadata": {},
   "outputs": [
    {
     "data": {
      "application/vnd.plotly.v1+json": {
       "config": {
        "plotlyServerURL": "https://plot.ly"
       },
       "data": [
        {
         "close": [
          "164.9300",
          "165.0000",
          "165.0900",
          "164.5600",
          "164.4000",
          "164.1800",
          "163.8800",
          "162.7000",
          "161.3500",
          "157.2000",
          "153.8800",
          "150.8300",
          "150.6300",
          "149.9731",
          "151.4500",
          "153.4000",
          "153.0400",
          "153.2500",
          "153.0000",
          "151.6600",
          "152.3000",
          "153.6300",
          "153.0100",
          "153.3000",
          "152.6300",
          "149.8700",
          "150.7250",
          "151.5200",
          "151.6350",
          "151.0445",
          "151.5600",
          "152.0900",
          "152.0200",
          "151.9886",
          "151.8300",
          "151.8400",
          "153.6000",
          "153.6100",
          "153.0100",
          "151.3000",
          "150.8500",
          "145.7300",
          "145.8569",
          "144.1722",
          "143.2700",
          "142.5850",
          "141.4100",
          "141.1900",
          "140.2999",
          "140.3500",
          "140.2700",
          "139.9900",
          "139.0000",
          "141.0000",
          "141.0200",
          "141.2500",
          "140.1600",
          "140.9460",
          "139.4508",
          "140.0700",
          "141.5400",
          "141.3299",
          "140.4300",
          "140.3600",
          "140.3600",
          "140.2700",
          "140.4700",
          "140.5500",
          "142.0400",
          "142.0600",
          "142.0200",
          "142.0000",
          "144.2400",
          "144.6450",
          "145.4000",
          "146.3500",
          "146.4300",
          "145.8250",
          "145.2300",
          "146.0300",
          "146.1100",
          "146.1000",
          "146.0500",
          "145.9500",
          "145.0000",
          "145.6000",
          "145.0000",
          "143.8000",
          "143.5100",
          "144.3200",
          "143.9652",
          "144.6520",
          "144.9595",
          "144.1700",
          "144.0500",
          "146.1450",
          "146.2375",
          "146.3300",
          "146.3600",
          "146.4000"
         ],
         "high": [
          "165.4300",
          "165.0000",
          "165.0900",
          "165.0000",
          "165.2400",
          "164.4600",
          "164.2900",
          "164.2000",
          "166.0000",
          "161.4100",
          "157.3100",
          "154.1800",
          "151.3200",
          "150.6300",
          "151.5496",
          "154.3499",
          "153.6600",
          "153.3900",
          "153.3500",
          "153.0500",
          "152.8900",
          "153.7200",
          "153.9900",
          "153.7400",
          "154.4500",
          "152.9200",
          "153.3900",
          "152.1500",
          "152.3900",
          "151.9700",
          "151.6699",
          "152.2000",
          "152.5100",
          "152.1900",
          "151.9500",
          "151.8500",
          "154.0000",
          "154.1000",
          "153.8900",
          "153.1700",
          "154.2800",
          "151.1600",
          "148.1300",
          "146.0000",
          "144.9700",
          "144.0000",
          "142.8400",
          "142.0600",
          "141.3000",
          "141.2100",
          "140.4800",
          "140.4000",
          "141.2100",
          "141.2100",
          "141.3800",
          "141.4000",
          "141.4299",
          "142.6200",
          "142.1200",
          "140.6099",
          "141.6700",
          "141.8300",
          "141.5900",
          "140.7300",
          "140.5800",
          "140.4500",
          "140.4900",
          "140.5800",
          "142.0400",
          "142.1200",
          "142.3000",
          "142.0200",
          "144.9500",
          "145.3100",
          "145.4900",
          "146.7996",
          "146.5800",
          "146.4500",
          "146.0900",
          "146.8300",
          "146.2999",
          "146.1100",
          "146.1200",
          "146.0500",
          "145.5100",
          "145.6000",
          "145.2000",
          "144.9000",
          "144.9900",
          "144.5700",
          "144.8000",
          "144.7550",
          "145.1700",
          "144.9900",
          "144.2800",
          "146.2899",
          "146.7500",
          "146.4199",
          "146.4000",
          "146.4800"
         ],
         "low": [
          "164.5000",
          "164.9300",
          "164.9300",
          "164.4301",
          "164.4000",
          "163.9500",
          "163.8200",
          "162.5500",
          "161.1200",
          "156.4617",
          "153.5600",
          "150.5600",
          "149.1400",
          "148.8200",
          "149.8100",
          "151.1700",
          "150.6300",
          "152.9200",
          "152.9000",
          "151.6600",
          "152.0100",
          "152.1800",
          "153.0100",
          "153.0000",
          "150.9800",
          "148.8300",
          "149.0800",
          "150.0167",
          "151.1800",
          "150.8550",
          "150.7101",
          "151.0300",
          "151.7200",
          "151.8200",
          "151.7600",
          "151.5800",
          "152.2100",
          "153.5700",
          "152.9800",
          "151.0100",
          "150.5000",
          "144.6715",
          "145.2800",
          "144.1600",
          "142.9200",
          "142.3300",
          "141.3300",
          "140.5600",
          "140.2600",
          "140.1300",
          "140.2600",
          "139.9500",
          "138.7500",
          "138.4700",
          "140.0200",
          "140.3500",
          "139.7100",
          "138.8400",
          "139.4200",
          "138.8600",
          "139.6615",
          "140.8600",
          "139.9050",
          "139.5900",
          "140.1600",
          "140.1600",
          "140.2800",
          "140.2000",
          "140.9100",
          "141.7300",
          "141.8300",
          "141.7600",
          "141.7300",
          "142.2700",
          "143.6100",
          "144.8100",
          "145.2500",
          "145.3200",
          "145.0100",
          "145.1600",
          "146.0000",
          "146.0500",
          "146.0300",
          "145.8600",
          "144.0900",
          "145.0800",
          "145.0000",
          "143.7700",
          "143.1500",
          "142.3300",
          "143.3600",
          "143.3800",
          "144.2554",
          "143.6200",
          "143.6500",
          "144.0334",
          "145.9000",
          "146.2300",
          "146.3200",
          "146.3600"
         ],
         "name": "Historical Data",
         "open": [
          "165.0100",
          "164.9300",
          "164.9700",
          "165.0000",
          "165.2400",
          "164.2000",
          "164.1800",
          "164.1000",
          "164.2000",
          "161.2600",
          "157.1900",
          "153.8900",
          "150.8100",
          "150.6150",
          "149.9900",
          "151.4500",
          "153.3900",
          "153.0000",
          "153.2000",
          "153.0000",
          "152.2200",
          "152.2000",
          "153.6200",
          "153.0500",
          "152.7500",
          "152.6500",
          "149.9300",
          "150.7400",
          "151.4884",
          "151.6350",
          "151.0200",
          "151.5700",
          "152.0600",
          "152.0200",
          "151.9000",
          "151.8300",
          "153.7200",
          "153.8800",
          "153.4300",
          "153.1700",
          "152.8000",
          "150.8400",
          "145.7450",
          "145.8500",
          "144.1750",
          "143.2900",
          "142.5900",
          "141.4100",
          "141.2100",
          "140.3000",
          "140.3500",
          "140.2700",
          "141.2100",
          "139.0800",
          "140.7100",
          "140.9300",
          "140.5001",
          "140.1600",
          "140.9350",
          "139.4504",
          "140.0300",
          "141.5500",
          "141.3500",
          "140.4700",
          "140.3600",
          "140.4000",
          "140.3000",
          "140.4900",
          "140.9100",
          "142.0400",
          "142.3000",
          "142.0200",
          "141.8600",
          "144.1000",
          "144.6700",
          "145.4200",
          "146.3800",
          "146.4400",
          "145.8200",
          "145.2200",
          "146.0300",
          "146.1100",
          "146.0800",
          "146.0200",
          "145.5100",
          "145.1000",
          "145.1800",
          "144.9000",
          "144.7106",
          "143.5200",
          "144.3200",
          "143.9500",
          "144.6700",
          "144.9800",
          "144.1900",
          "144.0700",
          "146.1400",
          "146.3000",
          "146.3900",
          "146.3600"
         ],
         "type": "candlestick",
         "x": [
          "2022-12-21 17:00:00",
          "2022-12-21 18:00:00",
          "2022-12-21 19:00:00",
          "2022-12-21 20:00:00",
          "2022-12-22 05:00:00",
          "2022-12-22 06:00:00",
          "2022-12-22 07:00:00",
          "2022-12-22 08:00:00",
          "2022-12-22 09:00:00",
          "2022-12-22 10:00:00",
          "2022-12-22 11:00:00",
          "2022-12-22 12:00:00",
          "2022-12-22 13:00:00",
          "2022-12-22 14:00:00",
          "2022-12-22 15:00:00",
          "2022-12-22 16:00:00",
          "2022-12-22 17:00:00",
          "2022-12-22 18:00:00",
          "2022-12-22 19:00:00",
          "2022-12-22 20:00:00",
          "2022-12-23 05:00:00",
          "2022-12-23 06:00:00",
          "2022-12-23 07:00:00",
          "2022-12-23 08:00:00",
          "2022-12-23 09:00:00",
          "2022-12-23 10:00:00",
          "2022-12-23 11:00:00",
          "2022-12-23 12:00:00",
          "2022-12-23 13:00:00",
          "2022-12-23 14:00:00",
          "2022-12-23 15:00:00",
          "2022-12-23 16:00:00",
          "2022-12-23 17:00:00",
          "2022-12-23 18:00:00",
          "2022-12-23 19:00:00",
          "2022-12-23 20:00:00",
          "2022-12-27 05:00:00",
          "2022-12-27 06:00:00",
          "2022-12-27 07:00:00",
          "2022-12-27 08:00:00",
          "2022-12-27 09:00:00",
          "2022-12-27 10:00:00",
          "2022-12-27 11:00:00",
          "2022-12-27 12:00:00",
          "2022-12-27 13:00:00",
          "2022-12-27 14:00:00",
          "2022-12-27 15:00:00",
          "2022-12-27 16:00:00",
          "2022-12-27 17:00:00",
          "2022-12-27 18:00:00",
          "2022-12-27 19:00:00",
          "2022-12-27 20:00:00",
          "2022-12-28 05:00:00",
          "2022-12-28 06:00:00",
          "2022-12-28 07:00:00",
          "2022-12-28 08:00:00",
          "2022-12-28 09:00:00",
          "2022-12-28 10:00:00",
          "2022-12-28 11:00:00",
          "2022-12-28 12:00:00",
          "2022-12-28 13:00:00",
          "2022-12-28 14:00:00",
          "2022-12-28 15:00:00",
          "2022-12-28 16:00:00",
          "2022-12-28 17:00:00",
          "2022-12-28 18:00:00",
          "2022-12-28 19:00:00",
          "2022-12-28 20:00:00",
          "2022-12-29 05:00:00",
          "2022-12-29 06:00:00",
          "2022-12-29 07:00:00",
          "2022-12-29 08:00:00",
          "2022-12-29 09:00:00",
          "2022-12-29 10:00:00",
          "2022-12-29 11:00:00",
          "2022-12-29 12:00:00",
          "2022-12-29 13:00:00",
          "2022-12-29 14:00:00",
          "2022-12-29 15:00:00",
          "2022-12-29 16:00:00",
          "2022-12-29 17:00:00",
          "2022-12-29 18:00:00",
          "2022-12-29 19:00:00",
          "2022-12-29 20:00:00",
          "2022-12-30 05:00:00",
          "2022-12-30 06:00:00",
          "2022-12-30 07:00:00",
          "2022-12-30 08:00:00",
          "2022-12-30 09:00:00",
          "2022-12-30 10:00:00",
          "2022-12-30 11:00:00",
          "2022-12-30 12:00:00",
          "2022-12-30 13:00:00",
          "2022-12-30 14:00:00",
          "2022-12-30 15:00:00",
          "2022-12-30 16:00:00",
          "2022-12-30 17:00:00",
          "2022-12-30 18:00:00",
          "2022-12-30 19:00:00",
          "2022-12-30 20:00:00"
         ]
        },
        {
         "line": {
          "color": "gray"
         },
         "name": "SMA",
         "type": "scatter",
         "x": [
          "2022-12-21 17:00:00",
          "2022-12-21 18:00:00",
          "2022-12-21 19:00:00",
          "2022-12-21 20:00:00",
          "2022-12-22 05:00:00",
          "2022-12-22 06:00:00",
          "2022-12-22 07:00:00",
          "2022-12-22 08:00:00",
          "2022-12-22 09:00:00",
          "2022-12-22 10:00:00",
          "2022-12-22 11:00:00",
          "2022-12-22 12:00:00",
          "2022-12-22 13:00:00",
          "2022-12-22 14:00:00",
          "2022-12-22 15:00:00",
          "2022-12-22 16:00:00",
          "2022-12-22 17:00:00",
          "2022-12-22 18:00:00",
          "2022-12-22 19:00:00",
          "2022-12-22 20:00:00",
          "2022-12-23 05:00:00",
          "2022-12-23 06:00:00",
          "2022-12-23 07:00:00",
          "2022-12-23 08:00:00",
          "2022-12-23 09:00:00",
          "2022-12-23 10:00:00",
          "2022-12-23 11:00:00",
          "2022-12-23 12:00:00",
          "2022-12-23 13:00:00",
          "2022-12-23 14:00:00",
          "2022-12-23 15:00:00",
          "2022-12-23 16:00:00",
          "2022-12-23 17:00:00",
          "2022-12-23 18:00:00",
          "2022-12-23 19:00:00",
          "2022-12-23 20:00:00",
          "2022-12-27 05:00:00",
          "2022-12-27 06:00:00",
          "2022-12-27 07:00:00",
          "2022-12-27 08:00:00",
          "2022-12-27 09:00:00",
          "2022-12-27 10:00:00",
          "2022-12-27 11:00:00",
          "2022-12-27 12:00:00",
          "2022-12-27 13:00:00",
          "2022-12-27 14:00:00",
          "2022-12-27 15:00:00",
          "2022-12-27 16:00:00",
          "2022-12-27 17:00:00",
          "2022-12-27 18:00:00",
          "2022-12-27 19:00:00",
          "2022-12-27 20:00:00",
          "2022-12-28 05:00:00",
          "2022-12-28 06:00:00",
          "2022-12-28 07:00:00",
          "2022-12-28 08:00:00",
          "2022-12-28 09:00:00",
          "2022-12-28 10:00:00",
          "2022-12-28 11:00:00",
          "2022-12-28 12:00:00",
          "2022-12-28 13:00:00",
          "2022-12-28 14:00:00",
          "2022-12-28 15:00:00",
          "2022-12-28 16:00:00",
          "2022-12-28 17:00:00",
          "2022-12-28 18:00:00",
          "2022-12-28 19:00:00",
          "2022-12-28 20:00:00",
          "2022-12-29 05:00:00",
          "2022-12-29 06:00:00",
          "2022-12-29 07:00:00",
          "2022-12-29 08:00:00",
          "2022-12-29 09:00:00",
          "2022-12-29 10:00:00",
          "2022-12-29 11:00:00",
          "2022-12-29 12:00:00",
          "2022-12-29 13:00:00",
          "2022-12-29 14:00:00",
          "2022-12-29 15:00:00",
          "2022-12-29 16:00:00",
          "2022-12-29 17:00:00",
          "2022-12-29 18:00:00",
          "2022-12-29 19:00:00",
          "2022-12-29 20:00:00",
          "2022-12-30 05:00:00",
          "2022-12-30 06:00:00",
          "2022-12-30 07:00:00",
          "2022-12-30 08:00:00",
          "2022-12-30 09:00:00",
          "2022-12-30 10:00:00",
          "2022-12-30 11:00:00",
          "2022-12-30 12:00:00",
          "2022-12-30 13:00:00",
          "2022-12-30 14:00:00",
          "2022-12-30 15:00:00",
          "2022-12-30 16:00:00",
          "2022-12-30 17:00:00",
          "2022-12-30 18:00:00",
          "2022-12-30 19:00:00",
          "2022-12-30 20:00:00"
         ],
         "y": [
          null,
          null,
          null,
          null,
          164.796,
          164.646,
          164.422,
          163.944,
          163.302,
          161.862,
          159.802,
          157.192,
          154.778,
          152.503,
          151.353,
          151.257,
          151.699,
          152.223,
          152.828,
          152.87,
          152.65,
          152.768,
          152.72,
          152.78,
          152.974,
          152.488,
          151.907,
          151.609,
          151.276,
          150.959,
          151.297,
          151.57,
          151.67,
          151.741,
          151.898,
          151.954,
          152.256,
          152.574,
          152.778,
          152.672,
          152.474,
          150.9,
          149.349,
          147.582,
          145.976,
          144.323,
          143.459,
          142.525,
          141.751,
          141.167,
          140.704,
          140.42,
          139.982,
          140.122,
          140.256,
          140.452,
          140.486,
          140.875,
          140.565,
          140.375,
          140.433,
          140.667,
          140.564,
          140.746,
          140.804,
          140.55,
          140.378,
          140.402,
          140.738,
          141.078,
          141.428,
          141.734,
          142.472,
          142.993,
          143.661,
          144.527,
          145.413,
          145.73,
          145.847,
          145.973,
          145.925,
          145.859,
          145.904,
          146.048,
          145.842,
          145.74,
          145.52,
          145.07,
          144.582,
          144.446,
          144.119,
          144.049,
          144.281,
          144.413,
          144.359,
          144.795,
          145.112,
          145.386,
          145.824,
          146.295
         ]
        }
       ],
       "layout": {
        "template": {
         "data": {
          "bar": [
           {
            "error_x": {
             "color": "#2a3f5f"
            },
            "error_y": {
             "color": "#2a3f5f"
            },
            "marker": {
             "line": {
              "color": "#E5ECF6",
              "width": 0.5
             },
             "pattern": {
              "fillmode": "overlay",
              "size": 10,
              "solidity": 0.2
             }
            },
            "type": "bar"
           }
          ],
          "barpolar": [
           {
            "marker": {
             "line": {
              "color": "#E5ECF6",
              "width": 0.5
             },
             "pattern": {
              "fillmode": "overlay",
              "size": 10,
              "solidity": 0.2
             }
            },
            "type": "barpolar"
           }
          ],
          "carpet": [
           {
            "aaxis": {
             "endlinecolor": "#2a3f5f",
             "gridcolor": "white",
             "linecolor": "white",
             "minorgridcolor": "white",
             "startlinecolor": "#2a3f5f"
            },
            "baxis": {
             "endlinecolor": "#2a3f5f",
             "gridcolor": "white",
             "linecolor": "white",
             "minorgridcolor": "white",
             "startlinecolor": "#2a3f5f"
            },
            "type": "carpet"
           }
          ],
          "choropleth": [
           {
            "colorbar": {
             "outlinewidth": 0,
             "ticks": ""
            },
            "type": "choropleth"
           }
          ],
          "contour": [
           {
            "colorbar": {
             "outlinewidth": 0,
             "ticks": ""
            },
            "colorscale": [
             [
              0,
              "#0d0887"
             ],
             [
              0.1111111111111111,
              "#46039f"
             ],
             [
              0.2222222222222222,
              "#7201a8"
             ],
             [
              0.3333333333333333,
              "#9c179e"
             ],
             [
              0.4444444444444444,
              "#bd3786"
             ],
             [
              0.5555555555555556,
              "#d8576b"
             ],
             [
              0.6666666666666666,
              "#ed7953"
             ],
             [
              0.7777777777777778,
              "#fb9f3a"
             ],
             [
              0.8888888888888888,
              "#fdca26"
             ],
             [
              1,
              "#f0f921"
             ]
            ],
            "type": "contour"
           }
          ],
          "contourcarpet": [
           {
            "colorbar": {
             "outlinewidth": 0,
             "ticks": ""
            },
            "type": "contourcarpet"
           }
          ],
          "heatmap": [
           {
            "colorbar": {
             "outlinewidth": 0,
             "ticks": ""
            },
            "colorscale": [
             [
              0,
              "#0d0887"
             ],
             [
              0.1111111111111111,
              "#46039f"
             ],
             [
              0.2222222222222222,
              "#7201a8"
             ],
             [
              0.3333333333333333,
              "#9c179e"
             ],
             [
              0.4444444444444444,
              "#bd3786"
             ],
             [
              0.5555555555555556,
              "#d8576b"
             ],
             [
              0.6666666666666666,
              "#ed7953"
             ],
             [
              0.7777777777777778,
              "#fb9f3a"
             ],
             [
              0.8888888888888888,
              "#fdca26"
             ],
             [
              1,
              "#f0f921"
             ]
            ],
            "type": "heatmap"
           }
          ],
          "heatmapgl": [
           {
            "colorbar": {
             "outlinewidth": 0,
             "ticks": ""
            },
            "colorscale": [
             [
              0,
              "#0d0887"
             ],
             [
              0.1111111111111111,
              "#46039f"
             ],
             [
              0.2222222222222222,
              "#7201a8"
             ],
             [
              0.3333333333333333,
              "#9c179e"
             ],
             [
              0.4444444444444444,
              "#bd3786"
             ],
             [
              0.5555555555555556,
              "#d8576b"
             ],
             [
              0.6666666666666666,
              "#ed7953"
             ],
             [
              0.7777777777777778,
              "#fb9f3a"
             ],
             [
              0.8888888888888888,
              "#fdca26"
             ],
             [
              1,
              "#f0f921"
             ]
            ],
            "type": "heatmapgl"
           }
          ],
          "histogram": [
           {
            "marker": {
             "pattern": {
              "fillmode": "overlay",
              "size": 10,
              "solidity": 0.2
             }
            },
            "type": "histogram"
           }
          ],
          "histogram2d": [
           {
            "colorbar": {
             "outlinewidth": 0,
             "ticks": ""
            },
            "colorscale": [
             [
              0,
              "#0d0887"
             ],
             [
              0.1111111111111111,
              "#46039f"
             ],
             [
              0.2222222222222222,
              "#7201a8"
             ],
             [
              0.3333333333333333,
              "#9c179e"
             ],
             [
              0.4444444444444444,
              "#bd3786"
             ],
             [
              0.5555555555555556,
              "#d8576b"
             ],
             [
              0.6666666666666666,
              "#ed7953"
             ],
             [
              0.7777777777777778,
              "#fb9f3a"
             ],
             [
              0.8888888888888888,
              "#fdca26"
             ],
             [
              1,
              "#f0f921"
             ]
            ],
            "type": "histogram2d"
           }
          ],
          "histogram2dcontour": [
           {
            "colorbar": {
             "outlinewidth": 0,
             "ticks": ""
            },
            "colorscale": [
             [
              0,
              "#0d0887"
             ],
             [
              0.1111111111111111,
              "#46039f"
             ],
             [
              0.2222222222222222,
              "#7201a8"
             ],
             [
              0.3333333333333333,
              "#9c179e"
             ],
             [
              0.4444444444444444,
              "#bd3786"
             ],
             [
              0.5555555555555556,
              "#d8576b"
             ],
             [
              0.6666666666666666,
              "#ed7953"
             ],
             [
              0.7777777777777778,
              "#fb9f3a"
             ],
             [
              0.8888888888888888,
              "#fdca26"
             ],
             [
              1,
              "#f0f921"
             ]
            ],
            "type": "histogram2dcontour"
           }
          ],
          "mesh3d": [
           {
            "colorbar": {
             "outlinewidth": 0,
             "ticks": ""
            },
            "type": "mesh3d"
           }
          ],
          "parcoords": [
           {
            "line": {
             "colorbar": {
              "outlinewidth": 0,
              "ticks": ""
             }
            },
            "type": "parcoords"
           }
          ],
          "pie": [
           {
            "automargin": true,
            "type": "pie"
           }
          ],
          "scatter": [
           {
            "fillpattern": {
             "fillmode": "overlay",
             "size": 10,
             "solidity": 0.2
            },
            "type": "scatter"
           }
          ],
          "scatter3d": [
           {
            "line": {
             "colorbar": {
              "outlinewidth": 0,
              "ticks": ""
             }
            },
            "marker": {
             "colorbar": {
              "outlinewidth": 0,
              "ticks": ""
             }
            },
            "type": "scatter3d"
           }
          ],
          "scattercarpet": [
           {
            "marker": {
             "colorbar": {
              "outlinewidth": 0,
              "ticks": ""
             }
            },
            "type": "scattercarpet"
           }
          ],
          "scattergeo": [
           {
            "marker": {
             "colorbar": {
              "outlinewidth": 0,
              "ticks": ""
             }
            },
            "type": "scattergeo"
           }
          ],
          "scattergl": [
           {
            "marker": {
             "colorbar": {
              "outlinewidth": 0,
              "ticks": ""
             }
            },
            "type": "scattergl"
           }
          ],
          "scattermapbox": [
           {
            "marker": {
             "colorbar": {
              "outlinewidth": 0,
              "ticks": ""
             }
            },
            "type": "scattermapbox"
           }
          ],
          "scatterpolar": [
           {
            "marker": {
             "colorbar": {
              "outlinewidth": 0,
              "ticks": ""
             }
            },
            "type": "scatterpolar"
           }
          ],
          "scatterpolargl": [
           {
            "marker": {
             "colorbar": {
              "outlinewidth": 0,
              "ticks": ""
             }
            },
            "type": "scatterpolargl"
           }
          ],
          "scatterternary": [
           {
            "marker": {
             "colorbar": {
              "outlinewidth": 0,
              "ticks": ""
             }
            },
            "type": "scatterternary"
           }
          ],
          "surface": [
           {
            "colorbar": {
             "outlinewidth": 0,
             "ticks": ""
            },
            "colorscale": [
             [
              0,
              "#0d0887"
             ],
             [
              0.1111111111111111,
              "#46039f"
             ],
             [
              0.2222222222222222,
              "#7201a8"
             ],
             [
              0.3333333333333333,
              "#9c179e"
             ],
             [
              0.4444444444444444,
              "#bd3786"
             ],
             [
              0.5555555555555556,
              "#d8576b"
             ],
             [
              0.6666666666666666,
              "#ed7953"
             ],
             [
              0.7777777777777778,
              "#fb9f3a"
             ],
             [
              0.8888888888888888,
              "#fdca26"
             ],
             [
              1,
              "#f0f921"
             ]
            ],
            "type": "surface"
           }
          ],
          "table": [
           {
            "cells": {
             "fill": {
              "color": "#EBF0F8"
             },
             "line": {
              "color": "white"
             }
            },
            "header": {
             "fill": {
              "color": "#C8D4E3"
             },
             "line": {
              "color": "white"
             }
            },
            "type": "table"
           }
          ]
         },
         "layout": {
          "annotationdefaults": {
           "arrowcolor": "#2a3f5f",
           "arrowhead": 0,
           "arrowwidth": 1
          },
          "autotypenumbers": "strict",
          "coloraxis": {
           "colorbar": {
            "outlinewidth": 0,
            "ticks": ""
           }
          },
          "colorscale": {
           "diverging": [
            [
             0,
             "#8e0152"
            ],
            [
             0.1,
             "#c51b7d"
            ],
            [
             0.2,
             "#de77ae"
            ],
            [
             0.3,
             "#f1b6da"
            ],
            [
             0.4,
             "#fde0ef"
            ],
            [
             0.5,
             "#f7f7f7"
            ],
            [
             0.6,
             "#e6f5d0"
            ],
            [
             0.7,
             "#b8e186"
            ],
            [
             0.8,
             "#7fbc41"
            ],
            [
             0.9,
             "#4d9221"
            ],
            [
             1,
             "#276419"
            ]
           ],
           "sequential": [
            [
             0,
             "#0d0887"
            ],
            [
             0.1111111111111111,
             "#46039f"
            ],
            [
             0.2222222222222222,
             "#7201a8"
            ],
            [
             0.3333333333333333,
             "#9c179e"
            ],
            [
             0.4444444444444444,
             "#bd3786"
            ],
            [
             0.5555555555555556,
             "#d8576b"
            ],
            [
             0.6666666666666666,
             "#ed7953"
            ],
            [
             0.7777777777777778,
             "#fb9f3a"
            ],
            [
             0.8888888888888888,
             "#fdca26"
            ],
            [
             1,
             "#f0f921"
            ]
           ],
           "sequentialminus": [
            [
             0,
             "#0d0887"
            ],
            [
             0.1111111111111111,
             "#46039f"
            ],
            [
             0.2222222222222222,
             "#7201a8"
            ],
            [
             0.3333333333333333,
             "#9c179e"
            ],
            [
             0.4444444444444444,
             "#bd3786"
            ],
            [
             0.5555555555555556,
             "#d8576b"
            ],
            [
             0.6666666666666666,
             "#ed7953"
            ],
            [
             0.7777777777777778,
             "#fb9f3a"
            ],
            [
             0.8888888888888888,
             "#fdca26"
            ],
            [
             1,
             "#f0f921"
            ]
           ]
          },
          "colorway": [
           "#636efa",
           "#EF553B",
           "#00cc96",
           "#ab63fa",
           "#FFA15A",
           "#19d3f3",
           "#FF6692",
           "#B6E880",
           "#FF97FF",
           "#FECB52"
          ],
          "font": {
           "color": "#2a3f5f"
          },
          "geo": {
           "bgcolor": "white",
           "lakecolor": "white",
           "landcolor": "#E5ECF6",
           "showlakes": true,
           "showland": true,
           "subunitcolor": "white"
          },
          "hoverlabel": {
           "align": "left"
          },
          "hovermode": "closest",
          "mapbox": {
           "style": "light"
          },
          "paper_bgcolor": "white",
          "plot_bgcolor": "#E5ECF6",
          "polar": {
           "angularaxis": {
            "gridcolor": "white",
            "linecolor": "white",
            "ticks": ""
           },
           "bgcolor": "#E5ECF6",
           "radialaxis": {
            "gridcolor": "white",
            "linecolor": "white",
            "ticks": ""
           }
          },
          "scene": {
           "xaxis": {
            "backgroundcolor": "#E5ECF6",
            "gridcolor": "white",
            "gridwidth": 2,
            "linecolor": "white",
            "showbackground": true,
            "ticks": "",
            "zerolinecolor": "white"
           },
           "yaxis": {
            "backgroundcolor": "#E5ECF6",
            "gridcolor": "white",
            "gridwidth": 2,
            "linecolor": "white",
            "showbackground": true,
            "ticks": "",
            "zerolinecolor": "white"
           },
           "zaxis": {
            "backgroundcolor": "#E5ECF6",
            "gridcolor": "white",
            "gridwidth": 2,
            "linecolor": "white",
            "showbackground": true,
            "ticks": "",
            "zerolinecolor": "white"
           }
          },
          "shapedefaults": {
           "line": {
            "color": "#2a3f5f"
           }
          },
          "ternary": {
           "aaxis": {
            "gridcolor": "white",
            "linecolor": "white",
            "ticks": ""
           },
           "baxis": {
            "gridcolor": "white",
            "linecolor": "white",
            "ticks": ""
           },
           "bgcolor": "#E5ECF6",
           "caxis": {
            "gridcolor": "white",
            "linecolor": "white",
            "ticks": ""
           }
          },
          "title": {
           "x": 0.05
          },
          "xaxis": {
           "automargin": true,
           "gridcolor": "white",
           "linecolor": "white",
           "ticks": "",
           "title": {
            "standoff": 15
           },
           "zerolinecolor": "white",
           "zerolinewidth": 2
          },
          "yaxis": {
           "automargin": true,
           "gridcolor": "white",
           "linecolor": "white",
           "ticks": "",
           "title": {
            "standoff": 15
           },
           "zerolinecolor": "white",
           "zerolinewidth": 2
          }
         }
        },
        "xaxis": {
         "rangeslider": {
          "visible": false
         }
        }
       }
      },
      "text/html": [
       "<div>                            <div id=\"e80f68ca-54cd-481b-9be1-1668d9d2d299\" class=\"plotly-graph-div\" style=\"height:525px; width:100%;\"></div>            <script type=\"text/javascript\">                require([\"plotly\"], function(Plotly) {                    window.PLOTLYENV=window.PLOTLYENV || {};                                    if (document.getElementById(\"e80f68ca-54cd-481b-9be1-1668d9d2d299\")) {                    Plotly.newPlot(                        \"e80f68ca-54cd-481b-9be1-1668d9d2d299\",                        [{\"close\":[\"164.9300\",\"165.0000\",\"165.0900\",\"164.5600\",\"164.4000\",\"164.1800\",\"163.8800\",\"162.7000\",\"161.3500\",\"157.2000\",\"153.8800\",\"150.8300\",\"150.6300\",\"149.9731\",\"151.4500\",\"153.4000\",\"153.0400\",\"153.2500\",\"153.0000\",\"151.6600\",\"152.3000\",\"153.6300\",\"153.0100\",\"153.3000\",\"152.6300\",\"149.8700\",\"150.7250\",\"151.5200\",\"151.6350\",\"151.0445\",\"151.5600\",\"152.0900\",\"152.0200\",\"151.9886\",\"151.8300\",\"151.8400\",\"153.6000\",\"153.6100\",\"153.0100\",\"151.3000\",\"150.8500\",\"145.7300\",\"145.8569\",\"144.1722\",\"143.2700\",\"142.5850\",\"141.4100\",\"141.1900\",\"140.2999\",\"140.3500\",\"140.2700\",\"139.9900\",\"139.0000\",\"141.0000\",\"141.0200\",\"141.2500\",\"140.1600\",\"140.9460\",\"139.4508\",\"140.0700\",\"141.5400\",\"141.3299\",\"140.4300\",\"140.3600\",\"140.3600\",\"140.2700\",\"140.4700\",\"140.5500\",\"142.0400\",\"142.0600\",\"142.0200\",\"142.0000\",\"144.2400\",\"144.6450\",\"145.4000\",\"146.3500\",\"146.4300\",\"145.8250\",\"145.2300\",\"146.0300\",\"146.1100\",\"146.1000\",\"146.0500\",\"145.9500\",\"145.0000\",\"145.6000\",\"145.0000\",\"143.8000\",\"143.5100\",\"144.3200\",\"143.9652\",\"144.6520\",\"144.9595\",\"144.1700\",\"144.0500\",\"146.1450\",\"146.2375\",\"146.3300\",\"146.3600\",\"146.4000\"],\"high\":[\"165.4300\",\"165.0000\",\"165.0900\",\"165.0000\",\"165.2400\",\"164.4600\",\"164.2900\",\"164.2000\",\"166.0000\",\"161.4100\",\"157.3100\",\"154.1800\",\"151.3200\",\"150.6300\",\"151.5496\",\"154.3499\",\"153.6600\",\"153.3900\",\"153.3500\",\"153.0500\",\"152.8900\",\"153.7200\",\"153.9900\",\"153.7400\",\"154.4500\",\"152.9200\",\"153.3900\",\"152.1500\",\"152.3900\",\"151.9700\",\"151.6699\",\"152.2000\",\"152.5100\",\"152.1900\",\"151.9500\",\"151.8500\",\"154.0000\",\"154.1000\",\"153.8900\",\"153.1700\",\"154.2800\",\"151.1600\",\"148.1300\",\"146.0000\",\"144.9700\",\"144.0000\",\"142.8400\",\"142.0600\",\"141.3000\",\"141.2100\",\"140.4800\",\"140.4000\",\"141.2100\",\"141.2100\",\"141.3800\",\"141.4000\",\"141.4299\",\"142.6200\",\"142.1200\",\"140.6099\",\"141.6700\",\"141.8300\",\"141.5900\",\"140.7300\",\"140.5800\",\"140.4500\",\"140.4900\",\"140.5800\",\"142.0400\",\"142.1200\",\"142.3000\",\"142.0200\",\"144.9500\",\"145.3100\",\"145.4900\",\"146.7996\",\"146.5800\",\"146.4500\",\"146.0900\",\"146.8300\",\"146.2999\",\"146.1100\",\"146.1200\",\"146.0500\",\"145.5100\",\"145.6000\",\"145.2000\",\"144.9000\",\"144.9900\",\"144.5700\",\"144.8000\",\"144.7550\",\"145.1700\",\"144.9900\",\"144.2800\",\"146.2899\",\"146.7500\",\"146.4199\",\"146.4000\",\"146.4800\"],\"low\":[\"164.5000\",\"164.9300\",\"164.9300\",\"164.4301\",\"164.4000\",\"163.9500\",\"163.8200\",\"162.5500\",\"161.1200\",\"156.4617\",\"153.5600\",\"150.5600\",\"149.1400\",\"148.8200\",\"149.8100\",\"151.1700\",\"150.6300\",\"152.9200\",\"152.9000\",\"151.6600\",\"152.0100\",\"152.1800\",\"153.0100\",\"153.0000\",\"150.9800\",\"148.8300\",\"149.0800\",\"150.0167\",\"151.1800\",\"150.8550\",\"150.7101\",\"151.0300\",\"151.7200\",\"151.8200\",\"151.7600\",\"151.5800\",\"152.2100\",\"153.5700\",\"152.9800\",\"151.0100\",\"150.5000\",\"144.6715\",\"145.2800\",\"144.1600\",\"142.9200\",\"142.3300\",\"141.3300\",\"140.5600\",\"140.2600\",\"140.1300\",\"140.2600\",\"139.9500\",\"138.7500\",\"138.4700\",\"140.0200\",\"140.3500\",\"139.7100\",\"138.8400\",\"139.4200\",\"138.8600\",\"139.6615\",\"140.8600\",\"139.9050\",\"139.5900\",\"140.1600\",\"140.1600\",\"140.2800\",\"140.2000\",\"140.9100\",\"141.7300\",\"141.8300\",\"141.7600\",\"141.7300\",\"142.2700\",\"143.6100\",\"144.8100\",\"145.2500\",\"145.3200\",\"145.0100\",\"145.1600\",\"146.0000\",\"146.0500\",\"146.0300\",\"145.8600\",\"144.0900\",\"145.0800\",\"145.0000\",\"143.7700\",\"143.1500\",\"142.3300\",\"143.3600\",\"143.3800\",\"144.2554\",\"143.6200\",\"143.6500\",\"144.0334\",\"145.9000\",\"146.2300\",\"146.3200\",\"146.3600\"],\"name\":\"Historical Data\",\"open\":[\"165.0100\",\"164.9300\",\"164.9700\",\"165.0000\",\"165.2400\",\"164.2000\",\"164.1800\",\"164.1000\",\"164.2000\",\"161.2600\",\"157.1900\",\"153.8900\",\"150.8100\",\"150.6150\",\"149.9900\",\"151.4500\",\"153.3900\",\"153.0000\",\"153.2000\",\"153.0000\",\"152.2200\",\"152.2000\",\"153.6200\",\"153.0500\",\"152.7500\",\"152.6500\",\"149.9300\",\"150.7400\",\"151.4884\",\"151.6350\",\"151.0200\",\"151.5700\",\"152.0600\",\"152.0200\",\"151.9000\",\"151.8300\",\"153.7200\",\"153.8800\",\"153.4300\",\"153.1700\",\"152.8000\",\"150.8400\",\"145.7450\",\"145.8500\",\"144.1750\",\"143.2900\",\"142.5900\",\"141.4100\",\"141.2100\",\"140.3000\",\"140.3500\",\"140.2700\",\"141.2100\",\"139.0800\",\"140.7100\",\"140.9300\",\"140.5001\",\"140.1600\",\"140.9350\",\"139.4504\",\"140.0300\",\"141.5500\",\"141.3500\",\"140.4700\",\"140.3600\",\"140.4000\",\"140.3000\",\"140.4900\",\"140.9100\",\"142.0400\",\"142.3000\",\"142.0200\",\"141.8600\",\"144.1000\",\"144.6700\",\"145.4200\",\"146.3800\",\"146.4400\",\"145.8200\",\"145.2200\",\"146.0300\",\"146.1100\",\"146.0800\",\"146.0200\",\"145.5100\",\"145.1000\",\"145.1800\",\"144.9000\",\"144.7106\",\"143.5200\",\"144.3200\",\"143.9500\",\"144.6700\",\"144.9800\",\"144.1900\",\"144.0700\",\"146.1400\",\"146.3000\",\"146.3900\",\"146.3600\"],\"x\":[\"2022-12-21 17:00:00\",\"2022-12-21 18:00:00\",\"2022-12-21 19:00:00\",\"2022-12-21 20:00:00\",\"2022-12-22 05:00:00\",\"2022-12-22 06:00:00\",\"2022-12-22 07:00:00\",\"2022-12-22 08:00:00\",\"2022-12-22 09:00:00\",\"2022-12-22 10:00:00\",\"2022-12-22 11:00:00\",\"2022-12-22 12:00:00\",\"2022-12-22 13:00:00\",\"2022-12-22 14:00:00\",\"2022-12-22 15:00:00\",\"2022-12-22 16:00:00\",\"2022-12-22 17:00:00\",\"2022-12-22 18:00:00\",\"2022-12-22 19:00:00\",\"2022-12-22 20:00:00\",\"2022-12-23 05:00:00\",\"2022-12-23 06:00:00\",\"2022-12-23 07:00:00\",\"2022-12-23 08:00:00\",\"2022-12-23 09:00:00\",\"2022-12-23 10:00:00\",\"2022-12-23 11:00:00\",\"2022-12-23 12:00:00\",\"2022-12-23 13:00:00\",\"2022-12-23 14:00:00\",\"2022-12-23 15:00:00\",\"2022-12-23 16:00:00\",\"2022-12-23 17:00:00\",\"2022-12-23 18:00:00\",\"2022-12-23 19:00:00\",\"2022-12-23 20:00:00\",\"2022-12-27 05:00:00\",\"2022-12-27 06:00:00\",\"2022-12-27 07:00:00\",\"2022-12-27 08:00:00\",\"2022-12-27 09:00:00\",\"2022-12-27 10:00:00\",\"2022-12-27 11:00:00\",\"2022-12-27 12:00:00\",\"2022-12-27 13:00:00\",\"2022-12-27 14:00:00\",\"2022-12-27 15:00:00\",\"2022-12-27 16:00:00\",\"2022-12-27 17:00:00\",\"2022-12-27 18:00:00\",\"2022-12-27 19:00:00\",\"2022-12-27 20:00:00\",\"2022-12-28 05:00:00\",\"2022-12-28 06:00:00\",\"2022-12-28 07:00:00\",\"2022-12-28 08:00:00\",\"2022-12-28 09:00:00\",\"2022-12-28 10:00:00\",\"2022-12-28 11:00:00\",\"2022-12-28 12:00:00\",\"2022-12-28 13:00:00\",\"2022-12-28 14:00:00\",\"2022-12-28 15:00:00\",\"2022-12-28 16:00:00\",\"2022-12-28 17:00:00\",\"2022-12-28 18:00:00\",\"2022-12-28 19:00:00\",\"2022-12-28 20:00:00\",\"2022-12-29 05:00:00\",\"2022-12-29 06:00:00\",\"2022-12-29 07:00:00\",\"2022-12-29 08:00:00\",\"2022-12-29 09:00:00\",\"2022-12-29 10:00:00\",\"2022-12-29 11:00:00\",\"2022-12-29 12:00:00\",\"2022-12-29 13:00:00\",\"2022-12-29 14:00:00\",\"2022-12-29 15:00:00\",\"2022-12-29 16:00:00\",\"2022-12-29 17:00:00\",\"2022-12-29 18:00:00\",\"2022-12-29 19:00:00\",\"2022-12-29 20:00:00\",\"2022-12-30 05:00:00\",\"2022-12-30 06:00:00\",\"2022-12-30 07:00:00\",\"2022-12-30 08:00:00\",\"2022-12-30 09:00:00\",\"2022-12-30 10:00:00\",\"2022-12-30 11:00:00\",\"2022-12-30 12:00:00\",\"2022-12-30 13:00:00\",\"2022-12-30 14:00:00\",\"2022-12-30 15:00:00\",\"2022-12-30 16:00:00\",\"2022-12-30 17:00:00\",\"2022-12-30 18:00:00\",\"2022-12-30 19:00:00\",\"2022-12-30 20:00:00\"],\"type\":\"candlestick\"},{\"line\":{\"color\":\"gray\"},\"name\":\"SMA\",\"x\":[\"2022-12-21 17:00:00\",\"2022-12-21 18:00:00\",\"2022-12-21 19:00:00\",\"2022-12-21 20:00:00\",\"2022-12-22 05:00:00\",\"2022-12-22 06:00:00\",\"2022-12-22 07:00:00\",\"2022-12-22 08:00:00\",\"2022-12-22 09:00:00\",\"2022-12-22 10:00:00\",\"2022-12-22 11:00:00\",\"2022-12-22 12:00:00\",\"2022-12-22 13:00:00\",\"2022-12-22 14:00:00\",\"2022-12-22 15:00:00\",\"2022-12-22 16:00:00\",\"2022-12-22 17:00:00\",\"2022-12-22 18:00:00\",\"2022-12-22 19:00:00\",\"2022-12-22 20:00:00\",\"2022-12-23 05:00:00\",\"2022-12-23 06:00:00\",\"2022-12-23 07:00:00\",\"2022-12-23 08:00:00\",\"2022-12-23 09:00:00\",\"2022-12-23 10:00:00\",\"2022-12-23 11:00:00\",\"2022-12-23 12:00:00\",\"2022-12-23 13:00:00\",\"2022-12-23 14:00:00\",\"2022-12-23 15:00:00\",\"2022-12-23 16:00:00\",\"2022-12-23 17:00:00\",\"2022-12-23 18:00:00\",\"2022-12-23 19:00:00\",\"2022-12-23 20:00:00\",\"2022-12-27 05:00:00\",\"2022-12-27 06:00:00\",\"2022-12-27 07:00:00\",\"2022-12-27 08:00:00\",\"2022-12-27 09:00:00\",\"2022-12-27 10:00:00\",\"2022-12-27 11:00:00\",\"2022-12-27 12:00:00\",\"2022-12-27 13:00:00\",\"2022-12-27 14:00:00\",\"2022-12-27 15:00:00\",\"2022-12-27 16:00:00\",\"2022-12-27 17:00:00\",\"2022-12-27 18:00:00\",\"2022-12-27 19:00:00\",\"2022-12-27 20:00:00\",\"2022-12-28 05:00:00\",\"2022-12-28 06:00:00\",\"2022-12-28 07:00:00\",\"2022-12-28 08:00:00\",\"2022-12-28 09:00:00\",\"2022-12-28 10:00:00\",\"2022-12-28 11:00:00\",\"2022-12-28 12:00:00\",\"2022-12-28 13:00:00\",\"2022-12-28 14:00:00\",\"2022-12-28 15:00:00\",\"2022-12-28 16:00:00\",\"2022-12-28 17:00:00\",\"2022-12-28 18:00:00\",\"2022-12-28 19:00:00\",\"2022-12-28 20:00:00\",\"2022-12-29 05:00:00\",\"2022-12-29 06:00:00\",\"2022-12-29 07:00:00\",\"2022-12-29 08:00:00\",\"2022-12-29 09:00:00\",\"2022-12-29 10:00:00\",\"2022-12-29 11:00:00\",\"2022-12-29 12:00:00\",\"2022-12-29 13:00:00\",\"2022-12-29 14:00:00\",\"2022-12-29 15:00:00\",\"2022-12-29 16:00:00\",\"2022-12-29 17:00:00\",\"2022-12-29 18:00:00\",\"2022-12-29 19:00:00\",\"2022-12-29 20:00:00\",\"2022-12-30 05:00:00\",\"2022-12-30 06:00:00\",\"2022-12-30 07:00:00\",\"2022-12-30 08:00:00\",\"2022-12-30 09:00:00\",\"2022-12-30 10:00:00\",\"2022-12-30 11:00:00\",\"2022-12-30 12:00:00\",\"2022-12-30 13:00:00\",\"2022-12-30 14:00:00\",\"2022-12-30 15:00:00\",\"2022-12-30 16:00:00\",\"2022-12-30 17:00:00\",\"2022-12-30 18:00:00\",\"2022-12-30 19:00:00\",\"2022-12-30 20:00:00\"],\"y\":[null,null,null,null,164.796,164.646,164.422,163.944,163.302,161.862,159.802,157.192,154.778,152.503,151.353,151.257,151.699,152.223,152.828,152.87,152.65,152.768,152.72,152.78,152.974,152.488,151.907,151.609,151.276,150.959,151.297,151.57,151.67,151.741,151.898,151.954,152.256,152.574,152.778,152.672,152.474,150.9,149.349,147.582,145.976,144.323,143.459,142.525,141.751,141.167,140.704,140.42,139.982,140.122,140.256,140.452,140.486,140.875,140.565,140.375,140.433,140.667,140.564,140.746,140.804,140.55,140.378,140.402,140.738,141.078,141.428,141.734,142.472,142.993,143.661,144.527,145.413,145.73,145.847,145.973,145.925,145.859,145.904,146.048,145.842,145.74,145.52,145.07,144.582,144.446,144.119,144.049,144.281,144.413,144.359,144.795,145.112,145.386,145.824,146.295],\"type\":\"scatter\"}],                        {\"template\":{\"data\":{\"histogram2dcontour\":[{\"type\":\"histogram2dcontour\",\"colorbar\":{\"outlinewidth\":0,\"ticks\":\"\"},\"colorscale\":[[0.0,\"#0d0887\"],[0.1111111111111111,\"#46039f\"],[0.2222222222222222,\"#7201a8\"],[0.3333333333333333,\"#9c179e\"],[0.4444444444444444,\"#bd3786\"],[0.5555555555555556,\"#d8576b\"],[0.6666666666666666,\"#ed7953\"],[0.7777777777777778,\"#fb9f3a\"],[0.8888888888888888,\"#fdca26\"],[1.0,\"#f0f921\"]]}],\"choropleth\":[{\"type\":\"choropleth\",\"colorbar\":{\"outlinewidth\":0,\"ticks\":\"\"}}],\"histogram2d\":[{\"type\":\"histogram2d\",\"colorbar\":{\"outlinewidth\":0,\"ticks\":\"\"},\"colorscale\":[[0.0,\"#0d0887\"],[0.1111111111111111,\"#46039f\"],[0.2222222222222222,\"#7201a8\"],[0.3333333333333333,\"#9c179e\"],[0.4444444444444444,\"#bd3786\"],[0.5555555555555556,\"#d8576b\"],[0.6666666666666666,\"#ed7953\"],[0.7777777777777778,\"#fb9f3a\"],[0.8888888888888888,\"#fdca26\"],[1.0,\"#f0f921\"]]}],\"heatmap\":[{\"type\":\"heatmap\",\"colorbar\":{\"outlinewidth\":0,\"ticks\":\"\"},\"colorscale\":[[0.0,\"#0d0887\"],[0.1111111111111111,\"#46039f\"],[0.2222222222222222,\"#7201a8\"],[0.3333333333333333,\"#9c179e\"],[0.4444444444444444,\"#bd3786\"],[0.5555555555555556,\"#d8576b\"],[0.6666666666666666,\"#ed7953\"],[0.7777777777777778,\"#fb9f3a\"],[0.8888888888888888,\"#fdca26\"],[1.0,\"#f0f921\"]]}],\"heatmapgl\":[{\"type\":\"heatmapgl\",\"colorbar\":{\"outlinewidth\":0,\"ticks\":\"\"},\"colorscale\":[[0.0,\"#0d0887\"],[0.1111111111111111,\"#46039f\"],[0.2222222222222222,\"#7201a8\"],[0.3333333333333333,\"#9c179e\"],[0.4444444444444444,\"#bd3786\"],[0.5555555555555556,\"#d8576b\"],[0.6666666666666666,\"#ed7953\"],[0.7777777777777778,\"#fb9f3a\"],[0.8888888888888888,\"#fdca26\"],[1.0,\"#f0f921\"]]}],\"contourcarpet\":[{\"type\":\"contourcarpet\",\"colorbar\":{\"outlinewidth\":0,\"ticks\":\"\"}}],\"contour\":[{\"type\":\"contour\",\"colorbar\":{\"outlinewidth\":0,\"ticks\":\"\"},\"colorscale\":[[0.0,\"#0d0887\"],[0.1111111111111111,\"#46039f\"],[0.2222222222222222,\"#7201a8\"],[0.3333333333333333,\"#9c179e\"],[0.4444444444444444,\"#bd3786\"],[0.5555555555555556,\"#d8576b\"],[0.6666666666666666,\"#ed7953\"],[0.7777777777777778,\"#fb9f3a\"],[0.8888888888888888,\"#fdca26\"],[1.0,\"#f0f921\"]]}],\"surface\":[{\"type\":\"surface\",\"colorbar\":{\"outlinewidth\":0,\"ticks\":\"\"},\"colorscale\":[[0.0,\"#0d0887\"],[0.1111111111111111,\"#46039f\"],[0.2222222222222222,\"#7201a8\"],[0.3333333333333333,\"#9c179e\"],[0.4444444444444444,\"#bd3786\"],[0.5555555555555556,\"#d8576b\"],[0.6666666666666666,\"#ed7953\"],[0.7777777777777778,\"#fb9f3a\"],[0.8888888888888888,\"#fdca26\"],[1.0,\"#f0f921\"]]}],\"mesh3d\":[{\"type\":\"mesh3d\",\"colorbar\":{\"outlinewidth\":0,\"ticks\":\"\"}}],\"scatter\":[{\"fillpattern\":{\"fillmode\":\"overlay\",\"size\":10,\"solidity\":0.2},\"type\":\"scatter\"}],\"parcoords\":[{\"type\":\"parcoords\",\"line\":{\"colorbar\":{\"outlinewidth\":0,\"ticks\":\"\"}}}],\"scatterpolargl\":[{\"type\":\"scatterpolargl\",\"marker\":{\"colorbar\":{\"outlinewidth\":0,\"ticks\":\"\"}}}],\"bar\":[{\"error_x\":{\"color\":\"#2a3f5f\"},\"error_y\":{\"color\":\"#2a3f5f\"},\"marker\":{\"line\":{\"color\":\"#E5ECF6\",\"width\":0.5},\"pattern\":{\"fillmode\":\"overlay\",\"size\":10,\"solidity\":0.2}},\"type\":\"bar\"}],\"scattergeo\":[{\"type\":\"scattergeo\",\"marker\":{\"colorbar\":{\"outlinewidth\":0,\"ticks\":\"\"}}}],\"scatterpolar\":[{\"type\":\"scatterpolar\",\"marker\":{\"colorbar\":{\"outlinewidth\":0,\"ticks\":\"\"}}}],\"histogram\":[{\"marker\":{\"pattern\":{\"fillmode\":\"overlay\",\"size\":10,\"solidity\":0.2}},\"type\":\"histogram\"}],\"scattergl\":[{\"type\":\"scattergl\",\"marker\":{\"colorbar\":{\"outlinewidth\":0,\"ticks\":\"\"}}}],\"scatter3d\":[{\"type\":\"scatter3d\",\"line\":{\"colorbar\":{\"outlinewidth\":0,\"ticks\":\"\"}},\"marker\":{\"colorbar\":{\"outlinewidth\":0,\"ticks\":\"\"}}}],\"scattermapbox\":[{\"type\":\"scattermapbox\",\"marker\":{\"colorbar\":{\"outlinewidth\":0,\"ticks\":\"\"}}}],\"scatterternary\":[{\"type\":\"scatterternary\",\"marker\":{\"colorbar\":{\"outlinewidth\":0,\"ticks\":\"\"}}}],\"scattercarpet\":[{\"type\":\"scattercarpet\",\"marker\":{\"colorbar\":{\"outlinewidth\":0,\"ticks\":\"\"}}}],\"carpet\":[{\"aaxis\":{\"endlinecolor\":\"#2a3f5f\",\"gridcolor\":\"white\",\"linecolor\":\"white\",\"minorgridcolor\":\"white\",\"startlinecolor\":\"#2a3f5f\"},\"baxis\":{\"endlinecolor\":\"#2a3f5f\",\"gridcolor\":\"white\",\"linecolor\":\"white\",\"minorgridcolor\":\"white\",\"startlinecolor\":\"#2a3f5f\"},\"type\":\"carpet\"}],\"table\":[{\"cells\":{\"fill\":{\"color\":\"#EBF0F8\"},\"line\":{\"color\":\"white\"}},\"header\":{\"fill\":{\"color\":\"#C8D4E3\"},\"line\":{\"color\":\"white\"}},\"type\":\"table\"}],\"barpolar\":[{\"marker\":{\"line\":{\"color\":\"#E5ECF6\",\"width\":0.5},\"pattern\":{\"fillmode\":\"overlay\",\"size\":10,\"solidity\":0.2}},\"type\":\"barpolar\"}],\"pie\":[{\"automargin\":true,\"type\":\"pie\"}]},\"layout\":{\"autotypenumbers\":\"strict\",\"colorway\":[\"#636efa\",\"#EF553B\",\"#00cc96\",\"#ab63fa\",\"#FFA15A\",\"#19d3f3\",\"#FF6692\",\"#B6E880\",\"#FF97FF\",\"#FECB52\"],\"font\":{\"color\":\"#2a3f5f\"},\"hovermode\":\"closest\",\"hoverlabel\":{\"align\":\"left\"},\"paper_bgcolor\":\"white\",\"plot_bgcolor\":\"#E5ECF6\",\"polar\":{\"bgcolor\":\"#E5ECF6\",\"angularaxis\":{\"gridcolor\":\"white\",\"linecolor\":\"white\",\"ticks\":\"\"},\"radialaxis\":{\"gridcolor\":\"white\",\"linecolor\":\"white\",\"ticks\":\"\"}},\"ternary\":{\"bgcolor\":\"#E5ECF6\",\"aaxis\":{\"gridcolor\":\"white\",\"linecolor\":\"white\",\"ticks\":\"\"},\"baxis\":{\"gridcolor\":\"white\",\"linecolor\":\"white\",\"ticks\":\"\"},\"caxis\":{\"gridcolor\":\"white\",\"linecolor\":\"white\",\"ticks\":\"\"}},\"coloraxis\":{\"colorbar\":{\"outlinewidth\":0,\"ticks\":\"\"}},\"colorscale\":{\"sequential\":[[0.0,\"#0d0887\"],[0.1111111111111111,\"#46039f\"],[0.2222222222222222,\"#7201a8\"],[0.3333333333333333,\"#9c179e\"],[0.4444444444444444,\"#bd3786\"],[0.5555555555555556,\"#d8576b\"],[0.6666666666666666,\"#ed7953\"],[0.7777777777777778,\"#fb9f3a\"],[0.8888888888888888,\"#fdca26\"],[1.0,\"#f0f921\"]],\"sequentialminus\":[[0.0,\"#0d0887\"],[0.1111111111111111,\"#46039f\"],[0.2222222222222222,\"#7201a8\"],[0.3333333333333333,\"#9c179e\"],[0.4444444444444444,\"#bd3786\"],[0.5555555555555556,\"#d8576b\"],[0.6666666666666666,\"#ed7953\"],[0.7777777777777778,\"#fb9f3a\"],[0.8888888888888888,\"#fdca26\"],[1.0,\"#f0f921\"]],\"diverging\":[[0,\"#8e0152\"],[0.1,\"#c51b7d\"],[0.2,\"#de77ae\"],[0.3,\"#f1b6da\"],[0.4,\"#fde0ef\"],[0.5,\"#f7f7f7\"],[0.6,\"#e6f5d0\"],[0.7,\"#b8e186\"],[0.8,\"#7fbc41\"],[0.9,\"#4d9221\"],[1,\"#276419\"]]},\"xaxis\":{\"gridcolor\":\"white\",\"linecolor\":\"white\",\"ticks\":\"\",\"title\":{\"standoff\":15},\"zerolinecolor\":\"white\",\"automargin\":true,\"zerolinewidth\":2},\"yaxis\":{\"gridcolor\":\"white\",\"linecolor\":\"white\",\"ticks\":\"\",\"title\":{\"standoff\":15},\"zerolinecolor\":\"white\",\"automargin\":true,\"zerolinewidth\":2},\"scene\":{\"xaxis\":{\"backgroundcolor\":\"#E5ECF6\",\"gridcolor\":\"white\",\"linecolor\":\"white\",\"showbackground\":true,\"ticks\":\"\",\"zerolinecolor\":\"white\",\"gridwidth\":2},\"yaxis\":{\"backgroundcolor\":\"#E5ECF6\",\"gridcolor\":\"white\",\"linecolor\":\"white\",\"showbackground\":true,\"ticks\":\"\",\"zerolinecolor\":\"white\",\"gridwidth\":2},\"zaxis\":{\"backgroundcolor\":\"#E5ECF6\",\"gridcolor\":\"white\",\"linecolor\":\"white\",\"showbackground\":true,\"ticks\":\"\",\"zerolinecolor\":\"white\",\"gridwidth\":2}},\"shapedefaults\":{\"line\":{\"color\":\"#2a3f5f\"}},\"annotationdefaults\":{\"arrowcolor\":\"#2a3f5f\",\"arrowhead\":0,\"arrowwidth\":1},\"geo\":{\"bgcolor\":\"white\",\"landcolor\":\"#E5ECF6\",\"subunitcolor\":\"white\",\"showland\":true,\"showlakes\":true,\"lakecolor\":\"white\"},\"title\":{\"x\":0.05},\"mapbox\":{\"style\":\"light\"}}},\"xaxis\":{\"rangeslider\":{\"visible\":false}}},                        {\"responsive\": true}                    ).then(function(){\n",
       "                            \n",
       "var gd = document.getElementById('e80f68ca-54cd-481b-9be1-1668d9d2d299');\n",
       "var x = new MutationObserver(function (mutations, observer) {{\n",
       "        var display = window.getComputedStyle(gd).display;\n",
       "        if (!display || display === 'none') {{\n",
       "            console.log([gd, 'removed!']);\n",
       "            Plotly.purge(gd);\n",
       "            observer.disconnect();\n",
       "        }}\n",
       "}});\n",
       "\n",
       "// Listen for the removal of the full notebook cells\n",
       "var notebookContainer = gd.closest('#notebook-container');\n",
       "if (notebookContainer) {{\n",
       "    x.observe(notebookContainer, {childList: true});\n",
       "}}\n",
       "\n",
       "// Listen for the clearing of the current output cell\n",
       "var outputEl = gd.closest('.output');\n",
       "if (outputEl) {{\n",
       "    x.observe(outputEl, {childList: true});\n",
       "}}\n",
       "\n",
       "                        })                };                });            </script>        </div>"
      ]
     },
     "metadata": {},
     "output_type": "display_data"
    }
   ],
   "source": [
    "show_graph(\"NVDA\")"
   ]
  },
  {
   "cell_type": "code",
   "execution_count": null,
   "id": "4a72a602",
   "metadata": {},
   "outputs": [],
   "source": []
  },
  {
   "cell_type": "code",
   "execution_count": null,
   "id": "715e24a8",
   "metadata": {},
   "outputs": [],
   "source": []
  }
 ],
 "metadata": {
  "kernelspec": {
   "display_name": "algobulls",
   "language": "python",
   "name": "algobulls"
  },
  "language_info": {
   "codemirror_mode": {
    "name": "ipython",
    "version": 3
   },
   "file_extension": ".py",
   "mimetype": "text/x-python",
   "name": "python",
   "nbconvert_exporter": "python",
   "pygments_lexer": "ipython3",
   "version": "3.9.13"
  }
 },
 "nbformat": 4,
 "nbformat_minor": 5
}
